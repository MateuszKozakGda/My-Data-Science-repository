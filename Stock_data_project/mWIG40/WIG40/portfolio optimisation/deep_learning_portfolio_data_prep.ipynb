{
 "cells": [
  {
   "cell_type": "code",
   "execution_count": 74,
   "metadata": {},
   "outputs": [
    {
     "name": "stderr",
     "output_type": "stream",
     "text": [
      "Exception ignored in: <function Env.__del__ at 0x7f301c6e6d40>\n",
      "Traceback (most recent call last):\n",
      "  File \"/home/mateusz/anaconda3/envs/pytorch/lib/python3.7/site-packages/gym/core.py\", line 203, in __del__\n",
      "    self.close()\n",
      "  File \"/home/mateusz/anaconda3/envs/pytorch/lib/python3.7/site-packages/gym/core.py\", line 164, in close\n",
      "    self.render(close=True)\n",
      "  File \"/tmp/ipykernel_13761/3590323441.py\", line 146, in render\n",
      "IndexError: list index out of range\n",
      "Exception ignored in: <function Env.__del__ at 0x7f301c6e6d40>\n",
      "Traceback (most recent call last):\n",
      "  File \"/home/mateusz/anaconda3/envs/pytorch/lib/python3.7/site-packages/gym/core.py\", line 203, in __del__\n",
      "    self.close()\n",
      "  File \"/home/mateusz/anaconda3/envs/pytorch/lib/python3.7/site-packages/gym/core.py\", line 164, in close\n",
      "    self.render(close=True)\n",
      "  File \"/tmp/ipykernel_13761/3590323441.py\", line 146, in render\n",
      "IndexError: list index out of range\n",
      "Exception ignored in: <function Env.__del__ at 0x7f301c6e6d40>\n",
      "Traceback (most recent call last):\n",
      "  File \"/home/mateusz/anaconda3/envs/pytorch/lib/python3.7/site-packages/gym/core.py\", line 203, in __del__\n",
      "    self.close()\n",
      "  File \"/home/mateusz/anaconda3/envs/pytorch/lib/python3.7/site-packages/gym/core.py\", line 164, in close\n",
      "    self.render(close=True)\n",
      "  File \"/tmp/ipykernel_13761/3590323441.py\", line 146, in render\n",
      "IndexError: list index out of range\n"
     ]
    }
   ],
   "source": [
    "import pandas as pd\n",
    "import sqlite3\n",
    "import numpy as np\n",
    "from datetime import datetime\n",
    "import os\n",
    "import logging\n",
    "from pprint import pprint\n",
    "\n",
    "import plotly.express as px\n",
    "import plotly.graph_objects as go\n",
    "\n",
    "import gym\n",
    "import gym.spaces\n",
    "\n",
    "%matplotlib inline\n",
    "from matplotlib import pyplot as plt\n",
    "import seaborn as sns\n",
    "plt.rcParams[\"figure.figsize\"] = (11.5,6)\n",
    "plt.style.use('ggplot')\n",
    "\n",
    "logger = logging.getLogger(__name__)\n",
    "\n",
    "import scipy.optimize as sco\n",
    "from scipy import stats"
   ]
  },
  {
   "cell_type": "code",
   "execution_count": 75,
   "metadata": {},
   "outputs": [],
   "source": [
    "db_link =\"/home/mateusz/Desktop/Moje_repo/My-Data-Science-repository/Stock_data_project/mWIG40/WIG40/WIG40/WIG.db\"\n",
    "conn = sqlite3.connect(db_link)\n",
    "\n",
    "df = pd.read_sql('SELECT * FROM WIG',\n",
    "            conn)\n",
    "\n",
    "dates = [datetime.strptime(x, \"%d-%m-%Y\") for x in df[\"date\"]]\n",
    "df[\"date\"] = dates"
   ]
  },
  {
   "cell_type": "code",
   "execution_count": 76,
   "metadata": {},
   "outputs": [
    {
     "data": {
      "text/html": [
       "<div>\n",
       "<style scoped>\n",
       "    .dataframe tbody tr th:only-of-type {\n",
       "        vertical-align: middle;\n",
       "    }\n",
       "\n",
       "    .dataframe tbody tr th {\n",
       "        vertical-align: top;\n",
       "    }\n",
       "\n",
       "    .dataframe thead th {\n",
       "        text-align: right;\n",
       "    }\n",
       "</style>\n",
       "<table border=\"1\" class=\"dataframe\">\n",
       "  <thead>\n",
       "    <tr style=\"text-align: right;\">\n",
       "      <th></th>\n",
       "      <th>date</th>\n",
       "      <th>ticker</th>\n",
       "      <th>open</th>\n",
       "      <th>MAX</th>\n",
       "      <th>MIN</th>\n",
       "      <th>close</th>\n",
       "      <th>volume</th>\n",
       "      <th>trade</th>\n",
       "    </tr>\n",
       "  </thead>\n",
       "  <tbody>\n",
       "    <tr>\n",
       "      <th>0</th>\n",
       "      <td>2022-09-09</td>\n",
       "      <td>MAGNA POLONIA SPOLKA AKCYJNA</td>\n",
       "      <td>2.870</td>\n",
       "      <td>2.945</td>\n",
       "      <td>2.800</td>\n",
       "      <td>2.925</td>\n",
       "      <td>12314.0</td>\n",
       "      <td>35158.0</td>\n",
       "    </tr>\n",
       "    <tr>\n",
       "      <th>1</th>\n",
       "      <td>2022-09-08</td>\n",
       "      <td>MAGNA POLONIA SPOLKA AKCYJNA</td>\n",
       "      <td>2.900</td>\n",
       "      <td>2.960</td>\n",
       "      <td>2.700</td>\n",
       "      <td>2.790</td>\n",
       "      <td>16723.0</td>\n",
       "      <td>46947.0</td>\n",
       "    </tr>\n",
       "    <tr>\n",
       "      <th>2</th>\n",
       "      <td>2022-09-07</td>\n",
       "      <td>MAGNA POLONIA SPOLKA AKCYJNA</td>\n",
       "      <td>2.985</td>\n",
       "      <td>2.985</td>\n",
       "      <td>2.820</td>\n",
       "      <td>2.950</td>\n",
       "      <td>8396.0</td>\n",
       "      <td>24485.0</td>\n",
       "    </tr>\n",
       "    <tr>\n",
       "      <th>3</th>\n",
       "      <td>2022-09-06</td>\n",
       "      <td>MAGNA POLONIA SPOLKA AKCYJNA</td>\n",
       "      <td>3.000</td>\n",
       "      <td>3.030</td>\n",
       "      <td>2.925</td>\n",
       "      <td>2.985</td>\n",
       "      <td>3054.0</td>\n",
       "      <td>8975.0</td>\n",
       "    </tr>\n",
       "    <tr>\n",
       "      <th>4</th>\n",
       "      <td>2022-09-05</td>\n",
       "      <td>MAGNA POLONIA SPOLKA AKCYJNA</td>\n",
       "      <td>2.960</td>\n",
       "      <td>3.070</td>\n",
       "      <td>2.950</td>\n",
       "      <td>3.070</td>\n",
       "      <td>2441.0</td>\n",
       "      <td>7334.0</td>\n",
       "    </tr>\n",
       "  </tbody>\n",
       "</table>\n",
       "</div>"
      ],
      "text/plain": [
       "        date                        ticker   open    MAX    MIN  close  \\\n",
       "0 2022-09-09  MAGNA POLONIA SPOLKA AKCYJNA  2.870  2.945  2.800  2.925   \n",
       "1 2022-09-08  MAGNA POLONIA SPOLKA AKCYJNA  2.900  2.960  2.700  2.790   \n",
       "2 2022-09-07  MAGNA POLONIA SPOLKA AKCYJNA  2.985  2.985  2.820  2.950   \n",
       "3 2022-09-06  MAGNA POLONIA SPOLKA AKCYJNA  3.000  3.030  2.925  2.985   \n",
       "4 2022-09-05  MAGNA POLONIA SPOLKA AKCYJNA  2.960  3.070  2.950  3.070   \n",
       "\n",
       "    volume    trade  \n",
       "0  12314.0  35158.0  \n",
       "1  16723.0  46947.0  \n",
       "2   8396.0  24485.0  \n",
       "3   3054.0   8975.0  \n",
       "4   2441.0   7334.0  "
      ]
     },
     "execution_count": 76,
     "metadata": {},
     "output_type": "execute_result"
    }
   ],
   "source": [
    "df.head()"
   ]
  },
  {
   "cell_type": "code",
   "execution_count": 77,
   "metadata": {},
   "outputs": [
    {
     "data": {
      "text/plain": [
       "array(['MAGNA POLONIA SPOLKA AKCYJNA', 'BENEFIT SYSTEMS SPOLKA AKCYJNA',\n",
       "       'ELEKTROCIEPLOWNIA BĘDZIN SPOLKA AKCYJNA',\n",
       "       'BUDIMEX SPOLKA AKCYJNA', 'BIG CHEESE STUDIO SPOLKA AKCYJNA',\n",
       "       'BETACOM SPOLKA AKCYJNA', 'BOOMBIT SPOLKA AKCYJNA',\n",
       "       'BBI DEVELOPMENT SPOLKA AKCYJNA',\n",
       "       'BRITISH AUTOMOTIVE HOLDING SPOLKA AKCYJNA',\n",
       "       'BRAND 24 SPOLKA AKCYJNA', 'AIRWAY MEDIX SPOLKA AKCYJNA',\n",
       "       'GRUPA AZOTY SPOLKA AKCYJNA', 'ATLANTIS SE',\n",
       "       'ATREM SPOLKA AKCYJNA', 'ATLANTA POLAND SPOLKA AKCYJNA',\n",
       "       'ATM GRUPA SPOLKA AKCYJNA', 'ZUE SPOLKA AKCYJNA',\n",
       "       'ZAKLAD BUDOWY MASZYN ZREMB-CHOJNICE SPOLKA AKCYJNA',\n",
       "       'ZAMET INDUSTRY SPOLKA AKCYJNA',\n",
       "       'ZESPOL ELEKTROWNI PĄTNOW-ADAMOW-KONIN SPOLKA AKCYJNA',\n",
       "       'XTPL SPOLKA AKCYJNA',\n",
       "       'X-TRADE BROKERS DOM MAKLERSKI SPOLKA AKCYJNA',\n",
       "       'WARIMPEX FINANZ- UND BETEILIGUNGS AG', 'WAWEL SPOLKA AKCYJNA',\n",
       "       'WITTCHEN SPOLKA AKCYJNA',\n",
       "       'WIRTUALNA POLSKA HOLDING SPOLKA AKCYJNA', 'WOJAS SPOLKA AKCYJNA',\n",
       "       'WIELTON SPOLKA AKCYJNA', 'WIKANA SPOLKA AKCYJNA',\n",
       "       'WASKO SPOLKA AKCYJNA', 'VIVID GAMES SPOLKA AKCYJNA',\n",
       "       'VISTAL GDYNIA SPOLKA AKCYJNA', 'VENTURE INC ASI SPOLKA AKCYJNA',\n",
       "       'VISTULA RETAIL GROUP SPOLKA AKCYJNA', 'VERCOM SPOLKA AKCYJNA',\n",
       "       'VOXEL SPOLKA AKCYJNA', 'VOTUM SPOLKA AKCYJNA',\n",
       "       'GIELDA PRAW MAJĄTKOWYCH VINDEXUS SPOLKA AKCYJNA',\n",
       "       'VIGO PHOTONICS SPOLKA AKCYJNA', 'UNIMOT SPOLKA AKCYJNA',\n",
       "       'UNIBEP SPOLKA AKCYJNA', 'ULMA CONSTRUCCION POLSKA SPOLKA AKCYJNA',\n",
       "       'ULTIMATE GAMES SPOLKA AKCYJNA', 'UNICREDIT S.P.A.',\n",
       "       'UNIMA 2000 SYSTEMY TELEINFORMATYCZNE SPOLKA AKCYJNA',\n",
       "       'TESGAS SPOLKA AKCYJNA', 'TRANS POLONIA SPOLKA AKCYJNA',\n",
       "       'TRAKCJA PRKII SPOLKA AKCYJNA',\n",
       "       'TAURON POLSKA ENERGIA SPOLKA AKCYJNA',\n",
       "       'TOWER INVESTMENTS SPOLKA AKCYJNA', 'TORPOL SPOLKA AKCYJNA',\n",
       "       'TOYA SPOLKA AKCYJNA', 'TATRY MOUNTAIN RESORTS. A.S.',\n",
       "       'TALEX SPOLKA AKCYJNA', 'TIM SPOLKA AKCYJNA',\n",
       "       'TEN SQUARE GAMES SPOLKA AKCYJNA', 'TARCZYŃSKI SPOLKA AKCYJNA',\n",
       "       'SECO/WARWICK SPOLKA AKCYJNA', 'SILVAIR, INC.',\n",
       "       'SUWARY SPOLKA AKCYJNA', 'STALEXPORT AUTOSTRADY SPOLKA AKCYJNA',\n",
       "       'SATIS GROUP SPOLKA AKCYJNA', 'STALPRODUKT SPOLKA AKCYJNA',\n",
       "       'STS HOLDING SPOLKA AKCYJNA', 'STALPROFIL SPOLKA AKCYJNA',\n",
       "       'SPYROSOFT SPOLKA AKCYJNA', 'SANTANDER BANK POLSKA SPOLKA AKCYJNA',\n",
       "       'SOPHARMA AD', 'SONEL SPOLKA AKCYJNA', 'SUNEX SPOLKA AKCYJNA',\n",
       "       'SANWIL HOLDING SPOLKA AKCYJNA', 'SYNEKTIK SPOLKA AKCYJNA',\n",
       "       'SANOK RUBBER COMPANY SPOLKA AKCYJNA', 'SELVITA SPOLKA AKCYJNA',\n",
       "       'SKOTAN SPOLKA AKCYJNA', 'SKYLINE INVESTMENT SPOLKA AKCYJNA',\n",
       "       'SKARBIEC HOLDING SPOLKA AKCYJNA',\n",
       "       'FABRYKA FARB I LAKIEROW ŚNIEŻKA SPOLKA AKCYJNA',\n",
       "       'SIMFABRIC SPOLKA AKCYJNA', 'SHOPER SPOLKA AKCYJNA',\n",
       "       'SOHO DEVELOPMENT SPOLKA AKCYJNA', 'SYGNITY SPOLKA AKCYJNA',\n",
       "       'SFINKS POLSKA SPOLKA AKCYJNA', 'AS SILVANO FASHION GROUP',\n",
       "       'SERINUS ENERGY PLC', 'SELENA FM SPOLKA AKCYJNA',\n",
       "       'SEKO SPOLKA AKCYJNA', 'BANCO SANTANDER S.A.',\n",
       "       'RAWLPLUG SPOLKA AKCYJNA', 'RYVU THERAPEUTICS SPOLKA AKCYJNA',\n",
       "       'ZAKLADY MAGNEZYTOWE ROPCZYCE SPOLKA AKCYJNA',\n",
       "       'RANK PROGRESS SPOLKA AKCYJNA',\n",
       "       'PRZEDSIĘBIORSTWO MODERNIZACJI URZĄDZEŃ ENERGETYCZNYCH REMAK SPOLKA AKCYJNA',\n",
       "       'RELPOL SPOLKA AKCYJNA', 'RAFAKO SPOLKA AKCYJNA', 'RESBUD SE',\n",
       "       'RAINBOW TOURS SPOLKA AKCYJNA', 'R22 SPOLKA AKCYJNA',\n",
       "       'QUERCUS TOWARZYSTWO FUNDUSZY INWESTYCYJNYCH SPOLKA AKCYJNA',\n",
       "       'POWSZECHNY ZAKLAD UBEZPIECZEŃ SPOLKA AKCYJNA',\n",
       "       'POLIMEX - MOSTOSTAL SPOLKA AKCYJNA', 'POLWAX SPOLKA AKCYJNA',\n",
       "       'PURE BIOLOGICS SPOLKA AKCYJNA', 'PUNKPIRATES SPOLKA AKCYJNA',\n",
       "       'ZPUE SPOLKA AKCYJNA', 'POLTREG SPOLKA AKCYJNA',\n",
       "       'PROTEKTOR SPOLKA AKCYJNA', 'PROCHEM SPOLKA AKCYJNA',\n",
       "       'NPL NOVA SPOLKA AKCYJNA',\n",
       "       'PRZEDSIĘBIORSTWO PRZEMYSLU SPOŻYWCZEGO PEPEES SPOLKA AKCYJNA',\n",
       "       'PAMAPOL SPOLKA AKCYJNA', 'PLAZA CENTERS N.V.',\n",
       "       'PLAYWAY SPOLKA AKCYJNA', 'PKP CARGO SPOLKA AKCYJNA',\n",
       "       'POWSZECHNA KASA OSZCZĘDNOŚCI BANK POLSKI SPOLKA AKCYJNA',\n",
       "       'POLSKI KONCERN NAFTOWY ORLEN SPOLKA AKCYJNA',\n",
       "       'PROJPRZEM MAKRUM SPOLKA AKCYJNA', 'PHARMENA SPOLKA AKCYJNA',\n",
       "       'POLSKI HOLDING NIERUCHOMOŚCI SPOLKA AKCYJNA',\n",
       "       'PGF POLSKA GRUPA FOTOWOLTAICZNA SPOLKA AKCYJNA',\n",
       "       'POLSKIE GORNICTWO NAFTOWE I GAZOWNICTWO SPOLKA AKCYJNA',\n",
       "       'PMPG POLSKIE MEDIA SPOLKA AKCYJNA',\n",
       "       'PGE POLSKA GRUPA ENERGETYCZNA SPOLKA AKCYJNA',\n",
       "       'POLENERGIA SPOLKA AKCYJNA',\n",
       "       'BANK POLSKA KASA OPIEKI SPOLKA AKCYJNA', 'PHOTON ENERGY N.V.',\n",
       "       'PCC ROKITA SPOLKA AKCYJNA', 'PEPCO GROUP N.V.',\n",
       "       'PCF GROUP SPOLKA AKCYJNA',\n",
       "       'GRUPA AZOTY ZAKLADY CHEMICZNE POLICE SPOLKA AKCYJNA',\n",
       "       'POZNAŃSKA KORPORACJA BUDOWLANA PEKABEX SPOLKA AKCYJNA',\n",
       "       'OVOSTAR UNION N.V.', 'OT LOGISTICS SPOLKA AKCYJNA',\n",
       "       'PATENTUS SPOLKA AKCYJNA',\n",
       "       'ZAKLADY PRZEMYSLU CUKIERNICZEGO OTMUCHOW SPOLKA AKCYJNA',\n",
       "       'OPONEO.PL SPOLKA AKCYJNA', 'OPTEAM SPOLKA AKCYJNA',\n",
       "       'ORANGE POLSKA SPOLKA AKCYJNA', 'OEX SPOLKA AKCYJNA',\n",
       "       'ONDE SPOLKA AKCYJNA', 'ODLEWNIE POLSKIE SPOLKA AKCYJNA',\n",
       "       'NEXITY GLOBAL SPOLKA AKCYJNA', 'NEWAG SPOLKA AKCYJNA',\n",
       "       'P.A. NOVA SPOLKA AKCYJNA', 'AB NOVATURAS',\n",
       "       'NTT SYSTEM SPOLKA AKCYJNA', 'NANOGROUP SPOLKA AKCYJNA',\n",
       "       'NEUCA SPOLKA AKCYJNA', 'MUZA SPOLKA AKCYJNA',\n",
       "       'MARVIPOL DEVELOPMENT SPOLKA AKCYJNA', 'MAXCOM SPOLKA AKCYJNA',\n",
       "       'MOSTOSTAL ZABRZE SPOLKA AKCYJNA',\n",
       "       'MOSTOSTAL PLOCK SPOLKA AKCYJNA',\n",
       "       'MOSTOSTAL WARSZAWA SPOLKA AKCYJNA',\n",
       "       'MERCATOR MEDICAL SPOLKA AKCYJNA', 'MIRBUD SPOLKA AKCYJNA',\n",
       "       'MONNARI TRADE SPOLKA AKCYJNA',\n",
       "       'MOL MAGYAR OLAJ - ES GAZIPARI NYILVANOSAN MUKODO RESZVENYTARSASAG',\n",
       "       'MOJ SPOLKA AKCYJNA', 'MOLECURE SPOLKA AKCYJNA',\n",
       "       'MENNICA POLSKA SPOLKA AKCYJNA', 'ML SYSTEM SPOLKA AKCYJNA',\n",
       "       'MILKILAND N.V.', 'MLP GROUP SPOLKA AKCYJNA',\n",
       "       'MIRACULUM SPOLKA AKCYJNA', 'BANK MILLENNIUM SPOLKA AKCYJNA',\n",
       "       'MANGATA HOLDING SPOLKA AKCYJNA', 'MFO SPOLKA AKCYJNA',\n",
       "       'MEX POLSKA SPOLKA AKCYJNA', 'MDI ENERGIA SPOLKA AKCYJNA',\n",
       "       'MEDICALGORITHMICS SPOLKA AKCYJNA', 'MERCOR SPOLKA AKCYJNA',\n",
       "       'MCI CAPITAL ASI SPOLKA AKCYJNA', 'MARIE BRIZARD WINE & SPIRITS',\n",
       "       'MO-BRUK SPOLKA AKCYJNA', 'MBANK SPOLKA AKCYJNA',\n",
       "       'MAKARONY POLSKIE SPOLKA AKCYJNA', 'MABION SPOLKA AKCYJNA',\n",
       "       'LUBELSKI WĘGIEL BOGDANKA SPOLKA AKCYJNA',\n",
       "       'LIVECHAT SOFTWARE SPOLKA AKCYJNA', 'LENTEX SPOLKA AKCYJNA',\n",
       "       'LSI SOFTWARE SPOLKA AKCYJNA', 'LARQ SPOLKA AKCYJNA',\n",
       "       'LPP SPOLKA AKCYJNA', 'LOKUM DEWELOPER SPOLKA AKCYJNA',\n",
       "       'GROCLIN SPOLKA AKCYJNA', 'LENA LIGHTING SPOLKA AKCYJNA',\n",
       "       'LUBAWA SPOLKA AKCYJNA', 'LIBET SPOLKA AKCYJNA',\n",
       "       'KRYNICA VITAMIN SPOLKA AKCYJNA', 'GRUPA KĘTY SPOLKA AKCYJNA',\n",
       "       'KSG AGRO S.A.', 'KRUK SPOLKA AKCYJNA',\n",
       "       'KRKA. TOVARNA ZDRAVIL. D.D.. NOVO MESTO',\n",
       "       'KINO POLSKA TV SPOLKA AKCYJNA',\n",
       "       'KOSZALIŃSKIE PRZEDSIĘBIORSTWO PRZEMYSLU DRZEWNEGO SPOLKA AKCYJNA',\n",
       "       'PRZEDSIĘBIORSTWO PRODUKCYJNO HANDLOWE KOMPAP SPOLKA AKCYJNA',\n",
       "       'ZESPOL ELEKTROCIEPLOWNI WROCLAWSKICH KOGENERACJA SPOLKA AKCYJNA',\n",
       "       'KGHM POLSKA MIEDŹ SPOLKA AKCYJNA', 'KERNEL HOLDING S.A.',\n",
       "       'KCI SPOLKA AKCYJNA', 'K2 HOLDING SPOLKA AKCYJNA',\n",
       "       'JASTRZĘBSKA SPOLKA WĘGLOWA SPOLKA AKCYJNA',\n",
       "       'IZOSTAL SPOLKA AKCYJNA', 'INTERSPORT POLSKA SPOLKA AKCYJNA',\n",
       "       'IPOPEMA SECURITIES SPOLKA AKCYJNA', 'INVISTA SPOLKA AKCYJNA',\n",
       "       'INPRO SPOLKA AKCYJNA', 'INTROL SPOLKA AKCYJNA',\n",
       "       'INSTAL KRAKOW SPOLKA AKCYJNA', 'ING BANK ŚLĄSKI SPOLKA AKCYJNA',\n",
       "       'INC SPOLKA AKCYJNA', 'IMS SPOLKA AKCYJNA',\n",
       "       'IMPERIO ALTERNATYWNA SPOLKA AKCYJNA',\n",
       "       'INDUSTRIAL MILK COMPANY S.A.', 'IMMOFINANZ AG',\n",
       "       'INVESTMENT FRIENDS', 'IFIRMA SPOLKA AKCYJNA',\n",
       "       'INVESTMENT FRIENDS CAPITAL SE', 'MEDINICE SPOLKA AKCYJNA',\n",
       "       'HUUUGE, INC.', 'HERKULES SPOLKA AKCYJNA',\n",
       "       'HARPER HYGIENICS SPOLKA AKCYJNA', 'HELIO SPOLKA AKCYJNA',\n",
       "       'HM INWEST SPOLKA AKCYJNA',\n",
       "       'PRZEDSIĘBIORSTWO HYDRAULIKI SILOWEJ HYDROTOR S.A.',\n",
       "       'GETIN HOLDING SPOLKA AKCYJNA',\n",
       "       'GLOBE TRADE CENTRE SPOLKA AKCYJNA', 'GREENX METALS LIMITED',\n",
       "       'GRODNO SPOLKA AKCYJNA',\n",
       "       'GIELDA PAPIEROW WARTOŚCIOWYCH W WARSZAWIE SPOLKA AKCYJNA',\n",
       "       'GRUPA PRACUJ SPOLKA AKCYJNA', 'GAMES OPERATORS SPOLKA AKCYJNA',\n",
       "       'GOBARTO SPOLKA AKCYJNA', 'GETIN NOBLE BANK SPOLKA AKCYJNA',\n",
       "       'GRUPA KAPITALOWA IMMOBILE SPOLKA AKCYJNA',\n",
       "       'GI GROUP POLAND SPOLKA AKCYJNA', 'GAMING FACTORY SPOLKA AKCYJNA',\n",
       "       'FABRYKI MEBLI FORTE SPOLKA AKCYJNA',\n",
       "       'FABRYKI SPRZĘTU I NARZĘDZI GORNICZYCH GRUPA KAPITALOWA FASING SPOLKA AKCYJNA',\n",
       "       'FERRO SPOLKA AKCYJNA', 'FAMUR SPOLKA AKCYJNA',\n",
       "       'FERRUM SPOLKA AKCYJNA', 'FEERUM SPOLKA AKCYJNA',\n",
       "       'EUROCASH SPOLKA AKCYJNA', 'EUROTEL SPOLKA AKCYJNA',\n",
       "       'ERG SPOLKA AKCYJNA', 'ERBUD SPOLKA AKCYJNA',\n",
       "       'ENTER AIR SPOLKA AKCYJNA',\n",
       "       'CENTRUM MEDYCZNE ENEL-MED SPOLKA AKCYJNA', 'ENEA SPOLKA AKCYJNA',\n",
       "       'ZAKLADY URZĄDZEŃ KOMPUTEROWYCH ELZAB SPOLKA AKCYJNA',\n",
       "       'ELKOP SPOLKA AKCYJNA', 'ELEKTROTIM SPOLKA AKCYJNA',\n",
       "       'EKO EXPORT SPOLKA AKCYJNA', 'EUROHOLD BULGARIA AD',\n",
       "       'ED INVEST SPOLKA AKCYJNA', 'ECHO INVESTMENT SPOLKA AKCYJNA',\n",
       "       'AMREST HOLDINGS SE', 'ESOTIQ & HENDERSON SPOLKA AKCYJNA',\n",
       "       'DEVELIA SPOLKA AKCYJNA', 'DROZAPOL-PROFIL SPOLKA AKCYJNA',\n",
       "       'DOM DEVELOPMENT SPOLKA AKCYJNA', 'DINO POLSKA SPOLKA AKCYJNA',\n",
       "       'DIGITAL NETWORK SPOLKA AKCYJNA', 'DEKPOL SPOLKA AKCYJNA',\n",
       "       'DELKO SPOLKA AKCYJNA', 'DECORA SPOLKA AKCYJNA',\n",
       "       'FIRMA OPONIARSKA DĘBICA SPOLKA AKCYJNA',\n",
       "       'DATAWALK SPOLKA AKCYJNA', 'DADELO SPOLKA AKCYJNA',\n",
       "       'CAPTOR THERAPEUTICS SPOLKA AKCYJNA', 'CITY SERVICE SE',\n",
       "       'PZ CORMAY SPOLKA AKCYJNA', 'CREEPY JAR SPOLKA AKCYJNA',\n",
       "       'CREOTECH INSTRUMENTS SPOLKA AKCYJNA',\n",
       "       'CYFROWY POLSAT SPOLKA AKCYJNA', 'COMPREMUM SPOLKA AKCYJNA',\n",
       "       'COMPERIA.PL SPOLKA AKCYJNA', 'CPD SPOLKA AKCYJNA',\n",
       "       'COGNOR SPOLKA AKCYJNA',\n",
       "       'CENTRUM NOWOCZESNYCH TECHNOLOGII SPOLKA AKCYJNA',\n",
       "       'COMARCH SPOLKA AKCYJNA', 'COMP SPOLKA AKCYJNA',\n",
       "       'CELON PHARMA SPOLKA AKCYJNA', 'COAL ENERGY S.A.',\n",
       "       'CIECH SPOLKA AKCYJNA', 'CI GAMES SPOLKA AKCYJNA', 'ČEZ. A.S.',\n",
       "       'CD PROJEKT SPOLKA AKCYJNA', 'CDRL SPOLKA AKCYJNA',\n",
       "       'CCC SPOLKA AKCYJNA', 'CAVATINA HOLDING SPOLKA AKCYJNA',\n",
       "       'INTER CARS SPOLKA AKCYJNA', 'BORYSZEW SPOLKA AKCYJNA',\n",
       "       'BOWIM SPOLKA AKCYJNA', 'BANK OCHRONY ŚRODOWISKA SPOLKA AKCYJNA',\n",
       "       'BNP PARIBAS BANK POLSKA SPOLKA AKCYJNA',\n",
       "       'BIOMAXIMA SPOLKA AKCYJNA',\n",
       "       'BIOMED-LUBLIN WYTWORNIA SUROWIC I SZCZEPIONEK SPOLKA AKCYJNA W RESTRUKTURYZACJI',\n",
       "       'BUMECH SPOLKA AKCYJNA', 'BIOTON SPOLKA AKCYJNA',\n",
       "       'BANK HANDLOWY W WARSZAWIE SPOLKA AKCYJNA',\n",
       "       'ATENDE SPOLKA AKCYJNA', 'ARCTIC PAPER SPOLKA AKCYJNA',\n",
       "       'ASTARTA HOLDING N.V.',\n",
       "       'ASSECO SOUTH EASTERN EUROPE SPOLKA AKCYJNA',\n",
       "       'ASBISC ENTERPRISES PLC', 'ARTIFEX MUNDI SPOLKA AKCYJNA',\n",
       "       'ARTERIA SPOLKA AKCYJNA', 'ARCHICOM SPOLKA AKCYJNA',\n",
       "       'APATOR SPOLKA AKCYJNA', 'AUTO PARTNER SPOLKA AKCYJNA',\n",
       "       'APLISENS SPOLKA AKCYJNA', 'APS ENERGIA SPOLKA AKCYJNA',\n",
       "       'ANSWEAR.COM SPOLKA AKCYJNA', 'ALUMETAL SPOLKA AKCYJNA',\n",
       "       'AMICA WRONKI SPOLKA AKCYJNA', 'AMBRA SPOLKA AKCYJNA',\n",
       "       'ALIOR BANK SPOLKA AKCYJNA', 'AILLERON SPOLKA AKCYJNA',\n",
       "       'ALTUS SPOLKA AKCYJNA', 'ALL IN! GAMES SPOLKA AKCYJNA',\n",
       "       'ALLEGRO.EU SOCIÉTÉ ANONYME', 'AGROTON PUBLIC LIMITED',\n",
       "       'AGORA SPOLKA AKCYJNA', 'ADIUVO INVESTMENTS SPOLKA AKCYJNA',\n",
       "       'ACTION SPOLKA AKCYJNA', 'ASSECO POLAND SPOLKA AKCYJNA',\n",
       "       'AC SPOLKA AKCYJNA', 'ASSECO BUSINESS SOLUTIONS SPOLKA AKCYJNA',\n",
       "       'AB SPOLKA AKCYJNA', 'ALTA SPOLKA AKCYJNA',\n",
       "       '3RGAMES SPOLKA AKCYJNA', 'ATAL SPOLKA AKCYJNA',\n",
       "       '11 BIT STUDIOS SPOLKA AKCYJNA'], dtype=object)"
      ]
     },
     "execution_count": 77,
     "metadata": {},
     "output_type": "execute_result"
    }
   ],
   "source": [
    "df.ticker.unique()"
   ]
  },
  {
   "cell_type": "markdown",
   "metadata": {},
   "source": [
    "# Multi Indexing DF"
   ]
  },
  {
   "cell_type": "code",
   "execution_count": 78,
   "metadata": {},
   "outputs": [
    {
     "data": {
      "text/html": [
       "<div>\n",
       "<style scoped>\n",
       "    .dataframe tbody tr th:only-of-type {\n",
       "        vertical-align: middle;\n",
       "    }\n",
       "\n",
       "    .dataframe tbody tr th {\n",
       "        vertical-align: top;\n",
       "    }\n",
       "\n",
       "    .dataframe thead th {\n",
       "        text-align: right;\n",
       "    }\n",
       "</style>\n",
       "<table border=\"1\" class=\"dataframe\">\n",
       "  <thead>\n",
       "    <tr style=\"text-align: right;\">\n",
       "      <th></th>\n",
       "      <th>date</th>\n",
       "      <th>ticker</th>\n",
       "      <th>open</th>\n",
       "      <th>MAX</th>\n",
       "      <th>MIN</th>\n",
       "      <th>close</th>\n",
       "      <th>volume</th>\n",
       "      <th>trade</th>\n",
       "    </tr>\n",
       "  </thead>\n",
       "  <tbody>\n",
       "    <tr>\n",
       "      <th>135296</th>\n",
       "      <td>2021-02-15</td>\n",
       "      <td>11 BIT STUDIOS SPOLKA AKCYJNA</td>\n",
       "      <td>554.0</td>\n",
       "      <td>594.0</td>\n",
       "      <td>554.0</td>\n",
       "      <td>581.0</td>\n",
       "      <td>21524.0</td>\n",
       "      <td>12436601.0</td>\n",
       "    </tr>\n",
       "    <tr>\n",
       "      <th>135297</th>\n",
       "      <td>2021-02-12</td>\n",
       "      <td>11 BIT STUDIOS SPOLKA AKCYJNA</td>\n",
       "      <td>558.0</td>\n",
       "      <td>560.0</td>\n",
       "      <td>542.0</td>\n",
       "      <td>553.0</td>\n",
       "      <td>11073.0</td>\n",
       "      <td>6097394.0</td>\n",
       "    </tr>\n",
       "    <tr>\n",
       "      <th>135298</th>\n",
       "      <td>2021-02-11</td>\n",
       "      <td>11 BIT STUDIOS SPOLKA AKCYJNA</td>\n",
       "      <td>537.0</td>\n",
       "      <td>569.0</td>\n",
       "      <td>531.0</td>\n",
       "      <td>560.0</td>\n",
       "      <td>13911.0</td>\n",
       "      <td>7717254.0</td>\n",
       "    </tr>\n",
       "    <tr>\n",
       "      <th>135299</th>\n",
       "      <td>2021-02-10</td>\n",
       "      <td>11 BIT STUDIOS SPOLKA AKCYJNA</td>\n",
       "      <td>543.0</td>\n",
       "      <td>554.0</td>\n",
       "      <td>533.0</td>\n",
       "      <td>538.0</td>\n",
       "      <td>20906.0</td>\n",
       "      <td>11338501.0</td>\n",
       "    </tr>\n",
       "    <tr>\n",
       "      <th>135300</th>\n",
       "      <td>2021-02-09</td>\n",
       "      <td>11 BIT STUDIOS SPOLKA AKCYJNA</td>\n",
       "      <td>505.0</td>\n",
       "      <td>555.0</td>\n",
       "      <td>503.0</td>\n",
       "      <td>545.0</td>\n",
       "      <td>26628.0</td>\n",
       "      <td>14236186.0</td>\n",
       "    </tr>\n",
       "  </tbody>\n",
       "</table>\n",
       "</div>"
      ],
      "text/plain": [
       "             date                         ticker   open    MAX    MIN  close  \\\n",
       "135296 2021-02-15  11 BIT STUDIOS SPOLKA AKCYJNA  554.0  594.0  554.0  581.0   \n",
       "135297 2021-02-12  11 BIT STUDIOS SPOLKA AKCYJNA  558.0  560.0  542.0  553.0   \n",
       "135298 2021-02-11  11 BIT STUDIOS SPOLKA AKCYJNA  537.0  569.0  531.0  560.0   \n",
       "135299 2021-02-10  11 BIT STUDIOS SPOLKA AKCYJNA  543.0  554.0  533.0  538.0   \n",
       "135300 2021-02-09  11 BIT STUDIOS SPOLKA AKCYJNA  505.0  555.0  503.0  545.0   \n",
       "\n",
       "         volume       trade  \n",
       "135296  21524.0  12436601.0  \n",
       "135297  11073.0   6097394.0  \n",
       "135298  13911.0   7717254.0  \n",
       "135299  20906.0  11338501.0  \n",
       "135300  26628.0  14236186.0  "
      ]
     },
     "execution_count": 78,
     "metadata": {},
     "output_type": "execute_result"
    }
   ],
   "source": [
    "df.tail()"
   ]
  },
  {
   "cell_type": "code",
   "execution_count": 79,
   "metadata": {},
   "outputs": [
    {
     "data": {
      "text/html": [
       "<div>\n",
       "<style scoped>\n",
       "    .dataframe tbody tr th:only-of-type {\n",
       "        vertical-align: middle;\n",
       "    }\n",
       "\n",
       "    .dataframe tbody tr th {\n",
       "        vertical-align: top;\n",
       "    }\n",
       "\n",
       "    .dataframe thead th {\n",
       "        text-align: right;\n",
       "    }\n",
       "</style>\n",
       "<table border=\"1\" class=\"dataframe\">\n",
       "  <thead>\n",
       "    <tr style=\"text-align: right;\">\n",
       "      <th></th>\n",
       "      <th>ticker</th>\n",
       "      <th>open</th>\n",
       "      <th>MAX</th>\n",
       "      <th>MIN</th>\n",
       "      <th>close</th>\n",
       "      <th>volume</th>\n",
       "      <th>trade</th>\n",
       "    </tr>\n",
       "    <tr>\n",
       "      <th>date</th>\n",
       "      <th></th>\n",
       "      <th></th>\n",
       "      <th></th>\n",
       "      <th></th>\n",
       "      <th></th>\n",
       "      <th></th>\n",
       "      <th></th>\n",
       "    </tr>\n",
       "  </thead>\n",
       "  <tbody>\n",
       "    <tr>\n",
       "      <th>2022-09-09</th>\n",
       "      <td>MAGNA POLONIA SPOLKA AKCYJNA</td>\n",
       "      <td>2.870</td>\n",
       "      <td>2.945</td>\n",
       "      <td>2.800</td>\n",
       "      <td>2.925</td>\n",
       "      <td>12314.0</td>\n",
       "      <td>35158.0</td>\n",
       "    </tr>\n",
       "    <tr>\n",
       "      <th>2022-09-08</th>\n",
       "      <td>MAGNA POLONIA SPOLKA AKCYJNA</td>\n",
       "      <td>2.900</td>\n",
       "      <td>2.960</td>\n",
       "      <td>2.700</td>\n",
       "      <td>2.790</td>\n",
       "      <td>16723.0</td>\n",
       "      <td>46947.0</td>\n",
       "    </tr>\n",
       "    <tr>\n",
       "      <th>2022-09-07</th>\n",
       "      <td>MAGNA POLONIA SPOLKA AKCYJNA</td>\n",
       "      <td>2.985</td>\n",
       "      <td>2.985</td>\n",
       "      <td>2.820</td>\n",
       "      <td>2.950</td>\n",
       "      <td>8396.0</td>\n",
       "      <td>24485.0</td>\n",
       "    </tr>\n",
       "    <tr>\n",
       "      <th>2022-09-06</th>\n",
       "      <td>MAGNA POLONIA SPOLKA AKCYJNA</td>\n",
       "      <td>3.000</td>\n",
       "      <td>3.030</td>\n",
       "      <td>2.925</td>\n",
       "      <td>2.985</td>\n",
       "      <td>3054.0</td>\n",
       "      <td>8975.0</td>\n",
       "    </tr>\n",
       "    <tr>\n",
       "      <th>2022-09-05</th>\n",
       "      <td>MAGNA POLONIA SPOLKA AKCYJNA</td>\n",
       "      <td>2.960</td>\n",
       "      <td>3.070</td>\n",
       "      <td>2.950</td>\n",
       "      <td>3.070</td>\n",
       "      <td>2441.0</td>\n",
       "      <td>7334.0</td>\n",
       "    </tr>\n",
       "    <tr>\n",
       "      <th>...</th>\n",
       "      <td>...</td>\n",
       "      <td>...</td>\n",
       "      <td>...</td>\n",
       "      <td>...</td>\n",
       "      <td>...</td>\n",
       "      <td>...</td>\n",
       "      <td>...</td>\n",
       "    </tr>\n",
       "    <tr>\n",
       "      <th>2021-01-11</th>\n",
       "      <td>MAGNA POLONIA SPOLKA AKCYJNA</td>\n",
       "      <td>1.850</td>\n",
       "      <td>1.950</td>\n",
       "      <td>1.700</td>\n",
       "      <td>1.760</td>\n",
       "      <td>115159.0</td>\n",
       "      <td>212585.0</td>\n",
       "    </tr>\n",
       "    <tr>\n",
       "      <th>2021-01-08</th>\n",
       "      <td>MAGNA POLONIA SPOLKA AKCYJNA</td>\n",
       "      <td>1.710</td>\n",
       "      <td>1.880</td>\n",
       "      <td>1.710</td>\n",
       "      <td>1.840</td>\n",
       "      <td>226814.0</td>\n",
       "      <td>409430.0</td>\n",
       "    </tr>\n",
       "    <tr>\n",
       "      <th>2021-01-07</th>\n",
       "      <td>MAGNA POLONIA SPOLKA AKCYJNA</td>\n",
       "      <td>1.610</td>\n",
       "      <td>1.750</td>\n",
       "      <td>1.580</td>\n",
       "      <td>1.690</td>\n",
       "      <td>159824.0</td>\n",
       "      <td>266597.0</td>\n",
       "    </tr>\n",
       "    <tr>\n",
       "      <th>2021-01-05</th>\n",
       "      <td>MAGNA POLONIA SPOLKA AKCYJNA</td>\n",
       "      <td>1.640</td>\n",
       "      <td>1.700</td>\n",
       "      <td>1.600</td>\n",
       "      <td>1.650</td>\n",
       "      <td>122385.0</td>\n",
       "      <td>202362.0</td>\n",
       "    </tr>\n",
       "    <tr>\n",
       "      <th>2021-01-04</th>\n",
       "      <td>MAGNA POLONIA SPOLKA AKCYJNA</td>\n",
       "      <td>1.550</td>\n",
       "      <td>1.690</td>\n",
       "      <td>1.550</td>\n",
       "      <td>1.630</td>\n",
       "      <td>197098.0</td>\n",
       "      <td>319912.0</td>\n",
       "    </tr>\n",
       "  </tbody>\n",
       "</table>\n",
       "<p>425 rows × 7 columns</p>\n",
       "</div>"
      ],
      "text/plain": [
       "                                  ticker   open    MAX    MIN  close  \\\n",
       "date                                                                   \n",
       "2022-09-09  MAGNA POLONIA SPOLKA AKCYJNA  2.870  2.945  2.800  2.925   \n",
       "2022-09-08  MAGNA POLONIA SPOLKA AKCYJNA  2.900  2.960  2.700  2.790   \n",
       "2022-09-07  MAGNA POLONIA SPOLKA AKCYJNA  2.985  2.985  2.820  2.950   \n",
       "2022-09-06  MAGNA POLONIA SPOLKA AKCYJNA  3.000  3.030  2.925  2.985   \n",
       "2022-09-05  MAGNA POLONIA SPOLKA AKCYJNA  2.960  3.070  2.950  3.070   \n",
       "...                                  ...    ...    ...    ...    ...   \n",
       "2021-01-11  MAGNA POLONIA SPOLKA AKCYJNA  1.850  1.950  1.700  1.760   \n",
       "2021-01-08  MAGNA POLONIA SPOLKA AKCYJNA  1.710  1.880  1.710  1.840   \n",
       "2021-01-07  MAGNA POLONIA SPOLKA AKCYJNA  1.610  1.750  1.580  1.690   \n",
       "2021-01-05  MAGNA POLONIA SPOLKA AKCYJNA  1.640  1.700  1.600  1.650   \n",
       "2021-01-04  MAGNA POLONIA SPOLKA AKCYJNA  1.550  1.690  1.550  1.630   \n",
       "\n",
       "              volume     trade  \n",
       "date                            \n",
       "2022-09-09   12314.0   35158.0  \n",
       "2022-09-08   16723.0   46947.0  \n",
       "2022-09-07    8396.0   24485.0  \n",
       "2022-09-06    3054.0    8975.0  \n",
       "2022-09-05    2441.0    7334.0  \n",
       "...              ...       ...  \n",
       "2021-01-11  115159.0  212585.0  \n",
       "2021-01-08  226814.0  409430.0  \n",
       "2021-01-07  159824.0  266597.0  \n",
       "2021-01-05  122385.0  202362.0  \n",
       "2021-01-04  197098.0  319912.0  \n",
       "\n",
       "[425 rows x 7 columns]"
      ]
     },
     "execution_count": 79,
     "metadata": {},
     "output_type": "execute_result"
    }
   ],
   "source": [
    "df.loc[df[\"ticker\"]==df.ticker.unique()[0]].set_index(\"date\")"
   ]
  },
  {
   "cell_type": "markdown",
   "metadata": {},
   "source": [
    "## Preselection of columns used for DL portfolio managment"
   ]
  },
  {
   "cell_type": "code",
   "execution_count": 80,
   "metadata": {},
   "outputs": [
    {
     "name": "stdout",
     "output_type": "stream",
     "text": [
      "cropped from 425\n",
      "to 400\n",
      "['VOTUM SPOLKA AKCYJNA', 'LIBET SPOLKA AKCYJNA', 'BUMECH SPOLKA AKCYJNA', 'OT LOGISTICS SPOLKA AKCYJNA', 'ASSECO BUSINESS SOLUTIONS SPOLKA AKCYJNA', 'GIELDA PAPIEROW WARTOŚCIOWYCH W WARSZAWIE SPOLKA AKCYJNA', 'INSTAL KRAKOW SPOLKA AKCYJNA', 'SUNEX SPOLKA AKCYJNA', 'ARTERIA SPOLKA AKCYJNA', 'ZAKLAD BUDOWY MASZYN ZREMB-CHOJNICE SPOLKA AKCYJNA', 'SYGNITY SPOLKA AKCYJNA', 'LENA LIGHTING SPOLKA AKCYJNA', 'DROZAPOL-PROFIL SPOLKA AKCYJNA', 'APLISENS SPOLKA AKCYJNA', 'BBI DEVELOPMENT SPOLKA AKCYJNA', 'COMP SPOLKA AKCYJNA', 'PROJPRZEM MAKRUM SPOLKA AKCYJNA', 'GI GROUP POLAND SPOLKA AKCYJNA', 'ZPUE SPOLKA AKCYJNA', 'FERRUM SPOLKA AKCYJNA', 'PROTEKTOR SPOLKA AKCYJNA', 'OEX SPOLKA AKCYJNA', 'ARCHICOM SPOLKA AKCYJNA', 'AC SPOLKA AKCYJNA', 'TALEX SPOLKA AKCYJNA', 'DIGITAL NETWORK SPOLKA AKCYJNA', 'SILVAIR, INC.', 'PRZEDSIĘBIORSTWO HYDRAULIKI SILOWEJ HYDROTOR S.A.', 'BOWIM SPOLKA AKCYJNA', 'MLP GROUP SPOLKA AKCYJNA', 'SOHO DEVELOPMENT SPOLKA AKCYJNA', 'VISTULA RETAIL GROUP SPOLKA AKCYJNA', 'GRUPA KAPITALOWA IMMOBILE SPOLKA AKCYJNA', 'ERG SPOLKA AKCYJNA', 'OVOSTAR UNION N.V.', 'GLOBE TRADE CENTRE SPOLKA AKCYJNA', 'AS SILVANO FASHION GROUP', 'LUBAWA SPOLKA AKCYJNA', 'BETACOM SPOLKA AKCYJNA', 'STALEXPORT AUTOSTRADY SPOLKA AKCYJNA', 'BORYSZEW SPOLKA AKCYJNA', 'CYFROWY POLSAT SPOLKA AKCYJNA', 'ATLANTA POLAND SPOLKA AKCYJNA', 'MENNICA POLSKA SPOLKA AKCYJNA', 'FIRMA OPONIARSKA DĘBICA SPOLKA AKCYJNA', 'IFIRMA SPOLKA AKCYJNA', 'INVISTA SPOLKA AKCYJNA', 'PMPG POLSKIE MEDIA SPOLKA AKCYJNA', 'MOJ SPOLKA AKCYJNA', 'PLAZA CENTERS N.V.', 'TATRY MOUNTAIN RESORTS. A.S.', 'DINO POLSKA SPOLKA AKCYJNA', 'ASSECO POLAND SPOLKA AKCYJNA', 'WIKANA SPOLKA AKCYJNA', 'TRANS POLONIA SPOLKA AKCYJNA', 'IMMOFINANZ AG', 'SUWARY SPOLKA AKCYJNA', 'SOPHARMA AD', 'GETIN HOLDING SPOLKA AKCYJNA', 'KRKA. TOVARNA ZDRAVIL. D.D.. NOVO MESTO', 'KOSZALIŃSKIE PRZEDSIĘBIORSTWO PRZEMYSLU DRZEWNEGO SPOLKA AKCYJNA', 'ARCTIC PAPER SPOLKA AKCYJNA', 'WITTCHEN SPOLKA AKCYJNA', 'ČEZ. A.S.', 'ORANGE POLSKA SPOLKA AKCYJNA', 'CENTRUM NOWOCZESNYCH TECHNOLOGII SPOLKA AKCYJNA', 'CENTRUM MEDYCZNE ENEL-MED SPOLKA AKCYJNA', 'PROCHEM SPOLKA AKCYJNA', 'MARIE BRIZARD WINE & SPIRITS', 'ASSECO SOUTH EASTERN EUROPE SPOLKA AKCYJNA']\n"
     ]
    }
   ],
   "source": [
    "df_list = []\n",
    "for i in df.ticker.unique():\n",
    "    df_x = df.loc[df[\"ticker\"]==i] \n",
    "    df_x.name = i\n",
    "    df_x=df_x.drop_duplicates()\n",
    "    df_to_append=df_x.set_index(\"date\")\n",
    "    df_list.append(df_to_append[[\"ticker\",\"open\", \"MAX\", \"MIN\", \"close\", \"trade\"]])\n",
    "    \n",
    "df_list.sort(key=lambda x:len(x), reverse=True)\n",
    "[(df.ticker.iloc[0],df.index[-1], df.index[0]) for df in df_list]\n",
    "\n",
    "dfs1= [df for df in df_list if df.index.min()<datetime.strptime('01-03-2021', \"%d-%m-%Y\") and \n",
    "      df.index.max()>=datetime.strptime('08-09-2022', \"%d-%m-%Y\")]\n",
    "\n",
    "#dfs1 = [df.loc[datetime.strptime('01-01-2019', \"%d-%m-%Y\"):datetime.strptime('19-02-2022', \"%d-%m-%Y\"), :] for df in dfs1]\n",
    "\n",
    "index_list_lengh = [[len(df.index), df[\"ticker\"].iloc[0]] for df in dfs1]\n",
    "max_index = 0\n",
    "max_count = 0\n",
    "for index, value in enumerate(index_list_lengh):\n",
    "    max_count_value = value[0]\n",
    "    max_index_ = index\n",
    "    if max_count_value>max_count:\n",
    "        max_index = max_index_\n",
    "        max_count = max_count_value\n",
    "\n",
    "#mi = dfs1[max_index].index.copy()\n",
    "#for i in range(len(dfs1)):\n",
    "#    name = dfs1[i][\"ticker\"].iloc[0]\n",
    "#    df_list[i]=dfs1[i].reindex(mi, method=\"pad\")\n",
    "\n",
    "keys = [df[\"ticker\"].iloc[0] for df in dfs1]\n",
    "dfs1 = [df.drop(columns=[\"ticker\"]) for df in dfs1]\n",
    "\n",
    "df3 = pd.concat(dfs1, axis=1, keys=keys, names=['Pair','Price'])\n",
    "print('cropped from', len(df3))\n",
    "t=max([min(df1.index) for df1 in dfs1])\n",
    "df3=df3[df3.index>t]\n",
    "print('to',len(df3))\n",
    "\n",
    "df3 = df3.fillna(method=\"pad\")\n",
    "# replace rest\n",
    "df3.replace(np.nan, 0, inplace=True)\n",
    "# df.unstack()\n",
    "df3=df3.astype(np.float32)\n",
    "\n",
    "data=df3.drop(columns=['open','MIN','MAX', \"trade\"], axis=1, level=1)\n",
    "data2 = data.loc[datetime.strptime('01-03-2021', \"%d-%m-%Y\"):datetime.strptime('09-08-2022', \"%d-%m-%Y\"), :]\n",
    "data3 = data2.loc[:, (data2 != 0).any(axis=0)]\n",
    "\n",
    "\n",
    "tickers = data3.columns.levels[0]\n",
    "\n",
    "def calc_neg_sharpe(weights, mean_returns, cov, rf):\n",
    "    portfolio_return = np.sum(mean_returns * weights) * 252\n",
    "    portfolio_std = np.sqrt(np.dot(weights.T, np.dot(cov, weights))) * np.sqrt(252)\n",
    "    sharpe_ratio = (portfolio_return - rf) / portfolio_std\n",
    "    return -sharpe_ratio\n",
    "constraints = ({'type': 'eq', 'fun': lambda x: np.sum(x) - 1})\n",
    "\n",
    "def max_sharpe_ratio(mean_returns, cov, rf):\n",
    "    num_assets = len(mean_returns)\n",
    "    args = (mean_returns, cov, rf)\n",
    "    constraints = ({'type': 'eq', 'fun': lambda x: np.sum(x) - 1})\n",
    "    bound = (0.0,1.0)\n",
    "    bounds = tuple(bound for asset in range(num_assets))\n",
    "    result = sco.minimize(calc_neg_sharpe, num_assets*[1./num_assets,], args=args,\n",
    "                        method='SLSQP', bounds=bounds, constraints=constraints)\n",
    "    return result\n",
    "\n",
    "def calc_portfolio_std(weights, mean_returns, cov):\n",
    "    portfolio_std = np.sqrt(np.dot(weights.T, np.dot(cov, weights))) * np.sqrt(252)\n",
    "    return portfolio_std\n",
    "\n",
    "def min_variance(mean_returns, cov):\n",
    "    num_assets = len(mean_returns)\n",
    "    args = (mean_returns, cov)\n",
    "    constraints = ({'type': 'eq', 'fun': lambda x: np.sum(x) - 1})\n",
    "    bound = (0.0,1.0)\n",
    "    bounds = tuple(bound for asset in range(num_assets))\n",
    "    result = sco.minimize(calc_portfolio_std, num_assets*[1./num_assets,], args=args,\n",
    "                        method='SLSQP', bounds=bounds, constraints=constraints)\n",
    "    return result\n",
    "\n",
    "\n",
    "mean_returns = data3.pct_change().mean().replace(np.inf, 0)\n",
    "cov = data3.pct_change().cov().replace(np.inf, 0)\n",
    "rf = 0.02\n",
    "optimal_port_sharpe = max_sharpe_ratio(mean_returns, cov, rf)\n",
    "min_port_variance = min_variance(mean_returns, cov)\n",
    "\n",
    "asset=[]\n",
    "for i in range(pd.DataFrame([round(x,2) for x in optimal_port_sharpe['x']],index=tickers).T.to_numpy().shape[1]):\n",
    "    if pd.DataFrame([round(x,2) for x in optimal_port_sharpe['x']],index=tickers).T.to_numpy().squeeze()[i] != 0:\n",
    "        asset.append(data3.columns.levels[0][i])\n",
    "\n",
    "for i in range(pd.DataFrame([round(x,2) for x in min_port_variance['x']],index=tickers).T.to_numpy().shape[1]):\n",
    "    if pd.DataFrame([round(x,2) for x in min_port_variance['x']],index=tickers).T.to_numpy().squeeze()[i] != 0:\n",
    "        asset.append(data3.columns.levels[0][i])\n",
    "\n",
    "tickers = list(set(asset))\n",
    "print(tickers)"
   ]
  },
  {
   "cell_type": "code",
   "execution_count": 81,
   "metadata": {},
   "outputs": [
    {
     "data": {
      "text/plain": [
       "70"
      ]
     },
     "execution_count": 81,
     "metadata": {},
     "output_type": "execute_result"
    }
   ],
   "source": [
    "len(tickers)"
   ]
  },
  {
   "cell_type": "code",
   "execution_count": 82,
   "metadata": {},
   "outputs": [
    {
     "data": {
      "text/plain": [
       "['11 BIT STUDIOS SPOLKA AKCYJNA',\n",
       " '3RGAMES SPOLKA AKCYJNA',\n",
       " 'AB NOVATURAS',\n",
       " 'AB SPOLKA AKCYJNA',\n",
       " 'ACTION SPOLKA AKCYJNA',\n",
       " 'ADIUVO INVESTMENTS SPOLKA AKCYJNA',\n",
       " 'AGORA SPOLKA AKCYJNA',\n",
       " 'AGROTON PUBLIC LIMITED',\n",
       " 'AILLERON SPOLKA AKCYJNA',\n",
       " 'AIRWAY MEDIX SPOLKA AKCYJNA',\n",
       " 'ALIOR BANK SPOLKA AKCYJNA',\n",
       " 'ALL IN! GAMES SPOLKA AKCYJNA',\n",
       " 'ALLEGRO.EU SOCIÉTÉ ANONYME',\n",
       " 'ALTA SPOLKA AKCYJNA',\n",
       " 'ALTUS SPOLKA AKCYJNA',\n",
       " 'AMBRA SPOLKA AKCYJNA',\n",
       " 'AMICA WRONKI SPOLKA AKCYJNA',\n",
       " 'AMREST HOLDINGS SE',\n",
       " 'ANSWEAR.COM SPOLKA AKCYJNA',\n",
       " 'APATOR SPOLKA AKCYJNA',\n",
       " 'APS ENERGIA SPOLKA AKCYJNA',\n",
       " 'ARTIFEX MUNDI SPOLKA AKCYJNA',\n",
       " 'ASBISC ENTERPRISES PLC',\n",
       " 'ASTARTA HOLDING N.V.',\n",
       " 'ATAL SPOLKA AKCYJNA',\n",
       " 'ATENDE SPOLKA AKCYJNA',\n",
       " 'ATLANTIS SE',\n",
       " 'ATM GRUPA SPOLKA AKCYJNA',\n",
       " 'ATREM SPOLKA AKCYJNA',\n",
       " 'AUTO PARTNER SPOLKA AKCYJNA',\n",
       " 'BANCO SANTANDER S.A.',\n",
       " 'BANK HANDLOWY W WARSZAWIE SPOLKA AKCYJNA',\n",
       " 'BANK MILLENNIUM SPOLKA AKCYJNA',\n",
       " 'BANK OCHRONY ŚRODOWISKA SPOLKA AKCYJNA',\n",
       " 'BANK POLSKA KASA OPIEKI SPOLKA AKCYJNA',\n",
       " 'BENEFIT SYSTEMS SPOLKA AKCYJNA',\n",
       " 'BIG CHEESE STUDIO SPOLKA AKCYJNA',\n",
       " 'BIOMAXIMA SPOLKA AKCYJNA',\n",
       " 'BIOMED-LUBLIN WYTWORNIA SUROWIC I SZCZEPIONEK SPOLKA AKCYJNA W RESTRUKTURYZACJI',\n",
       " 'BIOTON SPOLKA AKCYJNA',\n",
       " 'BNP PARIBAS BANK POLSKA SPOLKA AKCYJNA',\n",
       " 'BOOMBIT SPOLKA AKCYJNA',\n",
       " 'BRAND 24 SPOLKA AKCYJNA',\n",
       " 'BRITISH AUTOMOTIVE HOLDING SPOLKA AKCYJNA',\n",
       " 'BUDIMEX SPOLKA AKCYJNA',\n",
       " 'CAPTOR THERAPEUTICS SPOLKA AKCYJNA',\n",
       " 'CAVATINA HOLDING SPOLKA AKCYJNA',\n",
       " 'CDRL SPOLKA AKCYJNA',\n",
       " 'CELON PHARMA SPOLKA AKCYJNA',\n",
       " 'CI GAMES SPOLKA AKCYJNA',\n",
       " 'CITY SERVICE SE',\n",
       " 'COAL ENERGY S.A.',\n",
       " 'COGNOR SPOLKA AKCYJNA',\n",
       " 'COMARCH SPOLKA AKCYJNA',\n",
       " 'COMPERIA.PL SPOLKA AKCYJNA',\n",
       " 'COMPREMUM SPOLKA AKCYJNA',\n",
       " 'CPD SPOLKA AKCYJNA',\n",
       " 'CREEPY JAR SPOLKA AKCYJNA',\n",
       " 'CREOTECH INSTRUMENTS SPOLKA AKCYJNA',\n",
       " 'DADELO SPOLKA AKCYJNA',\n",
       " 'DATAWALK SPOLKA AKCYJNA',\n",
       " 'DECORA SPOLKA AKCYJNA',\n",
       " 'DEKPOL SPOLKA AKCYJNA',\n",
       " 'DELKO SPOLKA AKCYJNA',\n",
       " 'DEVELIA SPOLKA AKCYJNA',\n",
       " 'DOM DEVELOPMENT SPOLKA AKCYJNA',\n",
       " 'ECHO INVESTMENT SPOLKA AKCYJNA',\n",
       " 'ED INVEST SPOLKA AKCYJNA',\n",
       " 'EKO EXPORT SPOLKA AKCYJNA',\n",
       " 'ELEKTROCIEPLOWNIA BĘDZIN SPOLKA AKCYJNA',\n",
       " 'ELEKTROTIM SPOLKA AKCYJNA',\n",
       " 'ELKOP SPOLKA AKCYJNA',\n",
       " 'ENEA SPOLKA AKCYJNA',\n",
       " 'ENTER AIR SPOLKA AKCYJNA',\n",
       " 'ERBUD SPOLKA AKCYJNA',\n",
       " 'ESOTIQ & HENDERSON SPOLKA AKCYJNA',\n",
       " 'EUROCASH SPOLKA AKCYJNA',\n",
       " 'EUROHOLD BULGARIA AD',\n",
       " 'EUROTEL SPOLKA AKCYJNA',\n",
       " 'FABRYKA FARB I LAKIEROW ŚNIEŻKA SPOLKA AKCYJNA',\n",
       " 'FABRYKI MEBLI FORTE SPOLKA AKCYJNA',\n",
       " 'FABRYKI SPRZĘTU I NARZĘDZI GORNICZYCH GRUPA KAPITALOWA FASING SPOLKA AKCYJNA',\n",
       " 'FAMUR SPOLKA AKCYJNA',\n",
       " 'FEERUM SPOLKA AKCYJNA',\n",
       " 'FERRO SPOLKA AKCYJNA',\n",
       " 'GAMES OPERATORS SPOLKA AKCYJNA',\n",
       " 'GAMING FACTORY SPOLKA AKCYJNA',\n",
       " 'GETIN NOBLE BANK SPOLKA AKCYJNA',\n",
       " 'GIELDA PRAW MAJĄTKOWYCH VINDEXUS SPOLKA AKCYJNA',\n",
       " 'GOBARTO SPOLKA AKCYJNA',\n",
       " 'GREENX METALS LIMITED',\n",
       " 'GROCLIN SPOLKA AKCYJNA',\n",
       " 'GRODNO SPOLKA AKCYJNA',\n",
       " 'GRUPA PRACUJ SPOLKA AKCYJNA',\n",
       " 'HARPER HYGIENICS SPOLKA AKCYJNA',\n",
       " 'HELIO SPOLKA AKCYJNA',\n",
       " 'HERKULES SPOLKA AKCYJNA',\n",
       " 'HM INWEST SPOLKA AKCYJNA',\n",
       " 'HUUUGE, INC.',\n",
       " 'IMPERIO ALTERNATYWNA SPOLKA AKCYJNA',\n",
       " 'IMS SPOLKA AKCYJNA',\n",
       " 'INC SPOLKA AKCYJNA',\n",
       " 'ING BANK ŚLĄSKI SPOLKA AKCYJNA',\n",
       " 'INPRO SPOLKA AKCYJNA',\n",
       " 'INTER CARS SPOLKA AKCYJNA',\n",
       " 'INTERSPORT POLSKA SPOLKA AKCYJNA',\n",
       " 'INTROL SPOLKA AKCYJNA',\n",
       " 'INVESTMENT FRIENDS',\n",
       " 'INVESTMENT FRIENDS CAPITAL SE',\n",
       " 'IPOPEMA SECURITIES SPOLKA AKCYJNA',\n",
       " 'IZOSTAL SPOLKA AKCYJNA',\n",
       " 'K2 HOLDING SPOLKA AKCYJNA',\n",
       " 'KCI SPOLKA AKCYJNA',\n",
       " 'KERNEL HOLDING S.A.',\n",
       " 'KINO POLSKA TV SPOLKA AKCYJNA',\n",
       " 'KRUK SPOLKA AKCYJNA',\n",
       " 'KRYNICA VITAMIN SPOLKA AKCYJNA',\n",
       " 'KSG AGRO S.A.',\n",
       " 'LARQ SPOLKA AKCYJNA',\n",
       " 'LENTEX SPOLKA AKCYJNA',\n",
       " 'LIVECHAT SOFTWARE SPOLKA AKCYJNA',\n",
       " 'LOKUM DEWELOPER SPOLKA AKCYJNA',\n",
       " 'LPP SPOLKA AKCYJNA',\n",
       " 'LSI SOFTWARE SPOLKA AKCYJNA',\n",
       " 'LUBELSKI WĘGIEL BOGDANKA SPOLKA AKCYJNA',\n",
       " 'MABION SPOLKA AKCYJNA',\n",
       " 'MAGNA POLONIA SPOLKA AKCYJNA',\n",
       " 'MAKARONY POLSKIE SPOLKA AKCYJNA',\n",
       " 'MANGATA HOLDING SPOLKA AKCYJNA',\n",
       " 'MARVIPOL DEVELOPMENT SPOLKA AKCYJNA',\n",
       " 'MAXCOM SPOLKA AKCYJNA',\n",
       " 'MBANK SPOLKA AKCYJNA',\n",
       " 'MCI CAPITAL ASI SPOLKA AKCYJNA',\n",
       " 'MDI ENERGIA SPOLKA AKCYJNA',\n",
       " 'MEDICALGORITHMICS SPOLKA AKCYJNA',\n",
       " 'MEDINICE SPOLKA AKCYJNA',\n",
       " 'MERCATOR MEDICAL SPOLKA AKCYJNA',\n",
       " 'MERCOR SPOLKA AKCYJNA',\n",
       " 'MEX POLSKA SPOLKA AKCYJNA',\n",
       " 'MFO SPOLKA AKCYJNA',\n",
       " 'MILKILAND N.V.',\n",
       " 'MIRACULUM SPOLKA AKCYJNA',\n",
       " 'MIRBUD SPOLKA AKCYJNA',\n",
       " 'ML SYSTEM SPOLKA AKCYJNA',\n",
       " 'MO-BRUK SPOLKA AKCYJNA',\n",
       " 'MOL MAGYAR OLAJ - ES GAZIPARI NYILVANOSAN MUKODO RESZVENYTARSASAG',\n",
       " 'MOLECURE SPOLKA AKCYJNA',\n",
       " 'MONNARI TRADE SPOLKA AKCYJNA',\n",
       " 'MOSTOSTAL PLOCK SPOLKA AKCYJNA',\n",
       " 'MOSTOSTAL WARSZAWA SPOLKA AKCYJNA',\n",
       " 'MOSTOSTAL ZABRZE SPOLKA AKCYJNA',\n",
       " 'MUZA SPOLKA AKCYJNA',\n",
       " 'NANOGROUP SPOLKA AKCYJNA',\n",
       " 'NEUCA SPOLKA AKCYJNA',\n",
       " 'NEWAG SPOLKA AKCYJNA',\n",
       " 'NEXITY GLOBAL SPOLKA AKCYJNA',\n",
       " 'NPL NOVA SPOLKA AKCYJNA',\n",
       " 'NTT SYSTEM SPOLKA AKCYJNA',\n",
       " 'ODLEWNIE POLSKIE SPOLKA AKCYJNA',\n",
       " 'ONDE SPOLKA AKCYJNA',\n",
       " 'OPONEO.PL SPOLKA AKCYJNA',\n",
       " 'OPTEAM SPOLKA AKCYJNA',\n",
       " 'P.A. NOVA SPOLKA AKCYJNA',\n",
       " 'PAMAPOL SPOLKA AKCYJNA',\n",
       " 'PATENTUS SPOLKA AKCYJNA',\n",
       " 'PCF GROUP SPOLKA AKCYJNA',\n",
       " 'PEPCO GROUP N.V.',\n",
       " 'PGE POLSKA GRUPA ENERGETYCZNA SPOLKA AKCYJNA',\n",
       " 'PHARMENA SPOLKA AKCYJNA',\n",
       " 'PHOTON ENERGY N.V.',\n",
       " 'PKP CARGO SPOLKA AKCYJNA',\n",
       " 'PLAYWAY SPOLKA AKCYJNA',\n",
       " 'POLENERGIA SPOLKA AKCYJNA',\n",
       " 'POLIMEX - MOSTOSTAL SPOLKA AKCYJNA',\n",
       " 'POLSKI HOLDING NIERUCHOMOŚCI SPOLKA AKCYJNA',\n",
       " 'POLTREG SPOLKA AKCYJNA',\n",
       " 'POLWAX SPOLKA AKCYJNA',\n",
       " 'POWSZECHNA KASA OSZCZĘDNOŚCI BANK POLSKI SPOLKA AKCYJNA',\n",
       " 'POWSZECHNY ZAKLAD UBEZPIECZEŃ SPOLKA AKCYJNA',\n",
       " 'POZNAŃSKA KORPORACJA BUDOWLANA PEKABEX SPOLKA AKCYJNA',\n",
       " 'PRZEDSIĘBIORSTWO MODERNIZACJI URZĄDZEŃ ENERGETYCZNYCH REMAK SPOLKA AKCYJNA',\n",
       " 'PRZEDSIĘBIORSTWO PRODUKCYJNO HANDLOWE KOMPAP SPOLKA AKCYJNA',\n",
       " 'PRZEDSIĘBIORSTWO PRZEMYSLU SPOŻYWCZEGO PEPEES SPOLKA AKCYJNA',\n",
       " 'PUNKPIRATES SPOLKA AKCYJNA',\n",
       " 'PURE BIOLOGICS SPOLKA AKCYJNA',\n",
       " 'PZ CORMAY SPOLKA AKCYJNA',\n",
       " 'QUERCUS TOWARZYSTWO FUNDUSZY INWESTYCYJNYCH SPOLKA AKCYJNA',\n",
       " 'R22 SPOLKA AKCYJNA',\n",
       " 'RAFAKO SPOLKA AKCYJNA',\n",
       " 'RAINBOW TOURS SPOLKA AKCYJNA',\n",
       " 'RANK PROGRESS SPOLKA AKCYJNA',\n",
       " 'RAWLPLUG SPOLKA AKCYJNA',\n",
       " 'RELPOL SPOLKA AKCYJNA',\n",
       " 'RESBUD SE',\n",
       " 'RYVU THERAPEUTICS SPOLKA AKCYJNA',\n",
       " 'SANOK RUBBER COMPANY SPOLKA AKCYJNA',\n",
       " 'SANTANDER BANK POLSKA SPOLKA AKCYJNA',\n",
       " 'SANWIL HOLDING SPOLKA AKCYJNA',\n",
       " 'SATIS GROUP SPOLKA AKCYJNA',\n",
       " 'SECO/WARWICK SPOLKA AKCYJNA',\n",
       " 'SEKO SPOLKA AKCYJNA',\n",
       " 'SELENA FM SPOLKA AKCYJNA',\n",
       " 'SELVITA SPOLKA AKCYJNA',\n",
       " 'SERINUS ENERGY PLC',\n",
       " 'SFINKS POLSKA SPOLKA AKCYJNA',\n",
       " 'SHOPER SPOLKA AKCYJNA',\n",
       " 'SIMFABRIC SPOLKA AKCYJNA',\n",
       " 'SKARBIEC HOLDING SPOLKA AKCYJNA',\n",
       " 'SKOTAN SPOLKA AKCYJNA',\n",
       " 'SKYLINE INVESTMENT SPOLKA AKCYJNA',\n",
       " 'SONEL SPOLKA AKCYJNA',\n",
       " 'SPYROSOFT SPOLKA AKCYJNA',\n",
       " 'STALPRODUKT SPOLKA AKCYJNA',\n",
       " 'STALPROFIL SPOLKA AKCYJNA',\n",
       " 'STS HOLDING SPOLKA AKCYJNA',\n",
       " 'SYNEKTIK SPOLKA AKCYJNA',\n",
       " 'TARCZYŃSKI SPOLKA AKCYJNA',\n",
       " 'TEN SQUARE GAMES SPOLKA AKCYJNA',\n",
       " 'TESGAS SPOLKA AKCYJNA',\n",
       " 'TIM SPOLKA AKCYJNA',\n",
       " 'TOWER INVESTMENTS SPOLKA AKCYJNA',\n",
       " 'TOYA SPOLKA AKCYJNA',\n",
       " 'TRAKCJA PRKII SPOLKA AKCYJNA',\n",
       " 'ULMA CONSTRUCCION POLSKA SPOLKA AKCYJNA',\n",
       " 'ULTIMATE GAMES SPOLKA AKCYJNA',\n",
       " 'UNIBEP SPOLKA AKCYJNA',\n",
       " 'UNICREDIT S.P.A.',\n",
       " 'UNIMA 2000 SYSTEMY TELEINFORMATYCZNE SPOLKA AKCYJNA',\n",
       " 'UNIMOT SPOLKA AKCYJNA',\n",
       " 'VENTURE INC ASI SPOLKA AKCYJNA',\n",
       " 'VERCOM SPOLKA AKCYJNA',\n",
       " 'VIGO PHOTONICS SPOLKA AKCYJNA',\n",
       " 'VISTAL GDYNIA SPOLKA AKCYJNA',\n",
       " 'VIVID GAMES SPOLKA AKCYJNA',\n",
       " 'VOXEL SPOLKA AKCYJNA',\n",
       " 'WARIMPEX FINANZ- UND BETEILIGUNGS AG',\n",
       " 'WASKO SPOLKA AKCYJNA',\n",
       " 'WAWEL SPOLKA AKCYJNA',\n",
       " 'WIELTON SPOLKA AKCYJNA',\n",
       " 'WIRTUALNA POLSKA HOLDING SPOLKA AKCYJNA',\n",
       " 'WOJAS SPOLKA AKCYJNA',\n",
       " 'X-TRADE BROKERS DOM MAKLERSKI SPOLKA AKCYJNA',\n",
       " 'XTPL SPOLKA AKCYJNA',\n",
       " 'ZAKLADY MAGNEZYTOWE ROPCZYCE SPOLKA AKCYJNA',\n",
       " 'ZAKLADY PRZEMYSLU CUKIERNICZEGO OTMUCHOW SPOLKA AKCYJNA',\n",
       " 'ZAKLADY URZĄDZEŃ KOMPUTEROWYCH ELZAB SPOLKA AKCYJNA',\n",
       " 'ZAMET INDUSTRY SPOLKA AKCYJNA',\n",
       " 'ZESPOL ELEKTROCIEPLOWNI WROCLAWSKICH KOGENERACJA SPOLKA AKCYJNA',\n",
       " 'ZESPOL ELEKTROWNI PĄTNOW-ADAMOW-KONIN SPOLKA AKCYJNA',\n",
       " 'ZUE SPOLKA AKCYJNA']"
      ]
     },
     "execution_count": 82,
     "metadata": {},
     "output_type": "execute_result"
    }
   ],
   "source": [
    "total_tickers = list(set(df.ticker.to_list()))\n",
    "tickers_to_drop = [x for x in total_tickers if x not in tickers]\n",
    "tickers_to_drop.sort()\n",
    "not_to_remove = ['GRUPA AZOTY SPOLKA AKCYJNA', 'CIECH SPOLKA AKCYJNA', 'GRUPA KĘTY SPOLKA AKCYJNA', 'CD PROJEKT SPOLKA AKCYJNA', \\\n",
    "    'TAURON POLSKA ENERGIA SPOLKA AKCYJNA', 'GRUPA AZOTY ZAKLADY CHEMICZNE POLICE SPOLKA AKCYJNA',  'INDUSTRIAL MILK COMPANY S.A.', \\\n",
    "    'JASTRZĘBSKA SPOLKA WĘGLOWA SPOLKA AKCYJNA', 'TORPOL SPOLKA AKCYJNA',  'POLSKIE GORNICTWO NAFTOWE I GAZOWNICTWO SPOLKA AKCYJNA',  \\\n",
    "    'KGHM POLSKA MIEDŹ SPOLKA AKCYJNA',  'POLSKI KONCERN NAFTOWY ORLEN SPOLKA AKCYJNA',  'CCC SPOLKA AKCYJNA', 'ALUMETAL SPOLKA AKCYJNA',  \\\n",
    "    'PGF POLSKA GRUPA FOTOWOLTAICZNA SPOLKA AKCYJNA', 'PCC ROKITA SPOLKA AKCYJNA']\n",
    "\n",
    "for i in not_to_remove:\n",
    "    try:\n",
    "        tickers_to_drop.remove(i)\n",
    "    except ValueError:\n",
    "        continue\n",
    "    \n",
    "tickers_to_drop"
   ]
  },
  {
   "cell_type": "code",
   "execution_count": 83,
   "metadata": {},
   "outputs": [
    {
     "data": {
      "text/html": [
       "<div>\n",
       "<style scoped>\n",
       "    .dataframe tbody tr th:only-of-type {\n",
       "        vertical-align: middle;\n",
       "    }\n",
       "\n",
       "    .dataframe tbody tr th {\n",
       "        vertical-align: top;\n",
       "    }\n",
       "\n",
       "    .dataframe thead th {\n",
       "        text-align: right;\n",
       "    }\n",
       "</style>\n",
       "<table border=\"1\" class=\"dataframe\">\n",
       "  <thead>\n",
       "    <tr style=\"text-align: right;\">\n",
       "      <th></th>\n",
       "      <th>date</th>\n",
       "      <th>ticker</th>\n",
       "      <th>open</th>\n",
       "      <th>MAX</th>\n",
       "      <th>MIN</th>\n",
       "      <th>close</th>\n",
       "      <th>volume</th>\n",
       "      <th>trade</th>\n",
       "    </tr>\n",
       "  </thead>\n",
       "  <tbody>\n",
       "    <tr>\n",
       "      <th>134787</th>\n",
       "      <td>2021-02-15</td>\n",
       "      <td>ASSECO BUSINESS SOLUTIONS SPOLKA AKCYJNA</td>\n",
       "      <td>39.0</td>\n",
       "      <td>39.4</td>\n",
       "      <td>38.6</td>\n",
       "      <td>39.2</td>\n",
       "      <td>4632.0</td>\n",
       "      <td>181121.0</td>\n",
       "    </tr>\n",
       "    <tr>\n",
       "      <th>134806</th>\n",
       "      <td>2021-02-12</td>\n",
       "      <td>ASSECO BUSINESS SOLUTIONS SPOLKA AKCYJNA</td>\n",
       "      <td>38.6</td>\n",
       "      <td>38.6</td>\n",
       "      <td>38.0</td>\n",
       "      <td>38.6</td>\n",
       "      <td>1055.0</td>\n",
       "      <td>40562.0</td>\n",
       "    </tr>\n",
       "    <tr>\n",
       "      <th>134826</th>\n",
       "      <td>2021-02-11</td>\n",
       "      <td>ASSECO BUSINESS SOLUTIONS SPOLKA AKCYJNA</td>\n",
       "      <td>38.6</td>\n",
       "      <td>38.6</td>\n",
       "      <td>38.0</td>\n",
       "      <td>38.4</td>\n",
       "      <td>794.0</td>\n",
       "      <td>30342.0</td>\n",
       "    </tr>\n",
       "    <tr>\n",
       "      <th>134846</th>\n",
       "      <td>2021-02-10</td>\n",
       "      <td>ASSECO BUSINESS SOLUTIONS SPOLKA AKCYJNA</td>\n",
       "      <td>38.0</td>\n",
       "      <td>38.2</td>\n",
       "      <td>37.8</td>\n",
       "      <td>38.2</td>\n",
       "      <td>626.0</td>\n",
       "      <td>23784.0</td>\n",
       "    </tr>\n",
       "    <tr>\n",
       "      <th>134866</th>\n",
       "      <td>2021-02-09</td>\n",
       "      <td>ASSECO BUSINESS SOLUTIONS SPOLKA AKCYJNA</td>\n",
       "      <td>38.2</td>\n",
       "      <td>38.2</td>\n",
       "      <td>37.6</td>\n",
       "      <td>38.0</td>\n",
       "      <td>1783.0</td>\n",
       "      <td>67315.0</td>\n",
       "    </tr>\n",
       "  </tbody>\n",
       "</table>\n",
       "</div>"
      ],
      "text/plain": [
       "             date                                    ticker  open   MAX   MIN  \\\n",
       "134787 2021-02-15  ASSECO BUSINESS SOLUTIONS SPOLKA AKCYJNA  39.0  39.4  38.6   \n",
       "134806 2021-02-12  ASSECO BUSINESS SOLUTIONS SPOLKA AKCYJNA  38.6  38.6  38.0   \n",
       "134826 2021-02-11  ASSECO BUSINESS SOLUTIONS SPOLKA AKCYJNA  38.6  38.6  38.0   \n",
       "134846 2021-02-10  ASSECO BUSINESS SOLUTIONS SPOLKA AKCYJNA  38.0  38.2  37.8   \n",
       "134866 2021-02-09  ASSECO BUSINESS SOLUTIONS SPOLKA AKCYJNA  38.2  38.2  37.6   \n",
       "\n",
       "        close  volume     trade  \n",
       "134787   39.2  4632.0  181121.0  \n",
       "134806   38.6  1055.0   40562.0  \n",
       "134826   38.4   794.0   30342.0  \n",
       "134846   38.2   626.0   23784.0  \n",
       "134866   38.0  1783.0   67315.0  "
      ]
     },
     "execution_count": 83,
     "metadata": {},
     "output_type": "execute_result"
    }
   ],
   "source": [
    "df = df[~df['ticker'].isin(tickers_to_drop)]\n",
    "df.tail()"
   ]
  },
  {
   "cell_type": "code",
   "execution_count": 84,
   "metadata": {},
   "outputs": [],
   "source": [
    "df_list = []\n",
    "for i in df.ticker.unique():\n",
    "    df_x = df.loc[df[\"ticker\"]==i] \n",
    "    df_x.name = i\n",
    "    df_x=df_x.drop_duplicates()\n",
    "    df_to_append=df_x.set_index(\"date\")\n",
    "    df_list.append(df_to_append[[\"ticker\",\"open\", \"MAX\", \"MIN\", \"close\", \"trade\"]])\n",
    "    "
   ]
  },
  {
   "cell_type": "code",
   "execution_count": 85,
   "metadata": {},
   "outputs": [
    {
     "data": {
      "text/plain": [
       "[('GRUPA AZOTY SPOLKA AKCYJNA',\n",
       "  Timestamp('2021-01-04 00:00:00'),\n",
       "  Timestamp('2022-09-09 00:00:00')),\n",
       " ('ZAKLAD BUDOWY MASZYN ZREMB-CHOJNICE SPOLKA AKCYJNA',\n",
       "  Timestamp('2021-01-04 00:00:00'),\n",
       "  Timestamp('2022-09-09 00:00:00')),\n",
       " ('WITTCHEN SPOLKA AKCYJNA',\n",
       "  Timestamp('2021-01-04 00:00:00'),\n",
       "  Timestamp('2022-09-09 00:00:00')),\n",
       " ('VISTULA RETAIL GROUP SPOLKA AKCYJNA',\n",
       "  Timestamp('2021-01-04 00:00:00'),\n",
       "  Timestamp('2022-09-09 00:00:00')),\n",
       " ('VOTUM SPOLKA AKCYJNA',\n",
       "  Timestamp('2021-01-04 00:00:00'),\n",
       "  Timestamp('2022-09-09 00:00:00')),\n",
       " ('TRANS POLONIA SPOLKA AKCYJNA',\n",
       "  Timestamp('2021-01-04 00:00:00'),\n",
       "  Timestamp('2022-09-09 00:00:00')),\n",
       " ('TAURON POLSKA ENERGIA SPOLKA AKCYJNA',\n",
       "  Timestamp('2021-01-04 00:00:00'),\n",
       "  Timestamp('2022-09-09 00:00:00')),\n",
       " ('TORPOL SPOLKA AKCYJNA',\n",
       "  Timestamp('2021-01-04 00:00:00'),\n",
       "  Timestamp('2022-09-09 00:00:00')),\n",
       " ('STALEXPORT AUTOSTRADY SPOLKA AKCYJNA',\n",
       "  Timestamp('2021-01-04 00:00:00'),\n",
       "  Timestamp('2022-09-09 00:00:00')),\n",
       " ('SUNEX SPOLKA AKCYJNA',\n",
       "  Timestamp('2021-01-04 00:00:00'),\n",
       "  Timestamp('2022-09-09 00:00:00')),\n",
       " ('SYGNITY SPOLKA AKCYJNA',\n",
       "  Timestamp('2021-01-04 00:00:00'),\n",
       "  Timestamp('2022-09-09 00:00:00')),\n",
       " ('PROTEKTOR SPOLKA AKCYJNA',\n",
       "  Timestamp('2021-01-04 00:00:00'),\n",
       "  Timestamp('2022-09-09 00:00:00')),\n",
       " ('PROCHEM SPOLKA AKCYJNA',\n",
       "  Timestamp('2021-01-04 00:00:00'),\n",
       "  Timestamp('2022-09-09 00:00:00')),\n",
       " ('POLSKI KONCERN NAFTOWY ORLEN SPOLKA AKCYJNA',\n",
       "  Timestamp('2021-01-04 00:00:00'),\n",
       "  Timestamp('2022-09-09 00:00:00')),\n",
       " ('PGF POLSKA GRUPA FOTOWOLTAICZNA SPOLKA AKCYJNA',\n",
       "  Timestamp('2021-01-04 00:00:00'),\n",
       "  Timestamp('2022-09-09 00:00:00')),\n",
       " ('POLSKIE GORNICTWO NAFTOWE I GAZOWNICTWO SPOLKA AKCYJNA',\n",
       "  Timestamp('2021-01-04 00:00:00'),\n",
       "  Timestamp('2022-09-09 00:00:00')),\n",
       " ('PCC ROKITA SPOLKA AKCYJNA',\n",
       "  Timestamp('2021-01-04 00:00:00'),\n",
       "  Timestamp('2022-09-09 00:00:00')),\n",
       " ('ORANGE POLSKA SPOLKA AKCYJNA',\n",
       "  Timestamp('2021-01-04 00:00:00'),\n",
       "  Timestamp('2022-09-09 00:00:00')),\n",
       " ('MENNICA POLSKA SPOLKA AKCYJNA',\n",
       "  Timestamp('2021-01-04 00:00:00'),\n",
       "  Timestamp('2022-09-09 00:00:00')),\n",
       " ('MLP GROUP SPOLKA AKCYJNA',\n",
       "  Timestamp('2021-01-04 00:00:00'),\n",
       "  Timestamp('2022-09-09 00:00:00')),\n",
       " ('LENA LIGHTING SPOLKA AKCYJNA',\n",
       "  Timestamp('2021-01-04 00:00:00'),\n",
       "  Timestamp('2022-09-09 00:00:00')),\n",
       " ('LUBAWA SPOLKA AKCYJNA',\n",
       "  Timestamp('2021-01-04 00:00:00'),\n",
       "  Timestamp('2022-09-09 00:00:00')),\n",
       " ('GRUPA KĘTY SPOLKA AKCYJNA',\n",
       "  Timestamp('2021-01-04 00:00:00'),\n",
       "  Timestamp('2022-09-09 00:00:00')),\n",
       " ('KGHM POLSKA MIEDŹ SPOLKA AKCYJNA',\n",
       "  Timestamp('2021-01-04 00:00:00'),\n",
       "  Timestamp('2022-09-09 00:00:00')),\n",
       " ('JASTRZĘBSKA SPOLKA WĘGLOWA SPOLKA AKCYJNA',\n",
       "  Timestamp('2021-01-04 00:00:00'),\n",
       "  Timestamp('2022-09-09 00:00:00')),\n",
       " ('INDUSTRIAL MILK COMPANY S.A.',\n",
       "  Timestamp('2021-01-04 00:00:00'),\n",
       "  Timestamp('2022-09-09 00:00:00')),\n",
       " ('IFIRMA SPOLKA AKCYJNA',\n",
       "  Timestamp('2021-01-04 00:00:00'),\n",
       "  Timestamp('2022-09-09 00:00:00')),\n",
       " ('PRZEDSIĘBIORSTWO HYDRAULIKI SILOWEJ HYDROTOR S.A.',\n",
       "  Timestamp('2021-01-04 00:00:00'),\n",
       "  Timestamp('2022-09-09 00:00:00')),\n",
       " ('GETIN HOLDING SPOLKA AKCYJNA',\n",
       "  Timestamp('2021-01-04 00:00:00'),\n",
       "  Timestamp('2022-09-09 00:00:00')),\n",
       " ('GIELDA PAPIEROW WARTOŚCIOWYCH W WARSZAWIE SPOLKA AKCYJNA',\n",
       "  Timestamp('2021-01-04 00:00:00'),\n",
       "  Timestamp('2022-09-09 00:00:00')),\n",
       " ('DINO POLSKA SPOLKA AKCYJNA',\n",
       "  Timestamp('2021-01-04 00:00:00'),\n",
       "  Timestamp('2022-09-09 00:00:00')),\n",
       " ('FIRMA OPONIARSKA DĘBICA SPOLKA AKCYJNA',\n",
       "  Timestamp('2021-01-04 00:00:00'),\n",
       "  Timestamp('2022-09-09 00:00:00')),\n",
       " ('CYFROWY POLSAT SPOLKA AKCYJNA',\n",
       "  Timestamp('2021-01-04 00:00:00'),\n",
       "  Timestamp('2022-09-09 00:00:00')),\n",
       " ('COMP SPOLKA AKCYJNA',\n",
       "  Timestamp('2021-01-04 00:00:00'),\n",
       "  Timestamp('2022-09-09 00:00:00')),\n",
       " ('CIECH SPOLKA AKCYJNA',\n",
       "  Timestamp('2021-01-04 00:00:00'),\n",
       "  Timestamp('2022-09-09 00:00:00')),\n",
       " ('CD PROJEKT SPOLKA AKCYJNA',\n",
       "  Timestamp('2021-01-04 00:00:00'),\n",
       "  Timestamp('2022-09-09 00:00:00')),\n",
       " ('CCC SPOLKA AKCYJNA',\n",
       "  Timestamp('2021-01-04 00:00:00'),\n",
       "  Timestamp('2022-09-09 00:00:00')),\n",
       " ('BORYSZEW SPOLKA AKCYJNA',\n",
       "  Timestamp('2021-01-04 00:00:00'),\n",
       "  Timestamp('2022-09-09 00:00:00')),\n",
       " ('BOWIM SPOLKA AKCYJNA',\n",
       "  Timestamp('2021-01-04 00:00:00'),\n",
       "  Timestamp('2022-09-09 00:00:00')),\n",
       " ('BUMECH SPOLKA AKCYJNA',\n",
       "  Timestamp('2021-01-04 00:00:00'),\n",
       "  Timestamp('2022-09-09 00:00:00')),\n",
       " ('ARCTIC PAPER SPOLKA AKCYJNA',\n",
       "  Timestamp('2021-01-04 00:00:00'),\n",
       "  Timestamp('2022-09-09 00:00:00')),\n",
       " ('ASSECO SOUTH EASTERN EUROPE SPOLKA AKCYJNA',\n",
       "  Timestamp('2021-01-04 00:00:00'),\n",
       "  Timestamp('2022-09-09 00:00:00')),\n",
       " ('APLISENS SPOLKA AKCYJNA',\n",
       "  Timestamp('2021-01-04 00:00:00'),\n",
       "  Timestamp('2022-09-09 00:00:00')),\n",
       " ('ALUMETAL SPOLKA AKCYJNA',\n",
       "  Timestamp('2021-01-04 00:00:00'),\n",
       "  Timestamp('2022-09-09 00:00:00')),\n",
       " ('ASSECO POLAND SPOLKA AKCYJNA',\n",
       "  Timestamp('2021-01-04 00:00:00'),\n",
       "  Timestamp('2022-09-09 00:00:00')),\n",
       " ('ASSECO BUSINESS SOLUTIONS SPOLKA AKCYJNA',\n",
       "  Timestamp('2021-02-09 00:00:00'),\n",
       "  Timestamp('2022-09-09 00:00:00')),\n",
       " ('KRKA. TOVARNA ZDRAVIL. D.D.. NOVO MESTO',\n",
       "  Timestamp('2021-01-04 00:00:00'),\n",
       "  Timestamp('2022-09-09 00:00:00')),\n",
       " ('GRUPA KAPITALOWA IMMOBILE SPOLKA AKCYJNA',\n",
       "  Timestamp('2021-01-04 00:00:00'),\n",
       "  Timestamp('2022-09-09 00:00:00')),\n",
       " ('DIGITAL NETWORK SPOLKA AKCYJNA',\n",
       "  Timestamp('2021-01-04 00:00:00'),\n",
       "  Timestamp('2022-09-09 00:00:00')),\n",
       " ('AC SPOLKA AKCYJNA',\n",
       "  Timestamp('2021-02-08 00:00:00'),\n",
       "  Timestamp('2022-09-09 00:00:00')),\n",
       " ('ČEZ. A.S.',\n",
       "  Timestamp('2021-01-04 00:00:00'),\n",
       "  Timestamp('2022-09-09 00:00:00')),\n",
       " ('BETACOM SPOLKA AKCYJNA',\n",
       "  Timestamp('2021-01-04 00:00:00'),\n",
       "  Timestamp('2022-09-09 00:00:00')),\n",
       " ('BBI DEVELOPMENT SPOLKA AKCYJNA',\n",
       "  Timestamp('2021-01-04 00:00:00'),\n",
       "  Timestamp('2022-09-09 00:00:00')),\n",
       " ('TALEX SPOLKA AKCYJNA',\n",
       "  Timestamp('2021-01-04 00:00:00'),\n",
       "  Timestamp('2022-09-09 00:00:00')),\n",
       " ('GRUPA AZOTY ZAKLADY CHEMICZNE POLICE SPOLKA AKCYJNA',\n",
       "  Timestamp('2021-01-04 00:00:00'),\n",
       "  Timestamp('2022-09-09 00:00:00')),\n",
       " ('ARTERIA SPOLKA AKCYJNA',\n",
       "  Timestamp('2021-01-04 00:00:00'),\n",
       "  Timestamp('2022-09-09 00:00:00')),\n",
       " ('GLOBE TRADE CENTRE SPOLKA AKCYJNA',\n",
       "  Timestamp('2021-02-03 00:00:00'),\n",
       "  Timestamp('2022-09-08 00:00:00')),\n",
       " ('ARCHICOM SPOLKA AKCYJNA',\n",
       "  Timestamp('2021-01-04 00:00:00'),\n",
       "  Timestamp('2022-09-09 00:00:00')),\n",
       " ('LIBET SPOLKA AKCYJNA',\n",
       "  Timestamp('2021-01-04 00:00:00'),\n",
       "  Timestamp('2022-09-09 00:00:00')),\n",
       " ('ZPUE SPOLKA AKCYJNA',\n",
       "  Timestamp('2021-01-04 00:00:00'),\n",
       "  Timestamp('2022-09-09 00:00:00')),\n",
       " ('OT LOGISTICS SPOLKA AKCYJNA',\n",
       "  Timestamp('2021-01-04 00:00:00'),\n",
       "  Timestamp('2022-09-09 00:00:00')),\n",
       " ('INSTAL KRAKOW SPOLKA AKCYJNA',\n",
       "  Timestamp('2021-01-04 00:00:00'),\n",
       "  Timestamp('2022-09-09 00:00:00')),\n",
       " ('GI GROUP POLAND SPOLKA AKCYJNA',\n",
       "  Timestamp('2021-01-29 00:00:00'),\n",
       "  Timestamp('2022-09-09 00:00:00')),\n",
       " ('DROZAPOL-PROFIL SPOLKA AKCYJNA',\n",
       "  Timestamp('2021-02-01 00:00:00'),\n",
       "  Timestamp('2022-09-09 00:00:00')),\n",
       " ('PROJPRZEM MAKRUM SPOLKA AKCYJNA',\n",
       "  Timestamp('2021-01-04 00:00:00'),\n",
       "  Timestamp('2022-09-09 00:00:00')),\n",
       " ('SUWARY SPOLKA AKCYJNA',\n",
       "  Timestamp('2021-01-22 00:00:00'),\n",
       "  Timestamp('2022-09-09 00:00:00')),\n",
       " ('MARIE BRIZARD WINE & SPIRITS',\n",
       "  Timestamp('2021-01-22 00:00:00'),\n",
       "  Timestamp('2022-09-09 00:00:00')),\n",
       " ('FERRUM SPOLKA AKCYJNA',\n",
       "  Timestamp('2021-01-21 00:00:00'),\n",
       "  Timestamp('2022-09-09 00:00:00')),\n",
       " ('SOHO DEVELOPMENT SPOLKA AKCYJNA',\n",
       "  Timestamp('2021-01-14 00:00:00'),\n",
       "  Timestamp('2022-09-09 00:00:00')),\n",
       " ('PLAZA CENTERS N.V.',\n",
       "  Timestamp('2021-01-12 00:00:00'),\n",
       "  Timestamp('2022-09-09 00:00:00')),\n",
       " ('OEX SPOLKA AKCYJNA',\n",
       "  Timestamp('2021-01-11 00:00:00'),\n",
       "  Timestamp('2022-09-08 00:00:00')),\n",
       " ('CENTRUM NOWOCZESNYCH TECHNOLOGII SPOLKA AKCYJNA',\n",
       "  Timestamp('2021-01-11 00:00:00'),\n",
       "  Timestamp('2022-09-09 00:00:00')),\n",
       " ('INVISTA SPOLKA AKCYJNA',\n",
       "  Timestamp('2021-01-05 00:00:00'),\n",
       "  Timestamp('2022-09-09 00:00:00')),\n",
       " ('KOSZALIŃSKIE PRZEDSIĘBIORSTWO PRZEMYSLU DRZEWNEGO SPOLKA AKCYJNA',\n",
       "  Timestamp('2021-01-04 00:00:00'),\n",
       "  Timestamp('2022-09-09 00:00:00')),\n",
       " ('WIKANA SPOLKA AKCYJNA',\n",
       "  Timestamp('2021-01-04 00:00:00'),\n",
       "  Timestamp('2022-09-08 00:00:00')),\n",
       " ('PMPG POLSKIE MEDIA SPOLKA AKCYJNA',\n",
       "  Timestamp('2021-01-04 00:00:00'),\n",
       "  Timestamp('2022-09-09 00:00:00')),\n",
       " ('OVOSTAR UNION N.V.',\n",
       "  Timestamp('2021-01-14 00:00:00'),\n",
       "  Timestamp('2022-09-09 00:00:00')),\n",
       " ('ATLANTA POLAND SPOLKA AKCYJNA',\n",
       "  Timestamp('2021-01-04 00:00:00'),\n",
       "  Timestamp('2022-09-08 00:00:00')),\n",
       " ('ERG SPOLKA AKCYJNA',\n",
       "  Timestamp('2021-01-07 00:00:00'),\n",
       "  Timestamp('2022-09-08 00:00:00')),\n",
       " ('SILVAIR, INC.',\n",
       "  Timestamp('2021-01-04 00:00:00'),\n",
       "  Timestamp('2022-09-09 00:00:00')),\n",
       " ('SOPHARMA AD',\n",
       "  Timestamp('2021-01-04 00:00:00'),\n",
       "  Timestamp('2022-09-08 00:00:00')),\n",
       " ('MOJ SPOLKA AKCYJNA',\n",
       "  Timestamp('2021-01-04 00:00:00'),\n",
       "  Timestamp('2022-09-08 00:00:00')),\n",
       " ('CENTRUM MEDYCZNE ENEL-MED SPOLKA AKCYJNA',\n",
       "  Timestamp('2021-01-04 00:00:00'),\n",
       "  Timestamp('2022-09-08 00:00:00')),\n",
       " ('AS SILVANO FASHION GROUP',\n",
       "  Timestamp('2021-01-04 00:00:00'),\n",
       "  Timestamp('2022-09-09 00:00:00')),\n",
       " ('TATRY MOUNTAIN RESORTS. A.S.',\n",
       "  Timestamp('2021-01-04 00:00:00'),\n",
       "  Timestamp('2022-09-08 00:00:00')),\n",
       " ('IMMOFINANZ AG',\n",
       "  Timestamp('2021-01-05 00:00:00'),\n",
       "  Timestamp('2022-09-09 00:00:00'))]"
      ]
     },
     "execution_count": 85,
     "metadata": {},
     "output_type": "execute_result"
    }
   ],
   "source": [
    "df_list.sort(key=lambda x:len(x), reverse=True)\n",
    "[(df.ticker.iloc[0],df.index[-1], df.index[0]) for df in df_list]"
   ]
  },
  {
   "cell_type": "code",
   "execution_count": 86,
   "metadata": {},
   "outputs": [],
   "source": [
    "dfs1= [df for df in df_list if df.index.min()<datetime.strptime('01-03-2021', \"%d-%m-%Y\") and df.index.max()>=datetime.strptime('08-09-2022', \"%d-%m-%Y\")]"
   ]
  },
  {
   "cell_type": "code",
   "execution_count": 87,
   "metadata": {},
   "outputs": [
    {
     "data": {
      "text/plain": [
       "[[425, 'GRUPA AZOTY SPOLKA AKCYJNA'],\n",
       " [425, 'ZAKLAD BUDOWY MASZYN ZREMB-CHOJNICE SPOLKA AKCYJNA'],\n",
       " [425, 'WITTCHEN SPOLKA AKCYJNA'],\n",
       " [425, 'VISTULA RETAIL GROUP SPOLKA AKCYJNA'],\n",
       " [425, 'VOTUM SPOLKA AKCYJNA'],\n",
       " [425, 'TRANS POLONIA SPOLKA AKCYJNA'],\n",
       " [425, 'TAURON POLSKA ENERGIA SPOLKA AKCYJNA'],\n",
       " [425, 'TORPOL SPOLKA AKCYJNA'],\n",
       " [425, 'STALEXPORT AUTOSTRADY SPOLKA AKCYJNA'],\n",
       " [425, 'SUNEX SPOLKA AKCYJNA'],\n",
       " [425, 'SYGNITY SPOLKA AKCYJNA'],\n",
       " [425, 'PROTEKTOR SPOLKA AKCYJNA'],\n",
       " [425, 'PROCHEM SPOLKA AKCYJNA'],\n",
       " [425, 'POLSKI KONCERN NAFTOWY ORLEN SPOLKA AKCYJNA'],\n",
       " [425, 'PGF POLSKA GRUPA FOTOWOLTAICZNA SPOLKA AKCYJNA'],\n",
       " [425, 'POLSKIE GORNICTWO NAFTOWE I GAZOWNICTWO SPOLKA AKCYJNA'],\n",
       " [425, 'PCC ROKITA SPOLKA AKCYJNA'],\n",
       " [425, 'ORANGE POLSKA SPOLKA AKCYJNA'],\n",
       " [425, 'MENNICA POLSKA SPOLKA AKCYJNA'],\n",
       " [425, 'MLP GROUP SPOLKA AKCYJNA'],\n",
       " [425, 'LENA LIGHTING SPOLKA AKCYJNA'],\n",
       " [425, 'LUBAWA SPOLKA AKCYJNA'],\n",
       " [425, 'GRUPA KĘTY SPOLKA AKCYJNA'],\n",
       " [425, 'KGHM POLSKA MIEDŹ SPOLKA AKCYJNA'],\n",
       " [425, 'JASTRZĘBSKA SPOLKA WĘGLOWA SPOLKA AKCYJNA'],\n",
       " [425, 'INDUSTRIAL MILK COMPANY S.A.'],\n",
       " [425, 'IFIRMA SPOLKA AKCYJNA'],\n",
       " [425, 'PRZEDSIĘBIORSTWO HYDRAULIKI SILOWEJ HYDROTOR S.A.'],\n",
       " [425, 'GETIN HOLDING SPOLKA AKCYJNA'],\n",
       " [425, 'GIELDA PAPIEROW WARTOŚCIOWYCH W WARSZAWIE SPOLKA AKCYJNA'],\n",
       " [425, 'DINO POLSKA SPOLKA AKCYJNA'],\n",
       " [425, 'FIRMA OPONIARSKA DĘBICA SPOLKA AKCYJNA'],\n",
       " [425, 'CYFROWY POLSAT SPOLKA AKCYJNA'],\n",
       " [425, 'COMP SPOLKA AKCYJNA'],\n",
       " [425, 'CIECH SPOLKA AKCYJNA'],\n",
       " [425, 'CD PROJEKT SPOLKA AKCYJNA'],\n",
       " [425, 'CCC SPOLKA AKCYJNA'],\n",
       " [425, 'BORYSZEW SPOLKA AKCYJNA'],\n",
       " [425, 'BOWIM SPOLKA AKCYJNA'],\n",
       " [425, 'BUMECH SPOLKA AKCYJNA'],\n",
       " [425, 'ARCTIC PAPER SPOLKA AKCYJNA'],\n",
       " [425, 'ASSECO SOUTH EASTERN EUROPE SPOLKA AKCYJNA'],\n",
       " [425, 'APLISENS SPOLKA AKCYJNA'],\n",
       " [425, 'ALUMETAL SPOLKA AKCYJNA'],\n",
       " [425, 'ASSECO POLAND SPOLKA AKCYJNA'],\n",
       " [425, 'ASSECO BUSINESS SOLUTIONS SPOLKA AKCYJNA'],\n",
       " [424, 'KRKA. TOVARNA ZDRAVIL. D.D.. NOVO MESTO'],\n",
       " [424, 'GRUPA KAPITALOWA IMMOBILE SPOLKA AKCYJNA'],\n",
       " [424, 'DIGITAL NETWORK SPOLKA AKCYJNA'],\n",
       " [424, 'AC SPOLKA AKCYJNA'],\n",
       " [423, 'ČEZ. A.S.'],\n",
       " [422, 'BETACOM SPOLKA AKCYJNA'],\n",
       " [422, 'BBI DEVELOPMENT SPOLKA AKCYJNA'],\n",
       " [422, 'TALEX SPOLKA AKCYJNA'],\n",
       " [422, 'GRUPA AZOTY ZAKLADY CHEMICZNE POLICE SPOLKA AKCYJNA'],\n",
       " [422, 'ARTERIA SPOLKA AKCYJNA'],\n",
       " [421, 'GLOBE TRADE CENTRE SPOLKA AKCYJNA'],\n",
       " [421, 'ARCHICOM SPOLKA AKCYJNA'],\n",
       " [420, 'LIBET SPOLKA AKCYJNA'],\n",
       " [419, 'ZPUE SPOLKA AKCYJNA'],\n",
       " [419, 'OT LOGISTICS SPOLKA AKCYJNA'],\n",
       " [419, 'INSTAL KRAKOW SPOLKA AKCYJNA'],\n",
       " [418, 'GI GROUP POLAND SPOLKA AKCYJNA'],\n",
       " [418, 'DROZAPOL-PROFIL SPOLKA AKCYJNA'],\n",
       " [416, 'PROJPRZEM MAKRUM SPOLKA AKCYJNA'],\n",
       " [413, 'SUWARY SPOLKA AKCYJNA'],\n",
       " [413, 'MARIE BRIZARD WINE & SPIRITS'],\n",
       " [412, 'FERRUM SPOLKA AKCYJNA'],\n",
       " [407, 'SOHO DEVELOPMENT SPOLKA AKCYJNA'],\n",
       " [405, 'PLAZA CENTERS N.V.'],\n",
       " [404, 'OEX SPOLKA AKCYJNA'],\n",
       " [404, 'CENTRUM NOWOCZESNYCH TECHNOLOGII SPOLKA AKCYJNA'],\n",
       " [396, 'INVISTA SPOLKA AKCYJNA'],\n",
       " [391, 'KOSZALIŃSKIE PRZEDSIĘBIORSTWO PRZEMYSLU DRZEWNEGO SPOLKA AKCYJNA'],\n",
       " [385, 'WIKANA SPOLKA AKCYJNA'],\n",
       " [384, 'PMPG POLSKIE MEDIA SPOLKA AKCYJNA'],\n",
       " [357, 'OVOSTAR UNION N.V.'],\n",
       " [356, 'ATLANTA POLAND SPOLKA AKCYJNA'],\n",
       " [352, 'ERG SPOLKA AKCYJNA'],\n",
       " [333, 'SILVAIR, INC.'],\n",
       " [322, 'SOPHARMA AD'],\n",
       " [316, 'MOJ SPOLKA AKCYJNA'],\n",
       " [294, 'CENTRUM MEDYCZNE ENEL-MED SPOLKA AKCYJNA'],\n",
       " [265, 'AS SILVANO FASHION GROUP'],\n",
       " [248, 'TATRY MOUNTAIN RESORTS. A.S.'],\n",
       " [134, 'IMMOFINANZ AG']]"
      ]
     },
     "execution_count": 87,
     "metadata": {},
     "output_type": "execute_result"
    }
   ],
   "source": [
    "index_list_lengh = [[len(df.index), df[\"ticker\"].iloc[0]] for df in dfs1]\n",
    "max_index = 0\n",
    "max_count = 0\n",
    "for index, value in enumerate(index_list_lengh):\n",
    "    max_count_value = value[0]\n",
    "    max_index_ = index\n",
    "    if max_count_value>max_count:\n",
    "        max_index = max_index_\n",
    "        max_count = max_count_value\n",
    "\n",
    "index_list_lengh"
   ]
  },
  {
   "cell_type": "code",
   "execution_count": 88,
   "metadata": {},
   "outputs": [
    {
     "data": {
      "text/plain": [
       "DatetimeIndex(['2021-01-04', '2021-01-05', '2021-01-07', '2021-01-08',\n",
       "               '2021-01-11', '2021-01-12', '2021-01-13', '2021-01-14',\n",
       "               '2021-01-15', '2021-01-18',\n",
       "               ...\n",
       "               '2022-08-29', '2022-08-30', '2022-08-31', '2022-09-01',\n",
       "               '2022-09-02', '2022-09-05', '2022-09-06', '2022-09-07',\n",
       "               '2022-09-08', '2022-09-09'],\n",
       "              dtype='datetime64[ns]', name='date', length=425, freq=None)"
      ]
     },
     "execution_count": 88,
     "metadata": {},
     "output_type": "execute_result"
    }
   ],
   "source": [
    "dfs1[max_index].index.sort_values()"
   ]
  },
  {
   "cell_type": "code",
   "execution_count": 89,
   "metadata": {},
   "outputs": [
    {
     "name": "stdout",
     "output_type": "stream",
     "text": [
      "DatetimeIndex(['2021-01-04', '2021-01-05', '2021-01-07', '2021-01-08',\n",
      "               '2021-01-11', '2021-01-12', '2021-01-13', '2021-01-14',\n",
      "               '2021-01-15', '2021-01-18',\n",
      "               ...\n",
      "               '2022-08-29', '2022-08-30', '2022-08-31', '2022-09-01',\n",
      "               '2022-09-02', '2022-09-05', '2022-09-06', '2022-09-07',\n",
      "               '2022-09-08', '2022-09-09'],\n",
      "              dtype='datetime64[ns]', name='date', length=425, freq=None)\n"
     ]
    }
   ],
   "source": [
    "mi = dfs1[max_index].index.sort_values().copy()\n",
    "print(mi)\n",
    "for i in range(len(dfs1)):\n",
    "    name = dfs1[i][\"ticker\"].iloc[0]\n",
    "    df_list[i]=dfs1[i].reindex(mi)#, method=\"pad\")\n",
    "    name\n"
   ]
  },
  {
   "cell_type": "code",
   "execution_count": 90,
   "metadata": {},
   "outputs": [],
   "source": [
    "keys = [df[\"ticker\"].iloc[0] for df in dfs1]\n",
    "dfs1 = [df.drop(columns=[\"ticker\"]) for df in dfs1]\n"
   ]
  },
  {
   "cell_type": "code",
   "execution_count": 91,
   "metadata": {},
   "outputs": [
    {
     "data": {
      "text/html": [
       "<div>\n",
       "<style scoped>\n",
       "    .dataframe tbody tr th:only-of-type {\n",
       "        vertical-align: middle;\n",
       "    }\n",
       "\n",
       "    .dataframe tbody tr th {\n",
       "        vertical-align: top;\n",
       "    }\n",
       "\n",
       "    .dataframe thead tr th {\n",
       "        text-align: left;\n",
       "    }\n",
       "\n",
       "    .dataframe thead tr:last-of-type th {\n",
       "        text-align: right;\n",
       "    }\n",
       "</style>\n",
       "<table border=\"1\" class=\"dataframe\">\n",
       "  <thead>\n",
       "    <tr>\n",
       "      <th>Pair</th>\n",
       "      <th colspan=\"5\" halign=\"left\">GRUPA AZOTY SPOLKA AKCYJNA</th>\n",
       "      <th colspan=\"5\" halign=\"left\">ZAKLAD BUDOWY MASZYN ZREMB-CHOJNICE SPOLKA AKCYJNA</th>\n",
       "      <th>...</th>\n",
       "      <th colspan=\"5\" halign=\"left\">TATRY MOUNTAIN RESORTS. A.S.</th>\n",
       "      <th colspan=\"5\" halign=\"left\">IMMOFINANZ AG</th>\n",
       "    </tr>\n",
       "    <tr>\n",
       "      <th>Price</th>\n",
       "      <th>open</th>\n",
       "      <th>MAX</th>\n",
       "      <th>MIN</th>\n",
       "      <th>close</th>\n",
       "      <th>trade</th>\n",
       "      <th>open</th>\n",
       "      <th>MAX</th>\n",
       "      <th>MIN</th>\n",
       "      <th>close</th>\n",
       "      <th>trade</th>\n",
       "      <th>...</th>\n",
       "      <th>open</th>\n",
       "      <th>MAX</th>\n",
       "      <th>MIN</th>\n",
       "      <th>close</th>\n",
       "      <th>trade</th>\n",
       "      <th>open</th>\n",
       "      <th>MAX</th>\n",
       "      <th>MIN</th>\n",
       "      <th>close</th>\n",
       "      <th>trade</th>\n",
       "    </tr>\n",
       "    <tr>\n",
       "      <th>date</th>\n",
       "      <th></th>\n",
       "      <th></th>\n",
       "      <th></th>\n",
       "      <th></th>\n",
       "      <th></th>\n",
       "      <th></th>\n",
       "      <th></th>\n",
       "      <th></th>\n",
       "      <th></th>\n",
       "      <th></th>\n",
       "      <th></th>\n",
       "      <th></th>\n",
       "      <th></th>\n",
       "      <th></th>\n",
       "      <th></th>\n",
       "      <th></th>\n",
       "      <th></th>\n",
       "      <th></th>\n",
       "      <th></th>\n",
       "      <th></th>\n",
       "      <th></th>\n",
       "    </tr>\n",
       "  </thead>\n",
       "  <tbody>\n",
       "    <tr>\n",
       "      <th>2021-01-04</th>\n",
       "      <td>27.80</td>\n",
       "      <td>28.90</td>\n",
       "      <td>27.65</td>\n",
       "      <td>28.90</td>\n",
       "      <td>3947170.0</td>\n",
       "      <td>0.725</td>\n",
       "      <td>0.780</td>\n",
       "      <td>0.700</td>\n",
       "      <td>0.765</td>\n",
       "      <td>21340.0</td>\n",
       "      <td>...</td>\n",
       "      <td>142.0</td>\n",
       "      <td>142.0</td>\n",
       "      <td>142.0</td>\n",
       "      <td>142.0</td>\n",
       "      <td>3550.0</td>\n",
       "      <td>NaN</td>\n",
       "      <td>NaN</td>\n",
       "      <td>NaN</td>\n",
       "      <td>NaN</td>\n",
       "      <td>NaN</td>\n",
       "    </tr>\n",
       "    <tr>\n",
       "      <th>2021-01-05</th>\n",
       "      <td>29.00</td>\n",
       "      <td>29.85</td>\n",
       "      <td>28.50</td>\n",
       "      <td>28.70</td>\n",
       "      <td>7337356.0</td>\n",
       "      <td>0.765</td>\n",
       "      <td>0.775</td>\n",
       "      <td>0.735</td>\n",
       "      <td>0.770</td>\n",
       "      <td>12623.0</td>\n",
       "      <td>...</td>\n",
       "      <td>146.0</td>\n",
       "      <td>146.0</td>\n",
       "      <td>144.0</td>\n",
       "      <td>144.0</td>\n",
       "      <td>5790.0</td>\n",
       "      <td>75.10</td>\n",
       "      <td>75.10</td>\n",
       "      <td>75.10</td>\n",
       "      <td>75.10</td>\n",
       "      <td>451.0</td>\n",
       "    </tr>\n",
       "    <tr>\n",
       "      <th>2021-01-07</th>\n",
       "      <td>29.50</td>\n",
       "      <td>31.30</td>\n",
       "      <td>29.15</td>\n",
       "      <td>30.85</td>\n",
       "      <td>10902364.0</td>\n",
       "      <td>0.735</td>\n",
       "      <td>0.770</td>\n",
       "      <td>0.730</td>\n",
       "      <td>0.755</td>\n",
       "      <td>14039.0</td>\n",
       "      <td>...</td>\n",
       "      <td>NaN</td>\n",
       "      <td>NaN</td>\n",
       "      <td>NaN</td>\n",
       "      <td>NaN</td>\n",
       "      <td>NaN</td>\n",
       "      <td>77.00</td>\n",
       "      <td>77.00</td>\n",
       "      <td>75.25</td>\n",
       "      <td>75.25</td>\n",
       "      <td>8026.0</td>\n",
       "    </tr>\n",
       "    <tr>\n",
       "      <th>2021-01-08</th>\n",
       "      <td>31.25</td>\n",
       "      <td>32.45</td>\n",
       "      <td>30.10</td>\n",
       "      <td>30.25</td>\n",
       "      <td>12724531.0</td>\n",
       "      <td>0.730</td>\n",
       "      <td>0.780</td>\n",
       "      <td>0.705</td>\n",
       "      <td>0.775</td>\n",
       "      <td>42012.0</td>\n",
       "      <td>...</td>\n",
       "      <td>146.0</td>\n",
       "      <td>146.0</td>\n",
       "      <td>146.0</td>\n",
       "      <td>146.0</td>\n",
       "      <td>3650.0</td>\n",
       "      <td>NaN</td>\n",
       "      <td>NaN</td>\n",
       "      <td>NaN</td>\n",
       "      <td>NaN</td>\n",
       "      <td>NaN</td>\n",
       "    </tr>\n",
       "    <tr>\n",
       "      <th>2021-01-11</th>\n",
       "      <td>29.95</td>\n",
       "      <td>32.05</td>\n",
       "      <td>29.80</td>\n",
       "      <td>30.95</td>\n",
       "      <td>9025396.0</td>\n",
       "      <td>0.765</td>\n",
       "      <td>0.775</td>\n",
       "      <td>0.735</td>\n",
       "      <td>0.770</td>\n",
       "      <td>13500.0</td>\n",
       "      <td>...</td>\n",
       "      <td>141.0</td>\n",
       "      <td>154.0</td>\n",
       "      <td>141.0</td>\n",
       "      <td>154.0</td>\n",
       "      <td>12512.0</td>\n",
       "      <td>76.90</td>\n",
       "      <td>77.60</td>\n",
       "      <td>76.90</td>\n",
       "      <td>77.60</td>\n",
       "      <td>698.0</td>\n",
       "    </tr>\n",
       "    <tr>\n",
       "      <th>...</th>\n",
       "      <td>...</td>\n",
       "      <td>...</td>\n",
       "      <td>...</td>\n",
       "      <td>...</td>\n",
       "      <td>...</td>\n",
       "      <td>...</td>\n",
       "      <td>...</td>\n",
       "      <td>...</td>\n",
       "      <td>...</td>\n",
       "      <td>...</td>\n",
       "      <td>...</td>\n",
       "      <td>...</td>\n",
       "      <td>...</td>\n",
       "      <td>...</td>\n",
       "      <td>...</td>\n",
       "      <td>...</td>\n",
       "      <td>...</td>\n",
       "      <td>...</td>\n",
       "      <td>...</td>\n",
       "      <td>...</td>\n",
       "      <td>...</td>\n",
       "    </tr>\n",
       "    <tr>\n",
       "      <th>2022-09-05</th>\n",
       "      <td>33.40</td>\n",
       "      <td>33.74</td>\n",
       "      <td>32.12</td>\n",
       "      <td>33.10</td>\n",
       "      <td>3516573.0</td>\n",
       "      <td>1.980</td>\n",
       "      <td>2.020</td>\n",
       "      <td>1.915</td>\n",
       "      <td>1.990</td>\n",
       "      <td>19794.0</td>\n",
       "      <td>...</td>\n",
       "      <td>NaN</td>\n",
       "      <td>NaN</td>\n",
       "      <td>NaN</td>\n",
       "      <td>NaN</td>\n",
       "      <td>NaN</td>\n",
       "      <td>NaN</td>\n",
       "      <td>NaN</td>\n",
       "      <td>NaN</td>\n",
       "      <td>NaN</td>\n",
       "      <td>NaN</td>\n",
       "    </tr>\n",
       "    <tr>\n",
       "      <th>2022-09-06</th>\n",
       "      <td>33.00</td>\n",
       "      <td>34.58</td>\n",
       "      <td>32.66</td>\n",
       "      <td>34.40</td>\n",
       "      <td>3024737.0</td>\n",
       "      <td>1.990</td>\n",
       "      <td>2.040</td>\n",
       "      <td>1.805</td>\n",
       "      <td>1.875</td>\n",
       "      <td>63813.0</td>\n",
       "      <td>...</td>\n",
       "      <td>146.0</td>\n",
       "      <td>146.0</td>\n",
       "      <td>146.0</td>\n",
       "      <td>146.0</td>\n",
       "      <td>2920.0</td>\n",
       "      <td>NaN</td>\n",
       "      <td>NaN</td>\n",
       "      <td>NaN</td>\n",
       "      <td>NaN</td>\n",
       "      <td>NaN</td>\n",
       "    </tr>\n",
       "    <tr>\n",
       "      <th>2022-09-07</th>\n",
       "      <td>34.50</td>\n",
       "      <td>35.48</td>\n",
       "      <td>32.90</td>\n",
       "      <td>35.28</td>\n",
       "      <td>4226941.0</td>\n",
       "      <td>1.860</td>\n",
       "      <td>1.875</td>\n",
       "      <td>1.830</td>\n",
       "      <td>1.860</td>\n",
       "      <td>8457.0</td>\n",
       "      <td>...</td>\n",
       "      <td>146.0</td>\n",
       "      <td>146.0</td>\n",
       "      <td>146.0</td>\n",
       "      <td>146.0</td>\n",
       "      <td>4380.0</td>\n",
       "      <td>NaN</td>\n",
       "      <td>NaN</td>\n",
       "      <td>NaN</td>\n",
       "      <td>NaN</td>\n",
       "      <td>NaN</td>\n",
       "    </tr>\n",
       "    <tr>\n",
       "      <th>2022-09-08</th>\n",
       "      <td>35.70</td>\n",
       "      <td>35.76</td>\n",
       "      <td>34.16</td>\n",
       "      <td>34.68</td>\n",
       "      <td>2420801.0</td>\n",
       "      <td>1.880</td>\n",
       "      <td>1.880</td>\n",
       "      <td>1.830</td>\n",
       "      <td>1.865</td>\n",
       "      <td>10650.0</td>\n",
       "      <td>...</td>\n",
       "      <td>149.9</td>\n",
       "      <td>150.0</td>\n",
       "      <td>149.9</td>\n",
       "      <td>150.0</td>\n",
       "      <td>13496.0</td>\n",
       "      <td>NaN</td>\n",
       "      <td>NaN</td>\n",
       "      <td>NaN</td>\n",
       "      <td>NaN</td>\n",
       "      <td>NaN</td>\n",
       "    </tr>\n",
       "    <tr>\n",
       "      <th>2022-09-09</th>\n",
       "      <td>34.80</td>\n",
       "      <td>36.00</td>\n",
       "      <td>34.38</td>\n",
       "      <td>36.00</td>\n",
       "      <td>1709041.0</td>\n",
       "      <td>1.830</td>\n",
       "      <td>2.090</td>\n",
       "      <td>1.820</td>\n",
       "      <td>1.990</td>\n",
       "      <td>236633.0</td>\n",
       "      <td>...</td>\n",
       "      <td>NaN</td>\n",
       "      <td>NaN</td>\n",
       "      <td>NaN</td>\n",
       "      <td>NaN</td>\n",
       "      <td>NaN</td>\n",
       "      <td>69.15</td>\n",
       "      <td>69.15</td>\n",
       "      <td>69.15</td>\n",
       "      <td>69.15</td>\n",
       "      <td>9474.0</td>\n",
       "    </tr>\n",
       "  </tbody>\n",
       "</table>\n",
       "<p>425 rows × 430 columns</p>\n",
       "</div>"
      ],
      "text/plain": [
       "Pair       GRUPA AZOTY SPOLKA AKCYJNA                                   \\\n",
       "Price                            open    MAX    MIN  close       trade   \n",
       "date                                                                     \n",
       "2021-01-04                      27.80  28.90  27.65  28.90   3947170.0   \n",
       "2021-01-05                      29.00  29.85  28.50  28.70   7337356.0   \n",
       "2021-01-07                      29.50  31.30  29.15  30.85  10902364.0   \n",
       "2021-01-08                      31.25  32.45  30.10  30.25  12724531.0   \n",
       "2021-01-11                      29.95  32.05  29.80  30.95   9025396.0   \n",
       "...                               ...    ...    ...    ...         ...   \n",
       "2022-09-05                      33.40  33.74  32.12  33.10   3516573.0   \n",
       "2022-09-06                      33.00  34.58  32.66  34.40   3024737.0   \n",
       "2022-09-07                      34.50  35.48  32.90  35.28   4226941.0   \n",
       "2022-09-08                      35.70  35.76  34.16  34.68   2420801.0   \n",
       "2022-09-09                      34.80  36.00  34.38  36.00   1709041.0   \n",
       "\n",
       "Pair       ZAKLAD BUDOWY MASZYN ZREMB-CHOJNICE SPOLKA AKCYJNA                \\\n",
       "Price                                                    open    MAX    MIN   \n",
       "date                                                                          \n",
       "2021-01-04                                              0.725  0.780  0.700   \n",
       "2021-01-05                                              0.765  0.775  0.735   \n",
       "2021-01-07                                              0.735  0.770  0.730   \n",
       "2021-01-08                                              0.730  0.780  0.705   \n",
       "2021-01-11                                              0.765  0.775  0.735   \n",
       "...                                                       ...    ...    ...   \n",
       "2022-09-05                                              1.980  2.020  1.915   \n",
       "2022-09-06                                              1.990  2.040  1.805   \n",
       "2022-09-07                                              1.860  1.875  1.830   \n",
       "2022-09-08                                              1.880  1.880  1.830   \n",
       "2022-09-09                                              1.830  2.090  1.820   \n",
       "\n",
       "Pair                         ... TATRY MOUNTAIN RESORTS. A.S.                \\\n",
       "Price       close     trade  ...                         open    MAX    MIN   \n",
       "date                         ...                                              \n",
       "2021-01-04  0.765   21340.0  ...                        142.0  142.0  142.0   \n",
       "2021-01-05  0.770   12623.0  ...                        146.0  146.0  144.0   \n",
       "2021-01-07  0.755   14039.0  ...                          NaN    NaN    NaN   \n",
       "2021-01-08  0.775   42012.0  ...                        146.0  146.0  146.0   \n",
       "2021-01-11  0.770   13500.0  ...                        141.0  154.0  141.0   \n",
       "...           ...       ...  ...                          ...    ...    ...   \n",
       "2022-09-05  1.990   19794.0  ...                          NaN    NaN    NaN   \n",
       "2022-09-06  1.875   63813.0  ...                        146.0  146.0  146.0   \n",
       "2022-09-07  1.860    8457.0  ...                        146.0  146.0  146.0   \n",
       "2022-09-08  1.865   10650.0  ...                        149.9  150.0  149.9   \n",
       "2022-09-09  1.990  236633.0  ...                          NaN    NaN    NaN   \n",
       "\n",
       "Pair                       IMMOFINANZ AG                               \n",
       "Price       close    trade          open    MAX    MIN  close   trade  \n",
       "date                                                                   \n",
       "2021-01-04  142.0   3550.0           NaN    NaN    NaN    NaN     NaN  \n",
       "2021-01-05  144.0   5790.0         75.10  75.10  75.10  75.10   451.0  \n",
       "2021-01-07    NaN      NaN         77.00  77.00  75.25  75.25  8026.0  \n",
       "2021-01-08  146.0   3650.0           NaN    NaN    NaN    NaN     NaN  \n",
       "2021-01-11  154.0  12512.0         76.90  77.60  76.90  77.60   698.0  \n",
       "...           ...      ...           ...    ...    ...    ...     ...  \n",
       "2022-09-05    NaN      NaN           NaN    NaN    NaN    NaN     NaN  \n",
       "2022-09-06  146.0   2920.0           NaN    NaN    NaN    NaN     NaN  \n",
       "2022-09-07  146.0   4380.0           NaN    NaN    NaN    NaN     NaN  \n",
       "2022-09-08  150.0  13496.0           NaN    NaN    NaN    NaN     NaN  \n",
       "2022-09-09    NaN      NaN         69.15  69.15  69.15  69.15  9474.0  \n",
       "\n",
       "[425 rows x 430 columns]"
      ]
     },
     "execution_count": 91,
     "metadata": {},
     "output_type": "execute_result"
    }
   ],
   "source": [
    "df3 = pd.concat(dfs1, axis=1, keys=keys, names=['Pair','Price'])\n",
    "df3"
   ]
  },
  {
   "cell_type": "code",
   "execution_count": 92,
   "metadata": {},
   "outputs": [
    {
     "name": "stdout",
     "output_type": "stream",
     "text": [
      "cropped from 425\n",
      "to 425\n"
     ]
    }
   ],
   "source": [
    "print('cropped from', len(df3))\n",
    "#t=max([min(df1.index) for df1 in dfs1])\n",
    "#df3=df3[df3.index>t]\n",
    "print('to',len(df3))"
   ]
  },
  {
   "cell_type": "code",
   "execution_count": 93,
   "metadata": {},
   "outputs": [
    {
     "data": {
      "text/html": [
       "<div>\n",
       "<style scoped>\n",
       "    .dataframe tbody tr th:only-of-type {\n",
       "        vertical-align: middle;\n",
       "    }\n",
       "\n",
       "    .dataframe tbody tr th {\n",
       "        vertical-align: top;\n",
       "    }\n",
       "\n",
       "    .dataframe thead tr th {\n",
       "        text-align: left;\n",
       "    }\n",
       "\n",
       "    .dataframe thead tr:last-of-type th {\n",
       "        text-align: right;\n",
       "    }\n",
       "</style>\n",
       "<table border=\"1\" class=\"dataframe\">\n",
       "  <thead>\n",
       "    <tr>\n",
       "      <th>Pair</th>\n",
       "      <th colspan=\"5\" halign=\"left\">GRUPA AZOTY SPOLKA AKCYJNA</th>\n",
       "      <th colspan=\"5\" halign=\"left\">ZAKLAD BUDOWY MASZYN ZREMB-CHOJNICE SPOLKA AKCYJNA</th>\n",
       "      <th>...</th>\n",
       "      <th colspan=\"5\" halign=\"left\">TATRY MOUNTAIN RESORTS. A.S.</th>\n",
       "      <th colspan=\"5\" halign=\"left\">IMMOFINANZ AG</th>\n",
       "    </tr>\n",
       "    <tr>\n",
       "      <th>Price</th>\n",
       "      <th>open</th>\n",
       "      <th>MAX</th>\n",
       "      <th>MIN</th>\n",
       "      <th>close</th>\n",
       "      <th>trade</th>\n",
       "      <th>open</th>\n",
       "      <th>MAX</th>\n",
       "      <th>MIN</th>\n",
       "      <th>close</th>\n",
       "      <th>trade</th>\n",
       "      <th>...</th>\n",
       "      <th>open</th>\n",
       "      <th>MAX</th>\n",
       "      <th>MIN</th>\n",
       "      <th>close</th>\n",
       "      <th>trade</th>\n",
       "      <th>open</th>\n",
       "      <th>MAX</th>\n",
       "      <th>MIN</th>\n",
       "      <th>close</th>\n",
       "      <th>trade</th>\n",
       "    </tr>\n",
       "    <tr>\n",
       "      <th>date</th>\n",
       "      <th></th>\n",
       "      <th></th>\n",
       "      <th></th>\n",
       "      <th></th>\n",
       "      <th></th>\n",
       "      <th></th>\n",
       "      <th></th>\n",
       "      <th></th>\n",
       "      <th></th>\n",
       "      <th></th>\n",
       "      <th></th>\n",
       "      <th></th>\n",
       "      <th></th>\n",
       "      <th></th>\n",
       "      <th></th>\n",
       "      <th></th>\n",
       "      <th></th>\n",
       "      <th></th>\n",
       "      <th></th>\n",
       "      <th></th>\n",
       "      <th></th>\n",
       "    </tr>\n",
       "  </thead>\n",
       "  <tbody>\n",
       "    <tr>\n",
       "      <th>2022-09-05</th>\n",
       "      <td>33.4</td>\n",
       "      <td>33.74</td>\n",
       "      <td>32.12</td>\n",
       "      <td>33.10</td>\n",
       "      <td>3516573.0</td>\n",
       "      <td>1.98</td>\n",
       "      <td>2.020</td>\n",
       "      <td>1.915</td>\n",
       "      <td>1.990</td>\n",
       "      <td>19794.0</td>\n",
       "      <td>...</td>\n",
       "      <td>NaN</td>\n",
       "      <td>NaN</td>\n",
       "      <td>NaN</td>\n",
       "      <td>NaN</td>\n",
       "      <td>NaN</td>\n",
       "      <td>NaN</td>\n",
       "      <td>NaN</td>\n",
       "      <td>NaN</td>\n",
       "      <td>NaN</td>\n",
       "      <td>NaN</td>\n",
       "    </tr>\n",
       "    <tr>\n",
       "      <th>2022-09-06</th>\n",
       "      <td>33.0</td>\n",
       "      <td>34.58</td>\n",
       "      <td>32.66</td>\n",
       "      <td>34.40</td>\n",
       "      <td>3024737.0</td>\n",
       "      <td>1.99</td>\n",
       "      <td>2.040</td>\n",
       "      <td>1.805</td>\n",
       "      <td>1.875</td>\n",
       "      <td>63813.0</td>\n",
       "      <td>...</td>\n",
       "      <td>146.0</td>\n",
       "      <td>146.0</td>\n",
       "      <td>146.0</td>\n",
       "      <td>146.0</td>\n",
       "      <td>2920.0</td>\n",
       "      <td>NaN</td>\n",
       "      <td>NaN</td>\n",
       "      <td>NaN</td>\n",
       "      <td>NaN</td>\n",
       "      <td>NaN</td>\n",
       "    </tr>\n",
       "    <tr>\n",
       "      <th>2022-09-07</th>\n",
       "      <td>34.5</td>\n",
       "      <td>35.48</td>\n",
       "      <td>32.90</td>\n",
       "      <td>35.28</td>\n",
       "      <td>4226941.0</td>\n",
       "      <td>1.86</td>\n",
       "      <td>1.875</td>\n",
       "      <td>1.830</td>\n",
       "      <td>1.860</td>\n",
       "      <td>8457.0</td>\n",
       "      <td>...</td>\n",
       "      <td>146.0</td>\n",
       "      <td>146.0</td>\n",
       "      <td>146.0</td>\n",
       "      <td>146.0</td>\n",
       "      <td>4380.0</td>\n",
       "      <td>NaN</td>\n",
       "      <td>NaN</td>\n",
       "      <td>NaN</td>\n",
       "      <td>NaN</td>\n",
       "      <td>NaN</td>\n",
       "    </tr>\n",
       "    <tr>\n",
       "      <th>2022-09-08</th>\n",
       "      <td>35.7</td>\n",
       "      <td>35.76</td>\n",
       "      <td>34.16</td>\n",
       "      <td>34.68</td>\n",
       "      <td>2420801.0</td>\n",
       "      <td>1.88</td>\n",
       "      <td>1.880</td>\n",
       "      <td>1.830</td>\n",
       "      <td>1.865</td>\n",
       "      <td>10650.0</td>\n",
       "      <td>...</td>\n",
       "      <td>149.9</td>\n",
       "      <td>150.0</td>\n",
       "      <td>149.9</td>\n",
       "      <td>150.0</td>\n",
       "      <td>13496.0</td>\n",
       "      <td>NaN</td>\n",
       "      <td>NaN</td>\n",
       "      <td>NaN</td>\n",
       "      <td>NaN</td>\n",
       "      <td>NaN</td>\n",
       "    </tr>\n",
       "    <tr>\n",
       "      <th>2022-09-09</th>\n",
       "      <td>34.8</td>\n",
       "      <td>36.00</td>\n",
       "      <td>34.38</td>\n",
       "      <td>36.00</td>\n",
       "      <td>1709041.0</td>\n",
       "      <td>1.83</td>\n",
       "      <td>2.090</td>\n",
       "      <td>1.820</td>\n",
       "      <td>1.990</td>\n",
       "      <td>236633.0</td>\n",
       "      <td>...</td>\n",
       "      <td>NaN</td>\n",
       "      <td>NaN</td>\n",
       "      <td>NaN</td>\n",
       "      <td>NaN</td>\n",
       "      <td>NaN</td>\n",
       "      <td>69.15</td>\n",
       "      <td>69.15</td>\n",
       "      <td>69.15</td>\n",
       "      <td>69.15</td>\n",
       "      <td>9474.0</td>\n",
       "    </tr>\n",
       "  </tbody>\n",
       "</table>\n",
       "<p>5 rows × 430 columns</p>\n",
       "</div>"
      ],
      "text/plain": [
       "Pair       GRUPA AZOTY SPOLKA AKCYJNA                                  \\\n",
       "Price                            open    MAX    MIN  close      trade   \n",
       "date                                                                    \n",
       "2022-09-05                       33.4  33.74  32.12  33.10  3516573.0   \n",
       "2022-09-06                       33.0  34.58  32.66  34.40  3024737.0   \n",
       "2022-09-07                       34.5  35.48  32.90  35.28  4226941.0   \n",
       "2022-09-08                       35.7  35.76  34.16  34.68  2420801.0   \n",
       "2022-09-09                       34.8  36.00  34.38  36.00  1709041.0   \n",
       "\n",
       "Pair       ZAKLAD BUDOWY MASZYN ZREMB-CHOJNICE SPOLKA AKCYJNA                \\\n",
       "Price                                                    open    MAX    MIN   \n",
       "date                                                                          \n",
       "2022-09-05                                               1.98  2.020  1.915   \n",
       "2022-09-06                                               1.99  2.040  1.805   \n",
       "2022-09-07                                               1.86  1.875  1.830   \n",
       "2022-09-08                                               1.88  1.880  1.830   \n",
       "2022-09-09                                               1.83  2.090  1.820   \n",
       "\n",
       "Pair                         ... TATRY MOUNTAIN RESORTS. A.S.                \\\n",
       "Price       close     trade  ...                         open    MAX    MIN   \n",
       "date                         ...                                              \n",
       "2022-09-05  1.990   19794.0  ...                          NaN    NaN    NaN   \n",
       "2022-09-06  1.875   63813.0  ...                        146.0  146.0  146.0   \n",
       "2022-09-07  1.860    8457.0  ...                        146.0  146.0  146.0   \n",
       "2022-09-08  1.865   10650.0  ...                        149.9  150.0  149.9   \n",
       "2022-09-09  1.990  236633.0  ...                          NaN    NaN    NaN   \n",
       "\n",
       "Pair                       IMMOFINANZ AG                               \n",
       "Price       close    trade          open    MAX    MIN  close   trade  \n",
       "date                                                                   \n",
       "2022-09-05    NaN      NaN           NaN    NaN    NaN    NaN     NaN  \n",
       "2022-09-06  146.0   2920.0           NaN    NaN    NaN    NaN     NaN  \n",
       "2022-09-07  146.0   4380.0           NaN    NaN    NaN    NaN     NaN  \n",
       "2022-09-08  150.0  13496.0           NaN    NaN    NaN    NaN     NaN  \n",
       "2022-09-09    NaN      NaN         69.15  69.15  69.15  69.15  9474.0  \n",
       "\n",
       "[5 rows x 430 columns]"
      ]
     },
     "execution_count": 93,
     "metadata": {},
     "output_type": "execute_result"
    }
   ],
   "source": [
    "df3.tail()"
   ]
  },
  {
   "cell_type": "code",
   "execution_count": 94,
   "metadata": {},
   "outputs": [
    {
     "data": {
      "text/html": [
       "<div>\n",
       "<style scoped>\n",
       "    .dataframe tbody tr th:only-of-type {\n",
       "        vertical-align: middle;\n",
       "    }\n",
       "\n",
       "    .dataframe tbody tr th {\n",
       "        vertical-align: top;\n",
       "    }\n",
       "\n",
       "    .dataframe thead tr th {\n",
       "        text-align: left;\n",
       "    }\n",
       "\n",
       "    .dataframe thead tr:last-of-type th {\n",
       "        text-align: right;\n",
       "    }\n",
       "</style>\n",
       "<table border=\"1\" class=\"dataframe\">\n",
       "  <thead>\n",
       "    <tr>\n",
       "      <th>Pair</th>\n",
       "      <th colspan=\"5\" halign=\"left\">GRUPA AZOTY SPOLKA AKCYJNA</th>\n",
       "      <th colspan=\"5\" halign=\"left\">ZAKLAD BUDOWY MASZYN ZREMB-CHOJNICE SPOLKA AKCYJNA</th>\n",
       "      <th>...</th>\n",
       "      <th colspan=\"5\" halign=\"left\">TATRY MOUNTAIN RESORTS. A.S.</th>\n",
       "      <th colspan=\"5\" halign=\"left\">IMMOFINANZ AG</th>\n",
       "    </tr>\n",
       "    <tr>\n",
       "      <th>Price</th>\n",
       "      <th>open</th>\n",
       "      <th>MAX</th>\n",
       "      <th>MIN</th>\n",
       "      <th>close</th>\n",
       "      <th>trade</th>\n",
       "      <th>open</th>\n",
       "      <th>MAX</th>\n",
       "      <th>MIN</th>\n",
       "      <th>close</th>\n",
       "      <th>trade</th>\n",
       "      <th>...</th>\n",
       "      <th>open</th>\n",
       "      <th>MAX</th>\n",
       "      <th>MIN</th>\n",
       "      <th>close</th>\n",
       "      <th>trade</th>\n",
       "      <th>open</th>\n",
       "      <th>MAX</th>\n",
       "      <th>MIN</th>\n",
       "      <th>close</th>\n",
       "      <th>trade</th>\n",
       "    </tr>\n",
       "    <tr>\n",
       "      <th>date</th>\n",
       "      <th></th>\n",
       "      <th></th>\n",
       "      <th></th>\n",
       "      <th></th>\n",
       "      <th></th>\n",
       "      <th></th>\n",
       "      <th></th>\n",
       "      <th></th>\n",
       "      <th></th>\n",
       "      <th></th>\n",
       "      <th></th>\n",
       "      <th></th>\n",
       "      <th></th>\n",
       "      <th></th>\n",
       "      <th></th>\n",
       "      <th></th>\n",
       "      <th></th>\n",
       "      <th></th>\n",
       "      <th></th>\n",
       "      <th></th>\n",
       "      <th></th>\n",
       "    </tr>\n",
       "  </thead>\n",
       "  <tbody>\n",
       "    <tr>\n",
       "      <th>2021-01-04</th>\n",
       "      <td>27.799999</td>\n",
       "      <td>28.900000</td>\n",
       "      <td>27.650000</td>\n",
       "      <td>28.900000</td>\n",
       "      <td>3947170.0</td>\n",
       "      <td>0.725</td>\n",
       "      <td>0.780</td>\n",
       "      <td>0.700</td>\n",
       "      <td>0.765</td>\n",
       "      <td>21340.0</td>\n",
       "      <td>...</td>\n",
       "      <td>142.0</td>\n",
       "      <td>142.0</td>\n",
       "      <td>142.0</td>\n",
       "      <td>142.0</td>\n",
       "      <td>3550.0</td>\n",
       "      <td>0.000000</td>\n",
       "      <td>0.000000</td>\n",
       "      <td>0.000000</td>\n",
       "      <td>0.000000</td>\n",
       "      <td>0.0</td>\n",
       "    </tr>\n",
       "    <tr>\n",
       "      <th>2021-01-05</th>\n",
       "      <td>29.000000</td>\n",
       "      <td>29.850000</td>\n",
       "      <td>28.500000</td>\n",
       "      <td>28.700001</td>\n",
       "      <td>7337356.0</td>\n",
       "      <td>0.765</td>\n",
       "      <td>0.775</td>\n",
       "      <td>0.735</td>\n",
       "      <td>0.770</td>\n",
       "      <td>12623.0</td>\n",
       "      <td>...</td>\n",
       "      <td>146.0</td>\n",
       "      <td>146.0</td>\n",
       "      <td>144.0</td>\n",
       "      <td>144.0</td>\n",
       "      <td>5790.0</td>\n",
       "      <td>75.099998</td>\n",
       "      <td>75.099998</td>\n",
       "      <td>75.099998</td>\n",
       "      <td>75.099998</td>\n",
       "      <td>451.0</td>\n",
       "    </tr>\n",
       "    <tr>\n",
       "      <th>2021-01-07</th>\n",
       "      <td>29.500000</td>\n",
       "      <td>31.299999</td>\n",
       "      <td>29.150000</td>\n",
       "      <td>30.850000</td>\n",
       "      <td>10902364.0</td>\n",
       "      <td>0.735</td>\n",
       "      <td>0.770</td>\n",
       "      <td>0.730</td>\n",
       "      <td>0.755</td>\n",
       "      <td>14039.0</td>\n",
       "      <td>...</td>\n",
       "      <td>146.0</td>\n",
       "      <td>146.0</td>\n",
       "      <td>144.0</td>\n",
       "      <td>144.0</td>\n",
       "      <td>5790.0</td>\n",
       "      <td>77.000000</td>\n",
       "      <td>77.000000</td>\n",
       "      <td>75.250000</td>\n",
       "      <td>75.250000</td>\n",
       "      <td>8026.0</td>\n",
       "    </tr>\n",
       "    <tr>\n",
       "      <th>2021-01-08</th>\n",
       "      <td>31.250000</td>\n",
       "      <td>32.450001</td>\n",
       "      <td>30.100000</td>\n",
       "      <td>30.250000</td>\n",
       "      <td>12724531.0</td>\n",
       "      <td>0.730</td>\n",
       "      <td>0.780</td>\n",
       "      <td>0.705</td>\n",
       "      <td>0.775</td>\n",
       "      <td>42012.0</td>\n",
       "      <td>...</td>\n",
       "      <td>146.0</td>\n",
       "      <td>146.0</td>\n",
       "      <td>146.0</td>\n",
       "      <td>146.0</td>\n",
       "      <td>3650.0</td>\n",
       "      <td>77.000000</td>\n",
       "      <td>77.000000</td>\n",
       "      <td>75.250000</td>\n",
       "      <td>75.250000</td>\n",
       "      <td>8026.0</td>\n",
       "    </tr>\n",
       "    <tr>\n",
       "      <th>2021-01-11</th>\n",
       "      <td>29.950001</td>\n",
       "      <td>32.049999</td>\n",
       "      <td>29.799999</td>\n",
       "      <td>30.950001</td>\n",
       "      <td>9025396.0</td>\n",
       "      <td>0.765</td>\n",
       "      <td>0.775</td>\n",
       "      <td>0.735</td>\n",
       "      <td>0.770</td>\n",
       "      <td>13500.0</td>\n",
       "      <td>...</td>\n",
       "      <td>141.0</td>\n",
       "      <td>154.0</td>\n",
       "      <td>141.0</td>\n",
       "      <td>154.0</td>\n",
       "      <td>12512.0</td>\n",
       "      <td>76.900002</td>\n",
       "      <td>77.599998</td>\n",
       "      <td>76.900002</td>\n",
       "      <td>77.599998</td>\n",
       "      <td>698.0</td>\n",
       "    </tr>\n",
       "  </tbody>\n",
       "</table>\n",
       "<p>5 rows × 430 columns</p>\n",
       "</div>"
      ],
      "text/plain": [
       "Pair       GRUPA AZOTY SPOLKA AKCYJNA                                   \\\n",
       "Price                            open        MAX        MIN      close   \n",
       "date                                                                     \n",
       "2021-01-04                  27.799999  28.900000  27.650000  28.900000   \n",
       "2021-01-05                  29.000000  29.850000  28.500000  28.700001   \n",
       "2021-01-07                  29.500000  31.299999  29.150000  30.850000   \n",
       "2021-01-08                  31.250000  32.450001  30.100000  30.250000   \n",
       "2021-01-11                  29.950001  32.049999  29.799999  30.950001   \n",
       "\n",
       "Pair                   ZAKLAD BUDOWY MASZYN ZREMB-CHOJNICE SPOLKA AKCYJNA  \\\n",
       "Price            trade                                               open   \n",
       "date                                                                        \n",
       "2021-01-04   3947170.0                                              0.725   \n",
       "2021-01-05   7337356.0                                              0.765   \n",
       "2021-01-07  10902364.0                                              0.735   \n",
       "2021-01-08  12724531.0                                              0.730   \n",
       "2021-01-11   9025396.0                                              0.765   \n",
       "\n",
       "Pair                                      ... TATRY MOUNTAIN RESORTS. A.S.  \\\n",
       "Price         MAX    MIN  close    trade  ...                         open   \n",
       "date                                      ...                                \n",
       "2021-01-04  0.780  0.700  0.765  21340.0  ...                        142.0   \n",
       "2021-01-05  0.775  0.735  0.770  12623.0  ...                        146.0   \n",
       "2021-01-07  0.770  0.730  0.755  14039.0  ...                        146.0   \n",
       "2021-01-08  0.780  0.705  0.775  42012.0  ...                        146.0   \n",
       "2021-01-11  0.775  0.735  0.770  13500.0  ...                        141.0   \n",
       "\n",
       "Pair                                     IMMOFINANZ AG                        \\\n",
       "Price         MAX    MIN  close    trade          open        MAX        MIN   \n",
       "date                                                                           \n",
       "2021-01-04  142.0  142.0  142.0   3550.0      0.000000   0.000000   0.000000   \n",
       "2021-01-05  146.0  144.0  144.0   5790.0     75.099998  75.099998  75.099998   \n",
       "2021-01-07  146.0  144.0  144.0   5790.0     77.000000  77.000000  75.250000   \n",
       "2021-01-08  146.0  146.0  146.0   3650.0     77.000000  77.000000  75.250000   \n",
       "2021-01-11  154.0  141.0  154.0  12512.0     76.900002  77.599998  76.900002   \n",
       "\n",
       "Pair                           \n",
       "Price           close   trade  \n",
       "date                           \n",
       "2021-01-04   0.000000     0.0  \n",
       "2021-01-05  75.099998   451.0  \n",
       "2021-01-07  75.250000  8026.0  \n",
       "2021-01-08  75.250000  8026.0  \n",
       "2021-01-11  77.599998   698.0  \n",
       "\n",
       "[5 rows x 430 columns]"
      ]
     },
     "execution_count": 94,
     "metadata": {},
     "output_type": "execute_result"
    }
   ],
   "source": [
    "# fill in na's\n",
    "df3 = df3.fillna(method=\"pad\")\n",
    "\n",
    "# replace rest\n",
    "df3.replace(np.nan, 0, inplace=True)\n",
    "# df.unstack()\n",
    "df3=df3.astype(np.float32)\n",
    "\n",
    "df3.head()"
   ]
  },
  {
   "cell_type": "code",
   "execution_count": 95,
   "metadata": {},
   "outputs": [
    {
     "data": {
      "text/html": [
       "<div>\n",
       "<style scoped>\n",
       "    .dataframe tbody tr th:only-of-type {\n",
       "        vertical-align: middle;\n",
       "    }\n",
       "\n",
       "    .dataframe tbody tr th {\n",
       "        vertical-align: top;\n",
       "    }\n",
       "\n",
       "    .dataframe thead tr th {\n",
       "        text-align: left;\n",
       "    }\n",
       "\n",
       "    .dataframe thead tr:last-of-type th {\n",
       "        text-align: right;\n",
       "    }\n",
       "</style>\n",
       "<table border=\"1\" class=\"dataframe\">\n",
       "  <thead>\n",
       "    <tr>\n",
       "      <th>Pair</th>\n",
       "      <th colspan=\"5\" halign=\"left\">GRUPA AZOTY SPOLKA AKCYJNA</th>\n",
       "      <th colspan=\"5\" halign=\"left\">ZAKLAD BUDOWY MASZYN ZREMB-CHOJNICE SPOLKA AKCYJNA</th>\n",
       "      <th>...</th>\n",
       "      <th colspan=\"5\" halign=\"left\">TATRY MOUNTAIN RESORTS. A.S.</th>\n",
       "      <th colspan=\"5\" halign=\"left\">IMMOFINANZ AG</th>\n",
       "    </tr>\n",
       "    <tr>\n",
       "      <th>Price</th>\n",
       "      <th>open</th>\n",
       "      <th>MAX</th>\n",
       "      <th>MIN</th>\n",
       "      <th>close</th>\n",
       "      <th>trade</th>\n",
       "      <th>open</th>\n",
       "      <th>MAX</th>\n",
       "      <th>MIN</th>\n",
       "      <th>close</th>\n",
       "      <th>trade</th>\n",
       "      <th>...</th>\n",
       "      <th>open</th>\n",
       "      <th>MAX</th>\n",
       "      <th>MIN</th>\n",
       "      <th>close</th>\n",
       "      <th>trade</th>\n",
       "      <th>open</th>\n",
       "      <th>MAX</th>\n",
       "      <th>MIN</th>\n",
       "      <th>close</th>\n",
       "      <th>trade</th>\n",
       "    </tr>\n",
       "    <tr>\n",
       "      <th>date</th>\n",
       "      <th></th>\n",
       "      <th></th>\n",
       "      <th></th>\n",
       "      <th></th>\n",
       "      <th></th>\n",
       "      <th></th>\n",
       "      <th></th>\n",
       "      <th></th>\n",
       "      <th></th>\n",
       "      <th></th>\n",
       "      <th></th>\n",
       "      <th></th>\n",
       "      <th></th>\n",
       "      <th></th>\n",
       "      <th></th>\n",
       "      <th></th>\n",
       "      <th></th>\n",
       "      <th></th>\n",
       "      <th></th>\n",
       "      <th></th>\n",
       "      <th></th>\n",
       "    </tr>\n",
       "  </thead>\n",
       "  <tbody>\n",
       "    <tr>\n",
       "      <th>2022-09-05</th>\n",
       "      <td>33.400002</td>\n",
       "      <td>33.740002</td>\n",
       "      <td>32.119999</td>\n",
       "      <td>33.099998</td>\n",
       "      <td>3516573.0</td>\n",
       "      <td>1.98</td>\n",
       "      <td>2.020</td>\n",
       "      <td>1.915</td>\n",
       "      <td>1.990</td>\n",
       "      <td>19794.0</td>\n",
       "      <td>...</td>\n",
       "      <td>147.000000</td>\n",
       "      <td>147.0</td>\n",
       "      <td>146.000000</td>\n",
       "      <td>146.0</td>\n",
       "      <td>7330.0</td>\n",
       "      <td>71.449997</td>\n",
       "      <td>71.449997</td>\n",
       "      <td>71.449997</td>\n",
       "      <td>71.449997</td>\n",
       "      <td>1786.0</td>\n",
       "    </tr>\n",
       "    <tr>\n",
       "      <th>2022-09-06</th>\n",
       "      <td>33.000000</td>\n",
       "      <td>34.580002</td>\n",
       "      <td>32.660000</td>\n",
       "      <td>34.400002</td>\n",
       "      <td>3024737.0</td>\n",
       "      <td>1.99</td>\n",
       "      <td>2.040</td>\n",
       "      <td>1.805</td>\n",
       "      <td>1.875</td>\n",
       "      <td>63813.0</td>\n",
       "      <td>...</td>\n",
       "      <td>146.000000</td>\n",
       "      <td>146.0</td>\n",
       "      <td>146.000000</td>\n",
       "      <td>146.0</td>\n",
       "      <td>2920.0</td>\n",
       "      <td>71.449997</td>\n",
       "      <td>71.449997</td>\n",
       "      <td>71.449997</td>\n",
       "      <td>71.449997</td>\n",
       "      <td>1786.0</td>\n",
       "    </tr>\n",
       "    <tr>\n",
       "      <th>2022-09-07</th>\n",
       "      <td>34.500000</td>\n",
       "      <td>35.480000</td>\n",
       "      <td>32.900002</td>\n",
       "      <td>35.279999</td>\n",
       "      <td>4226941.0</td>\n",
       "      <td>1.86</td>\n",
       "      <td>1.875</td>\n",
       "      <td>1.830</td>\n",
       "      <td>1.860</td>\n",
       "      <td>8457.0</td>\n",
       "      <td>...</td>\n",
       "      <td>146.000000</td>\n",
       "      <td>146.0</td>\n",
       "      <td>146.000000</td>\n",
       "      <td>146.0</td>\n",
       "      <td>4380.0</td>\n",
       "      <td>71.449997</td>\n",
       "      <td>71.449997</td>\n",
       "      <td>71.449997</td>\n",
       "      <td>71.449997</td>\n",
       "      <td>1786.0</td>\n",
       "    </tr>\n",
       "    <tr>\n",
       "      <th>2022-09-08</th>\n",
       "      <td>35.700001</td>\n",
       "      <td>35.759998</td>\n",
       "      <td>34.160000</td>\n",
       "      <td>34.680000</td>\n",
       "      <td>2420801.0</td>\n",
       "      <td>1.88</td>\n",
       "      <td>1.880</td>\n",
       "      <td>1.830</td>\n",
       "      <td>1.865</td>\n",
       "      <td>10650.0</td>\n",
       "      <td>...</td>\n",
       "      <td>149.899994</td>\n",
       "      <td>150.0</td>\n",
       "      <td>149.899994</td>\n",
       "      <td>150.0</td>\n",
       "      <td>13496.0</td>\n",
       "      <td>71.449997</td>\n",
       "      <td>71.449997</td>\n",
       "      <td>71.449997</td>\n",
       "      <td>71.449997</td>\n",
       "      <td>1786.0</td>\n",
       "    </tr>\n",
       "    <tr>\n",
       "      <th>2022-09-09</th>\n",
       "      <td>34.799999</td>\n",
       "      <td>36.000000</td>\n",
       "      <td>34.380001</td>\n",
       "      <td>36.000000</td>\n",
       "      <td>1709041.0</td>\n",
       "      <td>1.83</td>\n",
       "      <td>2.090</td>\n",
       "      <td>1.820</td>\n",
       "      <td>1.990</td>\n",
       "      <td>236633.0</td>\n",
       "      <td>...</td>\n",
       "      <td>149.899994</td>\n",
       "      <td>150.0</td>\n",
       "      <td>149.899994</td>\n",
       "      <td>150.0</td>\n",
       "      <td>13496.0</td>\n",
       "      <td>69.150002</td>\n",
       "      <td>69.150002</td>\n",
       "      <td>69.150002</td>\n",
       "      <td>69.150002</td>\n",
       "      <td>9474.0</td>\n",
       "    </tr>\n",
       "  </tbody>\n",
       "</table>\n",
       "<p>5 rows × 430 columns</p>\n",
       "</div>"
      ],
      "text/plain": [
       "Pair       GRUPA AZOTY SPOLKA AKCYJNA                                   \\\n",
       "Price                            open        MAX        MIN      close   \n",
       "date                                                                     \n",
       "2022-09-05                  33.400002  33.740002  32.119999  33.099998   \n",
       "2022-09-06                  33.000000  34.580002  32.660000  34.400002   \n",
       "2022-09-07                  34.500000  35.480000  32.900002  35.279999   \n",
       "2022-09-08                  35.700001  35.759998  34.160000  34.680000   \n",
       "2022-09-09                  34.799999  36.000000  34.380001  36.000000   \n",
       "\n",
       "Pair                  ZAKLAD BUDOWY MASZYN ZREMB-CHOJNICE SPOLKA AKCYJNA  \\\n",
       "Price           trade                                               open   \n",
       "date                                                                       \n",
       "2022-09-05  3516573.0                                               1.98   \n",
       "2022-09-06  3024737.0                                               1.99   \n",
       "2022-09-07  4226941.0                                               1.86   \n",
       "2022-09-08  2420801.0                                               1.88   \n",
       "2022-09-09  1709041.0                                               1.83   \n",
       "\n",
       "Pair                                       ... TATRY MOUNTAIN RESORTS. A.S.  \\\n",
       "Price         MAX    MIN  close     trade  ...                         open   \n",
       "date                                       ...                                \n",
       "2022-09-05  2.020  1.915  1.990   19794.0  ...                   147.000000   \n",
       "2022-09-06  2.040  1.805  1.875   63813.0  ...                   146.000000   \n",
       "2022-09-07  1.875  1.830  1.860    8457.0  ...                   146.000000   \n",
       "2022-09-08  1.880  1.830  1.865   10650.0  ...                   149.899994   \n",
       "2022-09-09  2.090  1.820  1.990  236633.0  ...                   149.899994   \n",
       "\n",
       "Pair                                          IMMOFINANZ AG             \\\n",
       "Price         MAX         MIN  close    trade          open        MAX   \n",
       "date                                                                     \n",
       "2022-09-05  147.0  146.000000  146.0   7330.0     71.449997  71.449997   \n",
       "2022-09-06  146.0  146.000000  146.0   2920.0     71.449997  71.449997   \n",
       "2022-09-07  146.0  146.000000  146.0   4380.0     71.449997  71.449997   \n",
       "2022-09-08  150.0  149.899994  150.0  13496.0     71.449997  71.449997   \n",
       "2022-09-09  150.0  149.899994  150.0  13496.0     69.150002  69.150002   \n",
       "\n",
       "Pair                                      \n",
       "Price             MIN      close   trade  \n",
       "date                                      \n",
       "2022-09-05  71.449997  71.449997  1786.0  \n",
       "2022-09-06  71.449997  71.449997  1786.0  \n",
       "2022-09-07  71.449997  71.449997  1786.0  \n",
       "2022-09-08  71.449997  71.449997  1786.0  \n",
       "2022-09-09  69.150002  69.150002  9474.0  \n",
       "\n",
       "[5 rows x 430 columns]"
      ]
     },
     "execution_count": 95,
     "metadata": {},
     "output_type": "execute_result"
    }
   ],
   "source": [
    "df3.tail()"
   ]
  },
  {
   "cell_type": "code",
   "execution_count": 96,
   "metadata": {},
   "outputs": [
    {
     "data": {
      "text/html": [
       "<div>\n",
       "<style scoped>\n",
       "    .dataframe tbody tr th:only-of-type {\n",
       "        vertical-align: middle;\n",
       "    }\n",
       "\n",
       "    .dataframe tbody tr th {\n",
       "        vertical-align: top;\n",
       "    }\n",
       "\n",
       "    .dataframe thead tr th {\n",
       "        text-align: left;\n",
       "    }\n",
       "\n",
       "    .dataframe thead tr:last-of-type th {\n",
       "        text-align: right;\n",
       "    }\n",
       "</style>\n",
       "<table border=\"1\" class=\"dataframe\">\n",
       "  <thead>\n",
       "    <tr>\n",
       "      <th>Pair</th>\n",
       "      <th colspan=\"7\" halign=\"left\">AC SPOLKA AKCYJNA</th>\n",
       "      <th colspan=\"3\" halign=\"left\">ALUMETAL SPOLKA AKCYJNA</th>\n",
       "      <th>...</th>\n",
       "      <th colspan=\"3\" halign=\"left\">ZPUE SPOLKA AKCYJNA</th>\n",
       "      <th colspan=\"7\" halign=\"left\">ČEZ. A.S.</th>\n",
       "    </tr>\n",
       "    <tr>\n",
       "      <th>Price</th>\n",
       "      <th>open</th>\n",
       "      <th>MAX</th>\n",
       "      <th>MIN</th>\n",
       "      <th>close</th>\n",
       "      <th>trade</th>\n",
       "      <th>rsi</th>\n",
       "      <th>ATR</th>\n",
       "      <th>open</th>\n",
       "      <th>MAX</th>\n",
       "      <th>MIN</th>\n",
       "      <th>...</th>\n",
       "      <th>trade</th>\n",
       "      <th>rsi</th>\n",
       "      <th>ATR</th>\n",
       "      <th>open</th>\n",
       "      <th>MAX</th>\n",
       "      <th>MIN</th>\n",
       "      <th>close</th>\n",
       "      <th>trade</th>\n",
       "      <th>rsi</th>\n",
       "      <th>ATR</th>\n",
       "    </tr>\n",
       "    <tr>\n",
       "      <th>date</th>\n",
       "      <th></th>\n",
       "      <th></th>\n",
       "      <th></th>\n",
       "      <th></th>\n",
       "      <th></th>\n",
       "      <th></th>\n",
       "      <th></th>\n",
       "      <th></th>\n",
       "      <th></th>\n",
       "      <th></th>\n",
       "      <th></th>\n",
       "      <th></th>\n",
       "      <th></th>\n",
       "      <th></th>\n",
       "      <th></th>\n",
       "      <th></th>\n",
       "      <th></th>\n",
       "      <th></th>\n",
       "      <th></th>\n",
       "      <th></th>\n",
       "      <th></th>\n",
       "    </tr>\n",
       "  </thead>\n",
       "  <tbody>\n",
       "    <tr>\n",
       "      <th>2022-08-22</th>\n",
       "      <td>22.900000</td>\n",
       "      <td>23.000000</td>\n",
       "      <td>22.900000</td>\n",
       "      <td>23.000000</td>\n",
       "      <td>8042.0</td>\n",
       "      <td>42.168102</td>\n",
       "      <td>0.264286</td>\n",
       "      <td>69.500000</td>\n",
       "      <td>70.800003</td>\n",
       "      <td>69.500000</td>\n",
       "      <td>...</td>\n",
       "      <td>9036.0</td>\n",
       "      <td>38.638313</td>\n",
       "      <td>7.357143</td>\n",
       "      <td>197.199997</td>\n",
       "      <td>198.000000</td>\n",
       "      <td>194.199997</td>\n",
       "      <td>195.100006</td>\n",
       "      <td>17045.0</td>\n",
       "      <td>41.410385</td>\n",
       "      <td>5.392858</td>\n",
       "    </tr>\n",
       "    <tr>\n",
       "      <th>2022-08-23</th>\n",
       "      <td>23.100000</td>\n",
       "      <td>23.100000</td>\n",
       "      <td>22.799999</td>\n",
       "      <td>22.900000</td>\n",
       "      <td>17909.0</td>\n",
       "      <td>40.336613</td>\n",
       "      <td>0.221429</td>\n",
       "      <td>70.599998</td>\n",
       "      <td>70.800003</td>\n",
       "      <td>70.000000</td>\n",
       "      <td>...</td>\n",
       "      <td>2710.0</td>\n",
       "      <td>38.638313</td>\n",
       "      <td>6.500000</td>\n",
       "      <td>198.000000</td>\n",
       "      <td>201.199997</td>\n",
       "      <td>191.500000</td>\n",
       "      <td>200.800003</td>\n",
       "      <td>271939.0</td>\n",
       "      <td>46.920025</td>\n",
       "      <td>5.428573</td>\n",
       "    </tr>\n",
       "    <tr>\n",
       "      <th>2022-08-24</th>\n",
       "      <td>22.799999</td>\n",
       "      <td>23.000000</td>\n",
       "      <td>22.799999</td>\n",
       "      <td>23.000000</td>\n",
       "      <td>14486.0</td>\n",
       "      <td>43.002613</td>\n",
       "      <td>0.228572</td>\n",
       "      <td>70.900002</td>\n",
       "      <td>71.199997</td>\n",
       "      <td>69.699997</td>\n",
       "      <td>...</td>\n",
       "      <td>27403.0</td>\n",
       "      <td>41.075752</td>\n",
       "      <td>6.500000</td>\n",
       "      <td>200.800003</td>\n",
       "      <td>200.800003</td>\n",
       "      <td>195.399994</td>\n",
       "      <td>195.399994</td>\n",
       "      <td>22344.0</td>\n",
       "      <td>42.812523</td>\n",
       "      <td>5.278573</td>\n",
       "    </tr>\n",
       "    <tr>\n",
       "      <th>2022-08-25</th>\n",
       "      <td>23.000000</td>\n",
       "      <td>23.100000</td>\n",
       "      <td>22.799999</td>\n",
       "      <td>22.799999</td>\n",
       "      <td>14154.0</td>\n",
       "      <td>39.227280</td>\n",
       "      <td>0.228572</td>\n",
       "      <td>70.400002</td>\n",
       "      <td>71.400002</td>\n",
       "      <td>70.199997</td>\n",
       "      <td>...</td>\n",
       "      <td>272.0</td>\n",
       "      <td>40.215580</td>\n",
       "      <td>5.714286</td>\n",
       "      <td>195.399994</td>\n",
       "      <td>199.000000</td>\n",
       "      <td>195.100006</td>\n",
       "      <td>196.199997</td>\n",
       "      <td>41384.0</td>\n",
       "      <td>43.600254</td>\n",
       "      <td>5.285715</td>\n",
       "    </tr>\n",
       "    <tr>\n",
       "      <th>2022-08-26</th>\n",
       "      <td>22.799999</td>\n",
       "      <td>22.799999</td>\n",
       "      <td>22.799999</td>\n",
       "      <td>22.799999</td>\n",
       "      <td>2508.0</td>\n",
       "      <td>39.227280</td>\n",
       "      <td>0.207144</td>\n",
       "      <td>70.300003</td>\n",
       "      <td>71.400002</td>\n",
       "      <td>70.300003</td>\n",
       "      <td>...</td>\n",
       "      <td>39727.0</td>\n",
       "      <td>41.534103</td>\n",
       "      <td>5.071429</td>\n",
       "      <td>195.000000</td>\n",
       "      <td>195.199997</td>\n",
       "      <td>194.000000</td>\n",
       "      <td>195.199997</td>\n",
       "      <td>23788.0</td>\n",
       "      <td>42.806511</td>\n",
       "      <td>5.207144</td>\n",
       "    </tr>\n",
       "    <tr>\n",
       "      <th>2022-08-29</th>\n",
       "      <td>22.799999</td>\n",
       "      <td>23.000000</td>\n",
       "      <td>22.400000</td>\n",
       "      <td>23.000000</td>\n",
       "      <td>12400.0</td>\n",
       "      <td>44.843292</td>\n",
       "      <td>0.228572</td>\n",
       "      <td>71.199997</td>\n",
       "      <td>71.199997</td>\n",
       "      <td>70.300003</td>\n",
       "      <td>...</td>\n",
       "      <td>12016.0</td>\n",
       "      <td>44.185421</td>\n",
       "      <td>4.428571</td>\n",
       "      <td>193.100006</td>\n",
       "      <td>196.000000</td>\n",
       "      <td>189.199997</td>\n",
       "      <td>189.199997</td>\n",
       "      <td>1659935.0</td>\n",
       "      <td>38.301060</td>\n",
       "      <td>5.428573</td>\n",
       "    </tr>\n",
       "    <tr>\n",
       "      <th>2022-08-30</th>\n",
       "      <td>22.500000</td>\n",
       "      <td>22.900000</td>\n",
       "      <td>22.500000</td>\n",
       "      <td>22.500000</td>\n",
       "      <td>2943.0</td>\n",
       "      <td>35.909237</td>\n",
       "      <td>0.242858</td>\n",
       "      <td>70.300003</td>\n",
       "      <td>70.699997</td>\n",
       "      <td>69.699997</td>\n",
       "      <td>...</td>\n",
       "      <td>11774.0</td>\n",
       "      <td>43.132210</td>\n",
       "      <td>4.071429</td>\n",
       "      <td>192.800003</td>\n",
       "      <td>193.000000</td>\n",
       "      <td>190.500000</td>\n",
       "      <td>190.500000</td>\n",
       "      <td>14800.0</td>\n",
       "      <td>39.779987</td>\n",
       "      <td>5.071430</td>\n",
       "    </tr>\n",
       "    <tr>\n",
       "      <th>2022-08-31</th>\n",
       "      <td>23.000000</td>\n",
       "      <td>23.000000</td>\n",
       "      <td>22.700001</td>\n",
       "      <td>22.700001</td>\n",
       "      <td>3214.0</td>\n",
       "      <td>40.974876</td>\n",
       "      <td>0.264286</td>\n",
       "      <td>70.900002</td>\n",
       "      <td>70.900002</td>\n",
       "      <td>70.099998</td>\n",
       "      <td>...</td>\n",
       "      <td>8237.0</td>\n",
       "      <td>44.555458</td>\n",
       "      <td>3.500000</td>\n",
       "      <td>190.500000</td>\n",
       "      <td>193.100006</td>\n",
       "      <td>188.100006</td>\n",
       "      <td>188.100006</td>\n",
       "      <td>52372.0</td>\n",
       "      <td>37.970455</td>\n",
       "      <td>5.014287</td>\n",
       "    </tr>\n",
       "    <tr>\n",
       "      <th>2022-09-01</th>\n",
       "      <td>23.000000</td>\n",
       "      <td>23.100000</td>\n",
       "      <td>22.500000</td>\n",
       "      <td>22.799999</td>\n",
       "      <td>22256.0</td>\n",
       "      <td>43.384350</td>\n",
       "      <td>0.285715</td>\n",
       "      <td>70.199997</td>\n",
       "      <td>70.699997</td>\n",
       "      <td>70.099998</td>\n",
       "      <td>...</td>\n",
       "      <td>111126.0</td>\n",
       "      <td>41.222328</td>\n",
       "      <td>4.142857</td>\n",
       "      <td>188.000000</td>\n",
       "      <td>188.600006</td>\n",
       "      <td>187.000000</td>\n",
       "      <td>188.600006</td>\n",
       "      <td>64049.0</td>\n",
       "      <td>38.597122</td>\n",
       "      <td>4.942858</td>\n",
       "    </tr>\n",
       "    <tr>\n",
       "      <th>2022-09-02</th>\n",
       "      <td>23.000000</td>\n",
       "      <td>23.000000</td>\n",
       "      <td>22.799999</td>\n",
       "      <td>23.000000</td>\n",
       "      <td>9053.0</td>\n",
       "      <td>47.959927</td>\n",
       "      <td>0.292858</td>\n",
       "      <td>70.000000</td>\n",
       "      <td>70.500000</td>\n",
       "      <td>69.699997</td>\n",
       "      <td>...</td>\n",
       "      <td>13702.0</td>\n",
       "      <td>49.378735</td>\n",
       "      <td>4.285714</td>\n",
       "      <td>189.000000</td>\n",
       "      <td>189.000000</td>\n",
       "      <td>181.500000</td>\n",
       "      <td>183.399994</td>\n",
       "      <td>131165.0</td>\n",
       "      <td>34.673779</td>\n",
       "      <td>5.192858</td>\n",
       "    </tr>\n",
       "    <tr>\n",
       "      <th>2022-09-05</th>\n",
       "      <td>22.799999</td>\n",
       "      <td>23.000000</td>\n",
       "      <td>22.799999</td>\n",
       "      <td>23.000000</td>\n",
       "      <td>4584.0</td>\n",
       "      <td>47.959927</td>\n",
       "      <td>0.285715</td>\n",
       "      <td>70.000000</td>\n",
       "      <td>71.199997</td>\n",
       "      <td>70.000000</td>\n",
       "      <td>...</td>\n",
       "      <td>12197.0</td>\n",
       "      <td>48.178753</td>\n",
       "      <td>4.714286</td>\n",
       "      <td>180.199997</td>\n",
       "      <td>180.199997</td>\n",
       "      <td>174.199997</td>\n",
       "      <td>177.000000</td>\n",
       "      <td>111020.0</td>\n",
       "      <td>30.556883</td>\n",
       "      <td>5.550001</td>\n",
       "    </tr>\n",
       "    <tr>\n",
       "      <th>2022-09-06</th>\n",
       "      <td>23.000000</td>\n",
       "      <td>23.000000</td>\n",
       "      <td>22.799999</td>\n",
       "      <td>22.799999</td>\n",
       "      <td>1834.0</td>\n",
       "      <td>43.849876</td>\n",
       "      <td>0.292858</td>\n",
       "      <td>71.000000</td>\n",
       "      <td>71.000000</td>\n",
       "      <td>70.300003</td>\n",
       "      <td>...</td>\n",
       "      <td>60352.0</td>\n",
       "      <td>61.333858</td>\n",
       "      <td>5.214286</td>\n",
       "      <td>177.100006</td>\n",
       "      <td>177.100006</td>\n",
       "      <td>172.899994</td>\n",
       "      <td>172.899994</td>\n",
       "      <td>73044.0</td>\n",
       "      <td>28.243355</td>\n",
       "      <td>5.292859</td>\n",
       "    </tr>\n",
       "    <tr>\n",
       "      <th>2022-09-07</th>\n",
       "      <td>22.700001</td>\n",
       "      <td>22.799999</td>\n",
       "      <td>22.500000</td>\n",
       "      <td>22.799999</td>\n",
       "      <td>4311.0</td>\n",
       "      <td>43.849876</td>\n",
       "      <td>0.300000</td>\n",
       "      <td>70.199997</td>\n",
       "      <td>71.400002</td>\n",
       "      <td>70.199997</td>\n",
       "      <td>...</td>\n",
       "      <td>10005.0</td>\n",
       "      <td>56.574902</td>\n",
       "      <td>5.214286</td>\n",
       "      <td>176.300003</td>\n",
       "      <td>185.699997</td>\n",
       "      <td>176.000000</td>\n",
       "      <td>184.500000</td>\n",
       "      <td>47996.0</td>\n",
       "      <td>41.693855</td>\n",
       "      <td>5.935716</td>\n",
       "    </tr>\n",
       "    <tr>\n",
       "      <th>2022-09-08</th>\n",
       "      <td>22.799999</td>\n",
       "      <td>22.799999</td>\n",
       "      <td>22.400000</td>\n",
       "      <td>22.400000</td>\n",
       "      <td>19615.0</td>\n",
       "      <td>36.578850</td>\n",
       "      <td>0.321429</td>\n",
       "      <td>70.599998</td>\n",
       "      <td>71.400002</td>\n",
       "      <td>70.300003</td>\n",
       "      <td>...</td>\n",
       "      <td>11028.0</td>\n",
       "      <td>55.417244</td>\n",
       "      <td>5.714286</td>\n",
       "      <td>181.699997</td>\n",
       "      <td>188.100006</td>\n",
       "      <td>181.699997</td>\n",
       "      <td>186.800003</td>\n",
       "      <td>57680.0</td>\n",
       "      <td>43.937744</td>\n",
       "      <td>6.192859</td>\n",
       "    </tr>\n",
       "    <tr>\n",
       "      <th>2022-09-09</th>\n",
       "      <td>22.600000</td>\n",
       "      <td>22.799999</td>\n",
       "      <td>22.100000</td>\n",
       "      <td>22.799999</td>\n",
       "      <td>30817.0</td>\n",
       "      <td>46.188118</td>\n",
       "      <td>0.357143</td>\n",
       "      <td>71.400002</td>\n",
       "      <td>71.400002</td>\n",
       "      <td>70.099998</td>\n",
       "      <td>...</td>\n",
       "      <td>280.0</td>\n",
       "      <td>49.917244</td>\n",
       "      <td>5.857143</td>\n",
       "      <td>187.000000</td>\n",
       "      <td>187.899994</td>\n",
       "      <td>179.699997</td>\n",
       "      <td>180.000000</td>\n",
       "      <td>5354634.0</td>\n",
       "      <td>39.141609</td>\n",
       "      <td>6.192859</td>\n",
       "    </tr>\n",
       "  </tbody>\n",
       "</table>\n",
       "<p>15 rows × 602 columns</p>\n",
       "</div>"
      ],
      "text/plain": [
       "Pair       AC SPOLKA AKCYJNA                                            \\\n",
       "Price                   open        MAX        MIN      close    trade   \n",
       "date                                                                     \n",
       "2022-08-22         22.900000  23.000000  22.900000  23.000000   8042.0   \n",
       "2022-08-23         23.100000  23.100000  22.799999  22.900000  17909.0   \n",
       "2022-08-24         22.799999  23.000000  22.799999  23.000000  14486.0   \n",
       "2022-08-25         23.000000  23.100000  22.799999  22.799999  14154.0   \n",
       "2022-08-26         22.799999  22.799999  22.799999  22.799999   2508.0   \n",
       "2022-08-29         22.799999  23.000000  22.400000  23.000000  12400.0   \n",
       "2022-08-30         22.500000  22.900000  22.500000  22.500000   2943.0   \n",
       "2022-08-31         23.000000  23.000000  22.700001  22.700001   3214.0   \n",
       "2022-09-01         23.000000  23.100000  22.500000  22.799999  22256.0   \n",
       "2022-09-02         23.000000  23.000000  22.799999  23.000000   9053.0   \n",
       "2022-09-05         22.799999  23.000000  22.799999  23.000000   4584.0   \n",
       "2022-09-06         23.000000  23.000000  22.799999  22.799999   1834.0   \n",
       "2022-09-07         22.700001  22.799999  22.500000  22.799999   4311.0   \n",
       "2022-09-08         22.799999  22.799999  22.400000  22.400000  19615.0   \n",
       "2022-09-09         22.600000  22.799999  22.100000  22.799999  30817.0   \n",
       "\n",
       "Pair                            ALUMETAL SPOLKA AKCYJNA                        \\\n",
       "Price             rsi       ATR                    open        MAX        MIN   \n",
       "date                                                                            \n",
       "2022-08-22  42.168102  0.264286               69.500000  70.800003  69.500000   \n",
       "2022-08-23  40.336613  0.221429               70.599998  70.800003  70.000000   \n",
       "2022-08-24  43.002613  0.228572               70.900002  71.199997  69.699997   \n",
       "2022-08-25  39.227280  0.228572               70.400002  71.400002  70.199997   \n",
       "2022-08-26  39.227280  0.207144               70.300003  71.400002  70.300003   \n",
       "2022-08-29  44.843292  0.228572               71.199997  71.199997  70.300003   \n",
       "2022-08-30  35.909237  0.242858               70.300003  70.699997  69.699997   \n",
       "2022-08-31  40.974876  0.264286               70.900002  70.900002  70.099998   \n",
       "2022-09-01  43.384350  0.285715               70.199997  70.699997  70.099998   \n",
       "2022-09-02  47.959927  0.292858               70.000000  70.500000  69.699997   \n",
       "2022-09-05  47.959927  0.285715               70.000000  71.199997  70.000000   \n",
       "2022-09-06  43.849876  0.292858               71.000000  71.000000  70.300003   \n",
       "2022-09-07  43.849876  0.300000               70.199997  71.400002  70.199997   \n",
       "2022-09-08  36.578850  0.321429               70.599998  71.400002  70.300003   \n",
       "2022-09-09  46.188118  0.357143               71.400002  71.400002  70.099998   \n",
       "\n",
       "Pair        ... ZPUE SPOLKA AKCYJNA                        ČEZ. A.S.  \\\n",
       "Price       ...               trade        rsi       ATR        open   \n",
       "date        ...                                                        \n",
       "2022-08-22  ...              9036.0  38.638313  7.357143  197.199997   \n",
       "2022-08-23  ...              2710.0  38.638313  6.500000  198.000000   \n",
       "2022-08-24  ...             27403.0  41.075752  6.500000  200.800003   \n",
       "2022-08-25  ...               272.0  40.215580  5.714286  195.399994   \n",
       "2022-08-26  ...             39727.0  41.534103  5.071429  195.000000   \n",
       "2022-08-29  ...             12016.0  44.185421  4.428571  193.100006   \n",
       "2022-08-30  ...             11774.0  43.132210  4.071429  192.800003   \n",
       "2022-08-31  ...              8237.0  44.555458  3.500000  190.500000   \n",
       "2022-09-01  ...            111126.0  41.222328  4.142857  188.000000   \n",
       "2022-09-02  ...             13702.0  49.378735  4.285714  189.000000   \n",
       "2022-09-05  ...             12197.0  48.178753  4.714286  180.199997   \n",
       "2022-09-06  ...             60352.0  61.333858  5.214286  177.100006   \n",
       "2022-09-07  ...             10005.0  56.574902  5.214286  176.300003   \n",
       "2022-09-08  ...             11028.0  55.417244  5.714286  181.699997   \n",
       "2022-09-09  ...               280.0  49.917244  5.857143  187.000000   \n",
       "\n",
       "Pair                                                                            \n",
       "Price              MAX         MIN       close      trade        rsi       ATR  \n",
       "date                                                                            \n",
       "2022-08-22  198.000000  194.199997  195.100006    17045.0  41.410385  5.392858  \n",
       "2022-08-23  201.199997  191.500000  200.800003   271939.0  46.920025  5.428573  \n",
       "2022-08-24  200.800003  195.399994  195.399994    22344.0  42.812523  5.278573  \n",
       "2022-08-25  199.000000  195.100006  196.199997    41384.0  43.600254  5.285715  \n",
       "2022-08-26  195.199997  194.000000  195.199997    23788.0  42.806511  5.207144  \n",
       "2022-08-29  196.000000  189.199997  189.199997  1659935.0  38.301060  5.428573  \n",
       "2022-08-30  193.000000  190.500000  190.500000    14800.0  39.779987  5.071430  \n",
       "2022-08-31  193.100006  188.100006  188.100006    52372.0  37.970455  5.014287  \n",
       "2022-09-01  188.600006  187.000000  188.600006    64049.0  38.597122  4.942858  \n",
       "2022-09-02  189.000000  181.500000  183.399994   131165.0  34.673779  5.192858  \n",
       "2022-09-05  180.199997  174.199997  177.000000   111020.0  30.556883  5.550001  \n",
       "2022-09-06  177.100006  172.899994  172.899994    73044.0  28.243355  5.292859  \n",
       "2022-09-07  185.699997  176.000000  184.500000    47996.0  41.693855  5.935716  \n",
       "2022-09-08  188.100006  181.699997  186.800003    57680.0  43.937744  6.192859  \n",
       "2022-09-09  187.899994  179.699997  180.000000  5354634.0  39.141609  6.192859  \n",
       "\n",
       "[15 rows x 602 columns]"
      ]
     },
     "execution_count": 96,
     "metadata": {},
     "output_type": "execute_result"
    }
   ],
   "source": [
    "df_list_assets = df3.columns.levels[0].tolist()\n",
    "df5 = df3\n",
    "\n",
    "def ATR(df, column_level, look_back=14 ,min_column=\"MIN\", max_column=\"MAX\", close_column=\"close\"):\n",
    "        high_low = df[column_level, max_column] - df[column_level, min_column]\n",
    "        high_close = np.abs(df[column_level, max_column] - df[column_level, close_column].shift())\n",
    "        low_close = np.abs(df[column_level, min_column] - df[column_level, close_column].shift())\n",
    "        ranges = pd.concat([high_low, high_close, low_close], axis=1)\n",
    "        true_range = np.max(ranges, axis=1)\n",
    "        df[i, \"ATR\"] = true_range.rolling(look_back).sum()/look_back\n",
    "        df.sort_index()\n",
    "        return df\n",
    "\n",
    "\n",
    "for i in df_list_assets:\n",
    "    close_delta = df5[i, \"close\"].diff(1).dropna()\n",
    "    periods=14\n",
    "    up = close_delta.clip(lower=0)\n",
    "    down = -1*close_delta.clip(upper=0)\n",
    "    ma_up = up.ewm(com=periods-1, adjust=True, min_periods=periods).mean()\n",
    "    ma_down = down.ewm(com=periods-1, adjust=True, min_periods=periods).mean()\n",
    "    rsi = ma_up/ma_down\n",
    "    rsi = 100 - (100/(1+rsi))\n",
    "    df5[i, \"rsi\"] = rsi\n",
    "    df5 = df5.sort_index(axis=1)\n",
    "df5.sort_index()\n",
    "df5 = df5.fillna(method=\"backfill\")\n",
    "\n",
    "# replace rest\n",
    "df5.replace(np.nan, 0, inplace=True)\n",
    "# df.unstack()\n",
    "df5=df5.astype(np.float32)\n",
    "\n",
    "for i in df_list_assets:\n",
    "    lookback = 14\n",
    "    ATR(df5, i, lookback)\n",
    "    df5 = df5.sort_index(axis=1)\n",
    "    df5 = df5.fillna(method=\"backfill\")\n",
    "    #highh = df5[i, \"MAX\"].rolling(lookback).max()\n",
    "    #lowl = df5[i, \"MIN\"].rolling(lookback).min()\n",
    "    #df5[i, \"CHOP\"]= 100*np.log10((df5[i, \"ATR\"].rolling(lookback).sum()+1e-8) / (highh - lowl+1e-8)) / (np.log10(lookback+1e-8)+1e-8)\n",
    "\n",
    "\n",
    "df5=df5.reindex(columns=[\"open\", \"MAX\", \"MIN\", \"close\", \"trade\", \"rsi\", \"ATR\"], level='Price')\n",
    "\n",
    "\n",
    "\n",
    "for i in df_list_assets:\n",
    "    for y in [\"open\", \"MAX\", \"MIN\", \"close\", \"trade\", \"rsi\", \"ATR\"]:\n",
    "        #df5[i, y] = df5[i, y].fillna(method=\"pad\")\n",
    "        df5[i, y] = df5[i, y].fillna(method=\"backfill\")\n",
    "        df5[i, y].replace([np.inf, -np.inf], np.nan)\n",
    "        df5[i, y] = df5[i, y].fillna(method=\"backfill\")\n",
    "        #non+=df5[i, y].isna().sum()\n",
    "#non\n",
    "df5.tail(15)\n"
   ]
  },
  {
   "cell_type": "code",
   "execution_count": 97,
   "metadata": {},
   "outputs": [
    {
     "data": {
      "text/plain": [
       "'\\nasset_list2 = []\\nfor i in df_list_assets:\\n    if df5[i, \"CHOP\"].max()==np.inf or df5[i, \"ATR\"].max()==np.inf:\\n        asset_list2.append(i)\\nasset_list2\\ndf6 = df5 \\ndf6 = df6.drop(asset_list2 , axis = 1)\\ndf6\\n'"
      ]
     },
     "execution_count": 97,
     "metadata": {},
     "output_type": "execute_result"
    }
   ],
   "source": [
    "\"\"\"\n",
    "asset_list2 = []\n",
    "for i in df_list_assets:\n",
    "    if df5[i, \"CHOP\"].max()==np.inf or df5[i, \"ATR\"].max()==np.inf:\n",
    "        asset_list2.append(i)\n",
    "asset_list2\n",
    "df6 = df5 \n",
    "df6 = df6.drop(asset_list2 , axis = 1)\n",
    "df6\n",
    "\"\"\""
   ]
  },
  {
   "cell_type": "code",
   "execution_count": 98,
   "metadata": {},
   "outputs": [
    {
     "data": {
      "text/plain": [
       "'asset_to_drop = []\\nfor i in df6.columns.levels[0].tolist():\\n    if df6[i, \"CHOP\"].max()>200:\\n        print(f\"Asset : {i}\", df6[i, \"CHOP\"].max(), df6[i, \"ATR\"].max())\\n        asset_to_drop.append(i)\\nlen(asset_to_drop)'"
      ]
     },
     "execution_count": 98,
     "metadata": {},
     "output_type": "execute_result"
    }
   ],
   "source": [
    "\"\"\"asset_to_drop = []\n",
    "for i in df6.columns.levels[0].tolist():\n",
    "    if df6[i, \"CHOP\"].max()>200:\n",
    "        print(f\"Asset : {i}\", df6[i, \"CHOP\"].max(), df6[i, \"ATR\"].max())\n",
    "        asset_to_drop.append(i)\n",
    "len(asset_to_drop)\"\"\""
   ]
  },
  {
   "cell_type": "code",
   "execution_count": 99,
   "metadata": {},
   "outputs": [
    {
     "name": "stdout",
     "output_type": "stream",
     "text": [
      "test#: 61 train#: 324 test_frac: 0.15844155844155844 cutoff_time: 2022-06-13 00:00:00\n"
     ]
    }
   ],
   "source": [
    "# split\n",
    "df6=df5\n",
    "test_split=0.15\n",
    "c=int(len(df6.index)*test_split)\n",
    "split_time = df6.index[-c]\n",
    "\n",
    "df6 = df6.loc[datetime.strptime('01-03-2021', \"%d-%m-%Y\"):datetime.strptime('08-09-2022', \"%d-%m-%Y\"), :]\n",
    "#df7 = df6.loc[datetime.strptime('01-01-2017', \"%d-%m-%Y\"):datetime.strptime('12-05-2022', \"%d-%m-%Y\"), :]\n",
    "\n",
    "df_test = df6[df6.index>split_time]\n",
    "df_train = df6[df6.index<=split_time]\n",
    "\n",
    "df_test.to_csv(os.path.join(os.getcwd(), \"test3_WIG_data.csv\"))\n",
    "df_train.to_csv(os.path.join(os.getcwd(), \"train3_WIG_data.csv\"), index=True)\n",
    "df_train.to_hdf(os.path.join(os.getcwd(), \"train3_WIG_data.h5\"), key=\"df\", mode=\"w\")\n",
    "df_test.to_hdf(os.path.join(os.getcwd(), \"test3_WIG_data.h5\"), key=\"df\", mode=\"w\")\n",
    "#df7.to_hdf(os.path.join(os.getcwd(), \"long_WIG_data.h5\"), key=\"df\", mode=\"w\")\n",
    "\n",
    "print('test#:',len(df_test), 'train#:',len(df_train), 'test_frac:', len(df_test)/len(df6), 'cutoff_time:',split_time)\n"
   ]
  },
  {
   "cell_type": "code",
   "execution_count": 100,
   "metadata": {},
   "outputs": [
    {
     "data": {
      "text/html": [
       "<div>\n",
       "<style scoped>\n",
       "    .dataframe tbody tr th:only-of-type {\n",
       "        vertical-align: middle;\n",
       "    }\n",
       "\n",
       "    .dataframe tbody tr th {\n",
       "        vertical-align: top;\n",
       "    }\n",
       "\n",
       "    .dataframe thead tr th {\n",
       "        text-align: left;\n",
       "    }\n",
       "\n",
       "    .dataframe thead tr:last-of-type th {\n",
       "        text-align: right;\n",
       "    }\n",
       "</style>\n",
       "<table border=\"1\" class=\"dataframe\">\n",
       "  <thead>\n",
       "    <tr>\n",
       "      <th>Pair</th>\n",
       "      <th colspan=\"7\" halign=\"left\">AC SPOLKA AKCYJNA</th>\n",
       "      <th colspan=\"3\" halign=\"left\">ALUMETAL SPOLKA AKCYJNA</th>\n",
       "      <th>...</th>\n",
       "      <th colspan=\"3\" halign=\"left\">ZPUE SPOLKA AKCYJNA</th>\n",
       "      <th colspan=\"7\" halign=\"left\">ČEZ. A.S.</th>\n",
       "    </tr>\n",
       "    <tr>\n",
       "      <th>Price</th>\n",
       "      <th>open</th>\n",
       "      <th>MAX</th>\n",
       "      <th>MIN</th>\n",
       "      <th>close</th>\n",
       "      <th>trade</th>\n",
       "      <th>rsi</th>\n",
       "      <th>ATR</th>\n",
       "      <th>open</th>\n",
       "      <th>MAX</th>\n",
       "      <th>MIN</th>\n",
       "      <th>...</th>\n",
       "      <th>trade</th>\n",
       "      <th>rsi</th>\n",
       "      <th>ATR</th>\n",
       "      <th>open</th>\n",
       "      <th>MAX</th>\n",
       "      <th>MIN</th>\n",
       "      <th>close</th>\n",
       "      <th>trade</th>\n",
       "      <th>rsi</th>\n",
       "      <th>ATR</th>\n",
       "    </tr>\n",
       "    <tr>\n",
       "      <th>date</th>\n",
       "      <th></th>\n",
       "      <th></th>\n",
       "      <th></th>\n",
       "      <th></th>\n",
       "      <th></th>\n",
       "      <th></th>\n",
       "      <th></th>\n",
       "      <th></th>\n",
       "      <th></th>\n",
       "      <th></th>\n",
       "      <th></th>\n",
       "      <th></th>\n",
       "      <th></th>\n",
       "      <th></th>\n",
       "      <th></th>\n",
       "      <th></th>\n",
       "      <th></th>\n",
       "      <th></th>\n",
       "      <th></th>\n",
       "      <th></th>\n",
       "      <th></th>\n",
       "    </tr>\n",
       "  </thead>\n",
       "  <tbody>\n",
       "    <tr>\n",
       "      <th>2022-09-02</th>\n",
       "      <td>23.000000</td>\n",
       "      <td>23.000000</td>\n",
       "      <td>22.799999</td>\n",
       "      <td>23.000000</td>\n",
       "      <td>9053.0</td>\n",
       "      <td>47.959927</td>\n",
       "      <td>0.292858</td>\n",
       "      <td>70.000000</td>\n",
       "      <td>70.500000</td>\n",
       "      <td>69.699997</td>\n",
       "      <td>...</td>\n",
       "      <td>13702.0</td>\n",
       "      <td>49.378735</td>\n",
       "      <td>4.285714</td>\n",
       "      <td>189.000000</td>\n",
       "      <td>189.000000</td>\n",
       "      <td>181.500000</td>\n",
       "      <td>183.399994</td>\n",
       "      <td>131165.0</td>\n",
       "      <td>34.673779</td>\n",
       "      <td>5.192858</td>\n",
       "    </tr>\n",
       "    <tr>\n",
       "      <th>2022-09-05</th>\n",
       "      <td>22.799999</td>\n",
       "      <td>23.000000</td>\n",
       "      <td>22.799999</td>\n",
       "      <td>23.000000</td>\n",
       "      <td>4584.0</td>\n",
       "      <td>47.959927</td>\n",
       "      <td>0.285715</td>\n",
       "      <td>70.000000</td>\n",
       "      <td>71.199997</td>\n",
       "      <td>70.000000</td>\n",
       "      <td>...</td>\n",
       "      <td>12197.0</td>\n",
       "      <td>48.178753</td>\n",
       "      <td>4.714286</td>\n",
       "      <td>180.199997</td>\n",
       "      <td>180.199997</td>\n",
       "      <td>174.199997</td>\n",
       "      <td>177.000000</td>\n",
       "      <td>111020.0</td>\n",
       "      <td>30.556883</td>\n",
       "      <td>5.550001</td>\n",
       "    </tr>\n",
       "    <tr>\n",
       "      <th>2022-09-06</th>\n",
       "      <td>23.000000</td>\n",
       "      <td>23.000000</td>\n",
       "      <td>22.799999</td>\n",
       "      <td>22.799999</td>\n",
       "      <td>1834.0</td>\n",
       "      <td>43.849876</td>\n",
       "      <td>0.292858</td>\n",
       "      <td>71.000000</td>\n",
       "      <td>71.000000</td>\n",
       "      <td>70.300003</td>\n",
       "      <td>...</td>\n",
       "      <td>60352.0</td>\n",
       "      <td>61.333858</td>\n",
       "      <td>5.214286</td>\n",
       "      <td>177.100006</td>\n",
       "      <td>177.100006</td>\n",
       "      <td>172.899994</td>\n",
       "      <td>172.899994</td>\n",
       "      <td>73044.0</td>\n",
       "      <td>28.243355</td>\n",
       "      <td>5.292859</td>\n",
       "    </tr>\n",
       "    <tr>\n",
       "      <th>2022-09-07</th>\n",
       "      <td>22.700001</td>\n",
       "      <td>22.799999</td>\n",
       "      <td>22.500000</td>\n",
       "      <td>22.799999</td>\n",
       "      <td>4311.0</td>\n",
       "      <td>43.849876</td>\n",
       "      <td>0.300000</td>\n",
       "      <td>70.199997</td>\n",
       "      <td>71.400002</td>\n",
       "      <td>70.199997</td>\n",
       "      <td>...</td>\n",
       "      <td>10005.0</td>\n",
       "      <td>56.574902</td>\n",
       "      <td>5.214286</td>\n",
       "      <td>176.300003</td>\n",
       "      <td>185.699997</td>\n",
       "      <td>176.000000</td>\n",
       "      <td>184.500000</td>\n",
       "      <td>47996.0</td>\n",
       "      <td>41.693855</td>\n",
       "      <td>5.935716</td>\n",
       "    </tr>\n",
       "    <tr>\n",
       "      <th>2022-09-08</th>\n",
       "      <td>22.799999</td>\n",
       "      <td>22.799999</td>\n",
       "      <td>22.400000</td>\n",
       "      <td>22.400000</td>\n",
       "      <td>19615.0</td>\n",
       "      <td>36.578850</td>\n",
       "      <td>0.321429</td>\n",
       "      <td>70.599998</td>\n",
       "      <td>71.400002</td>\n",
       "      <td>70.300003</td>\n",
       "      <td>...</td>\n",
       "      <td>11028.0</td>\n",
       "      <td>55.417244</td>\n",
       "      <td>5.714286</td>\n",
       "      <td>181.699997</td>\n",
       "      <td>188.100006</td>\n",
       "      <td>181.699997</td>\n",
       "      <td>186.800003</td>\n",
       "      <td>57680.0</td>\n",
       "      <td>43.937744</td>\n",
       "      <td>6.192859</td>\n",
       "    </tr>\n",
       "  </tbody>\n",
       "</table>\n",
       "<p>5 rows × 602 columns</p>\n",
       "</div>"
      ],
      "text/plain": [
       "Pair       AC SPOLKA AKCYJNA                                            \\\n",
       "Price                   open        MAX        MIN      close    trade   \n",
       "date                                                                     \n",
       "2022-09-02         23.000000  23.000000  22.799999  23.000000   9053.0   \n",
       "2022-09-05         22.799999  23.000000  22.799999  23.000000   4584.0   \n",
       "2022-09-06         23.000000  23.000000  22.799999  22.799999   1834.0   \n",
       "2022-09-07         22.700001  22.799999  22.500000  22.799999   4311.0   \n",
       "2022-09-08         22.799999  22.799999  22.400000  22.400000  19615.0   \n",
       "\n",
       "Pair                            ALUMETAL SPOLKA AKCYJNA                        \\\n",
       "Price             rsi       ATR                    open        MAX        MIN   \n",
       "date                                                                            \n",
       "2022-09-02  47.959927  0.292858               70.000000  70.500000  69.699997   \n",
       "2022-09-05  47.959927  0.285715               70.000000  71.199997  70.000000   \n",
       "2022-09-06  43.849876  0.292858               71.000000  71.000000  70.300003   \n",
       "2022-09-07  43.849876  0.300000               70.199997  71.400002  70.199997   \n",
       "2022-09-08  36.578850  0.321429               70.599998  71.400002  70.300003   \n",
       "\n",
       "Pair        ... ZPUE SPOLKA AKCYJNA                        ČEZ. A.S.  \\\n",
       "Price       ...               trade        rsi       ATR        open   \n",
       "date        ...                                                        \n",
       "2022-09-02  ...             13702.0  49.378735  4.285714  189.000000   \n",
       "2022-09-05  ...             12197.0  48.178753  4.714286  180.199997   \n",
       "2022-09-06  ...             60352.0  61.333858  5.214286  177.100006   \n",
       "2022-09-07  ...             10005.0  56.574902  5.214286  176.300003   \n",
       "2022-09-08  ...             11028.0  55.417244  5.714286  181.699997   \n",
       "\n",
       "Pair                                                                           \n",
       "Price              MAX         MIN       close     trade        rsi       ATR  \n",
       "date                                                                           \n",
       "2022-09-02  189.000000  181.500000  183.399994  131165.0  34.673779  5.192858  \n",
       "2022-09-05  180.199997  174.199997  177.000000  111020.0  30.556883  5.550001  \n",
       "2022-09-06  177.100006  172.899994  172.899994   73044.0  28.243355  5.292859  \n",
       "2022-09-07  185.699997  176.000000  184.500000   47996.0  41.693855  5.935716  \n",
       "2022-09-08  188.100006  181.699997  186.800003   57680.0  43.937744  6.192859  \n",
       "\n",
       "[5 rows x 602 columns]"
      ]
     },
     "execution_count": 100,
     "metadata": {},
     "output_type": "execute_result"
    }
   ],
   "source": [
    "df_test.tail()"
   ]
  },
  {
   "cell_type": "code",
   "execution_count": 101,
   "metadata": {},
   "outputs": [
    {
     "name": "stdout",
     "output_type": "stream",
     "text": [
      "[[3.82000008e+01 3.90000000e+01 3.82000008e+01 3.84000015e+01\n",
      "  4.17280000e+04 6.70405655e+01 7.00000490e-01]\n",
      " [3.87000008e+01 3.90000000e+01 3.80999985e+01 3.90000000e+01\n",
      "  6.06010000e+04 7.22423477e+01 7.07143511e-01]\n",
      " [3.90000000e+01 3.95000000e+01 3.87999992e+01 3.95000000e+01\n",
      "  6.59760000e+04 7.56861038e+01 7.28572028e-01]\n",
      " [3.95000000e+01 3.95000000e+01 3.92999992e+01 3.94000015e+01\n",
      "  7.37730000e+04 7.37163086e+01 7.21429007e-01]\n",
      " [3.92999992e+01 3.94000015e+01 3.89000015e+01 3.89000015e+01\n",
      "  4.88310000e+04 6.46554184e+01 7.21429007e-01]\n",
      " [3.89000015e+01 3.94000015e+01 3.89000015e+01 3.94000015e+01\n",
      "  3.98410000e+04 6.87870941e+01 6.64285932e-01]\n",
      " [3.95999985e+01 4.00000000e+01 3.95000000e+01 3.99000015e+01\n",
      "  3.10676000e+05 7.22770996e+01 6.57142912e-01]\n",
      " [4.00000000e+01 4.00000000e+01 3.85999985e+01 3.90000000e+01\n",
      "  1.63945000e+05 5.94019814e+01 7.28571756e-01]\n",
      " [3.89000015e+01 3.89000015e+01 3.85999985e+01 3.87999992e+01\n",
      "  4.20550000e+04 5.69731712e+01 7.14285987e-01]\n",
      " [3.87999992e+01 3.90000000e+01 3.87999992e+01 3.90000000e+01\n",
      "  3.85120000e+04 5.87878609e+01 7.00000218e-01]\n",
      " [3.92000008e+01 3.95000000e+01 3.85000000e+01 3.95000000e+01\n",
      "  6.84360000e+04 6.29903069e+01 6.85714449e-01]\n",
      " [3.94000015e+01 3.94000015e+01 3.87000008e+01 3.87000008e+01\n",
      "  2.16086000e+05 5.35766792e+01 6.42857415e-01]\n",
      " [3.72000008e+01 3.72999992e+01 3.65999985e+01 3.70000000e+01\n",
      "  1.39187000e+05 3.99229774e+01 7.57143293e-01]\n",
      " [3.70000000e+01 3.75999985e+01 3.70000000e+01 3.74000015e+01\n",
      "  6.14860000e+04 4.35671883e+01 7.64286041e-01]\n",
      " [3.74000015e+01 3.74000015e+01 3.50000000e+01 3.67999992e+01\n",
      "  1.22246000e+05 3.96791267e+01 8.78571919e-01]\n",
      " [3.69000015e+01 3.69000015e+01 3.65000000e+01 3.67000008e+01\n",
      "  1.82880000e+04 3.90535812e+01 8.42857633e-01]\n",
      " [3.65999985e+01 3.67000008e+01 3.64000015e+01 3.67000008e+01\n",
      "  5.21810000e+04 3.90535812e+01 8.14286096e-01]\n",
      " [3.65000000e+01 3.67999992e+01 3.64000015e+01 3.64000015e+01\n",
      "  7.71860000e+04 3.70228004e+01 8.28571592e-01]\n",
      " [3.65000000e+01 3.67000008e+01 3.65000000e+01 3.65000000e+01\n",
      "  8.54290000e+04 3.81768150e+01 8.14285823e-01]\n",
      " [3.65999985e+01 3.67999992e+01 3.65999985e+01 3.67999992e+01\n",
      "  5.35920000e+04 4.16323242e+01 8.00000054e-01]\n",
      " [3.67999992e+01 3.67999992e+01 3.65999985e+01 3.65999985e+01\n",
      "  2.39380000e+04 4.00261192e+01 7.71428789e-01]\n",
      " [3.69000015e+01 3.69000015e+01 3.67000008e+01 3.69000015e+01\n",
      "  2.94560000e+04 4.35445900e+01 6.92857470e-01]\n",
      " [3.67999992e+01 3.70000000e+01 3.67000008e+01 3.70000000e+01\n",
      "  2.76590000e+04 4.47089806e+01 6.85714449e-01]\n",
      " [3.70999985e+01 3.72000008e+01 3.65000000e+01 3.65000000e+01\n",
      "  5.68600000e+04 4.02399635e+01 7.21428735e-01]\n",
      " [3.72000008e+01 3.72000008e+01 3.65000000e+01 3.70000000e+01\n",
      "  1.47820000e+04 4.60477600e+01 7.00000218e-01]\n",
      " [3.65000000e+01 3.65000000e+01 3.60000000e+01 3.60000000e+01\n",
      "  4.04290000e+04 3.80773315e+01 7.14285987e-01]\n",
      " [3.60999985e+01 3.62999992e+01 3.55000000e+01 3.62999992e+01\n",
      "  3.02780000e+04 4.13567429e+01 6.21428626e-01]\n",
      " [3.64000015e+01 3.64000015e+01 3.60999985e+01 3.64000015e+01\n",
      "  1.99650000e+04 4.24508514e+01 6.00000381e-01]\n",
      " [3.64000015e+01 3.67999992e+01 3.60000000e+01 3.60000000e+01\n",
      "  3.61690000e+04 3.92929878e+01 4.85714504e-01]\n",
      " [3.65000000e+01 3.67999992e+01 3.62000008e+01 3.65000000e+01\n",
      "  1.32600000e+04 4.48187408e+01 5.14285769e-01]\n",
      " [3.67000008e+01 3.80000000e+01 3.65999985e+01 3.74000015e+01\n",
      "  1.02886000e+05 5.30949287e+01 6.00000109e-01]\n",
      " [3.74000015e+01 3.74000015e+01 3.70000000e+01 3.74000015e+01\n",
      "  3.11540000e+04 5.30949287e+01 6.00000381e-01]\n",
      " [3.74000015e+01 3.80000000e+01 3.70000000e+01 3.75999985e+01\n",
      "  2.69134000e+05 5.48404999e+01 6.50000436e-01]\n",
      " [3.75999985e+01 3.75999985e+01 3.67999992e+01 3.74000015e+01\n",
      "  9.38210000e+04 5.27273140e+01 6.85714722e-01]\n",
      " [3.72000008e+01 3.72999992e+01 3.67000008e+01 3.67999992e+01\n",
      "  2.46400000e+04 4.68897858e+01 7.21429007e-01]\n",
      " [3.72000008e+01 3.75000000e+01 3.70999985e+01 3.75000000e+01\n",
      "  1.39887000e+05 5.33752365e+01 7.50000272e-01]\n",
      " [3.75999985e+01 3.75999985e+01 3.60999985e+01 3.70000000e+01\n",
      "  7.20250000e+04 4.87920532e+01 8.35714613e-01]\n",
      " [3.74000015e+01 3.77999992e+01 3.72000008e+01 3.74000015e+01\n",
      "  4.18140000e+04 5.23193779e+01 8.42857361e-01]\n",
      " [3.74000015e+01 3.77000008e+01 3.72000008e+01 3.74000015e+01\n",
      "  5.27970000e+04 5.23193779e+01 8.28571592e-01]\n",
      " [3.74000015e+01 3.74000015e+01 3.70000000e+01 3.70999985e+01\n",
      "  1.18610000e+04 4.93618240e+01 7.85714558e-01]\n",
      " [3.75000000e+01 3.75000000e+01 3.72999992e+01 3.72999992e+01\n",
      "  3.14970000e+04 5.13367996e+01 7.57143293e-01]\n",
      " [3.70999985e+01 3.79000015e+01 3.70000000e+01 3.72000008e+01\n",
      "  1.69157000e+05 5.02808723e+01 8.00000327e-01]\n",
      " [3.75000000e+01 3.80000000e+01 3.75000000e+01 3.79000015e+01\n",
      "  1.53109000e+05 5.69552956e+01 8.00000327e-01]\n",
      " [3.79000015e+01 3.79000015e+01 3.75000000e+01 3.77999992e+01\n",
      "  2.03890000e+04 5.58027916e+01 7.71429062e-01]\n",
      " [3.79000015e+01 3.82000008e+01 3.75000000e+01 3.75000000e+01\n",
      "  7.92940000e+04 5.23786087e+01 7.14286259e-01]\n",
      " [3.74000015e+01 3.77999992e+01 3.74000015e+01 3.77000008e+01\n",
      "  1.40570000e+04 5.43880539e+01 7.14285987e-01]\n",
      " [3.77000008e+01 3.77000008e+01 3.70000000e+01 3.74000015e+01\n",
      "  6.23590000e+04 5.09173851e+01 6.92857470e-01]\n",
      " [3.72000008e+01 3.74000015e+01 3.70999985e+01 3.74000015e+01\n",
      "  2.17220000e+04 5.09173851e+01 6.57143457e-01]\n",
      " [3.70999985e+01 3.79000015e+01 3.70999985e+01 3.72999992e+01\n",
      "  4.12150000e+04 4.96914978e+01 6.64286477e-01]\n",
      " [3.72999992e+01 3.75999985e+01 3.72999992e+01 3.75999985e+01\n",
      "  2.06200000e+03 5.33221931e+01 6.35714940e-01]]\n",
      "[[1.01595751 1.03723408 1.01595751 1.02127668]\n",
      " [1.02925538 1.03723408 1.01329787 1.03723408]\n",
      " [1.03723408 1.05053196 1.03191492 1.05053196]\n",
      " [1.05053196 1.05053196 1.04521279 1.04787242]\n",
      " [1.04521279 1.04787242 1.03457455 1.03457455]\n",
      " [1.03457455 1.04787242 1.03457455 1.04787242]\n",
      " [1.05319149 1.06382983 1.05053196 1.0611703 ]\n",
      " [1.06382983 1.06382983 1.02659575 1.03723408]\n",
      " [1.03457455 1.03457455 1.02659575 1.03191492]\n",
      " [1.03191492 1.03723408 1.03191492 1.03723408]\n",
      " [1.04255325 1.05053196 1.02393621 1.05053196]\n",
      " [1.04787242 1.04787242 1.02925538 1.02925538]\n",
      " [0.98936176 0.9920213  0.97340425 0.98404259]\n",
      " [0.98404259 1.         0.98404259 0.99468093]\n",
      " [0.99468093 0.99468093 0.9308511  0.97872342]\n",
      " [0.98138306 0.98138306 0.97074472 0.97606389]\n",
      " [0.97340425 0.97606389 0.96808519 0.97606389]\n",
      " [0.97074472 0.97872342 0.96808519 0.96808519]\n",
      " [0.97074472 0.97606389 0.97074472 0.97074472]\n",
      " [0.97340425 0.97872342 0.97340425 0.97872342]\n",
      " [0.97872342 0.97872342 0.97340425 0.97340425]\n",
      " [0.98138306 0.98138306 0.97606389 0.98138306]\n",
      " [0.97872342 0.98404259 0.97606389 0.98404259]\n",
      " [0.98670213 0.98936176 0.97074472 0.97074472]\n",
      " [0.98936176 0.98936176 0.97074472 0.98404259]\n",
      " [0.97074472 0.97074472 0.95744685 0.95744685]\n",
      " [0.96010638 0.96542555 0.94414897 0.96542555]\n",
      " [0.96808519 0.96808519 0.96010638 0.96808519]\n",
      " [0.96808519 0.97872342 0.95744685 0.95744685]\n",
      " [0.97074472 0.97872342 0.96276602 0.97074472]\n",
      " [0.97606389 1.01063834 0.97340425 0.99468093]\n",
      " [0.99468093 0.99468093 0.98404259 0.99468093]\n",
      " [0.99468093 1.01063834 0.98404259 1.        ]\n",
      " [1.         1.         0.97872342 0.99468093]\n",
      " [0.98936176 0.9920213  0.97606389 0.97872342]\n",
      " [0.98936176 0.99734047 0.98670213 0.99734047]\n",
      " [1.         1.         0.96010638 0.98404259]\n",
      " [0.99468093 1.00531917 0.98936176 0.99468093]\n",
      " [0.99468093 1.00265964 0.98936176 0.99468093]\n",
      " [0.99468093 0.99468093 0.98404259 0.98670213]\n",
      " [0.99734047 0.99734047 0.9920213  0.9920213 ]\n",
      " [0.98670213 1.0079788  0.98404259 0.98936176]\n",
      " [0.99734047 1.01063834 0.99734047 1.0079788 ]\n",
      " [1.0079788  1.0079788  0.99734047 1.00531917]\n",
      " [1.0079788  1.01595751 0.99734047 0.99734047]\n",
      " [0.99468093 1.00531917 0.99468093 1.00265964]\n",
      " [1.00265964 1.00265964 0.98404259 0.99468093]\n",
      " [0.98936176 0.99468093 0.98670213 0.99468093]\n",
      " [0.98670213 1.0079788  0.98670213 0.9920213 ]\n",
      " [0.9920213  1.         0.9920213  1.        ]]\n"
     ]
    },
    {
     "data": {
      "text/plain": [
       "200"
      ]
     },
     "execution_count": 101,
     "metadata": {},
     "output_type": "execute_result"
    }
   ],
   "source": [
    "asset_names = df_train.columns.levels[0].tolist()\n",
    "features = df_train.columns.levels[1].tolist()\n",
    "data = df_train.values.reshape(\n",
    "    (len(df_train), len(asset_names), len(features)))\n",
    "data = np.transpose(data, (1, 0, 2)) # transponse to: (Num Asset, len(df), Features)\n",
    "times = df_train.index\n",
    "price_columns = [\"open\", \"MAX\", \"MIN\", \"close\"]\n",
    "non_price_columns = set(\n",
    "    df_train.columns.levels[1]) - set(price_columns)\n",
    "\n",
    "\n",
    "x = data.reshape((-1, len(features)))\n",
    "stats = dict(mean=x.mean(0), std=x.std(0))\n",
    "\n",
    "\n",
    "data_window = data[:, 50:50+50].copy()\n",
    "\n",
    "y1 = data_window[:, -1, 3] / data_window[:, -2, 0] ##relative price vector (use close price)\n",
    "\n",
    "data_window[:, -1, 3]\n",
    "data_window[:, -2, 3]\n",
    "\n",
    "y1 = np.concatenate([[1.0], y1])  # add cash price\n",
    "\n",
    "print(data_window[0])\n",
    "\n",
    "nb_pc = len(price_columns) #number of price columns\n",
    "last_close_price = data_window[:, -1, 3] #get last close price\n",
    "\n",
    "data_window[:, :, :nb_pc] /= last_close_price[:, np.newaxis, np.newaxis]\n",
    "data_window[:, :, :nb_pc]\n",
    "print(data_window[:, :, :nb_pc][0])\n",
    "\n",
    "data_window[:, :, nb_pc:] -= stats[\"mean\"][None, None, nb_pc:]\n",
    "data_window[:, :, nb_pc:] /= stats[\"std\"][None, None, nb_pc:]\n",
    "data_window[:, :, nb_pc:] = np.clip(\n",
    "    data_window[:, :, nb_pc:],\n",
    "    stats[\"mean\"][nb_pc:] - stats[\"std\"][nb_pc:] * 10,\n",
    "    stats[\"mean\"][nb_pc:] + stats[\"std\"][nb_pc:] * 10\n",
    ")\n",
    "\n",
    "data_window[:, :, nb_pc:][0]\n",
    "\n",
    "high=data.shape[1] - 50 - 2\n",
    "idx = np.random.randint(\n",
    "                low=10 + 1, high=data.shape[1] - 50 - 2)\n",
    "idx"
   ]
  },
  {
   "cell_type": "code",
   "execution_count": 102,
   "metadata": {},
   "outputs": [],
   "source": [
    "def sharpe(returns, freq=30, rfr=0):\n",
    "    \"\"\" Given a set of returns, calculates naive (rfr=0) sharpe (eq 28). \"\"\"\n",
    "    return (np.sqrt(freq) * np.mean(returns - rfr + 1e-8)) / np.std(returns - rfr + 1e-8)\n",
    "\n",
    "\n",
    "def max_drawdown(returns):\n",
    "    \"\"\" Max drawdown. See https://www.investopedia.com/terms/m/maximum-drawdown-mdd.asp \"\"\"\n",
    "    peak = returns.max()\n",
    "    trough = returns[returns.argmax():].min()\n",
    "    return (trough - peak) / (peak + 1e-8)"
   ]
  },
  {
   "cell_type": "code",
   "execution_count": 103,
   "metadata": {},
   "outputs": [],
   "source": [
    "class DataProvider(object):\n",
    "    \"\"\"\n",
    "    Acts as data provider to Enviroment\n",
    "    https://github.com/wassname/rl-portfolio-management/blob/master/rl_portfolio_management/environments/portfolio.py\n",
    "    \"\"\"\n",
    "    def __init__(self, df, steps=50, scale=True, scale_extra_cols=True, \n",
    "                 augment=0.001, window_lengh=50, random_reset=True):\n",
    "        \"\"\"\n",
    "            df - csv for data frame index of timestamps\n",
    "                and multi-index columns levels=[['LTCBTC'],...],['open','low','high','close',...]]\n",
    "                an example is included as an hdf file in this repository\n",
    "            steps - total steps in episode\n",
    "            scale - scale the data for each episode\n",
    "            scale_extra_cols - scale extra columns by global mean and std\n",
    "            augment - fraction to augment the data by\n",
    "            random_reset - reset to a random time (otherwise continue through time)\n",
    "        \"\"\"\n",
    "        self.steps = steps + 1\n",
    "        self.augment = augment\n",
    "        self.random_reset = random_reset\n",
    "        self.scale = scale\n",
    "        self.scale_extra_cols = scale_extra_cols\n",
    "        self.window_length = window_lengh\n",
    "        self.idx = self.window_length\n",
    "        \n",
    "        #dataframe to matrix transfomration\n",
    "        self.asset_names = df.columns.levels[0].tolist()\n",
    "        self.features = df.columns.levels[1].tolist()\n",
    "        data = df.values.reshape(\n",
    "            (len(df), len(self.asset_names), len(self.features)))\n",
    "        self._data = np.transpose(data, (1, 0, 2)) ## transponse to: (Num Asset, len(df), Features)\n",
    "        self._times = df.index\n",
    "\n",
    "        self.price_columns = [\"open\", \"MAX\", \"MIN\", \"close\"]\n",
    "        self.non_price_columns = set(\n",
    "            df.columns.levels[1]) - set(self.price_columns)\n",
    "        \n",
    "        if scale_extra_cols:\n",
    "            x = self._data.reshape((-1, len(self.features)))\n",
    "            self.stats = dict(mean=x.mean(0), std=x.std(0)) ## mean and std used for MIN/MAX scalling\n",
    "        \n",
    "        self.reset()\n",
    "\n",
    "    def _step(self):\n",
    "        \"\"\"\n",
    "        https://arxiv.org/pdf/1706.10059.pdf \n",
    "        \"\"\"\n",
    "        # get history matrix from dataframe\n",
    "        data_window = self.data[:, self.step:self.step + self.window_length].copy()\n",
    "        #print(f\"Step: {self.step}, {self.step + self.window_length}\")\n",
    "\n",
    "        # (eq.1) prices\n",
    "        y1 = data_window[:, -1, 3] / data_window[:, -2, 3] ## eq(1) get close price (column index 3)\n",
    "        y1 = np.concatenate([[1.0], y1])  # add cash price\n",
    "\n",
    "        # (eq 18) X: prices are divided by close price\n",
    "        nb_pc = len(self.price_columns) #number of price columns -> 4\n",
    "        \n",
    "        if self.scale:\n",
    "            last_close_price = data_window[:, -1, 0]\n",
    "            data_window[:, :, :nb_pc] /= last_close_price[:, np.newaxis, np.newaxis] #divide by last close price in batch\n",
    "        \n",
    "        if self.scale_extra_cols:\n",
    "            # normalize non price columns -> column \"trade\"\n",
    "            data_window[:, :, nb_pc:] -= self.stats[\"mean\"][None, None, nb_pc:]\n",
    "            data_window[:, :, nb_pc:] /= self.stats[\"std\"][None, None, nb_pc:]\n",
    "            data_window[:, :, nb_pc:] = np.clip(\n",
    "                data_window[:, :, nb_pc:],\n",
    "                self.stats[\"mean\"][nb_pc:] - self.stats[\"std\"][nb_pc:] * 10,\n",
    "                self.stats[\"mean\"][nb_pc:] + self.stats[\"std\"][nb_pc:] * 10\n",
    "            )\n",
    "\n",
    "        self.step += 1\n",
    "        history = data_window\n",
    "        done = bool(self.step >= self.steps)\n",
    "        \n",
    "        return history, y1, done\n",
    "    \n",
    "    def reset(self):\n",
    "        \n",
    "        self.step = 0\n",
    "        \n",
    "        # get data for this episode\n",
    "        if self.random_reset: #get random period\n",
    "            self.idx = np.random.randint(\n",
    "                low=self.window_length + 1, high=self._data.shape[1] - self.steps - 2)\n",
    "                #DATA must be in range -> we have to have no less then window lengh data points\n",
    "                #end point index should be lower then len(df)-steps\n",
    "        else:\n",
    "            # continue sequentially, before reseting to start\n",
    "            if self.idx>(self._data.shape[1] - self.steps - self.window_length - 1):\n",
    "                self.idx=self.window_length + 1\n",
    "            else:\n",
    "                self.idx += self.steps\n",
    "        data = self._data[:, self.idx -\n",
    "                          self.window_length:self.idx + self.steps + 1].copy()\n",
    "        self.times = self._times[self.idx -\n",
    "                                 self.window_length:self.idx + self.steps + 1]\n",
    "\n",
    "        # augment data to prevent overfitting\n",
    "        data += np.random.normal(loc=0, scale=self.augment, size=data.shape)\n",
    "\n",
    "        self.data = data\n",
    "        \n",
    "        \n",
    "    "
   ]
  },
  {
   "cell_type": "code",
   "execution_count": 104,
   "metadata": {},
   "outputs": [],
   "source": [
    "class PortfolioSim(object):\n",
    "    \"\"\"\n",
    "    Portfolio management sim.\n",
    "    Params:\n",
    "    - cost e.g. 5 zl -> bank comission\n",
    "    Based of [Jiang 2017](https://arxiv.org/abs/1706.10059)\n",
    "    - time cost - cost for maintaining the traiding account\n",
    "    \"\"\"\n",
    "\n",
    "    def __init__(self, asset_names=[], steps=50, traiding_cost=5, time_cost=0.0):\n",
    "        self.traiding_cost = traiding_cost\n",
    "        self.time_cost = time_cost\n",
    "        self.steps = steps\n",
    "        self.asset_names = asset_names\n",
    "        self.eps = 1e-8\n",
    "        self.reset()\n",
    "    \n",
    "    def _step(self, w1, y1):\n",
    "        \"\"\"\n",
    "        Step.\n",
    "        w1 - new action of portfolio weights - e.g. [0.1,0.9, 0.0]\n",
    "        y1 - price relative vector also called return\n",
    "            e.g. [1.0, 0.9, 1.1]\n",
    "        Numbered equations are from https://arxiv.org/abs/1706.10059\n",
    "        https://github.com/bassemfg/ddpg-rl-portfolio-management/blob/master/environment/portfolio.py\n",
    "        \"\"\"\n",
    "        assert w1.shape == y1.shape, 'w1 and y1 must have the same shape'\n",
    "        assert y1[0] == 1.0, 'y1[0] must be 1'\n",
    "        \n",
    "        w0 = self.w0\n",
    "        p0 = self.p0\n",
    "        # eq7\n",
    "        dw1 = (y1 * w0) / (np.dot(y1, w0) + self.eps) # adding eps for avoiding divide by 0\n",
    "\n",
    "        # (eq16) cost to change portfolio\n",
    "        # (excluding change in cash [1:] to avoid double counting for transaction cost)\n",
    "        c1 = self.traiding_cost  * (np.abs(dw1[1:] - w1[1:])).sum()\n",
    "        assert c1 < 1.0, 'Cost is larger than current holding'\n",
    "        \n",
    "        p1 = p0 * (1 - c1) * np.dot(y1, w0)  # (eq11) final portfolio value\n",
    "        p1 = p1 * (1 - self.time_cost) # add cost of holding assets\n",
    "        #clipping -> cannot have negative holds of stocks\n",
    "        p1 = np.clip(p1, 0, np.inf)\n",
    "        rho1 = p1 / p0 - 1  # rate of returns\n",
    "        r1 = np.log((p1 + self.eps) / (p0 + self.eps))  # (eq10) log rate of return\n",
    "        # (eq22) immediate reward is log rate of return scaled by episode length\n",
    "        reward = r1 / self.steps\n",
    "        \n",
    "        # remember for next step\n",
    "        self.w0 = w1\n",
    "        self.p0 = p1\n",
    "        \n",
    "        # if we run out of money, we're done\n",
    "        done = bool(p1 == 0)\n",
    "        \n",
    "                # should only return single values, not list\n",
    "        info = {\n",
    "            \"reward\": reward,\n",
    "            \"log_return\": r1,\n",
    "            \"portfolio_value\": p1,\n",
    "            \"market_return\": y1.mean(),\n",
    "            \"rate_of_return\": rho1,\n",
    "            \"weights_mean\": w1.mean(),\n",
    "            \"weights_std\": w1.std(),\n",
    "            \"cost\": c1\n",
    "        }\n",
    "        \n",
    "        \n",
    "        for i, name in enumerate([\"CASH\"] + self.asset_names):\n",
    "            info['weight_' + name] = w1[i]\n",
    "            info['price_' + name] = y1[i]\n",
    "\n",
    "        self.infos.append(info)\n",
    "        return reward, info, done\n",
    "    \n",
    "    \n",
    "    def reset(self):\n",
    "        self.infos = []\n",
    "        self.w0 = np.array([1.0] + [0.0] * len(self.asset_names)) # 1.0 is a cash plaeceholder\n",
    "        self.p0 = 1.0"
   ]
  },
  {
   "cell_type": "code",
   "execution_count": 105,
   "metadata": {},
   "outputs": [],
   "source": [
    "class PortfolioEnv(gym.Env):\n",
    "    \"\"\"\n",
    "    An environment for financial portfolio management.\n",
    "    Financial portfolio management is the process of constant redistribution of a fund into different\n",
    "    financial products.\n",
    "    Based on [Jiang 2017](https://arxiv.org/abs/1706.10059)\n",
    "    \"\"\"\n",
    "\n",
    "    metadata = {'render.modes': ['notebook', 'ansi']}\n",
    "    \n",
    "    def __init__(self,\n",
    "                 df,\n",
    "                 steps=50,\n",
    "                 trading_cost=5,\n",
    "                 time_cost=0.00,\n",
    "                 window_length=50,\n",
    "                 augment=0.001,\n",
    "                 output_mode='mlp',\n",
    "                 log_dir=None,\n",
    "                 scale=True,\n",
    "                 scale_extra_cols=True,\n",
    "                 random_reset=True\n",
    "                 ):\n",
    "        \n",
    "\n",
    "        \"\"\"\n",
    "        An environment for financial portfolio management.\n",
    "        Params:\n",
    "            df - csv for data frame index of timestamps\n",
    "                 and multi-index columns levels=[[ASSET NAME],...],['open','low','high','close']]\n",
    "            steps - steps in episode\n",
    "            window_length - how many past observations[\"history\"] to return\n",
    "            trading_cost - cost of trade as a fraction -> 5zl\n",
    "            time_cost - cost of holding as a fraction\n",
    "            augment - fraction to randomly shift data by\n",
    "            output_mode: decides observation[\"history\"] shape\n",
    "            - 'EIIE' for (assets, window, 3)\n",
    "            - 'mlp' for (assets*window*3)\n",
    "            log_dir: directory to save plots to\n",
    "            scale - scales price data by last opening price on each episode (except return)\n",
    "            scale_extra_cols - scales non price data using mean and std for whole dataset\n",
    "        \"\"\"\n",
    "        self.src = DataProvider(df=df, steps=steps, scale=scale, scale_extra_cols=scale_extra_cols,\n",
    "                           augment=augment, window_lengh=window_length,\n",
    "                           random_reset=random_reset)\n",
    "    \n",
    "        self._plot = self._plot2 = self._plot3 = None\n",
    "        self.output_mode = output_mode\n",
    "        self.sim = PortfolioSim(\n",
    "            asset_names=self.src.asset_names,\n",
    "            traiding_cost=trading_cost,\n",
    "            time_cost=time_cost,\n",
    "            steps=steps)\n",
    "        self.log_dir = log_dir\n",
    "        self.eps = 1e-8\n",
    "\n",
    "        # openai gym attributes\n",
    "        # action will be the portfolio weights [cash_bias,w1,w2...] where wn are [0, 1] for each asset\n",
    "        nb_assets = len(self.src.asset_names)\n",
    "        self.action_space = gym.spaces.Box(0.0, 1.0, shape=(nb_assets + 1,))\n",
    "\n",
    "        # get the history space from the data min and max\n",
    "        if output_mode == 'EIIE':\n",
    "            obs_shape = (\n",
    "                nb_assets,\n",
    "                window_length,\n",
    "                len(self.src.features)\n",
    "            )\n",
    "            \n",
    "        elif output_mode == 'mlp':\n",
    "            obs_shape = (nb_assets) * window_length * \\\n",
    "                (len(self.src.features))\n",
    "        else:\n",
    "            raise Exception('Invalid value for output_mode: %s' %\n",
    "                            self.output_mode)\n",
    "\n",
    "        \"\"\"self.observation_space = gym.spaces.Dict({\n",
    "            'history': gym.spaces.Box(\n",
    "                -10,\n",
    "                20 if scale else 1,  # if scale=True observed price changes return could be large fractions\n",
    "                (obs_shape,)\n",
    "            ),\n",
    "            'weights': self.action_space\n",
    "        })\"\"\"\n",
    "        \n",
    "        self.observation_space = gym.spaces.Box(low=-np.inf, high=np.inf, shape=(nb_assets, window_length,\n",
    "                                                                                 df.shape[-1]))\n",
    "        \n",
    "        self.reset()\n",
    "    \n",
    "    def step(self, action):\n",
    "        \"\"\"\n",
    "        Step the env.\n",
    "        Actions should be portfolio [w0...]\n",
    "        - Where wn is a portfolio weight between 0 and 1. The first (w0) is cash_bias\n",
    "        - cn is the portfolio conversion weights see PortfolioSim._step for description\n",
    "        \"\"\"\n",
    "        logger.debug('action: %s', action)\n",
    "\n",
    "        weights = np.clip(action, 0.0, 1.0)\n",
    "        weights /= weights.sum() + self.eps\n",
    "\n",
    "        # Sanity checks\n",
    "       # assert self.action_space.contains(\n",
    "            #action), 'action should be within %r but is %r' % (self.action_space, action)\n",
    "        np.testing.assert_almost_equal(\n",
    "            np.sum(weights), 1.0, 3, err_msg='weights should sum to 1. action=\"%s\"' % weights)\n",
    "\n",
    "        history, y1, done1 = self.src._step()\n",
    "\n",
    "        reward, info, done2 = self.sim._step(weights, y1)\n",
    "\n",
    "        # calculate return for buy and hold a bit of each asset\n",
    "        info['market_value'] = np.cumprod(\n",
    "            [inf[\"market_return\"] for inf in self.infos + [info]])[-1]\n",
    "        # add dates\n",
    "        info['date'] = self.src.times[self.src.step]\n",
    "        info['steps'] = self.src.step\n",
    "\n",
    "        self.infos.append(info)\n",
    "\n",
    "        # reshape history according to output mode\n",
    "        if self.output_mode == 'EIIE':\n",
    "            pass\n",
    "        elif self.output_mode == 'mlp':\n",
    "            history = history.flatten()\n",
    "        elif self.output_mode == None:\n",
    "            pass\n",
    "        \n",
    "        self.weights_to_plot = weights\n",
    "        \n",
    "        return {'history': history, 'weights': weights}, reward, done1 or done2, info\n",
    "       \n",
    "    def reset(self):\n",
    "        self.sim.reset()\n",
    "        self.src.reset()\n",
    "        self.infos = []\n",
    "        action = self.sim.w0\n",
    "        observation, reward, done, info = self.step(action)\n",
    "        return observation\n",
    "    \n",
    "    def render(self, mode='ansi', close=False):\n",
    "        # if close:\n",
    "            # return\n",
    "        if mode == 'ansi':\n",
    "            pprint(self.infos[-1])\n",
    "            return self.plot(), self.plot_weights()\n",
    "            \n",
    "    def plot(self):\n",
    "        plt.figure()\n",
    "        df_info = pd.DataFrame(self.infos)\n",
    "        #df_info['date'] = pd.to_datetime(df_info['date'], format='%Y-%m-%d')\n",
    "        df_info.set_index('date', inplace=True)\n",
    "        mdd = max_drawdown(df_info.rate_of_return + 1)\n",
    "        sharpe_ratio = sharpe(df_info.rate_of_return)\n",
    "        title = 'max_drawdown={: 2.2%} sharpe_ratio={: 2.4f} mean_rate_of_return={: 2.4%} cost={: 2.4f}'.format(mdd, \n",
    "                                                                                                                sharpe_ratio,\n",
    "                                                                                                                df_info.rate_of_return.mean()*100,\n",
    "                                                                                                                df_info.cost.sum())\n",
    "        #df_info[[\"portfolio_value\", \"market_value\"]].plot(title=title, fig=plt.gcf(), rot=30)\n",
    "        \n",
    "        ones = [1 for i in range(len(df_info[\"portfolio_value\"]))]\n",
    "        df_info2 = df_info.copy()\n",
    "        df_info2 = pd.concat([df_info2, pd.Series(data=ones, index=df_info2.index, name=\"Start Value\")], axis=1)\n",
    "        fig = go.Figure()\n",
    "        fig.add_trace(go.Scatter(x=df_info2.index, y=df_info2[\"market_value\"],\n",
    "                    mode='lines',\n",
    "                    name='Market Value',\n",
    "                    line = dict(color='firebrick')))\n",
    "        fig.add_trace(go.Scatter(x=df_info2.index, y=df_info2[\"portfolio_value\"],\n",
    "                    mode='lines',\n",
    "                    name='Portfolio Value',\n",
    "                    line = dict(color='royalblue')))\n",
    "        fig.add_trace(go.Scatter(x=df_info2.index, y=df_info2[\"Start Value\"],\n",
    "                    name='start value',\n",
    "                    line = dict(color='grey', dash=\"dash\", width=2)))\n",
    "        fig.update_layout(title=title,\n",
    "                   xaxis_title='Date',\n",
    "                   yaxis_title='Normalized value')\n",
    "        fig.show()\n",
    "        \n",
    "        \n",
    "    def plot_weights(self):\n",
    "        df_info = pd.DataFrame(self.infos)\n",
    "        df_info.set_index('date', inplace=True)\n",
    "        names = []\n",
    "        full_names = []\n",
    "        weights = self.weights_to_plot\n",
    "        for i, name in enumerate([\"CASH\"] + self.src.asset_names):\n",
    "            names.append(name[:5])\n",
    "            full_names.append(name)\n",
    "        \"\"\"\n",
    "        weight_array = np.array(weights)   \n",
    "        explode_chunk_list = np.zeros(len(names))\n",
    "        \n",
    "        lowest_values = np.argsort(weight_array)[:10]\n",
    "        \n",
    "        for index in lowest_values:\n",
    "            explode_chunk_list[index] = 0.2\n",
    "        \"\"\"\n",
    "        \n",
    "        data = {\"Asset names\" : names, \"Weigths\" : weights, \"full_names\": full_names}\n",
    "        df_form_pie_chart = pd.DataFrame.from_dict(data)\n",
    "        \n",
    "        fig = px.pie(df_form_pie_chart, values=\"Weigths\", names=\"Asset names\", title=\"Asset Allocation Weights\", \n",
    "                     hole=0.3, width=1000, height=1000, hover_data=[\"full_names\"])\n",
    "        fig.update_traces(textposition='inside', textinfo='percent+label')\n",
    "        fig.show()\n",
    "        \n",
    "        \n",
    "        \n",
    "        "
   ]
  },
  {
   "cell_type": "markdown",
   "metadata": {},
   "source": [
    "## Check enviroment"
   ]
  },
  {
   "cell_type": "code",
   "execution_count": 106,
   "metadata": {},
   "outputs": [
    {
     "data": {
      "text/plain": [
       "\"env = PortfolioEnv(\\n  df=df_train,\\n  steps=500,\\n  scale=False,\\n  augment=0.00,\\n  trading_cost=0.0025,\\n  time_cost=0.00,\\n  window_length=100,\\n  output_mode='EIIE'\\n)\""
      ]
     },
     "execution_count": 106,
     "metadata": {},
     "output_type": "execute_result"
    }
   ],
   "source": [
    "\"\"\"env = PortfolioEnv(\n",
    "  df=df_train,\n",
    "  steps=500,\n",
    "  scale=False,\n",
    "  augment=0.00,\n",
    "  trading_cost=0.0025,\n",
    "  time_cost=0.00,\n",
    "  window_length=100,\n",
    "  output_mode='EIIE'\n",
    ")\"\"\"\n"
   ]
  },
  {
   "cell_type": "code",
   "execution_count": 107,
   "metadata": {},
   "outputs": [
    {
     "data": {
      "text/plain": [
       "'steps = 1500\\nstate = env.reset()\\nr = []\\ns = []\\nstep_ = 0\\nold_portfolio_weights = state[\"weights\"]\\nfor _ in range(steps):\\n    # the action is an array with the new portfolio weights\\n    # for out action, let\\'s change the weights by around a 20th each step\\n    action = old_portfolio_weights + np.random.normal(loc=0, scale=0.1, size=(29,))\\n\\n    # clip and normalize since the portfolio weights should sum to one\\n    action = np.clip(action, 0, 1)\\n    action /= action.sum()\\n\\n    observation, reward, done, info = env.step(action)\\n    #print(observation[\"history\"].shape)\\n    date = info[\"date\"]\\n    #print(f\"Step: {_}, reward: {reward}, date: {date}\")\\n    old_portfolio_weights = observation[\"weights\"]\\n    \\n    step_ += 1\\n    r.append(reward)     \\n    s.append(step_)\\n    if done:\\n        break\\n\\n# plot\\nenv.render(\\'ansi\\')'"
      ]
     },
     "execution_count": 107,
     "metadata": {},
     "output_type": "execute_result"
    }
   ],
   "source": [
    "\"\"\"steps = 1500\n",
    "state = env.reset()\n",
    "r = []\n",
    "s = []\n",
    "step_ = 0\n",
    "old_portfolio_weights = state[\"weights\"]\n",
    "for _ in range(steps):\n",
    "    # the action is an array with the new portfolio weights\n",
    "    # for out action, let's change the weights by around a 20th each step\n",
    "    action = old_portfolio_weights + np.random.normal(loc=0, scale=0.1, size=(29,))\n",
    "\n",
    "    # clip and normalize since the portfolio weights should sum to one\n",
    "    action = np.clip(action, 0, 1)\n",
    "    action /= action.sum()\n",
    "\n",
    "    observation, reward, done, info = env.step(action)\n",
    "    #print(observation[\"history\"].shape)\n",
    "    date = info[\"date\"]\n",
    "    #print(f\"Step: {_}, reward: {reward}, date: {date}\")\n",
    "    old_portfolio_weights = observation[\"weights\"]\n",
    "    \n",
    "    step_ += 1\n",
    "    r.append(reward)     \n",
    "    s.append(step_)\n",
    "    if done:\n",
    "        break\n",
    "\n",
    "# plot\n",
    "env.render('ansi')\"\"\""
   ]
  },
  {
   "cell_type": "code",
   "execution_count": 108,
   "metadata": {},
   "outputs": [],
   "source": [
    "import os\n",
    "import torch as T \n",
    "import torch.nn as nn\n",
    "import torch.nn.functional as F\n",
    "import torch.optim as optim\n",
    "import numpy as np\n",
    "from torch.cuda.amp import GradScaler\n",
    "from torch.cuda.amp import autocast\n",
    "\n"
   ]
  },
  {
   "cell_type": "code",
   "execution_count": 109,
   "metadata": {},
   "outputs": [],
   "source": [
    "class OUActionNoise:\n",
    "    def __init__(self, mu, sigma=0.15, theta = 0.2, dt=1e-2, x0=None):\n",
    "        self.theta = theta\n",
    "        self.mu = mu\n",
    "        self.sigma = sigma\n",
    "        self.dt = dt\n",
    "        self.x0 = x0\n",
    "        self.reset()\n",
    "        \n",
    "    def __call__(self):\n",
    "        x = self.x_prev + self.theta*(self.mu-self.x_prev)*self.dt + \\\n",
    "            self.sigma*np.sqrt(self.dt)*np.random.normal(size=self.mu.shape)\n",
    "            \n",
    "        self.x_prev = x\n",
    "        return x\n",
    "    \n",
    "    def reset(self):\n",
    "        self.x_prev = self.x0 if self.x0 is not None else np.zeros_like(self.mu)\n",
    "        \n",
    "\n",
    "class ReplayBuffer:\n",
    "    def __init__(self, max_size, input_shape, n_actions):\n",
    "        self.mem_size = max_size\n",
    "        self.mem_cntr = 0\n",
    "        self.state_memory= np.zeros((self.mem_size, *input_shape), dtype = np.float16)\n",
    "        self.new_state_memory= np.zeros((self.mem_size, *input_shape), dtype = np.float16)\n",
    "        self.action_memory= np.zeros((self.mem_size, n_actions), dtype = np.float16)\n",
    "        self.reward_memory = np.zeros(self.mem_size, dtype = np.float16)\n",
    "        self.terminal_memory = np.zeros(self.mem_size, dtype = np.int8)\n",
    "        \n",
    "    def store_transition(self,  state, action, reward, state_, done):\n",
    "        index = self.mem_cntr % self.mem_size\n",
    "        self.state_memory[index] = state\n",
    "        self.action_memory[index] = action\n",
    "        self.reward_memory[index] = reward\n",
    "        self.new_state_memory[index] = state_[\"history\"]\n",
    "        self.terminal_memory[index]= 1-done\n",
    "        self.mem_cntr +=1\n",
    "        \n",
    "    def sample_buffer(self, batch_size):\n",
    "        max_memory = min(self.mem_cntr, self.mem_size)\n",
    "        batch = np.random.choice(max_memory, batch_size)\n",
    "        \n",
    "        states = self.state_memory[batch]\n",
    "        new_states = self.new_state_memory[batch]\n",
    "        rewards = self.reward_memory[batch]\n",
    "        actions = self.action_memory[batch]\n",
    "        terminal = self.terminal_memory[batch]\n",
    "        \n",
    "        return states, new_states, rewards, actions, terminal"
   ]
  },
  {
   "cell_type": "code",
   "execution_count": 110,
   "metadata": {},
   "outputs": [],
   "source": [
    "class ActorNetwork(nn.Module):\n",
    "    def __init__(self, alpha, state_dim, name, chkpt_dir='tmp/ddpg'):   \n",
    "        super(ActorNetwork, self).__init__()\n",
    "\n",
    "        self.checkpoint_file = os.path.join(chkpt_dir, name+\"_ddpg\")\n",
    "        \n",
    "        # (28,100,5) -> (n_action, window, features)\n",
    "        stride_time = state_dim[1] - 1 - 2 #\n",
    "        features = state_dim[0]\n",
    "        self.window = state_dim[1]\n",
    "        self.n_data_features = state_dim[2]\n",
    "        self.features_dims = features\n",
    "        \n",
    "        \n",
    "        h0 = 2\n",
    "        h1 = 30\n",
    "        self.conv1 = nn.Conv2d(self.n_data_features, h0, (3, 1))\n",
    "        self.conv2 = nn.Conv2d(h0, h1, (stride_time, 1), stride=(stride_time, 1))\n",
    "        self.conv3 = nn.Conv2d((h1+1), 1, (1, 1))\n",
    "        \n",
    "        self.bn1 = nn.BatchNorm2d(h0)\n",
    "        self.bn2 = nn.BatchNorm2d(h1+1)\n",
    "        \n",
    "        f1 = 1 / np.sqrt(self.conv1.weight.data.size()[0])\n",
    "        f1 = np.float16(f1)\n",
    "        T.nn.init.uniform_(self.conv1.weight.data, -f1, f1)\n",
    "        T.nn.init.uniform_(self.conv1.bias.data, -f1,f1)\n",
    "\n",
    "        \n",
    "        f2 = 1 / np.sqrt(self.conv2.weight.data.size()[0])\n",
    "        T.nn.init.uniform_(self.conv2.weight.data, -f2, f2)\n",
    "        T.nn.init.uniform_(self.conv2.bias.data, -f2,f2)\n",
    "\n",
    "        f3 = 0.003\n",
    "        T.nn.init.uniform_(self.conv3.weight.data, -f3, f3)\n",
    "        T.nn.init.uniform_(self.conv3.bias.data, -f3,f3)\n",
    "        \n",
    "        self.optimizer = optim.Adam(self.parameters(), lr=alpha)\n",
    "        self.device = T.device(\"cuda:0\" if T.cuda.is_available() else \"cpu\")\n",
    "        self.to(self.device)\n",
    "        \n",
    "    def forward(self, x):\n",
    "        # var = var.view(1,5,100,28) -> (batch, features, window, n_action)\n",
    "        # (28,100,5) -> (n_action, window, features)\n",
    "        x = x.view(-1,self.n_data_features, self.window, self.features_dims)\n",
    "        #x=x[None, :, :, :]\n",
    "        w0 = x[:,:1,:1:] # weights from last step \n",
    "        x = x[:,:,1:,:]\n",
    "          \n",
    "        phi0 = F.relu(self.conv1(x))\n",
    "        phi0 = self.bn1(phi0)\n",
    "        phi1 = F.relu(self.conv2(phi0))\n",
    "        h = T.cat([phi1,w0], 1)\n",
    "        h = self.bn2(h)\n",
    "        action = self.conv3(h)\n",
    "\n",
    "        # add cash_bias before we softmax\n",
    "        cash_bias_int = 0\n",
    "        cash_bias = T.ones(action.size())[:,:,:,:1] * cash_bias_int\n",
    "        action = T.cat([cash_bias.to(self.device), action], 3)\n",
    "\n",
    "        batch_size = action.size()[0]\n",
    "        action = action.view((batch_size,-1))\n",
    "\n",
    "        action = F.softmax(action, dim=1)\n",
    "        return action\n",
    "    \n",
    "    def predict(self, x, to_numpy=True):\n",
    "        y = self.forward(x)\n",
    "        if to_numpy:\n",
    "            y = y.detach().cpu().numpy()\n",
    "        return y\n",
    "        \n",
    "    def save_chekpoint(self):\n",
    "        print(\"===== Saving Chekpoint =====\")\n",
    "        T.save(self.state_dict(), self.checkpoint_file)\n",
    "        \n",
    "    def load_chekpoint(self):\n",
    "        print(\"===== Loading Chekpoint =====\")\n",
    "        self.load_state_dict(T.load(self.checkpoint_file))\n",
    "        \n",
    "class CriticNetwork(nn.Module):\n",
    "    def __init__(self, alpha, state_dim, action_dim, name, chkpt_dir='tmp/ddpg'):   \n",
    "        super(CriticNetwork, self).__init__()\n",
    "\n",
    "        self.checkpoint_file = os.path.join(chkpt_dir, name+\"_ddpg\")\n",
    "        \n",
    "        # (28,100,5) -> (n_action, window, features)\n",
    "        stride_time = state_dim[1] - 1 - 2 #\n",
    "        features = state_dim[0]\n",
    "        self.window = state_dim[1]\n",
    "        self.n_data_features = state_dim[2]\n",
    "        self.features_dims = features\n",
    "        \n",
    "        h0 = 2\n",
    "        h1 = 30\n",
    "        self.action = actions = action_dim.shape[0] -1\n",
    "        \n",
    "        self.conv1 = nn.Conv2d(self.n_data_features, h0, (3, 1))\n",
    "        self.conv2 = nn.Conv2d(h0, h1, (stride_time,1), stride=(stride_time,1))\n",
    "        self.layer3 = nn.Linear((h1+2)*actions, 1)\n",
    "        \n",
    "        self.bn1 = nn.BatchNorm2d(h0)\n",
    "        self.bn2 = nn.BatchNorm2d(h1+2)\n",
    "        \n",
    "        f1 = 1 / np.sqrt(self.conv1.weight.data.size()[0])\n",
    "        T.nn.init.uniform_(self.conv1.weight.data, -f1, f1)\n",
    "        T.nn.init.uniform_(self.conv1.bias.data, -f1,f1)\n",
    "\n",
    "        \n",
    "        f2 = 1 / np.sqrt(self.conv2.weight.data.size()[0])\n",
    "        T.nn.init.uniform_(self.conv2.weight.data, -f2, f2)\n",
    "        T.nn.init.uniform_(self.conv2.bias.data, -f2,f2)\n",
    "\n",
    "        f3 = 0.003\n",
    "        T.nn.init.uniform_(self.layer3.weight.data, -f3, f3)\n",
    "        T.nn.init.uniform_(self.layer3.bias.data, -f3,f3)\n",
    "        \n",
    "        self.optimizer = optim.Adam(self.parameters(), lr=alpha)\n",
    "        self.device = T.device(\"cuda:0\" if T.cuda.is_available() else \"cpu\")\n",
    "        self.to(self.device)\n",
    "        \n",
    "    def forward(self, x, action):\n",
    "        # var = var.view(1,5,100,28) -> (batch, features, window, n_action)\n",
    "        # (28,100,5) -> (n_action, window, features)\n",
    "            x = x.view(-1, self.n_data_features, self.window, self.features_dims)\n",
    "            #x=x[None, :, :, :]\n",
    "            action = action[:, None, None, :-1]\n",
    "            w0 = x[:,:1,:1,:] # weights from last step \n",
    "            x = x[:,:,1:,:]\n",
    "       \n",
    "            phi0 = F.relu(self.conv1(x))\n",
    "            phi0 = self.bn1(phi0)\n",
    "            phi1 = F.relu(self.conv2(phi0))\n",
    "            h = T.cat([phi1,w0,action], 1)\n",
    "            h = self.bn2(h)\n",
    "            \n",
    "            batch_size = x.size()[0]\n",
    "            action = self.layer3(h.view((batch_size,-1)))\n",
    "            return action\n",
    "        \n",
    "    def predict(self, x, action):\n",
    "        return self.forward(x, action)\n",
    "        \n",
    "    def save_chekpoint(self):\n",
    "        print(\"===== Saving Chekpoint =====\")\n",
    "        T.save(self.state_dict(), self.checkpoint_file)\n",
    "        \n",
    "    def load_chekpoint(self):\n",
    "        print(\"===== Loading Chekpoint =====\")\n",
    "        self.load_state_dict(T.load(self.checkpoint_file))"
   ]
  },
  {
   "cell_type": "code",
   "execution_count": 111,
   "metadata": {},
   "outputs": [],
   "source": [
    "class Agent:\n",
    "\n",
    "    def __init__(self, alpha, beta, state_dim, action_dim, tau, gamma=0.99,\n",
    "                 max_size=1000000, batch_size=64, l1_lambda=0):\n",
    "        self.gamma =gamma\n",
    "        self.alpha = alpha\n",
    "        self.beta = beta\n",
    "        self.n_actions = action_dim.shape[0]\n",
    "        self.batch_size = batch_size\n",
    "        self.state_dim = state_dim\n",
    "        self.action_dim = action_dim\n",
    "        self.memory = ReplayBuffer(max_size, state_dim, self.n_actions)\n",
    "        self.l1_lambda = l1_lambda\n",
    "        \n",
    "        self.actor = ActorNetwork(self.alpha, state_dim, chkpt_dir='tmp/ddpg', name=\"Actor\")\n",
    "        self.target_actor = ActorNetwork(self.alpha, state_dim, chkpt_dir='tmp/ddpg', name=\"target_Actor\")\n",
    "\n",
    "        self.critic = CriticNetwork(self.beta, state_dim, action_dim, chkpt_dir='tmp/ddpg', name=\"Critic\")\n",
    "        self.target_critic = CriticNetwork(self.beta, state_dim, action_dim, chkpt_dir='tmp/ddpg', name=\"target_Critic\")\n",
    "        \n",
    "        self.noise = OUActionNoise(mu = np.zeros(self.n_actions))\n",
    "        self.tau = tau\n",
    "        \n",
    "        self.scaler1 = GradScaler()\n",
    "        self.scaler2 = GradScaler()\n",
    "        \n",
    "        self.update_network_parameters(tau=1)\n",
    "        \n",
    "    def choose_action(self, observation, eval=False):\n",
    "        if not eval:\n",
    "            self.actor.eval()\n",
    "            observation = T.tensor(observation, dtype=T.float32).to(self.actor.device)\n",
    "            mu = self.actor(observation).to(self.actor.device)\n",
    "            mu_prime = mu + T.tensor(self.noise(), dtype=T.float32).to(self.actor.device)\n",
    "            self.actor.train()\n",
    "            #return mu_prime.cpu().detach().numpy()\n",
    "            return mu_prime.detach().cpu().numpy()\n",
    "        else:\n",
    "            self.actor.eval()\n",
    "            observation = T.tensor(observation, dtype=T.float32).to(self.actor.device)\n",
    "            mu = self.actor(observation).to(self.actor.device)\n",
    "            return mu.detach().cpu().numpy()\n",
    "\n",
    "    def remember(self, state, action, reward, new_state, done):\n",
    "        self.memory.store_transition(state, action, reward, new_state, done)\n",
    "     \n",
    "    def learn(self):\n",
    "        if self.memory.mem_cntr < self.batch_size:\n",
    "            return\n",
    "        state,  new_state, reward, action, done = \\\n",
    "            self.memory.sample_buffer(self.batch_size)\n",
    "        reward = T.tensor(reward, dtype=T.float32).to(self.critic.device)\n",
    "        done = T.tensor(done, dtype=T.float32).to(self.critic.device)\n",
    "        state = T.tensor(state, dtype=T.float32).to(self.critic.device)\n",
    "        new_state = T.tensor(new_state, dtype=T.float32).to(self.critic.device) \n",
    "        action = T.tensor(action, dtype=T.float32).to(self.critic.device)\n",
    "        \n",
    "        self.target_actor.eval()\n",
    "        self.target_critic.eval()\n",
    "        self.critic.eval()\n",
    "        \n",
    "        target_actions = self.target_actor.forward(new_state)\n",
    "        critic_value_ = self.target_critic.forward(new_state, target_actions)\n",
    "        critic_value = self.critic.forward(state, action)\n",
    "        \n",
    "        target = []\n",
    "        for j in range(self.batch_size):\n",
    "            target.append(reward[j]+self.gamma*critic_value_[j]*done[j])\n",
    "        target = T.tensor(target).to(self.critic.device)\n",
    "        target = target.view(self.batch_size, 1)\n",
    "        \n",
    "        self.critic.train()\n",
    "        self.critic.optimizer.zero_grad()\n",
    "        l1 = 0\n",
    "        for p in self.critic.parameters():\n",
    "            l1 = l1 + p.abs().sum()\n",
    "        with autocast():   \n",
    "            critic_loss = F.mse_loss(target, critic_value)+self.l1_lambda*l1\n",
    "        self.scaler1.scale(critic_loss).backward()\n",
    "        self.scaler1.step(self.critic.optimizer)\n",
    "        self.scaler1.update()\n",
    "        \n",
    "        self.critic.eval()\n",
    "        self.actor.optimizer.zero_grad()\n",
    "        \n",
    "        mu = self.actor.forward(state)\n",
    "        self.actor.train()\n",
    "        l1 = 0\n",
    "        for p in self.critic.parameters():\n",
    "            l1 = l1 + p.abs().sum()\n",
    "        with autocast():   \n",
    "            actor_loss = -self.critic.forward(state, mu)\n",
    "            actor_loss = T.mean(actor_loss)+self.l1_lambda*l1\n",
    "            \n",
    "        self.scaler2.scale(actor_loss).backward()\n",
    "        self.scaler2.step(self.actor.optimizer)\n",
    "        self.scaler2.update()\n",
    "        \n",
    "        \n",
    "        #actor_loss.backward()\n",
    "        #self.actor.optimizer.step()\n",
    "        \n",
    "        self.update_network_parameters()\n",
    "        \n",
    "    def update_network_parameters(self, tau=None):\n",
    "        if tau is None:\n",
    "            tau = self.tau\n",
    "            critic_state_dict = self.critic.state_dict()\n",
    "            actor_state_dict = self.actor.state_dict()\n",
    "            target_actor_dict = self.target_actor.state_dict()\n",
    "            target_critic_dict = self.target_critic.state_dict()\n",
    "            \n",
    "       \n",
    "            for name in critic_state_dict:\n",
    "                critic_state_dict[name] = tau*critic_state_dict[name].clone() + \\\n",
    "                    (1-tau)*target_critic_dict[name].clone()\n",
    "                    \n",
    "            self.target_critic.load_state_dict(critic_state_dict)\n",
    "            \n",
    "            for name in actor_state_dict:\n",
    "                actor_state_dict[name] = tau*actor_state_dict[name].clone() + \\\n",
    "                    (1-tau)*target_actor_dict[name].clone()\n",
    "            \n",
    "            self.target_actor.load_state_dict(actor_state_dict)\n",
    "\n",
    "            \n",
    "    def save_model(self):\n",
    "        self.actor.save_chekpoint()\n",
    "        self.critic.save_chekpoint()\n",
    "        self.target_actor.save_chekpoint()\n",
    "        self.target_critic.save_chekpoint()\n",
    "        \n",
    "    def load_models(self):\n",
    "        self.actor.load_chekpoint()\n",
    "        self.critic.load_chekpoint()\n",
    "        self.target_actor.load_chekpoint()\n",
    "        self.target_critic.load_chekpoint()\n",
    "    "
   ]
  },
  {
   "cell_type": "code",
   "execution_count": 112,
   "metadata": {},
   "outputs": [
    {
     "name": "stdout",
     "output_type": "stream",
     "text": [
      "{'cost': 0.00019463819223623793,\n",
      " 'date': Timestamp('2022-02-17 00:00:00'),\n",
      " 'log_return': -0.002200715765180426,\n",
      " 'market_return': 1.0023381450904032,\n",
      " 'market_value': 1.2448398569852448,\n",
      " 'portfolio_value': 1.1369484574802,\n",
      " 'price_11 BIT STUDIOS SPOLKA AKCYJNA': 0.99808783806529,\n",
      " 'price_AC SPOLKA AKCYJNA': 0.9964267490069084,\n",
      " 'price_ALUMETAL SPOLKA AKCYJNA': 1.0203003857326602,\n",
      " 'price_APLISENS SPOLKA AKCYJNA': 1.0304094580568572,\n",
      " 'price_ARCHICOM SPOLKA AKCYJNA': 1.0239067904823251,\n",
      " 'price_ARCTIC PAPER SPOLKA AKCYJNA': 1.0402369945064904,\n",
      " 'price_ARTERIA SPOLKA AKCYJNA': 0.9998579853592864,\n",
      " 'price_AS SILVANO FASHION GROUP': 0.9468800870563807,\n",
      " 'price_ASSECO BUSINESS SOLUTIONS SPOLKA AKCYJNA': 1.007006620667314,\n",
      " 'price_ASSECO POLAND SPOLKA AKCYJNA': 1.0160149573892985,\n",
      " 'price_ASSECO SOUTH EASTERN EUROPE SPOLKA AKCYJNA': 1.0449236609147456,\n",
      " 'price_ATLANTA POLAND SPOLKA AKCYJNA': 1.0006968177087507,\n",
      " 'price_ATM GRUPA SPOLKA AKCYJNA': 1.0377589835685321,\n",
      " 'price_BBI DEVELOPMENT SPOLKA AKCYJNA': 0.9944132281839696,\n",
      " 'price_BETACOM SPOLKA AKCYJNA': 1.0127625331331476,\n",
      " 'price_BORYSZEW SPOLKA AKCYJNA': 0.9973011258287899,\n",
      " 'price_BOWIM SPOLKA AKCYJNA': 0.986187658074269,\n",
      " 'price_BUMECH SPOLKA AKCYJNA': 0.9172632094775224,\n",
      " 'price_CASH': 1.0,\n",
      " 'price_CCC SPOLKA AKCYJNA': 1.0668440009408424,\n",
      " 'price_CD PROJEKT SPOLKA AKCYJNA': 0.9562952909570709,\n",
      " 'price_CENTRUM MEDYCZNE ENEL-MED SPOLKA AKCYJNA': 1.00050305606125,\n",
      " 'price_CENTRUM NOWOCZESNYCH TECHNOLOGII SPOLKA AKCYJNA': 1.0048041377022907,\n",
      " 'price_CIECH SPOLKA AKCYJNA': 1.0034560984728327,\n",
      " 'price_CPD SPOLKA AKCYJNA': 0.962603136943337,\n",
      " 'price_CYFROWY POLSAT SPOLKA AKCYJNA': 1.0116384397381009,\n",
      " 'price_DIGITAL NETWORK SPOLKA AKCYJNA': 1.0040331668932125,\n",
      " 'price_DINO POLSKA SPOLKA AKCYJNA': 0.9639828855139454,\n",
      " 'price_DROZAPOL-PROFIL SPOLKA AKCYJNA': 1.0407816252470794,\n",
      " 'price_ELKOP SPOLKA AKCYJNA': 1.003188416597712,\n",
      " 'price_ERG SPOLKA AKCYJNA': 0.9999990508906244,\n",
      " 'price_EUROHOLD BULGARIA AD': 1.0528173602214501,\n",
      " 'price_FABRYKA FARB I LAKIEROW ŚNIEŻKA SPOLKA AKCYJNA': 1.0318519433632143,\n",
      " 'price_FERRUM SPOLKA AKCYJNA': 1.0081762353367334,\n",
      " 'price_FIRMA OPONIARSKA DĘBICA SPOLKA AKCYJNA': 1.0209737553229261,\n",
      " 'price_GI GROUP POLAND SPOLKA AKCYJNA': 1.00281287697676,\n",
      " 'price_GIELDA PAPIEROW WARTOŚCIOWYCH W WARSZAWIE SPOLKA AKCYJNA': 0.9942012766932331,\n",
      " 'price_GLOBE TRADE CENTRE SPOLKA AKCYJNA': 1.006881880416956,\n",
      " 'price_GRUPA AZOTY SPOLKA AKCYJNA': 0.9813025299107342,\n",
      " 'price_GRUPA AZOTY ZAKLADY CHEMICZNE POLICE SPOLKA AKCYJNA': 1.0007649117176112,\n",
      " 'price_GRUPA KAPITALOWA IMMOBILE SPOLKA AKCYJNA': 0.9805620125291317,\n",
      " 'price_GRUPA KĘTY SPOLKA AKCYJNA': 1.0000092353283274,\n",
      " 'price_IFIRMA SPOLKA AKCYJNA': 1.0047057765295646,\n",
      " 'price_IMMOFINANZ AG': 0.9999235540619275,\n",
      " 'price_INDUSTRIAL MILK COMPANY S.A.': 1.0363915441343634,\n",
      " 'price_INSTAL KRAKOW SPOLKA AKCYJNA': 0.980681823691182,\n",
      " 'price_INVISTA SPOLKA AKCYJNA': 1.009633807743137,\n",
      " 'price_JASTRZĘBSKA SPOLKA WĘGLOWA SPOLKA AKCYJNA': 1.0474317839974236,\n",
      " 'price_KGHM POLSKA MIEDŹ SPOLKA AKCYJNA': 0.9954640217259277,\n",
      " 'price_KOSZALIŃSKIE PRZEDSIĘBIORSTWO PRZEMYSLU DRZEWNEGO SPOLKA AKCYJNA': 1.0241233960919713,\n",
      " 'price_KRKA. TOVARNA ZDRAVIL. D.D.. NOVO MESTO': 0.9882426664181306,\n",
      " 'price_LENA LIGHTING SPOLKA AKCYJNA': 1.0696203698223,\n",
      " 'price_LIBET SPOLKA AKCYJNA': 1.0075926944476352,\n",
      " 'price_LUBAWA SPOLKA AKCYJNA': 1.0179693347212004,\n",
      " 'price_MARIE BRIZARD WINE & SPIRITS': 1.0002654517483354,\n",
      " 'price_MENNICA POLSKA SPOLKA AKCYJNA': 0.9898778197905546,\n",
      " 'price_MLP GROUP SPOLKA AKCYJNA': 1.015760599156076,\n",
      " 'price_MOJ SPOLKA AKCYJNA': 0.9640873974912866,\n",
      " 'price_MUZA SPOLKA AKCYJNA': 1.0081940736985466,\n",
      " 'price_OEX SPOLKA AKCYJNA': 0.9499447445787782,\n",
      " 'price_OT LOGISTICS SPOLKA AKCYJNA': 0.9268750023129647,\n",
      " 'price_OVOSTAR UNION N.V.': 0.9783967900492239,\n",
      " 'price_PCC ROKITA SPOLKA AKCYJNA': 0.9874368304068084,\n",
      " 'price_PGF POLSKA GRUPA FOTOWOLTAICZNA SPOLKA AKCYJNA': 0.9997728273634621,\n",
      " 'price_PLAZA CENTERS N.V.': 0.9836343724354453,\n",
      " 'price_PMPG POLSKIE MEDIA SPOLKA AKCYJNA': 0.995336324673541,\n",
      " 'price_POLENERGIA SPOLKA AKCYJNA': 1.0176154466580876,\n",
      " 'price_POLSKI KONCERN NAFTOWY ORLEN SPOLKA AKCYJNA': 1.0130415150915533,\n",
      " 'price_POLSKIE GORNICTWO NAFTOWE I GAZOWNICTWO SPOLKA AKCYJNA': 1.0111590011724614,\n",
      " 'price_PROCHEM SPOLKA AKCYJNA': 0.9941815703601639,\n",
      " 'price_PROJPRZEM MAKRUM SPOLKA AKCYJNA': 0.965531424533275,\n",
      " 'price_PROTEKTOR SPOLKA AKCYJNA': 0.9870050129037384,\n",
      " 'price_SECO/WARWICK SPOLKA AKCYJNA': 1.0009938284709632,\n",
      " 'price_SILVAIR, INC.': 0.9940506337766918,\n",
      " 'price_SKYLINE INVESTMENT SPOLKA AKCYJNA': 0.9944485544167894,\n",
      " 'price_SOHO DEVELOPMENT SPOLKA AKCYJNA': 1.214828710560165,\n",
      " 'price_SOPHARMA AD': 1.0009761370245696,\n",
      " 'price_STALEXPORT AUTOSTRADY SPOLKA AKCYJNA': 0.9887854196235949,\n",
      " 'price_SUNEX SPOLKA AKCYJNA': 0.9283422162578872,\n",
      " 'price_SUWARY SPOLKA AKCYJNA': 0.984564683552745,\n",
      " 'price_SYGNITY SPOLKA AKCYJNA': 1.0000790876555183,\n",
      " 'price_TALEX SPOLKA AKCYJNA': 0.9550126669293663,\n",
      " 'price_TAURON POLSKA ENERGIA SPOLKA AKCYJNA': 1.0477130698750652,\n",
      " 'price_TORPOL SPOLKA AKCYJNA': 1.0011771002459844,\n",
      " 'price_TRANS POLONIA SPOLKA AKCYJNA': 0.9056530818489917,\n",
      " 'price_VISTULA RETAIL GROUP SPOLKA AKCYJNA': 1.0180962487464515,\n",
      " 'price_VOTUM SPOLKA AKCYJNA': 1.023944405810059,\n",
      " 'price_WIKANA SPOLKA AKCYJNA': 0.9965529635647544,\n",
      " 'price_WITTCHEN SPOLKA AKCYJNA': 1.0000741004553877,\n",
      " 'price_ZAKLAD BUDOWY MASZYN ZREMB-CHOJNICE SPOLKA AKCYJNA': 0.9641159185785961,\n",
      " 'price_ZESPOL ELEKTROWNI PĄTNOW-ADAMOW-KONIN SPOLKA AKCYJNA': 1.0162201243203373,\n",
      " 'price_ZPUE SPOLKA AKCYJNA': 1.0262279754597508,\n",
      " 'price_ČEZ. A.S.': 1.0167751814368373,\n",
      " 'rate_of_return': -0.0021982959849559114,\n",
      " 'reward': -8.304587793133684e-06,\n",
      " 'steps': 266,\n",
      " 'weight_11 BIT STUDIOS SPOLKA AKCYJNA': 0.0,\n",
      " 'weight_AC SPOLKA AKCYJNA': 0.0,\n",
      " 'weight_ALUMETAL SPOLKA AKCYJNA': 0.0,\n",
      " 'weight_APLISENS SPOLKA AKCYJNA': 0.05157648,\n",
      " 'weight_ARCHICOM SPOLKA AKCYJNA': 0.027670993,\n",
      " 'weight_ARCTIC PAPER SPOLKA AKCYJNA': 0.0,\n",
      " 'weight_ARTERIA SPOLKA AKCYJNA': 0.02638169,\n",
      " 'weight_AS SILVANO FASHION GROUP': 0.009328512,\n",
      " 'weight_ASSECO BUSINESS SOLUTIONS SPOLKA AKCYJNA': 0.04711129,\n",
      " 'weight_ASSECO POLAND SPOLKA AKCYJNA': 0.019686319,\n",
      " 'weight_ASSECO SOUTH EASTERN EUROPE SPOLKA AKCYJNA': 0.0,\n",
      " 'weight_ATLANTA POLAND SPOLKA AKCYJNA': 0.088076,\n",
      " 'weight_ATM GRUPA SPOLKA AKCYJNA': 0.0,\n",
      " 'weight_BBI DEVELOPMENT SPOLKA AKCYJNA': 0.025512436,\n",
      " 'weight_BETACOM SPOLKA AKCYJNA': 0.0,\n",
      " 'weight_BORYSZEW SPOLKA AKCYJNA': 0.01631017,\n",
      " 'weight_BOWIM SPOLKA AKCYJNA': 0.0,\n",
      " 'weight_BUMECH SPOLKA AKCYJNA': 0.023099344,\n",
      " 'weight_CASH': 0.006761141,\n",
      " 'weight_CCC SPOLKA AKCYJNA': 0.0,\n",
      " 'weight_CD PROJEKT SPOLKA AKCYJNA': 0.03389097,\n",
      " 'weight_CENTRUM MEDYCZNE ENEL-MED SPOLKA AKCYJNA': 0.013064644,\n",
      " 'weight_CENTRUM NOWOCZESNYCH TECHNOLOGII SPOLKA AKCYJNA': 0.0,\n",
      " 'weight_CIECH SPOLKA AKCYJNA': 0.0014559826,\n",
      " 'weight_CPD SPOLKA AKCYJNA': 0.014536959,\n",
      " 'weight_CYFROWY POLSAT SPOLKA AKCYJNA': 0.0,\n",
      " 'weight_DIGITAL NETWORK SPOLKA AKCYJNA': 0.035916056,\n",
      " 'weight_DINO POLSKA SPOLKA AKCYJNA': 0.0007510699,\n",
      " 'weight_DROZAPOL-PROFIL SPOLKA AKCYJNA': 0.019507451,\n",
      " 'weight_ELKOP SPOLKA AKCYJNA': 0.0,\n",
      " 'weight_ERG SPOLKA AKCYJNA': 0.0,\n",
      " 'weight_EUROHOLD BULGARIA AD': 0.0,\n",
      " 'weight_FABRYKA FARB I LAKIEROW ŚNIEŻKA SPOLKA AKCYJNA': 0.026456213,\n",
      " 'weight_FERRUM SPOLKA AKCYJNA': 0.059169896,\n",
      " 'weight_FIRMA OPONIARSKA DĘBICA SPOLKA AKCYJNA': 0.0021359832,\n",
      " 'weight_GI GROUP POLAND SPOLKA AKCYJNA': 0.0,\n",
      " 'weight_GIELDA PAPIEROW WARTOŚCIOWYCH W WARSZAWIE SPOLKA AKCYJNA': 0.03626216,\n",
      " 'weight_GLOBE TRADE CENTRE SPOLKA AKCYJNA': 0.0049319686,\n",
      " 'weight_GRUPA AZOTY SPOLKA AKCYJNA': 0.0,\n",
      " 'weight_GRUPA AZOTY ZAKLADY CHEMICZNE POLICE SPOLKA AKCYJNA': 0.00093375106,\n",
      " 'weight_GRUPA KAPITALOWA IMMOBILE SPOLKA AKCYJNA': 0.013558614,\n",
      " 'weight_GRUPA KĘTY SPOLKA AKCYJNA': 0.0061008213,\n",
      " 'weight_IFIRMA SPOLKA AKCYJNA': 0.0,\n",
      " 'weight_IMMOFINANZ AG': 0.0,\n",
      " 'weight_INDUSTRIAL MILK COMPANY S.A.': 0.0,\n",
      " 'weight_INSTAL KRAKOW SPOLKA AKCYJNA': 0.0,\n",
      " 'weight_INVISTA SPOLKA AKCYJNA': 0.0103453165,\n",
      " 'weight_JASTRZĘBSKA SPOLKA WĘGLOWA SPOLKA AKCYJNA': 0.0036977786,\n",
      " 'weight_KGHM POLSKA MIEDŹ SPOLKA AKCYJNA': 0.016433496,\n",
      " 'weight_KOSZALIŃSKIE PRZEDSIĘBIORSTWO PRZEMYSLU DRZEWNEGO SPOLKA AKCYJNA': 0.0,\n",
      " 'weight_KRKA. TOVARNA ZDRAVIL. D.D.. NOVO MESTO': 0.0,\n",
      " 'weight_LENA LIGHTING SPOLKA AKCYJNA': 0.0071674897,\n",
      " 'weight_LIBET SPOLKA AKCYJNA': 0.0,\n",
      " 'weight_LUBAWA SPOLKA AKCYJNA': 0.0031734786,\n",
      " 'weight_MARIE BRIZARD WINE & SPIRITS': 0.031891666,\n",
      " 'weight_MENNICA POLSKA SPOLKA AKCYJNA': 0.0,\n",
      " 'weight_MLP GROUP SPOLKA AKCYJNA': 0.0,\n",
      " 'weight_MOJ SPOLKA AKCYJNA': 0.003279498,\n",
      " 'weight_MUZA SPOLKA AKCYJNA': 0.013334235,\n",
      " 'weight_OEX SPOLKA AKCYJNA': 0.0,\n",
      " 'weight_OT LOGISTICS SPOLKA AKCYJNA': 0.0,\n",
      " 'weight_OVOSTAR UNION N.V.': 0.022985434,\n",
      " 'weight_PCC ROKITA SPOLKA AKCYJNA': 0.0,\n",
      " 'weight_PGF POLSKA GRUPA FOTOWOLTAICZNA SPOLKA AKCYJNA': 0.012108303,\n",
      " 'weight_PLAZA CENTERS N.V.': 0.0,\n",
      " 'weight_PMPG POLSKIE MEDIA SPOLKA AKCYJNA': 0.0,\n",
      " 'weight_POLENERGIA SPOLKA AKCYJNA': 0.013899931,\n",
      " 'weight_POLSKI KONCERN NAFTOWY ORLEN SPOLKA AKCYJNA': 0.0,\n",
      " 'weight_POLSKIE GORNICTWO NAFTOWE I GAZOWNICTWO SPOLKA AKCYJNA': 0.020210927,\n",
      " 'weight_PROCHEM SPOLKA AKCYJNA': 0.03745328,\n",
      " 'weight_PROJPRZEM MAKRUM SPOLKA AKCYJNA': 0.0,\n",
      " 'weight_PROTEKTOR SPOLKA AKCYJNA': 0.0,\n",
      " 'weight_SECO/WARWICK SPOLKA AKCYJNA': 0.0,\n",
      " 'weight_SILVAIR, INC.': 0.0,\n",
      " 'weight_SKYLINE INVESTMENT SPOLKA AKCYJNA': 0.0,\n",
      " 'weight_SOHO DEVELOPMENT SPOLKA AKCYJNA': 0.0,\n",
      " 'weight_SOPHARMA AD': 0.008778098,\n",
      " 'weight_STALEXPORT AUTOSTRADY SPOLKA AKCYJNA': 0.02767158,\n",
      " 'weight_SUNEX SPOLKA AKCYJNA': 0.03180162,\n",
      " 'weight_SUWARY SPOLKA AKCYJNA': 0.033183213,\n",
      " 'weight_SYGNITY SPOLKA AKCYJNA': 0.0,\n",
      " 'weight_TALEX SPOLKA AKCYJNA': 0.0,\n",
      " 'weight_TAURON POLSKA ENERGIA SPOLKA AKCYJNA': 0.00060778455,\n",
      " 'weight_TORPOL SPOLKA AKCYJNA': 0.0,\n",
      " 'weight_TRANS POLONIA SPOLKA AKCYJNA': 0.0,\n",
      " 'weight_VISTULA RETAIL GROUP SPOLKA AKCYJNA': 0.0077999015,\n",
      " 'weight_VOTUM SPOLKA AKCYJNA': 0.0003467663,\n",
      " 'weight_WIKANA SPOLKA AKCYJNA': 0.0,\n",
      " 'weight_WITTCHEN SPOLKA AKCYJNA': 0.005860449,\n",
      " 'weight_ZAKLAD BUDOWY MASZYN ZREMB-CHOJNICE SPOLKA AKCYJNA': 0.02453638,\n",
      " 'weight_ZESPOL ELEKTROWNI PĄTNOW-ADAMOW-KONIN SPOLKA AKCYJNA': 0.0,\n",
      " 'weight_ZPUE SPOLKA AKCYJNA': 0.0,\n",
      " 'weight_ČEZ. A.S.': 0.053246476,\n",
      " 'weights_mean': 0.010752688,\n",
      " 'weights_std': 0.016432546}\n"
     ]
    },
    {
     "data": {
      "application/vnd.plotly.v1+json": {
       "config": {
        "plotlyServerURL": "https://plot.ly"
       },
       "data": [
        {
         "line": {
          "color": "firebrick"
         },
         "mode": "lines",
         "name": "Market Value",
         "type": "scatter",
         "x": [
          "2021-01-29T00:00:00",
          "2021-02-01T00:00:00",
          "2021-02-02T00:00:00",
          "2021-02-03T00:00:00",
          "2021-02-04T00:00:00",
          "2021-02-05T00:00:00",
          "2021-02-08T00:00:00",
          "2021-02-09T00:00:00",
          "2021-02-10T00:00:00",
          "2021-02-11T00:00:00",
          "2021-02-12T00:00:00",
          "2021-02-15T00:00:00",
          "2021-02-16T00:00:00",
          "2021-02-17T00:00:00",
          "2021-02-18T00:00:00",
          "2021-02-19T00:00:00",
          "2021-02-22T00:00:00",
          "2021-02-23T00:00:00",
          "2021-02-24T00:00:00",
          "2021-02-25T00:00:00",
          "2021-02-26T00:00:00",
          "2021-03-01T00:00:00",
          "2021-03-02T00:00:00",
          "2021-03-03T00:00:00",
          "2021-03-04T00:00:00",
          "2021-03-05T00:00:00",
          "2021-03-08T00:00:00",
          "2021-03-09T00:00:00",
          "2021-03-10T00:00:00",
          "2021-03-11T00:00:00",
          "2021-03-12T00:00:00",
          "2021-03-15T00:00:00",
          "2021-03-16T00:00:00",
          "2021-03-17T00:00:00",
          "2021-03-18T00:00:00",
          "2021-03-19T00:00:00",
          "2021-03-22T00:00:00",
          "2021-03-23T00:00:00",
          "2021-03-24T00:00:00",
          "2021-03-25T00:00:00",
          "2021-03-26T00:00:00",
          "2021-03-29T00:00:00",
          "2021-03-30T00:00:00",
          "2021-03-31T00:00:00",
          "2021-04-01T00:00:00",
          "2021-04-06T00:00:00",
          "2021-04-07T00:00:00",
          "2021-04-08T00:00:00",
          "2021-04-09T00:00:00",
          "2021-04-12T00:00:00",
          "2021-04-13T00:00:00",
          "2021-04-14T00:00:00",
          "2021-04-15T00:00:00",
          "2021-04-16T00:00:00",
          "2021-04-19T00:00:00",
          "2021-04-20T00:00:00",
          "2021-04-21T00:00:00",
          "2021-04-22T00:00:00",
          "2021-04-23T00:00:00",
          "2021-04-26T00:00:00",
          "2021-04-27T00:00:00",
          "2021-04-28T00:00:00",
          "2021-04-29T00:00:00",
          "2021-04-30T00:00:00",
          "2021-05-04T00:00:00",
          "2021-05-05T00:00:00",
          "2021-05-06T00:00:00",
          "2021-05-07T00:00:00",
          "2021-05-10T00:00:00",
          "2021-05-11T00:00:00",
          "2021-05-12T00:00:00",
          "2021-05-13T00:00:00",
          "2021-05-14T00:00:00",
          "2021-05-17T00:00:00",
          "2021-05-18T00:00:00",
          "2021-05-19T00:00:00",
          "2021-05-20T00:00:00",
          "2021-05-21T00:00:00",
          "2021-05-24T00:00:00",
          "2021-05-25T00:00:00",
          "2021-05-26T00:00:00",
          "2021-05-27T00:00:00",
          "2021-05-28T00:00:00",
          "2021-05-31T00:00:00",
          "2021-06-01T00:00:00",
          "2021-06-02T00:00:00",
          "2021-06-04T00:00:00",
          "2021-06-07T00:00:00",
          "2021-06-08T00:00:00",
          "2021-06-09T00:00:00",
          "2021-06-10T00:00:00",
          "2021-06-11T00:00:00",
          "2021-06-14T00:00:00",
          "2021-06-15T00:00:00",
          "2021-06-16T00:00:00",
          "2021-06-17T00:00:00",
          "2021-06-18T00:00:00",
          "2021-06-21T00:00:00",
          "2021-06-22T00:00:00",
          "2021-06-23T00:00:00",
          "2021-06-24T00:00:00",
          "2021-06-25T00:00:00",
          "2021-06-28T00:00:00",
          "2021-06-29T00:00:00",
          "2021-06-30T00:00:00",
          "2021-07-01T00:00:00",
          "2021-07-02T00:00:00",
          "2021-07-05T00:00:00",
          "2021-07-06T00:00:00",
          "2021-07-07T00:00:00",
          "2021-07-08T00:00:00",
          "2021-07-09T00:00:00",
          "2021-07-12T00:00:00",
          "2021-07-13T00:00:00",
          "2021-07-14T00:00:00",
          "2021-07-15T00:00:00",
          "2021-07-16T00:00:00",
          "2021-07-19T00:00:00",
          "2021-07-20T00:00:00",
          "2021-07-21T00:00:00",
          "2021-07-22T00:00:00",
          "2021-07-23T00:00:00",
          "2021-07-26T00:00:00",
          "2021-07-27T00:00:00",
          "2021-07-28T00:00:00",
          "2021-07-29T00:00:00",
          "2021-07-30T00:00:00",
          "2021-08-02T00:00:00",
          "2021-08-03T00:00:00",
          "2021-08-04T00:00:00",
          "2021-08-05T00:00:00",
          "2021-08-06T00:00:00",
          "2021-08-09T00:00:00",
          "2021-08-10T00:00:00",
          "2021-08-11T00:00:00",
          "2021-08-12T00:00:00",
          "2021-08-13T00:00:00",
          "2021-08-16T00:00:00",
          "2021-08-17T00:00:00",
          "2021-08-18T00:00:00",
          "2021-08-19T00:00:00",
          "2021-08-20T00:00:00",
          "2021-08-23T00:00:00",
          "2021-08-24T00:00:00",
          "2021-08-25T00:00:00",
          "2021-08-26T00:00:00",
          "2021-08-27T00:00:00",
          "2021-08-30T00:00:00",
          "2021-08-31T00:00:00",
          "2021-09-01T00:00:00",
          "2021-09-02T00:00:00",
          "2021-09-03T00:00:00",
          "2021-09-06T00:00:00",
          "2021-09-07T00:00:00",
          "2021-09-08T00:00:00",
          "2021-09-09T00:00:00",
          "2021-09-10T00:00:00",
          "2021-09-13T00:00:00",
          "2021-09-14T00:00:00",
          "2021-09-15T00:00:00",
          "2021-09-16T00:00:00",
          "2021-09-17T00:00:00",
          "2021-09-20T00:00:00",
          "2021-09-21T00:00:00",
          "2021-09-22T00:00:00",
          "2021-09-23T00:00:00",
          "2021-09-24T00:00:00",
          "2021-09-27T00:00:00",
          "2021-09-28T00:00:00",
          "2021-09-29T00:00:00",
          "2021-09-30T00:00:00",
          "2021-10-01T00:00:00",
          "2021-10-04T00:00:00",
          "2021-10-05T00:00:00",
          "2021-10-06T00:00:00",
          "2021-10-07T00:00:00",
          "2021-10-08T00:00:00",
          "2021-10-11T00:00:00",
          "2021-10-12T00:00:00",
          "2021-10-13T00:00:00",
          "2021-10-14T00:00:00",
          "2021-10-15T00:00:00",
          "2021-10-18T00:00:00",
          "2021-10-19T00:00:00",
          "2021-10-20T00:00:00",
          "2021-10-21T00:00:00",
          "2021-10-22T00:00:00",
          "2021-10-25T00:00:00",
          "2021-10-26T00:00:00",
          "2021-10-27T00:00:00",
          "2021-10-28T00:00:00",
          "2021-10-29T00:00:00",
          "2021-11-02T00:00:00",
          "2021-11-03T00:00:00",
          "2021-11-04T00:00:00",
          "2021-11-05T00:00:00",
          "2021-11-08T00:00:00",
          "2021-11-09T00:00:00",
          "2021-11-10T00:00:00",
          "2021-11-12T00:00:00",
          "2021-11-15T00:00:00",
          "2021-11-16T00:00:00",
          "2021-11-17T00:00:00",
          "2021-11-18T00:00:00",
          "2021-11-19T00:00:00",
          "2021-11-22T00:00:00",
          "2021-11-23T00:00:00",
          "2021-11-24T00:00:00",
          "2021-11-25T00:00:00",
          "2021-11-26T00:00:00",
          "2021-11-29T00:00:00",
          "2021-11-30T00:00:00",
          "2021-12-01T00:00:00",
          "2021-12-02T00:00:00",
          "2021-12-03T00:00:00",
          "2021-12-06T00:00:00",
          "2021-12-07T00:00:00",
          "2021-12-08T00:00:00",
          "2021-12-09T00:00:00",
          "2021-12-10T00:00:00",
          "2021-12-13T00:00:00",
          "2021-12-14T00:00:00",
          "2021-12-15T00:00:00",
          "2021-12-16T00:00:00",
          "2021-12-17T00:00:00",
          "2021-12-20T00:00:00",
          "2021-12-21T00:00:00",
          "2021-12-22T00:00:00",
          "2021-12-23T00:00:00",
          "2021-12-27T00:00:00",
          "2021-12-28T00:00:00",
          "2021-12-29T00:00:00",
          "2021-12-30T00:00:00",
          "2022-01-03T00:00:00",
          "2022-01-04T00:00:00",
          "2022-01-05T00:00:00",
          "2022-01-07T00:00:00",
          "2022-01-10T00:00:00",
          "2022-01-11T00:00:00",
          "2022-01-12T00:00:00",
          "2022-01-13T00:00:00",
          "2022-01-14T00:00:00",
          "2022-01-17T00:00:00",
          "2022-01-18T00:00:00",
          "2022-01-19T00:00:00",
          "2022-01-20T00:00:00",
          "2022-01-21T00:00:00",
          "2022-01-24T00:00:00",
          "2022-01-25T00:00:00",
          "2022-01-26T00:00:00",
          "2022-01-27T00:00:00",
          "2022-01-28T00:00:00",
          "2022-01-31T00:00:00",
          "2022-02-01T00:00:00",
          "2022-02-02T00:00:00",
          "2022-02-03T00:00:00",
          "2022-02-04T00:00:00",
          "2022-02-07T00:00:00",
          "2022-02-08T00:00:00",
          "2022-02-09T00:00:00",
          "2022-02-10T00:00:00",
          "2022-02-11T00:00:00",
          "2022-02-14T00:00:00",
          "2022-02-15T00:00:00",
          "2022-02-16T00:00:00",
          "2022-02-17T00:00:00"
         ],
         "y": [
          1.0014136842150925,
          1.0050714040347986,
          1.0041759371301264,
          1.003772513114328,
          1.0087811806810743,
          1.0102840171335377,
          1.0025971352119558,
          1.000459539858339,
          0.9976905368550768,
          1.0001751672227799,
          0.9974273913254427,
          1.0002023778370739,
          0.9999879577029896,
          1.0068824605265188,
          1.0118404009683373,
          1.011721478099884,
          1.0076414056850251,
          1.0201812263791445,
          1.0177367782021252,
          1.0221936812822652,
          1.0266657016340008,
          1.0214522484005581,
          1.026806237006531,
          1.025392119726082,
          1.0291712364277412,
          1.0318845676936452,
          1.0320424322057264,
          1.025433956651209,
          1.0289675175453468,
          1.032535904587939,
          1.034446973619476,
          1.0331881964747083,
          1.0357770487986722,
          1.0399050426149505,
          1.0442096318856395,
          1.0500758710995377,
          1.0524440660675665,
          1.0587624885078295,
          1.0621523269174027,
          1.0644159675584581,
          1.0652478952883149,
          1.0646482721841792,
          1.0671668305937607,
          1.0660664289901676,
          1.0750800118692367,
          1.0715976813249237,
          1.0691772615831825,
          1.0678248330684494,
          1.0677502934653758,
          1.0632265429226226,
          1.0644538559922339,
          1.0704429076248183,
          1.0830469971756238,
          1.0931070924886193,
          1.0914351213577476,
          1.0835008020828412,
          1.0815236147411196,
          1.0842363271752906,
          1.0902936414918687,
          1.0911837285478674,
          1.090013579590084,
          1.0911286971472283,
          1.0845868257549138,
          1.0885591077595325,
          1.0875254615614942,
          1.0902664074527573,
          1.0945151623197358,
          1.0928031797270006,
          1.092883827151121,
          1.071654279583389,
          1.078804675066951,
          1.0867734705231444,
          1.0888773959179743,
          1.0950630258118432,
          1.1010997556563404,
          1.0978461782245446,
          1.0964443406227198,
          1.1020562101831641,
          1.1010060657635605,
          1.106278191289641,
          1.1026178455905973,
          1.0972868240085216,
          1.1000983730752958,
          1.102364067860254,
          1.105278033317344,
          1.1055155408812956,
          1.1089781390423992,
          1.1134516946979343,
          1.114525120120625,
          1.1129812923626403,
          1.1133788686886061,
          1.1068965981807366,
          1.099782504807018,
          1.1011604000488096,
          1.1052820644014538,
          1.106296332080788,
          1.107700679146595,
          1.10923272330898,
          1.1087576442822509,
          1.1144620149183166,
          1.1115302085325,
          1.1167341048232204,
          1.1267649719209851,
          1.1230651324666034,
          1.1322418073774032,
          1.1355242447150828,
          1.1321485362979538,
          1.1308099532217188,
          1.1352299349444541,
          1.1456643486997842,
          1.142922234738415,
          1.1473090544740407,
          1.146813607504043,
          1.1445144706651593,
          1.1213121537160131,
          1.1185849579536402,
          1.1355356857953518,
          1.1335287162713066,
          1.126443390289675,
          1.1293323802132365,
          1.1196921105075506,
          1.1235292865614472,
          1.1340525481793127,
          1.1416933171212758,
          1.141367431200395,
          1.1417081060772465,
          1.1319606049681519,
          1.1346741628427164,
          1.1403257306886216,
          1.1491618534592962,
          1.149773166716969,
          1.1513999205066567,
          1.1541479819915794,
          1.1592398046807313,
          1.1593656375915598,
          1.1621940869151173,
          1.157130298647864,
          1.1521756556918488,
          1.1550331607170132,
          1.1546041428845177,
          1.1554467061934663,
          1.1508065156689247,
          1.1547647587915493,
          1.159085683946899,
          1.1598474614302317,
          1.1589062044709566,
          1.1694491611337974,
          1.1677913969852964,
          1.1669422102115534,
          1.1742994742264947,
          1.1669761761047328,
          1.173097502074038,
          1.1643726806557002,
          1.1675940307102206,
          1.1699363706598813,
          1.1708653326914698,
          1.165606955073523,
          1.1636169614818526,
          1.1611546266899024,
          1.1551130254407693,
          1.159561485596768,
          1.1421037453174159,
          1.1456129183987678,
          1.1564073525482967,
          1.1654518834436989,
          1.1631026244304357,
          1.1619671505551374,
          1.1589844213807428,
          1.1680967925136048,
          1.171602812211092,
          1.1692675530296495,
          1.1670672988157589,
          1.1697511841024646,
          1.1659806603134069,
          1.1568080128653153,
          1.164750334004183,
          1.1629414912861549,
          1.159460347560667,
          1.159491996811762,
          1.1625305432980755,
          1.1637462058708572,
          1.1601833666030146,
          1.1612954775687794,
          1.1816019390508516,
          1.1866256633230539,
          1.2071070888221571,
          1.2126343411234113,
          1.216540028266851,
          1.2197337934242625,
          1.2203074693894265,
          1.2301775696301454,
          1.2387031573923453,
          1.2331162571015173,
          1.2310000704731947,
          1.2337944380009858,
          1.2233921173118074,
          1.2213144747932145,
          1.2156827108320285,
          1.2018335428073963,
          1.1611962653522891,
          1.1772919215383886,
          1.185113653299759,
          1.1880238728852475,
          1.1891018455883506,
          1.1937716134154417,
          1.2012944704028632,
          1.2106756281529771,
          1.2078198170563321,
          1.2013650660778763,
          1.2031804047998846,
          1.2064380787343245,
          1.2046774652218617,
          1.2083123373281848,
          1.2018323018966175,
          1.1786067083451082,
          1.1933169806902826,
          1.191641412035295,
          1.178049392554682,
          1.1789099155748044,
          1.1635774360874822,
          1.1703628135129174,
          1.1640918436529428,
          1.1086504170164242,
          1.144749090306933,
          1.1635255411495642,
          1.1718931164238586,
          1.1982780324593338,
          1.1958863460806017,
          1.178453465731343,
          1.1712229726446963,
          1.1629045621071954,
          1.170688406917695,
          1.1841159740099634,
          1.1950447891699796,
          1.1913184190770132,
          1.197681098776541,
          1.2059268075942366,
          1.2190470023329663,
          1.2284935182051997,
          1.2377073500329547,
          1.2424185178250853,
          1.2485971928090727,
          1.256895812350694,
          1.2654608675985137,
          1.273629187673935,
          1.271557554399831,
          1.2757869872248435,
          1.272570318531373,
          1.277516834506195,
          1.2756944973878368,
          1.2767725985804455,
          1.2672062493109018,
          1.265033186101579,
          1.2706914238038058,
          1.267779499874385,
          1.272299909933947,
          1.2831080696531572,
          1.2820892734348825,
          1.2812455391836461,
          1.2779756942937621,
          1.272703021661066,
          1.2657987055332562,
          1.2516491981995073,
          1.2434938603717536,
          1.2419360303532794,
          1.2448398569852448
         ]
        },
        {
         "line": {
          "color": "royalblue"
         },
         "mode": "lines",
         "name": "Portfolio Value",
         "type": "scatter",
         "x": [
          "2021-01-29T00:00:00",
          "2021-02-01T00:00:00",
          "2021-02-02T00:00:00",
          "2021-02-03T00:00:00",
          "2021-02-04T00:00:00",
          "2021-02-05T00:00:00",
          "2021-02-08T00:00:00",
          "2021-02-09T00:00:00",
          "2021-02-10T00:00:00",
          "2021-02-11T00:00:00",
          "2021-02-12T00:00:00",
          "2021-02-15T00:00:00",
          "2021-02-16T00:00:00",
          "2021-02-17T00:00:00",
          "2021-02-18T00:00:00",
          "2021-02-19T00:00:00",
          "2021-02-22T00:00:00",
          "2021-02-23T00:00:00",
          "2021-02-24T00:00:00",
          "2021-02-25T00:00:00",
          "2021-02-26T00:00:00",
          "2021-03-01T00:00:00",
          "2021-03-02T00:00:00",
          "2021-03-03T00:00:00",
          "2021-03-04T00:00:00",
          "2021-03-05T00:00:00",
          "2021-03-08T00:00:00",
          "2021-03-09T00:00:00",
          "2021-03-10T00:00:00",
          "2021-03-11T00:00:00",
          "2021-03-12T00:00:00",
          "2021-03-15T00:00:00",
          "2021-03-16T00:00:00",
          "2021-03-17T00:00:00",
          "2021-03-18T00:00:00",
          "2021-03-19T00:00:00",
          "2021-03-22T00:00:00",
          "2021-03-23T00:00:00",
          "2021-03-24T00:00:00",
          "2021-03-25T00:00:00",
          "2021-03-26T00:00:00",
          "2021-03-29T00:00:00",
          "2021-03-30T00:00:00",
          "2021-03-31T00:00:00",
          "2021-04-01T00:00:00",
          "2021-04-06T00:00:00",
          "2021-04-07T00:00:00",
          "2021-04-08T00:00:00",
          "2021-04-09T00:00:00",
          "2021-04-12T00:00:00",
          "2021-04-13T00:00:00",
          "2021-04-14T00:00:00",
          "2021-04-15T00:00:00",
          "2021-04-16T00:00:00",
          "2021-04-19T00:00:00",
          "2021-04-20T00:00:00",
          "2021-04-21T00:00:00",
          "2021-04-22T00:00:00",
          "2021-04-23T00:00:00",
          "2021-04-26T00:00:00",
          "2021-04-27T00:00:00",
          "2021-04-28T00:00:00",
          "2021-04-29T00:00:00",
          "2021-04-30T00:00:00",
          "2021-05-04T00:00:00",
          "2021-05-05T00:00:00",
          "2021-05-06T00:00:00",
          "2021-05-07T00:00:00",
          "2021-05-10T00:00:00",
          "2021-05-11T00:00:00",
          "2021-05-12T00:00:00",
          "2021-05-13T00:00:00",
          "2021-05-14T00:00:00",
          "2021-05-17T00:00:00",
          "2021-05-18T00:00:00",
          "2021-05-19T00:00:00",
          "2021-05-20T00:00:00",
          "2021-05-21T00:00:00",
          "2021-05-24T00:00:00",
          "2021-05-25T00:00:00",
          "2021-05-26T00:00:00",
          "2021-05-27T00:00:00",
          "2021-05-28T00:00:00",
          "2021-05-31T00:00:00",
          "2021-06-01T00:00:00",
          "2021-06-02T00:00:00",
          "2021-06-04T00:00:00",
          "2021-06-07T00:00:00",
          "2021-06-08T00:00:00",
          "2021-06-09T00:00:00",
          "2021-06-10T00:00:00",
          "2021-06-11T00:00:00",
          "2021-06-14T00:00:00",
          "2021-06-15T00:00:00",
          "2021-06-16T00:00:00",
          "2021-06-17T00:00:00",
          "2021-06-18T00:00:00",
          "2021-06-21T00:00:00",
          "2021-06-22T00:00:00",
          "2021-06-23T00:00:00",
          "2021-06-24T00:00:00",
          "2021-06-25T00:00:00",
          "2021-06-28T00:00:00",
          "2021-06-29T00:00:00",
          "2021-06-30T00:00:00",
          "2021-07-01T00:00:00",
          "2021-07-02T00:00:00",
          "2021-07-05T00:00:00",
          "2021-07-06T00:00:00",
          "2021-07-07T00:00:00",
          "2021-07-08T00:00:00",
          "2021-07-09T00:00:00",
          "2021-07-12T00:00:00",
          "2021-07-13T00:00:00",
          "2021-07-14T00:00:00",
          "2021-07-15T00:00:00",
          "2021-07-16T00:00:00",
          "2021-07-19T00:00:00",
          "2021-07-20T00:00:00",
          "2021-07-21T00:00:00",
          "2021-07-22T00:00:00",
          "2021-07-23T00:00:00",
          "2021-07-26T00:00:00",
          "2021-07-27T00:00:00",
          "2021-07-28T00:00:00",
          "2021-07-29T00:00:00",
          "2021-07-30T00:00:00",
          "2021-08-02T00:00:00",
          "2021-08-03T00:00:00",
          "2021-08-04T00:00:00",
          "2021-08-05T00:00:00",
          "2021-08-06T00:00:00",
          "2021-08-09T00:00:00",
          "2021-08-10T00:00:00",
          "2021-08-11T00:00:00",
          "2021-08-12T00:00:00",
          "2021-08-13T00:00:00",
          "2021-08-16T00:00:00",
          "2021-08-17T00:00:00",
          "2021-08-18T00:00:00",
          "2021-08-19T00:00:00",
          "2021-08-20T00:00:00",
          "2021-08-23T00:00:00",
          "2021-08-24T00:00:00",
          "2021-08-25T00:00:00",
          "2021-08-26T00:00:00",
          "2021-08-27T00:00:00",
          "2021-08-30T00:00:00",
          "2021-08-31T00:00:00",
          "2021-09-01T00:00:00",
          "2021-09-02T00:00:00",
          "2021-09-03T00:00:00",
          "2021-09-06T00:00:00",
          "2021-09-07T00:00:00",
          "2021-09-08T00:00:00",
          "2021-09-09T00:00:00",
          "2021-09-10T00:00:00",
          "2021-09-13T00:00:00",
          "2021-09-14T00:00:00",
          "2021-09-15T00:00:00",
          "2021-09-16T00:00:00",
          "2021-09-17T00:00:00",
          "2021-09-20T00:00:00",
          "2021-09-21T00:00:00",
          "2021-09-22T00:00:00",
          "2021-09-23T00:00:00",
          "2021-09-24T00:00:00",
          "2021-09-27T00:00:00",
          "2021-09-28T00:00:00",
          "2021-09-29T00:00:00",
          "2021-09-30T00:00:00",
          "2021-10-01T00:00:00",
          "2021-10-04T00:00:00",
          "2021-10-05T00:00:00",
          "2021-10-06T00:00:00",
          "2021-10-07T00:00:00",
          "2021-10-08T00:00:00",
          "2021-10-11T00:00:00",
          "2021-10-12T00:00:00",
          "2021-10-13T00:00:00",
          "2021-10-14T00:00:00",
          "2021-10-15T00:00:00",
          "2021-10-18T00:00:00",
          "2021-10-19T00:00:00",
          "2021-10-20T00:00:00",
          "2021-10-21T00:00:00",
          "2021-10-22T00:00:00",
          "2021-10-25T00:00:00",
          "2021-10-26T00:00:00",
          "2021-10-27T00:00:00",
          "2021-10-28T00:00:00",
          "2021-10-29T00:00:00",
          "2021-11-02T00:00:00",
          "2021-11-03T00:00:00",
          "2021-11-04T00:00:00",
          "2021-11-05T00:00:00",
          "2021-11-08T00:00:00",
          "2021-11-09T00:00:00",
          "2021-11-10T00:00:00",
          "2021-11-12T00:00:00",
          "2021-11-15T00:00:00",
          "2021-11-16T00:00:00",
          "2021-11-17T00:00:00",
          "2021-11-18T00:00:00",
          "2021-11-19T00:00:00",
          "2021-11-22T00:00:00",
          "2021-11-23T00:00:00",
          "2021-11-24T00:00:00",
          "2021-11-25T00:00:00",
          "2021-11-26T00:00:00",
          "2021-11-29T00:00:00",
          "2021-11-30T00:00:00",
          "2021-12-01T00:00:00",
          "2021-12-02T00:00:00",
          "2021-12-03T00:00:00",
          "2021-12-06T00:00:00",
          "2021-12-07T00:00:00",
          "2021-12-08T00:00:00",
          "2021-12-09T00:00:00",
          "2021-12-10T00:00:00",
          "2021-12-13T00:00:00",
          "2021-12-14T00:00:00",
          "2021-12-15T00:00:00",
          "2021-12-16T00:00:00",
          "2021-12-17T00:00:00",
          "2021-12-20T00:00:00",
          "2021-12-21T00:00:00",
          "2021-12-22T00:00:00",
          "2021-12-23T00:00:00",
          "2021-12-27T00:00:00",
          "2021-12-28T00:00:00",
          "2021-12-29T00:00:00",
          "2021-12-30T00:00:00",
          "2022-01-03T00:00:00",
          "2022-01-04T00:00:00",
          "2022-01-05T00:00:00",
          "2022-01-07T00:00:00",
          "2022-01-10T00:00:00",
          "2022-01-11T00:00:00",
          "2022-01-12T00:00:00",
          "2022-01-13T00:00:00",
          "2022-01-14T00:00:00",
          "2022-01-17T00:00:00",
          "2022-01-18T00:00:00",
          "2022-01-19T00:00:00",
          "2022-01-20T00:00:00",
          "2022-01-21T00:00:00",
          "2022-01-24T00:00:00",
          "2022-01-25T00:00:00",
          "2022-01-26T00:00:00",
          "2022-01-27T00:00:00",
          "2022-01-28T00:00:00",
          "2022-01-31T00:00:00",
          "2022-02-01T00:00:00",
          "2022-02-02T00:00:00",
          "2022-02-03T00:00:00",
          "2022-02-04T00:00:00",
          "2022-02-07T00:00:00",
          "2022-02-08T00:00:00",
          "2022-02-09T00:00:00",
          "2022-02-10T00:00:00",
          "2022-02-11T00:00:00",
          "2022-02-14T00:00:00",
          "2022-02-15T00:00:00",
          "2022-02-16T00:00:00",
          "2022-02-17T00:00:00"
         ],
         "y": [
          1,
          0.997578748427173,
          0.9972404163338043,
          1.0010080257094958,
          1.0079622262181303,
          1.0077059879187462,
          1.0000536229677703,
          0.9899979317732608,
          0.9901327537308467,
          0.9939196868240542,
          0.9882210970696973,
          0.9876502871789092,
          0.9852199966066242,
          0.9916410702308738,
          0.9912123695653232,
          0.9877559748540595,
          0.9816958167249373,
          0.9997330075266367,
          0.9919261107707827,
          0.9961259889345851,
          1.0059928332980732,
          1.0058751883180617,
          1.0160705981031952,
          1.0226931224521698,
          1.0235112132725959,
          1.0257706018365,
          1.0214429353434766,
          1.013546241178369,
          1.0169822712826195,
          1.0164916783192568,
          1.024634355739091,
          1.0222418936163506,
          1.0305063082994836,
          1.0291421827982952,
          1.035712976515679,
          1.0293743416479864,
          1.030335718635929,
          1.0304977773165134,
          1.0347615107444126,
          1.0305758685943467,
          1.0361078714782972,
          1.0303177235606997,
          1.0380621489919444,
          1.031739930395626,
          1.0397498165161134,
          1.0369835300964652,
          1.0350189509508516,
          1.0321733781628861,
          1.0333309549224694,
          1.026948357226913,
          1.022996708760991,
          1.0230767609137883,
          1.0357447550968975,
          1.0443152492100753,
          1.0463409279439158,
          1.0417417133877782,
          1.0429081703097998,
          1.0365438593822103,
          1.0423246285243795,
          1.0497399438256854,
          1.0442452935638102,
          1.0447970932965889,
          1.0371351772380661,
          1.0365782670219073,
          1.0298361416139825,
          1.0307162183106537,
          1.0281877596254574,
          1.0270619171006685,
          1.025685594366579,
          1.011299374468976,
          1.0138967477819052,
          1.0135260473755983,
          1.0117971953502107,
          1.0156697556708978,
          1.0134824542154683,
          1.0148158537306857,
          1.0152341946230146,
          1.0182091813011254,
          1.020115178969425,
          1.0265482280935703,
          1.024201957460097,
          1.0174806536583365,
          1.0208059686915685,
          1.0197667110886652,
          1.0274548268480204,
          1.0199340318053238,
          1.0208560529627193,
          1.0202391926718721,
          1.0209624433403164,
          1.0187941323494456,
          1.0222834815323316,
          1.019272644570372,
          1.0108271642269642,
          1.0072516960078228,
          1.01519995632637,
          1.0223841741311166,
          1.0241764817045793,
          1.0194129892692594,
          1.0216710461355125,
          1.017358006781201,
          1.016893233528954,
          1.0252098229151418,
          1.0470238200589226,
          1.0406666324079035,
          1.0459531499092407,
          1.0435709231589143,
          1.0367690759691657,
          1.0304853274441974,
          1.0372154760920704,
          1.054468668616245,
          1.0542493504794472,
          1.0666264720468437,
          1.0655188453617055,
          1.0595677261091465,
          1.037676468657595,
          1.0311290169962608,
          1.0538254879308961,
          1.0488482613923233,
          1.0395483340834268,
          1.0466985378953544,
          1.036199442717278,
          1.0454620831243766,
          1.0604630431131539,
          1.0755512490734824,
          1.0809695995135287,
          1.09091805849297,
          1.0771802758214344,
          1.0739151832350726,
          1.0842653816832168,
          1.1020502012416509,
          1.106297934060132,
          1.1095603549338802,
          1.1081948038101255,
          1.114546603853015,
          1.1129309178929858,
          1.1138279548006895,
          1.1017931788229505,
          1.0890530249643635,
          1.0961607936855922,
          1.102154288949602,
          1.103436874480473,
          1.0967041358600442,
          1.0903070921768918,
          1.0976717273162537,
          1.0904898803906629,
          1.0933113263884147,
          1.1104930096369023,
          1.114000319783193,
          1.1096586950395573,
          1.1026908738360504,
          1.094501812305163,
          1.1001235617033793,
          1.0941522492032747,
          1.0898905157631393,
          1.0852210523111625,
          1.0795596859180563,
          1.0808292344873207,
          1.0740666064948603,
          1.0696322899927344,
          1.059106955349044,
          1.0597002855180842,
          1.045658598782973,
          1.0457545705717741,
          1.0525125089704577,
          1.0644456160720988,
          1.0564003509855349,
          1.06040167876063,
          1.059619878907882,
          1.0661598551127243,
          1.0658215801849094,
          1.0670040792724569,
          1.0643281624786487,
          1.0677399304254116,
          1.0584232899149837,
          1.0517616714119071,
          1.0635684759958959,
          1.06033487396755,
          1.0570988957701144,
          1.0591363931788933,
          1.0565515725307255,
          1.0565316143135082,
          1.0483674496983606,
          1.050603869597091,
          1.0726967459549854,
          1.0746043609054206,
          1.0936885815244632,
          1.099479629607911,
          1.1002999153927373,
          1.097723046846317,
          1.0925847190949274,
          1.1031537897283177,
          1.1153540199438206,
          1.1138813893847905,
          1.114117804487827,
          1.1184122356275688,
          1.113141202753222,
          1.1104360635096135,
          1.106486844535556,
          1.0938573614352267,
          1.0542073602908824,
          1.0677610688515307,
          1.0776077116383875,
          1.0808488833230414,
          1.07792051224967,
          1.0850187529707274,
          1.0894955634710435,
          1.0943839547911007,
          1.0894468119636878,
          1.084002596389025,
          1.0836258792396445,
          1.087815704577382,
          1.0966723282576505,
          1.0920432168498804,
          1.0866761771472058,
          1.071910721378658,
          1.0778874798392284,
          1.0802455262944317,
          1.0720443949217882,
          1.066534338305136,
          1.0468483785153795,
          1.0487044006250879,
          1.0470341299538155,
          0.9995635407578404,
          1.029390202360638,
          1.0589205100645447,
          1.080437201415922,
          1.094372139736663,
          1.0926472044096287,
          1.073834162533151,
          1.0794879668241073,
          1.0654356868765875,
          1.0751359419595603,
          1.0853969940477974,
          1.1017119364206063,
          1.088885352723281,
          1.0899312733920037,
          1.0958604559275522,
          1.1054703923631972,
          1.1151309707785206,
          1.120506454994777,
          1.1308948801038812,
          1.1380919420398539,
          1.1480673136403505,
          1.1561579529031623,
          1.166338457357134,
          1.1598312420606849,
          1.1554651894895047,
          1.1481466903371251,
          1.1627047943534063,
          1.155075962882923,
          1.1584154160436844,
          1.151843608990381,
          1.1559807213947404,
          1.160608256705095,
          1.1565834690463037,
          1.1575056319019992,
          1.1690484101144496,
          1.1664208357567944,
          1.1667800353716322,
          1.161185086877201,
          1.1529129127848292,
          1.1451368755676514,
          1.133746045808649,
          1.1296665631327167,
          1.139453313123484,
          1.1369484574802
         ]
        },
        {
         "line": {
          "color": "grey",
          "dash": "dash",
          "width": 2
         },
         "name": "start value",
         "type": "scatter",
         "x": [
          "2021-01-29T00:00:00",
          "2021-02-01T00:00:00",
          "2021-02-02T00:00:00",
          "2021-02-03T00:00:00",
          "2021-02-04T00:00:00",
          "2021-02-05T00:00:00",
          "2021-02-08T00:00:00",
          "2021-02-09T00:00:00",
          "2021-02-10T00:00:00",
          "2021-02-11T00:00:00",
          "2021-02-12T00:00:00",
          "2021-02-15T00:00:00",
          "2021-02-16T00:00:00",
          "2021-02-17T00:00:00",
          "2021-02-18T00:00:00",
          "2021-02-19T00:00:00",
          "2021-02-22T00:00:00",
          "2021-02-23T00:00:00",
          "2021-02-24T00:00:00",
          "2021-02-25T00:00:00",
          "2021-02-26T00:00:00",
          "2021-03-01T00:00:00",
          "2021-03-02T00:00:00",
          "2021-03-03T00:00:00",
          "2021-03-04T00:00:00",
          "2021-03-05T00:00:00",
          "2021-03-08T00:00:00",
          "2021-03-09T00:00:00",
          "2021-03-10T00:00:00",
          "2021-03-11T00:00:00",
          "2021-03-12T00:00:00",
          "2021-03-15T00:00:00",
          "2021-03-16T00:00:00",
          "2021-03-17T00:00:00",
          "2021-03-18T00:00:00",
          "2021-03-19T00:00:00",
          "2021-03-22T00:00:00",
          "2021-03-23T00:00:00",
          "2021-03-24T00:00:00",
          "2021-03-25T00:00:00",
          "2021-03-26T00:00:00",
          "2021-03-29T00:00:00",
          "2021-03-30T00:00:00",
          "2021-03-31T00:00:00",
          "2021-04-01T00:00:00",
          "2021-04-06T00:00:00",
          "2021-04-07T00:00:00",
          "2021-04-08T00:00:00",
          "2021-04-09T00:00:00",
          "2021-04-12T00:00:00",
          "2021-04-13T00:00:00",
          "2021-04-14T00:00:00",
          "2021-04-15T00:00:00",
          "2021-04-16T00:00:00",
          "2021-04-19T00:00:00",
          "2021-04-20T00:00:00",
          "2021-04-21T00:00:00",
          "2021-04-22T00:00:00",
          "2021-04-23T00:00:00",
          "2021-04-26T00:00:00",
          "2021-04-27T00:00:00",
          "2021-04-28T00:00:00",
          "2021-04-29T00:00:00",
          "2021-04-30T00:00:00",
          "2021-05-04T00:00:00",
          "2021-05-05T00:00:00",
          "2021-05-06T00:00:00",
          "2021-05-07T00:00:00",
          "2021-05-10T00:00:00",
          "2021-05-11T00:00:00",
          "2021-05-12T00:00:00",
          "2021-05-13T00:00:00",
          "2021-05-14T00:00:00",
          "2021-05-17T00:00:00",
          "2021-05-18T00:00:00",
          "2021-05-19T00:00:00",
          "2021-05-20T00:00:00",
          "2021-05-21T00:00:00",
          "2021-05-24T00:00:00",
          "2021-05-25T00:00:00",
          "2021-05-26T00:00:00",
          "2021-05-27T00:00:00",
          "2021-05-28T00:00:00",
          "2021-05-31T00:00:00",
          "2021-06-01T00:00:00",
          "2021-06-02T00:00:00",
          "2021-06-04T00:00:00",
          "2021-06-07T00:00:00",
          "2021-06-08T00:00:00",
          "2021-06-09T00:00:00",
          "2021-06-10T00:00:00",
          "2021-06-11T00:00:00",
          "2021-06-14T00:00:00",
          "2021-06-15T00:00:00",
          "2021-06-16T00:00:00",
          "2021-06-17T00:00:00",
          "2021-06-18T00:00:00",
          "2021-06-21T00:00:00",
          "2021-06-22T00:00:00",
          "2021-06-23T00:00:00",
          "2021-06-24T00:00:00",
          "2021-06-25T00:00:00",
          "2021-06-28T00:00:00",
          "2021-06-29T00:00:00",
          "2021-06-30T00:00:00",
          "2021-07-01T00:00:00",
          "2021-07-02T00:00:00",
          "2021-07-05T00:00:00",
          "2021-07-06T00:00:00",
          "2021-07-07T00:00:00",
          "2021-07-08T00:00:00",
          "2021-07-09T00:00:00",
          "2021-07-12T00:00:00",
          "2021-07-13T00:00:00",
          "2021-07-14T00:00:00",
          "2021-07-15T00:00:00",
          "2021-07-16T00:00:00",
          "2021-07-19T00:00:00",
          "2021-07-20T00:00:00",
          "2021-07-21T00:00:00",
          "2021-07-22T00:00:00",
          "2021-07-23T00:00:00",
          "2021-07-26T00:00:00",
          "2021-07-27T00:00:00",
          "2021-07-28T00:00:00",
          "2021-07-29T00:00:00",
          "2021-07-30T00:00:00",
          "2021-08-02T00:00:00",
          "2021-08-03T00:00:00",
          "2021-08-04T00:00:00",
          "2021-08-05T00:00:00",
          "2021-08-06T00:00:00",
          "2021-08-09T00:00:00",
          "2021-08-10T00:00:00",
          "2021-08-11T00:00:00",
          "2021-08-12T00:00:00",
          "2021-08-13T00:00:00",
          "2021-08-16T00:00:00",
          "2021-08-17T00:00:00",
          "2021-08-18T00:00:00",
          "2021-08-19T00:00:00",
          "2021-08-20T00:00:00",
          "2021-08-23T00:00:00",
          "2021-08-24T00:00:00",
          "2021-08-25T00:00:00",
          "2021-08-26T00:00:00",
          "2021-08-27T00:00:00",
          "2021-08-30T00:00:00",
          "2021-08-31T00:00:00",
          "2021-09-01T00:00:00",
          "2021-09-02T00:00:00",
          "2021-09-03T00:00:00",
          "2021-09-06T00:00:00",
          "2021-09-07T00:00:00",
          "2021-09-08T00:00:00",
          "2021-09-09T00:00:00",
          "2021-09-10T00:00:00",
          "2021-09-13T00:00:00",
          "2021-09-14T00:00:00",
          "2021-09-15T00:00:00",
          "2021-09-16T00:00:00",
          "2021-09-17T00:00:00",
          "2021-09-20T00:00:00",
          "2021-09-21T00:00:00",
          "2021-09-22T00:00:00",
          "2021-09-23T00:00:00",
          "2021-09-24T00:00:00",
          "2021-09-27T00:00:00",
          "2021-09-28T00:00:00",
          "2021-09-29T00:00:00",
          "2021-09-30T00:00:00",
          "2021-10-01T00:00:00",
          "2021-10-04T00:00:00",
          "2021-10-05T00:00:00",
          "2021-10-06T00:00:00",
          "2021-10-07T00:00:00",
          "2021-10-08T00:00:00",
          "2021-10-11T00:00:00",
          "2021-10-12T00:00:00",
          "2021-10-13T00:00:00",
          "2021-10-14T00:00:00",
          "2021-10-15T00:00:00",
          "2021-10-18T00:00:00",
          "2021-10-19T00:00:00",
          "2021-10-20T00:00:00",
          "2021-10-21T00:00:00",
          "2021-10-22T00:00:00",
          "2021-10-25T00:00:00",
          "2021-10-26T00:00:00",
          "2021-10-27T00:00:00",
          "2021-10-28T00:00:00",
          "2021-10-29T00:00:00",
          "2021-11-02T00:00:00",
          "2021-11-03T00:00:00",
          "2021-11-04T00:00:00",
          "2021-11-05T00:00:00",
          "2021-11-08T00:00:00",
          "2021-11-09T00:00:00",
          "2021-11-10T00:00:00",
          "2021-11-12T00:00:00",
          "2021-11-15T00:00:00",
          "2021-11-16T00:00:00",
          "2021-11-17T00:00:00",
          "2021-11-18T00:00:00",
          "2021-11-19T00:00:00",
          "2021-11-22T00:00:00",
          "2021-11-23T00:00:00",
          "2021-11-24T00:00:00",
          "2021-11-25T00:00:00",
          "2021-11-26T00:00:00",
          "2021-11-29T00:00:00",
          "2021-11-30T00:00:00",
          "2021-12-01T00:00:00",
          "2021-12-02T00:00:00",
          "2021-12-03T00:00:00",
          "2021-12-06T00:00:00",
          "2021-12-07T00:00:00",
          "2021-12-08T00:00:00",
          "2021-12-09T00:00:00",
          "2021-12-10T00:00:00",
          "2021-12-13T00:00:00",
          "2021-12-14T00:00:00",
          "2021-12-15T00:00:00",
          "2021-12-16T00:00:00",
          "2021-12-17T00:00:00",
          "2021-12-20T00:00:00",
          "2021-12-21T00:00:00",
          "2021-12-22T00:00:00",
          "2021-12-23T00:00:00",
          "2021-12-27T00:00:00",
          "2021-12-28T00:00:00",
          "2021-12-29T00:00:00",
          "2021-12-30T00:00:00",
          "2022-01-03T00:00:00",
          "2022-01-04T00:00:00",
          "2022-01-05T00:00:00",
          "2022-01-07T00:00:00",
          "2022-01-10T00:00:00",
          "2022-01-11T00:00:00",
          "2022-01-12T00:00:00",
          "2022-01-13T00:00:00",
          "2022-01-14T00:00:00",
          "2022-01-17T00:00:00",
          "2022-01-18T00:00:00",
          "2022-01-19T00:00:00",
          "2022-01-20T00:00:00",
          "2022-01-21T00:00:00",
          "2022-01-24T00:00:00",
          "2022-01-25T00:00:00",
          "2022-01-26T00:00:00",
          "2022-01-27T00:00:00",
          "2022-01-28T00:00:00",
          "2022-01-31T00:00:00",
          "2022-02-01T00:00:00",
          "2022-02-02T00:00:00",
          "2022-02-03T00:00:00",
          "2022-02-04T00:00:00",
          "2022-02-07T00:00:00",
          "2022-02-08T00:00:00",
          "2022-02-09T00:00:00",
          "2022-02-10T00:00:00",
          "2022-02-11T00:00:00",
          "2022-02-14T00:00:00",
          "2022-02-15T00:00:00",
          "2022-02-16T00:00:00",
          "2022-02-17T00:00:00"
         ],
         "y": [
          1,
          1,
          1,
          1,
          1,
          1,
          1,
          1,
          1,
          1,
          1,
          1,
          1,
          1,
          1,
          1,
          1,
          1,
          1,
          1,
          1,
          1,
          1,
          1,
          1,
          1,
          1,
          1,
          1,
          1,
          1,
          1,
          1,
          1,
          1,
          1,
          1,
          1,
          1,
          1,
          1,
          1,
          1,
          1,
          1,
          1,
          1,
          1,
          1,
          1,
          1,
          1,
          1,
          1,
          1,
          1,
          1,
          1,
          1,
          1,
          1,
          1,
          1,
          1,
          1,
          1,
          1,
          1,
          1,
          1,
          1,
          1,
          1,
          1,
          1,
          1,
          1,
          1,
          1,
          1,
          1,
          1,
          1,
          1,
          1,
          1,
          1,
          1,
          1,
          1,
          1,
          1,
          1,
          1,
          1,
          1,
          1,
          1,
          1,
          1,
          1,
          1,
          1,
          1,
          1,
          1,
          1,
          1,
          1,
          1,
          1,
          1,
          1,
          1,
          1,
          1,
          1,
          1,
          1,
          1,
          1,
          1,
          1,
          1,
          1,
          1,
          1,
          1,
          1,
          1,
          1,
          1,
          1,
          1,
          1,
          1,
          1,
          1,
          1,
          1,
          1,
          1,
          1,
          1,
          1,
          1,
          1,
          1,
          1,
          1,
          1,
          1,
          1,
          1,
          1,
          1,
          1,
          1,
          1,
          1,
          1,
          1,
          1,
          1,
          1,
          1,
          1,
          1,
          1,
          1,
          1,
          1,
          1,
          1,
          1,
          1,
          1,
          1,
          1,
          1,
          1,
          1,
          1,
          1,
          1,
          1,
          1,
          1,
          1,
          1,
          1,
          1,
          1,
          1,
          1,
          1,
          1,
          1,
          1,
          1,
          1,
          1,
          1,
          1,
          1,
          1,
          1,
          1,
          1,
          1,
          1,
          1,
          1,
          1,
          1,
          1,
          1,
          1,
          1,
          1,
          1,
          1,
          1,
          1,
          1,
          1,
          1,
          1,
          1,
          1,
          1,
          1,
          1,
          1,
          1,
          1,
          1,
          1,
          1,
          1,
          1,
          1,
          1,
          1,
          1,
          1,
          1,
          1,
          1,
          1,
          1,
          1,
          1,
          1,
          1,
          1,
          1,
          1,
          1,
          1,
          1,
          1,
          1,
          1,
          1,
          1
         ]
        }
       ],
       "layout": {
        "template": {
         "data": {
          "bar": [
           {
            "error_x": {
             "color": "#2a3f5f"
            },
            "error_y": {
             "color": "#2a3f5f"
            },
            "marker": {
             "line": {
              "color": "#E5ECF6",
              "width": 0.5
             },
             "pattern": {
              "fillmode": "overlay",
              "size": 10,
              "solidity": 0.2
             }
            },
            "type": "bar"
           }
          ],
          "barpolar": [
           {
            "marker": {
             "line": {
              "color": "#E5ECF6",
              "width": 0.5
             },
             "pattern": {
              "fillmode": "overlay",
              "size": 10,
              "solidity": 0.2
             }
            },
            "type": "barpolar"
           }
          ],
          "carpet": [
           {
            "aaxis": {
             "endlinecolor": "#2a3f5f",
             "gridcolor": "white",
             "linecolor": "white",
             "minorgridcolor": "white",
             "startlinecolor": "#2a3f5f"
            },
            "baxis": {
             "endlinecolor": "#2a3f5f",
             "gridcolor": "white",
             "linecolor": "white",
             "minorgridcolor": "white",
             "startlinecolor": "#2a3f5f"
            },
            "type": "carpet"
           }
          ],
          "choropleth": [
           {
            "colorbar": {
             "outlinewidth": 0,
             "ticks": ""
            },
            "type": "choropleth"
           }
          ],
          "contour": [
           {
            "colorbar": {
             "outlinewidth": 0,
             "ticks": ""
            },
            "colorscale": [
             [
              0,
              "#0d0887"
             ],
             [
              0.1111111111111111,
              "#46039f"
             ],
             [
              0.2222222222222222,
              "#7201a8"
             ],
             [
              0.3333333333333333,
              "#9c179e"
             ],
             [
              0.4444444444444444,
              "#bd3786"
             ],
             [
              0.5555555555555556,
              "#d8576b"
             ],
             [
              0.6666666666666666,
              "#ed7953"
             ],
             [
              0.7777777777777778,
              "#fb9f3a"
             ],
             [
              0.8888888888888888,
              "#fdca26"
             ],
             [
              1,
              "#f0f921"
             ]
            ],
            "type": "contour"
           }
          ],
          "contourcarpet": [
           {
            "colorbar": {
             "outlinewidth": 0,
             "ticks": ""
            },
            "type": "contourcarpet"
           }
          ],
          "heatmap": [
           {
            "colorbar": {
             "outlinewidth": 0,
             "ticks": ""
            },
            "colorscale": [
             [
              0,
              "#0d0887"
             ],
             [
              0.1111111111111111,
              "#46039f"
             ],
             [
              0.2222222222222222,
              "#7201a8"
             ],
             [
              0.3333333333333333,
              "#9c179e"
             ],
             [
              0.4444444444444444,
              "#bd3786"
             ],
             [
              0.5555555555555556,
              "#d8576b"
             ],
             [
              0.6666666666666666,
              "#ed7953"
             ],
             [
              0.7777777777777778,
              "#fb9f3a"
             ],
             [
              0.8888888888888888,
              "#fdca26"
             ],
             [
              1,
              "#f0f921"
             ]
            ],
            "type": "heatmap"
           }
          ],
          "heatmapgl": [
           {
            "colorbar": {
             "outlinewidth": 0,
             "ticks": ""
            },
            "colorscale": [
             [
              0,
              "#0d0887"
             ],
             [
              0.1111111111111111,
              "#46039f"
             ],
             [
              0.2222222222222222,
              "#7201a8"
             ],
             [
              0.3333333333333333,
              "#9c179e"
             ],
             [
              0.4444444444444444,
              "#bd3786"
             ],
             [
              0.5555555555555556,
              "#d8576b"
             ],
             [
              0.6666666666666666,
              "#ed7953"
             ],
             [
              0.7777777777777778,
              "#fb9f3a"
             ],
             [
              0.8888888888888888,
              "#fdca26"
             ],
             [
              1,
              "#f0f921"
             ]
            ],
            "type": "heatmapgl"
           }
          ],
          "histogram": [
           {
            "marker": {
             "pattern": {
              "fillmode": "overlay",
              "size": 10,
              "solidity": 0.2
             }
            },
            "type": "histogram"
           }
          ],
          "histogram2d": [
           {
            "colorbar": {
             "outlinewidth": 0,
             "ticks": ""
            },
            "colorscale": [
             [
              0,
              "#0d0887"
             ],
             [
              0.1111111111111111,
              "#46039f"
             ],
             [
              0.2222222222222222,
              "#7201a8"
             ],
             [
              0.3333333333333333,
              "#9c179e"
             ],
             [
              0.4444444444444444,
              "#bd3786"
             ],
             [
              0.5555555555555556,
              "#d8576b"
             ],
             [
              0.6666666666666666,
              "#ed7953"
             ],
             [
              0.7777777777777778,
              "#fb9f3a"
             ],
             [
              0.8888888888888888,
              "#fdca26"
             ],
             [
              1,
              "#f0f921"
             ]
            ],
            "type": "histogram2d"
           }
          ],
          "histogram2dcontour": [
           {
            "colorbar": {
             "outlinewidth": 0,
             "ticks": ""
            },
            "colorscale": [
             [
              0,
              "#0d0887"
             ],
             [
              0.1111111111111111,
              "#46039f"
             ],
             [
              0.2222222222222222,
              "#7201a8"
             ],
             [
              0.3333333333333333,
              "#9c179e"
             ],
             [
              0.4444444444444444,
              "#bd3786"
             ],
             [
              0.5555555555555556,
              "#d8576b"
             ],
             [
              0.6666666666666666,
              "#ed7953"
             ],
             [
              0.7777777777777778,
              "#fb9f3a"
             ],
             [
              0.8888888888888888,
              "#fdca26"
             ],
             [
              1,
              "#f0f921"
             ]
            ],
            "type": "histogram2dcontour"
           }
          ],
          "mesh3d": [
           {
            "colorbar": {
             "outlinewidth": 0,
             "ticks": ""
            },
            "type": "mesh3d"
           }
          ],
          "parcoords": [
           {
            "line": {
             "colorbar": {
              "outlinewidth": 0,
              "ticks": ""
             }
            },
            "type": "parcoords"
           }
          ],
          "pie": [
           {
            "automargin": true,
            "type": "pie"
           }
          ],
          "scatter": [
           {
            "marker": {
             "colorbar": {
              "outlinewidth": 0,
              "ticks": ""
             }
            },
            "type": "scatter"
           }
          ],
          "scatter3d": [
           {
            "line": {
             "colorbar": {
              "outlinewidth": 0,
              "ticks": ""
             }
            },
            "marker": {
             "colorbar": {
              "outlinewidth": 0,
              "ticks": ""
             }
            },
            "type": "scatter3d"
           }
          ],
          "scattercarpet": [
           {
            "marker": {
             "colorbar": {
              "outlinewidth": 0,
              "ticks": ""
             }
            },
            "type": "scattercarpet"
           }
          ],
          "scattergeo": [
           {
            "marker": {
             "colorbar": {
              "outlinewidth": 0,
              "ticks": ""
             }
            },
            "type": "scattergeo"
           }
          ],
          "scattergl": [
           {
            "marker": {
             "colorbar": {
              "outlinewidth": 0,
              "ticks": ""
             }
            },
            "type": "scattergl"
           }
          ],
          "scattermapbox": [
           {
            "marker": {
             "colorbar": {
              "outlinewidth": 0,
              "ticks": ""
             }
            },
            "type": "scattermapbox"
           }
          ],
          "scatterpolar": [
           {
            "marker": {
             "colorbar": {
              "outlinewidth": 0,
              "ticks": ""
             }
            },
            "type": "scatterpolar"
           }
          ],
          "scatterpolargl": [
           {
            "marker": {
             "colorbar": {
              "outlinewidth": 0,
              "ticks": ""
             }
            },
            "type": "scatterpolargl"
           }
          ],
          "scatterternary": [
           {
            "marker": {
             "colorbar": {
              "outlinewidth": 0,
              "ticks": ""
             }
            },
            "type": "scatterternary"
           }
          ],
          "surface": [
           {
            "colorbar": {
             "outlinewidth": 0,
             "ticks": ""
            },
            "colorscale": [
             [
              0,
              "#0d0887"
             ],
             [
              0.1111111111111111,
              "#46039f"
             ],
             [
              0.2222222222222222,
              "#7201a8"
             ],
             [
              0.3333333333333333,
              "#9c179e"
             ],
             [
              0.4444444444444444,
              "#bd3786"
             ],
             [
              0.5555555555555556,
              "#d8576b"
             ],
             [
              0.6666666666666666,
              "#ed7953"
             ],
             [
              0.7777777777777778,
              "#fb9f3a"
             ],
             [
              0.8888888888888888,
              "#fdca26"
             ],
             [
              1,
              "#f0f921"
             ]
            ],
            "type": "surface"
           }
          ],
          "table": [
           {
            "cells": {
             "fill": {
              "color": "#EBF0F8"
             },
             "line": {
              "color": "white"
             }
            },
            "header": {
             "fill": {
              "color": "#C8D4E3"
             },
             "line": {
              "color": "white"
             }
            },
            "type": "table"
           }
          ]
         },
         "layout": {
          "annotationdefaults": {
           "arrowcolor": "#2a3f5f",
           "arrowhead": 0,
           "arrowwidth": 1
          },
          "autotypenumbers": "strict",
          "coloraxis": {
           "colorbar": {
            "outlinewidth": 0,
            "ticks": ""
           }
          },
          "colorscale": {
           "diverging": [
            [
             0,
             "#8e0152"
            ],
            [
             0.1,
             "#c51b7d"
            ],
            [
             0.2,
             "#de77ae"
            ],
            [
             0.3,
             "#f1b6da"
            ],
            [
             0.4,
             "#fde0ef"
            ],
            [
             0.5,
             "#f7f7f7"
            ],
            [
             0.6,
             "#e6f5d0"
            ],
            [
             0.7,
             "#b8e186"
            ],
            [
             0.8,
             "#7fbc41"
            ],
            [
             0.9,
             "#4d9221"
            ],
            [
             1,
             "#276419"
            ]
           ],
           "sequential": [
            [
             0,
             "#0d0887"
            ],
            [
             0.1111111111111111,
             "#46039f"
            ],
            [
             0.2222222222222222,
             "#7201a8"
            ],
            [
             0.3333333333333333,
             "#9c179e"
            ],
            [
             0.4444444444444444,
             "#bd3786"
            ],
            [
             0.5555555555555556,
             "#d8576b"
            ],
            [
             0.6666666666666666,
             "#ed7953"
            ],
            [
             0.7777777777777778,
             "#fb9f3a"
            ],
            [
             0.8888888888888888,
             "#fdca26"
            ],
            [
             1,
             "#f0f921"
            ]
           ],
           "sequentialminus": [
            [
             0,
             "#0d0887"
            ],
            [
             0.1111111111111111,
             "#46039f"
            ],
            [
             0.2222222222222222,
             "#7201a8"
            ],
            [
             0.3333333333333333,
             "#9c179e"
            ],
            [
             0.4444444444444444,
             "#bd3786"
            ],
            [
             0.5555555555555556,
             "#d8576b"
            ],
            [
             0.6666666666666666,
             "#ed7953"
            ],
            [
             0.7777777777777778,
             "#fb9f3a"
            ],
            [
             0.8888888888888888,
             "#fdca26"
            ],
            [
             1,
             "#f0f921"
            ]
           ]
          },
          "colorway": [
           "#636efa",
           "#EF553B",
           "#00cc96",
           "#ab63fa",
           "#FFA15A",
           "#19d3f3",
           "#FF6692",
           "#B6E880",
           "#FF97FF",
           "#FECB52"
          ],
          "font": {
           "color": "#2a3f5f"
          },
          "geo": {
           "bgcolor": "white",
           "lakecolor": "white",
           "landcolor": "#E5ECF6",
           "showlakes": true,
           "showland": true,
           "subunitcolor": "white"
          },
          "hoverlabel": {
           "align": "left"
          },
          "hovermode": "closest",
          "mapbox": {
           "style": "light"
          },
          "paper_bgcolor": "white",
          "plot_bgcolor": "#E5ECF6",
          "polar": {
           "angularaxis": {
            "gridcolor": "white",
            "linecolor": "white",
            "ticks": ""
           },
           "bgcolor": "#E5ECF6",
           "radialaxis": {
            "gridcolor": "white",
            "linecolor": "white",
            "ticks": ""
           }
          },
          "scene": {
           "xaxis": {
            "backgroundcolor": "#E5ECF6",
            "gridcolor": "white",
            "gridwidth": 2,
            "linecolor": "white",
            "showbackground": true,
            "ticks": "",
            "zerolinecolor": "white"
           },
           "yaxis": {
            "backgroundcolor": "#E5ECF6",
            "gridcolor": "white",
            "gridwidth": 2,
            "linecolor": "white",
            "showbackground": true,
            "ticks": "",
            "zerolinecolor": "white"
           },
           "zaxis": {
            "backgroundcolor": "#E5ECF6",
            "gridcolor": "white",
            "gridwidth": 2,
            "linecolor": "white",
            "showbackground": true,
            "ticks": "",
            "zerolinecolor": "white"
           }
          },
          "shapedefaults": {
           "line": {
            "color": "#2a3f5f"
           }
          },
          "ternary": {
           "aaxis": {
            "gridcolor": "white",
            "linecolor": "white",
            "ticks": ""
           },
           "baxis": {
            "gridcolor": "white",
            "linecolor": "white",
            "ticks": ""
           },
           "bgcolor": "#E5ECF6",
           "caxis": {
            "gridcolor": "white",
            "linecolor": "white",
            "ticks": ""
           }
          },
          "title": {
           "x": 0.05
          },
          "xaxis": {
           "automargin": true,
           "gridcolor": "white",
           "linecolor": "white",
           "ticks": "",
           "title": {
            "standoff": 15
           },
           "zerolinecolor": "white",
           "zerolinewidth": 2
          },
          "yaxis": {
           "automargin": true,
           "gridcolor": "white",
           "linecolor": "white",
           "ticks": "",
           "title": {
            "standoff": 15
           },
           "zerolinecolor": "white",
           "zerolinewidth": 2
          }
         }
        },
        "title": {
         "text": "max_drawdown=-4.57% sharpe_ratio= 0.3383 mean_rate_of_return= 5.1784% cost= 0.0560"
        },
        "xaxis": {
         "title": {
          "text": "Date"
         }
        },
        "yaxis": {
         "title": {
          "text": "Normalized value"
         }
        }
       }
      }
     },
     "metadata": {},
     "output_type": "display_data"
    },
    {
     "data": {
      "application/vnd.plotly.v1+json": {
       "config": {
        "plotlyServerURL": "https://plot.ly"
       },
       "data": [
        {
         "customdata": [
          [
           "CASH"
          ],
          [
           "11 BIT STUDIOS SPOLKA AKCYJNA"
          ],
          [
           "AC SPOLKA AKCYJNA"
          ],
          [
           "ALUMETAL SPOLKA AKCYJNA"
          ],
          [
           "APLISENS SPOLKA AKCYJNA"
          ],
          [
           "ARCHICOM SPOLKA AKCYJNA"
          ],
          [
           "ARCTIC PAPER SPOLKA AKCYJNA"
          ],
          [
           "ARTERIA SPOLKA AKCYJNA"
          ],
          [
           "AS SILVANO FASHION GROUP"
          ],
          [
           "ASSECO BUSINESS SOLUTIONS SPOLKA AKCYJNA"
          ],
          [
           "ASSECO POLAND SPOLKA AKCYJNA"
          ],
          [
           "ASSECO SOUTH EASTERN EUROPE SPOLKA AKCYJNA"
          ],
          [
           "ATLANTA POLAND SPOLKA AKCYJNA"
          ],
          [
           "ATM GRUPA SPOLKA AKCYJNA"
          ],
          [
           "BBI DEVELOPMENT SPOLKA AKCYJNA"
          ],
          [
           "BETACOM SPOLKA AKCYJNA"
          ],
          [
           "BORYSZEW SPOLKA AKCYJNA"
          ],
          [
           "BOWIM SPOLKA AKCYJNA"
          ],
          [
           "BUMECH SPOLKA AKCYJNA"
          ],
          [
           "CCC SPOLKA AKCYJNA"
          ],
          [
           "CD PROJEKT SPOLKA AKCYJNA"
          ],
          [
           "CENTRUM MEDYCZNE ENEL-MED SPOLKA AKCYJNA"
          ],
          [
           "CENTRUM NOWOCZESNYCH TECHNOLOGII SPOLKA AKCYJNA"
          ],
          [
           "CIECH SPOLKA AKCYJNA"
          ],
          [
           "CPD SPOLKA AKCYJNA"
          ],
          [
           "CYFROWY POLSAT SPOLKA AKCYJNA"
          ],
          [
           "DIGITAL NETWORK SPOLKA AKCYJNA"
          ],
          [
           "DINO POLSKA SPOLKA AKCYJNA"
          ],
          [
           "DROZAPOL-PROFIL SPOLKA AKCYJNA"
          ],
          [
           "ELKOP SPOLKA AKCYJNA"
          ],
          [
           "ERG SPOLKA AKCYJNA"
          ],
          [
           "EUROHOLD BULGARIA AD"
          ],
          [
           "FABRYKA FARB I LAKIEROW ŚNIEŻKA SPOLKA AKCYJNA"
          ],
          [
           "FERRUM SPOLKA AKCYJNA"
          ],
          [
           "FIRMA OPONIARSKA DĘBICA SPOLKA AKCYJNA"
          ],
          [
           "GI GROUP POLAND SPOLKA AKCYJNA"
          ],
          [
           "GIELDA PAPIEROW WARTOŚCIOWYCH W WARSZAWIE SPOLKA AKCYJNA"
          ],
          [
           "GLOBE TRADE CENTRE SPOLKA AKCYJNA"
          ],
          [
           "GRUPA AZOTY SPOLKA AKCYJNA"
          ],
          [
           "GRUPA AZOTY ZAKLADY CHEMICZNE POLICE SPOLKA AKCYJNA"
          ],
          [
           "GRUPA KAPITALOWA IMMOBILE SPOLKA AKCYJNA"
          ],
          [
           "GRUPA KĘTY SPOLKA AKCYJNA"
          ],
          [
           "IFIRMA SPOLKA AKCYJNA"
          ],
          [
           "IMMOFINANZ AG"
          ],
          [
           "INDUSTRIAL MILK COMPANY S.A."
          ],
          [
           "INSTAL KRAKOW SPOLKA AKCYJNA"
          ],
          [
           "INVISTA SPOLKA AKCYJNA"
          ],
          [
           "JASTRZĘBSKA SPOLKA WĘGLOWA SPOLKA AKCYJNA"
          ],
          [
           "KGHM POLSKA MIEDŹ SPOLKA AKCYJNA"
          ],
          [
           "KOSZALIŃSKIE PRZEDSIĘBIORSTWO PRZEMYSLU DRZEWNEGO SPOLKA AKCYJNA"
          ],
          [
           "KRKA. TOVARNA ZDRAVIL. D.D.. NOVO MESTO"
          ],
          [
           "LENA LIGHTING SPOLKA AKCYJNA"
          ],
          [
           "LIBET SPOLKA AKCYJNA"
          ],
          [
           "LUBAWA SPOLKA AKCYJNA"
          ],
          [
           "MARIE BRIZARD WINE & SPIRITS"
          ],
          [
           "MENNICA POLSKA SPOLKA AKCYJNA"
          ],
          [
           "MLP GROUP SPOLKA AKCYJNA"
          ],
          [
           "MOJ SPOLKA AKCYJNA"
          ],
          [
           "MUZA SPOLKA AKCYJNA"
          ],
          [
           "OEX SPOLKA AKCYJNA"
          ],
          [
           "OT LOGISTICS SPOLKA AKCYJNA"
          ],
          [
           "OVOSTAR UNION N.V."
          ],
          [
           "PCC ROKITA SPOLKA AKCYJNA"
          ],
          [
           "PGF POLSKA GRUPA FOTOWOLTAICZNA SPOLKA AKCYJNA"
          ],
          [
           "PLAZA CENTERS N.V."
          ],
          [
           "PMPG POLSKIE MEDIA SPOLKA AKCYJNA"
          ],
          [
           "POLENERGIA SPOLKA AKCYJNA"
          ],
          [
           "POLSKI KONCERN NAFTOWY ORLEN SPOLKA AKCYJNA"
          ],
          [
           "POLSKIE GORNICTWO NAFTOWE I GAZOWNICTWO SPOLKA AKCYJNA"
          ],
          [
           "PROCHEM SPOLKA AKCYJNA"
          ],
          [
           "PROJPRZEM MAKRUM SPOLKA AKCYJNA"
          ],
          [
           "PROTEKTOR SPOLKA AKCYJNA"
          ],
          [
           "SECO/WARWICK SPOLKA AKCYJNA"
          ],
          [
           "SILVAIR, INC."
          ],
          [
           "SKYLINE INVESTMENT SPOLKA AKCYJNA"
          ],
          [
           "SOHO DEVELOPMENT SPOLKA AKCYJNA"
          ],
          [
           "SOPHARMA AD"
          ],
          [
           "STALEXPORT AUTOSTRADY SPOLKA AKCYJNA"
          ],
          [
           "SUNEX SPOLKA AKCYJNA"
          ],
          [
           "SUWARY SPOLKA AKCYJNA"
          ],
          [
           "SYGNITY SPOLKA AKCYJNA"
          ],
          [
           "TALEX SPOLKA AKCYJNA"
          ],
          [
           "TAURON POLSKA ENERGIA SPOLKA AKCYJNA"
          ],
          [
           "TORPOL SPOLKA AKCYJNA"
          ],
          [
           "TRANS POLONIA SPOLKA AKCYJNA"
          ],
          [
           "VISTULA RETAIL GROUP SPOLKA AKCYJNA"
          ],
          [
           "VOTUM SPOLKA AKCYJNA"
          ],
          [
           "WIKANA SPOLKA AKCYJNA"
          ],
          [
           "WITTCHEN SPOLKA AKCYJNA"
          ],
          [
           "ZAKLAD BUDOWY MASZYN ZREMB-CHOJNICE SPOLKA AKCYJNA"
          ],
          [
           "ZESPOL ELEKTROWNI PĄTNOW-ADAMOW-KONIN SPOLKA AKCYJNA"
          ],
          [
           "ZPUE SPOLKA AKCYJNA"
          ],
          [
           "ČEZ. A.S."
          ]
         ],
         "domain": {
          "x": [
           0,
           1
          ],
          "y": [
           0,
           1
          ]
         },
         "hole": 0.3,
         "hovertemplate": "Asset names=%{label}<br>Weigths=%{value}<br>full_names=%{customdata[0]}<extra></extra>",
         "labels": [
          "CASH",
          "11 BI",
          "AC SP",
          "ALUME",
          "APLIS",
          "ARCHI",
          "ARCTI",
          "ARTER",
          "AS SI",
          "ASSEC",
          "ASSEC",
          "ASSEC",
          "ATLAN",
          "ATM G",
          "BBI D",
          "BETAC",
          "BORYS",
          "BOWIM",
          "BUMEC",
          "CCC S",
          "CD PR",
          "CENTR",
          "CENTR",
          "CIECH",
          "CPD S",
          "CYFRO",
          "DIGIT",
          "DINO ",
          "DROZA",
          "ELKOP",
          "ERG S",
          "EUROH",
          "FABRY",
          "FERRU",
          "FIRMA",
          "GI GR",
          "GIELD",
          "GLOBE",
          "GRUPA",
          "GRUPA",
          "GRUPA",
          "GRUPA",
          "IFIRM",
          "IMMOF",
          "INDUS",
          "INSTA",
          "INVIS",
          "JASTR",
          "KGHM ",
          "KOSZA",
          "KRKA.",
          "LENA ",
          "LIBET",
          "LUBAW",
          "MARIE",
          "MENNI",
          "MLP G",
          "MOJ S",
          "MUZA ",
          "OEX S",
          "OT LO",
          "OVOST",
          "PCC R",
          "PGF P",
          "PLAZA",
          "PMPG ",
          "POLEN",
          "POLSK",
          "POLSK",
          "PROCH",
          "PROJP",
          "PROTE",
          "SECO/",
          "SILVA",
          "SKYLI",
          "SOHO ",
          "SOPHA",
          "STALE",
          "SUNEX",
          "SUWAR",
          "SYGNI",
          "TALEX",
          "TAURO",
          "TORPO",
          "TRANS",
          "VISTU",
          "VOTUM",
          "WIKAN",
          "WITTC",
          "ZAKLA",
          "ZESPO",
          "ZPUE ",
          "ČEZ. "
         ],
         "legendgroup": "",
         "name": "",
         "showlegend": true,
         "textinfo": "percent+label",
         "textposition": "inside",
         "type": "pie",
         "values": [
          0.006761141121387482,
          0,
          0,
          0,
          0.05157648026943207,
          0.02767099253833294,
          0,
          0.026381690055131912,
          0.009328511543571949,
          0.04711129143834114,
          0.019686318933963776,
          0,
          0.08807600289583206,
          0,
          0.025512436404824257,
          0,
          0.01631017029285431,
          0,
          0.023099344223737717,
          0,
          0.033890970051288605,
          0.013064644299447536,
          0,
          0.0014559825649484992,
          0.014536959119141102,
          0,
          0.035916056483983994,
          0.0007510699215345085,
          0.019507450982928276,
          0,
          0,
          0,
          0.026456212624907494,
          0.05916989594697952,
          0.0021359832026064396,
          0,
          0.036262158304452896,
          0.00493196863681078,
          0,
          0.0009337510564364493,
          0.013558614067733288,
          0.006100821308791637,
          0,
          0,
          0,
          0,
          0.010345316492021084,
          0.0036977785639464855,
          0.01643349602818489,
          0,
          0,
          0.007167489733546972,
          0,
          0.0031734786462038755,
          0.03189166635274887,
          0,
          0,
          0.003279498079791665,
          0.013334235176444054,
          0,
          0,
          0.022985434159636497,
          0,
          0.012108302675187588,
          0,
          0,
          0.013899930752813816,
          0,
          0.020210927352309227,
          0.03745327889919281,
          0,
          0,
          0,
          0,
          0,
          0,
          0.008778098039329052,
          0.027671579271554947,
          0.03180161863565445,
          0.03318321332335472,
          0,
          0,
          0.0006077845464460552,
          0,
          0,
          0.007799901533871889,
          0.0003467662900220603,
          0,
          0.005860448814928532,
          0.024536380544304848,
          0,
          0,
          0.053246475756168365
         ]
        }
       ],
       "layout": {
        "height": 1000,
        "legend": {
         "tracegroupgap": 0
        },
        "template": {
         "data": {
          "bar": [
           {
            "error_x": {
             "color": "#2a3f5f"
            },
            "error_y": {
             "color": "#2a3f5f"
            },
            "marker": {
             "line": {
              "color": "#E5ECF6",
              "width": 0.5
             },
             "pattern": {
              "fillmode": "overlay",
              "size": 10,
              "solidity": 0.2
             }
            },
            "type": "bar"
           }
          ],
          "barpolar": [
           {
            "marker": {
             "line": {
              "color": "#E5ECF6",
              "width": 0.5
             },
             "pattern": {
              "fillmode": "overlay",
              "size": 10,
              "solidity": 0.2
             }
            },
            "type": "barpolar"
           }
          ],
          "carpet": [
           {
            "aaxis": {
             "endlinecolor": "#2a3f5f",
             "gridcolor": "white",
             "linecolor": "white",
             "minorgridcolor": "white",
             "startlinecolor": "#2a3f5f"
            },
            "baxis": {
             "endlinecolor": "#2a3f5f",
             "gridcolor": "white",
             "linecolor": "white",
             "minorgridcolor": "white",
             "startlinecolor": "#2a3f5f"
            },
            "type": "carpet"
           }
          ],
          "choropleth": [
           {
            "colorbar": {
             "outlinewidth": 0,
             "ticks": ""
            },
            "type": "choropleth"
           }
          ],
          "contour": [
           {
            "colorbar": {
             "outlinewidth": 0,
             "ticks": ""
            },
            "colorscale": [
             [
              0,
              "#0d0887"
             ],
             [
              0.1111111111111111,
              "#46039f"
             ],
             [
              0.2222222222222222,
              "#7201a8"
             ],
             [
              0.3333333333333333,
              "#9c179e"
             ],
             [
              0.4444444444444444,
              "#bd3786"
             ],
             [
              0.5555555555555556,
              "#d8576b"
             ],
             [
              0.6666666666666666,
              "#ed7953"
             ],
             [
              0.7777777777777778,
              "#fb9f3a"
             ],
             [
              0.8888888888888888,
              "#fdca26"
             ],
             [
              1,
              "#f0f921"
             ]
            ],
            "type": "contour"
           }
          ],
          "contourcarpet": [
           {
            "colorbar": {
             "outlinewidth": 0,
             "ticks": ""
            },
            "type": "contourcarpet"
           }
          ],
          "heatmap": [
           {
            "colorbar": {
             "outlinewidth": 0,
             "ticks": ""
            },
            "colorscale": [
             [
              0,
              "#0d0887"
             ],
             [
              0.1111111111111111,
              "#46039f"
             ],
             [
              0.2222222222222222,
              "#7201a8"
             ],
             [
              0.3333333333333333,
              "#9c179e"
             ],
             [
              0.4444444444444444,
              "#bd3786"
             ],
             [
              0.5555555555555556,
              "#d8576b"
             ],
             [
              0.6666666666666666,
              "#ed7953"
             ],
             [
              0.7777777777777778,
              "#fb9f3a"
             ],
             [
              0.8888888888888888,
              "#fdca26"
             ],
             [
              1,
              "#f0f921"
             ]
            ],
            "type": "heatmap"
           }
          ],
          "heatmapgl": [
           {
            "colorbar": {
             "outlinewidth": 0,
             "ticks": ""
            },
            "colorscale": [
             [
              0,
              "#0d0887"
             ],
             [
              0.1111111111111111,
              "#46039f"
             ],
             [
              0.2222222222222222,
              "#7201a8"
             ],
             [
              0.3333333333333333,
              "#9c179e"
             ],
             [
              0.4444444444444444,
              "#bd3786"
             ],
             [
              0.5555555555555556,
              "#d8576b"
             ],
             [
              0.6666666666666666,
              "#ed7953"
             ],
             [
              0.7777777777777778,
              "#fb9f3a"
             ],
             [
              0.8888888888888888,
              "#fdca26"
             ],
             [
              1,
              "#f0f921"
             ]
            ],
            "type": "heatmapgl"
           }
          ],
          "histogram": [
           {
            "marker": {
             "pattern": {
              "fillmode": "overlay",
              "size": 10,
              "solidity": 0.2
             }
            },
            "type": "histogram"
           }
          ],
          "histogram2d": [
           {
            "colorbar": {
             "outlinewidth": 0,
             "ticks": ""
            },
            "colorscale": [
             [
              0,
              "#0d0887"
             ],
             [
              0.1111111111111111,
              "#46039f"
             ],
             [
              0.2222222222222222,
              "#7201a8"
             ],
             [
              0.3333333333333333,
              "#9c179e"
             ],
             [
              0.4444444444444444,
              "#bd3786"
             ],
             [
              0.5555555555555556,
              "#d8576b"
             ],
             [
              0.6666666666666666,
              "#ed7953"
             ],
             [
              0.7777777777777778,
              "#fb9f3a"
             ],
             [
              0.8888888888888888,
              "#fdca26"
             ],
             [
              1,
              "#f0f921"
             ]
            ],
            "type": "histogram2d"
           }
          ],
          "histogram2dcontour": [
           {
            "colorbar": {
             "outlinewidth": 0,
             "ticks": ""
            },
            "colorscale": [
             [
              0,
              "#0d0887"
             ],
             [
              0.1111111111111111,
              "#46039f"
             ],
             [
              0.2222222222222222,
              "#7201a8"
             ],
             [
              0.3333333333333333,
              "#9c179e"
             ],
             [
              0.4444444444444444,
              "#bd3786"
             ],
             [
              0.5555555555555556,
              "#d8576b"
             ],
             [
              0.6666666666666666,
              "#ed7953"
             ],
             [
              0.7777777777777778,
              "#fb9f3a"
             ],
             [
              0.8888888888888888,
              "#fdca26"
             ],
             [
              1,
              "#f0f921"
             ]
            ],
            "type": "histogram2dcontour"
           }
          ],
          "mesh3d": [
           {
            "colorbar": {
             "outlinewidth": 0,
             "ticks": ""
            },
            "type": "mesh3d"
           }
          ],
          "parcoords": [
           {
            "line": {
             "colorbar": {
              "outlinewidth": 0,
              "ticks": ""
             }
            },
            "type": "parcoords"
           }
          ],
          "pie": [
           {
            "automargin": true,
            "type": "pie"
           }
          ],
          "scatter": [
           {
            "marker": {
             "colorbar": {
              "outlinewidth": 0,
              "ticks": ""
             }
            },
            "type": "scatter"
           }
          ],
          "scatter3d": [
           {
            "line": {
             "colorbar": {
              "outlinewidth": 0,
              "ticks": ""
             }
            },
            "marker": {
             "colorbar": {
              "outlinewidth": 0,
              "ticks": ""
             }
            },
            "type": "scatter3d"
           }
          ],
          "scattercarpet": [
           {
            "marker": {
             "colorbar": {
              "outlinewidth": 0,
              "ticks": ""
             }
            },
            "type": "scattercarpet"
           }
          ],
          "scattergeo": [
           {
            "marker": {
             "colorbar": {
              "outlinewidth": 0,
              "ticks": ""
             }
            },
            "type": "scattergeo"
           }
          ],
          "scattergl": [
           {
            "marker": {
             "colorbar": {
              "outlinewidth": 0,
              "ticks": ""
             }
            },
            "type": "scattergl"
           }
          ],
          "scattermapbox": [
           {
            "marker": {
             "colorbar": {
              "outlinewidth": 0,
              "ticks": ""
             }
            },
            "type": "scattermapbox"
           }
          ],
          "scatterpolar": [
           {
            "marker": {
             "colorbar": {
              "outlinewidth": 0,
              "ticks": ""
             }
            },
            "type": "scatterpolar"
           }
          ],
          "scatterpolargl": [
           {
            "marker": {
             "colorbar": {
              "outlinewidth": 0,
              "ticks": ""
             }
            },
            "type": "scatterpolargl"
           }
          ],
          "scatterternary": [
           {
            "marker": {
             "colorbar": {
              "outlinewidth": 0,
              "ticks": ""
             }
            },
            "type": "scatterternary"
           }
          ],
          "surface": [
           {
            "colorbar": {
             "outlinewidth": 0,
             "ticks": ""
            },
            "colorscale": [
             [
              0,
              "#0d0887"
             ],
             [
              0.1111111111111111,
              "#46039f"
             ],
             [
              0.2222222222222222,
              "#7201a8"
             ],
             [
              0.3333333333333333,
              "#9c179e"
             ],
             [
              0.4444444444444444,
              "#bd3786"
             ],
             [
              0.5555555555555556,
              "#d8576b"
             ],
             [
              0.6666666666666666,
              "#ed7953"
             ],
             [
              0.7777777777777778,
              "#fb9f3a"
             ],
             [
              0.8888888888888888,
              "#fdca26"
             ],
             [
              1,
              "#f0f921"
             ]
            ],
            "type": "surface"
           }
          ],
          "table": [
           {
            "cells": {
             "fill": {
              "color": "#EBF0F8"
             },
             "line": {
              "color": "white"
             }
            },
            "header": {
             "fill": {
              "color": "#C8D4E3"
             },
             "line": {
              "color": "white"
             }
            },
            "type": "table"
           }
          ]
         },
         "layout": {
          "annotationdefaults": {
           "arrowcolor": "#2a3f5f",
           "arrowhead": 0,
           "arrowwidth": 1
          },
          "autotypenumbers": "strict",
          "coloraxis": {
           "colorbar": {
            "outlinewidth": 0,
            "ticks": ""
           }
          },
          "colorscale": {
           "diverging": [
            [
             0,
             "#8e0152"
            ],
            [
             0.1,
             "#c51b7d"
            ],
            [
             0.2,
             "#de77ae"
            ],
            [
             0.3,
             "#f1b6da"
            ],
            [
             0.4,
             "#fde0ef"
            ],
            [
             0.5,
             "#f7f7f7"
            ],
            [
             0.6,
             "#e6f5d0"
            ],
            [
             0.7,
             "#b8e186"
            ],
            [
             0.8,
             "#7fbc41"
            ],
            [
             0.9,
             "#4d9221"
            ],
            [
             1,
             "#276419"
            ]
           ],
           "sequential": [
            [
             0,
             "#0d0887"
            ],
            [
             0.1111111111111111,
             "#46039f"
            ],
            [
             0.2222222222222222,
             "#7201a8"
            ],
            [
             0.3333333333333333,
             "#9c179e"
            ],
            [
             0.4444444444444444,
             "#bd3786"
            ],
            [
             0.5555555555555556,
             "#d8576b"
            ],
            [
             0.6666666666666666,
             "#ed7953"
            ],
            [
             0.7777777777777778,
             "#fb9f3a"
            ],
            [
             0.8888888888888888,
             "#fdca26"
            ],
            [
             1,
             "#f0f921"
            ]
           ],
           "sequentialminus": [
            [
             0,
             "#0d0887"
            ],
            [
             0.1111111111111111,
             "#46039f"
            ],
            [
             0.2222222222222222,
             "#7201a8"
            ],
            [
             0.3333333333333333,
             "#9c179e"
            ],
            [
             0.4444444444444444,
             "#bd3786"
            ],
            [
             0.5555555555555556,
             "#d8576b"
            ],
            [
             0.6666666666666666,
             "#ed7953"
            ],
            [
             0.7777777777777778,
             "#fb9f3a"
            ],
            [
             0.8888888888888888,
             "#fdca26"
            ],
            [
             1,
             "#f0f921"
            ]
           ]
          },
          "colorway": [
           "#636efa",
           "#EF553B",
           "#00cc96",
           "#ab63fa",
           "#FFA15A",
           "#19d3f3",
           "#FF6692",
           "#B6E880",
           "#FF97FF",
           "#FECB52"
          ],
          "font": {
           "color": "#2a3f5f"
          },
          "geo": {
           "bgcolor": "white",
           "lakecolor": "white",
           "landcolor": "#E5ECF6",
           "showlakes": true,
           "showland": true,
           "subunitcolor": "white"
          },
          "hoverlabel": {
           "align": "left"
          },
          "hovermode": "closest",
          "mapbox": {
           "style": "light"
          },
          "paper_bgcolor": "white",
          "plot_bgcolor": "#E5ECF6",
          "polar": {
           "angularaxis": {
            "gridcolor": "white",
            "linecolor": "white",
            "ticks": ""
           },
           "bgcolor": "#E5ECF6",
           "radialaxis": {
            "gridcolor": "white",
            "linecolor": "white",
            "ticks": ""
           }
          },
          "scene": {
           "xaxis": {
            "backgroundcolor": "#E5ECF6",
            "gridcolor": "white",
            "gridwidth": 2,
            "linecolor": "white",
            "showbackground": true,
            "ticks": "",
            "zerolinecolor": "white"
           },
           "yaxis": {
            "backgroundcolor": "#E5ECF6",
            "gridcolor": "white",
            "gridwidth": 2,
            "linecolor": "white",
            "showbackground": true,
            "ticks": "",
            "zerolinecolor": "white"
           },
           "zaxis": {
            "backgroundcolor": "#E5ECF6",
            "gridcolor": "white",
            "gridwidth": 2,
            "linecolor": "white",
            "showbackground": true,
            "ticks": "",
            "zerolinecolor": "white"
           }
          },
          "shapedefaults": {
           "line": {
            "color": "#2a3f5f"
           }
          },
          "ternary": {
           "aaxis": {
            "gridcolor": "white",
            "linecolor": "white",
            "ticks": ""
           },
           "baxis": {
            "gridcolor": "white",
            "linecolor": "white",
            "ticks": ""
           },
           "bgcolor": "#E5ECF6",
           "caxis": {
            "gridcolor": "white",
            "linecolor": "white",
            "ticks": ""
           }
          },
          "title": {
           "x": 0.05
          },
          "xaxis": {
           "automargin": true,
           "gridcolor": "white",
           "linecolor": "white",
           "ticks": "",
           "title": {
            "standoff": 15
           },
           "zerolinecolor": "white",
           "zerolinewidth": 2
          },
          "yaxis": {
           "automargin": true,
           "gridcolor": "white",
           "linecolor": "white",
           "ticks": "",
           "title": {
            "standoff": 15
           },
           "zerolinecolor": "white",
           "zerolinewidth": 2
          }
         }
        },
        "title": {
         "text": "Asset Allocation Weights"
        },
        "width": 1000
       }
      }
     },
     "metadata": {},
     "output_type": "display_data"
    },
    {
     "data": {
      "text/plain": [
       "<Figure size 828x432 with 0 Axes>"
      ]
     },
     "metadata": {},
     "output_type": "display_data"
    }
   ],
   "source": [
    "env2 = PortfolioEnv(\n",
    "  df=df_train,\n",
    "  steps=265,\n",
    "  scale=True,\n",
    "  augment=0.005,\n",
    "  trading_cost=0.0025,\n",
    "  time_cost=0.00,\n",
    "  window_length=50,\n",
    "  output_mode='EIIE'\n",
    ")"
   ]
  },
  {
   "cell_type": "code",
   "execution_count": 113,
   "metadata": {},
   "outputs": [
    {
     "name": "stdout",
     "output_type": "stream",
     "text": [
      "The tensorboard extension is already loaded. To reload it, use:\n",
      "  %reload_ext tensorboard\n"
     ]
    },
    {
     "data": {
      "text/plain": [
       "Reusing TensorBoard on port 6006 (pid 15807), started 1:03:07 ago. (Use '!kill 15807' to kill it.)"
      ]
     },
     "metadata": {},
     "output_type": "display_data"
    },
    {
     "data": {
      "text/html": [
       "\n",
       "      <iframe id=\"tensorboard-frame-f8b4c98de7cc66be\" width=\"100%\" height=\"800\" frameborder=\"0\">\n",
       "      </iframe>\n",
       "      <script>\n",
       "        (function() {\n",
       "          const frame = document.getElementById(\"tensorboard-frame-f8b4c98de7cc66be\");\n",
       "          const url = new URL(\"http://localhost\");\n",
       "          const port = 6006;\n",
       "          if (port) {\n",
       "            url.port = port;\n",
       "          }\n",
       "          frame.src = url;\n",
       "        })();\n",
       "      </script>\n",
       "    "
      ],
      "text/plain": [
       "<IPython.core.display.HTML object>"
      ]
     },
     "metadata": {},
     "output_type": "display_data"
    },
    {
     "name": "stderr",
     "output_type": "stream",
     "text": [
      "/home/mateusz/anaconda3/envs/pytorch/lib/python3.7/site-packages/numpy/core/fromnumeric.py:3441: RuntimeWarning:\n",
      "\n",
      "Mean of empty slice.\n",
      "\n",
      "/home/mateusz/anaconda3/envs/pytorch/lib/python3.7/site-packages/numpy/core/_methods.py:189: RuntimeWarning:\n",
      "\n",
      "invalid value encountered in double_scalars\n",
      "\n"
     ]
    },
    {
     "name": "stdout",
     "output_type": "stream",
     "text": [
      "episode: 1, score: 0.000266, 100 games acg: 0.00026646303731192887 learning steps:265\n",
      "episode: 2, score: 0.000355, 100 games acg: 0.00031052827815821404 learning steps:530\n",
      "episode: 3, score: 0.000465, 100 games acg: 0.000362145644881841 learning steps:795\n",
      "episode: 4, score: 0.000165, 100 games acg: 0.00031287715534245486 learning steps:1060\n",
      "episode: 5, score: 0.000174, 100 games acg: 0.00028510346906390944 learning steps:1325\n",
      "episode: 6, score: 0.000181, 100 games acg: 0.0002677351267886586 learning steps:1590\n",
      "episode: 7, score: 0.000278, 100 games acg: 0.00026917455605476355 learning steps:1855\n",
      "episode: 8, score: 0.000713, 100 games acg: 0.0003246352026384751 learning steps:2120\n",
      "episode: 9, score: 0.000541, 100 games acg: 0.00034863732070890166 learning steps:2385\n",
      "episode: 10, score: 0.000976, 100 games acg: 0.00041139020290472186 learning steps:2650\n",
      "episode: 11, score: 0.000693, 100 games acg: 0.00043700028244289443 learning steps:2915\n",
      "===== Saving Chekpoint =====\n",
      "===== Saving Chekpoint =====\n",
      "===== Saving Chekpoint =====\n",
      "===== Saving Chekpoint =====\n",
      "% of memory used: 84.9%\n",
      "% of available memory: 15.118759213734839\n",
      "episode: 12, score: 0.000408, 100 games acg: 0.0004346107465922114 learning steps:3180\n",
      "episode: 13, score: 0.000632, 100 games acg: 0.0004497724244113992 learning steps:3445\n",
      "episode: 14, score: 0.001016, 100 games acg: 0.0004902450686771149 learning steps:3710\n",
      "episode: 15, score: 0.000914, 100 games acg: 0.0005184951238302929 learning steps:3975\n",
      "episode: 16, score: 0.00065, 100 games acg: 0.0005267274568356605 learning steps:4240\n",
      "episode: 17, score: 0.000118, 100 games acg: 0.0005026936779115443 learning steps:4505\n",
      "episode: 18, score: 0.000381, 100 games acg: 0.0004959419779780239 learning steps:4770\n",
      "episode: 19, score: 0.000206, 100 games acg: 0.0004806668165169644 learning steps:5035\n",
      "episode: 20, score: 8e-06, 100 games acg: 0.0004570433373453157 learning steps:5300\n",
      "episode: 21, score: -8.7e-05, 100 games acg: 0.00043112350951246157 learning steps:5565\n",
      "===== Saving Chekpoint =====\n",
      "===== Saving Chekpoint =====\n",
      "===== Saving Chekpoint =====\n",
      "===== Saving Chekpoint =====\n",
      "% of memory used: 87.6%\n",
      "% of available memory: 12.444767193846069\n",
      "episode: 22, score: 0.000807, 100 games acg: 0.0004482239873302721 learning steps:5830\n",
      "episode: 23, score: 0.000582, 100 games acg: 0.0004540494650522995 learning steps:6095\n",
      "episode: 24, score: 6.2e-05, 100 games acg: 0.000437718077528489 learning steps:6360\n",
      "episode: 25, score: 0.000323, 100 games acg: 0.0004331366857150799 learning steps:6625\n",
      "episode: 26, score: 3.4e-05, 100 games acg: 0.00041778229888319245 learning steps:6890\n",
      "episode: 27, score: 0.000693, 100 games acg: 0.0004279630241861443 learning steps:7155\n",
      "episode: 28, score: 0.000755, 100 games acg: 0.0004396268587619062 learning steps:7420\n",
      "episode: 29, score: 0.00113, 100 games acg: 0.00046342158298869486 learning steps:7685\n",
      "episode: 30, score: 0.000684, 100 games acg: 0.00047075833662865724 learning steps:7950\n",
      "episode: 31, score: 0.000454, 100 games acg: 0.00047021337607367104 learning steps:8215\n",
      "===== Saving Chekpoint =====\n",
      "===== Saving Chekpoint =====\n",
      "===== Saving Chekpoint =====\n",
      "===== Saving Chekpoint =====\n",
      "% of memory used: 87.3%\n",
      "% of available memory: 12.673188453243334\n",
      "episode: 32, score: 0.000969, 100 games acg: 0.0004857956006216348 learning steps:8480\n",
      "episode: 33, score: 0.000725, 100 games acg: 0.0004930434501063558 learning steps:8745\n",
      "episode: 34, score: 0.000867, 100 games acg: 0.0005040456120742162 learning steps:9010\n",
      "episode: 35, score: 0.000624, 100 games acg: 0.0005074663156014823 learning steps:9275\n",
      "episode: 36, score: 0.000627, 100 games acg: 0.0005107969604953405 learning steps:9540\n",
      "episode: 37, score: 0.000472, 100 games acg: 0.0005097492372246927 learning steps:9805\n",
      "episode: 38, score: 0.000723, 100 games acg: 0.0005153716185307437 learning steps:10070\n",
      "episode: 39, score: 0.000735, 100 games acg: 0.0005210089805617351 learning steps:10335\n",
      "episode: 40, score: 0.001111, 100 games acg: 0.0005357698600929486 learning steps:10600\n",
      "episode: 41, score: 0.001234, 100 games acg: 0.0005527971413721712 learning steps:10865\n",
      "===== Saving Chekpoint =====\n",
      "===== Saving Chekpoint =====\n",
      "===== Saving Chekpoint =====\n",
      "===== Saving Chekpoint =====\n",
      "% of memory used: 87.5%\n",
      "% of available memory: 12.5114334636897\n",
      "episode: 42, score: 0.000824, 100 games acg: 0.0005592476396652726 learning steps:11130\n",
      "episode: 43, score: 0.000539, 100 games acg: 0.000558770109195428 learning steps:11395\n",
      "episode: 44, score: 0.000646, 100 games acg: 0.0005607454290356722 learning steps:11660\n",
      "episode: 45, score: 0.000585, 100 games acg: 0.0005612769710364507 learning steps:11925\n",
      "episode: 46, score: 0.000549, 100 games acg: 0.0005610041859104118 learning steps:12190\n",
      "episode: 47, score: 3.9e-05, 100 games acg: 0.0005498966245267891 learning steps:12455\n",
      "episode: 48, score: 0.000404, 100 games acg: 0.0005468599379588749 learning steps:12720\n",
      "episode: 49, score: 0.000428, 100 games acg: 0.0005444281816171587 learning steps:12985\n",
      "episode: 50, score: 0.000196, 100 games acg: 0.000537453995495426 learning steps:13250\n",
      "episode: 51, score: 0.000428, 100 games acg: 0.0005353047538454946 learning steps:13515\n",
      "===== Saving Chekpoint =====\n",
      "===== Saving Chekpoint =====\n",
      "===== Saving Chekpoint =====\n",
      "===== Saving Chekpoint =====\n",
      "% of memory used: 87.5%\n",
      "% of available memory: 12.497296643075538\n",
      "episode: 52, score: 0.000529, 100 games acg: 0.000535183355289801 learning steps:13780\n",
      "episode: 53, score: 0.001002, 100 games acg: 0.0005439859940602516 learning steps:14045\n",
      "episode: 54, score: 0.000497, 100 games acg: 0.0005431247575359515 learning steps:14310\n",
      "episode: 55, score: 0.000589, 100 games acg: 0.0005439557311810756 learning steps:14575\n",
      "episode: 56, score: 0.000871, 100 games acg: 0.0005497910564502175 learning steps:14840\n",
      "episode: 57, score: 0.000924, 100 games acg: 0.0005563494200126547 learning steps:15105\n",
      "episode: 58, score: 0.001058, 100 games acg: 0.0005649951554671524 learning steps:15370\n",
      "episode: 59, score: 0.000745, 100 games acg: 0.0005680378210596225 learning steps:15635\n",
      "episode: 60, score: 0.000521, 100 games acg: 0.0005672560852958037 learning steps:15900\n",
      "episode: 61, score: 0.000485, 100 games acg: 0.0005659115946621101 learning steps:16165\n",
      "===== Saving Chekpoint =====\n",
      "===== Saving Chekpoint =====\n",
      "===== Saving Chekpoint =====\n",
      "===== Saving Chekpoint =====\n",
      "% of memory used: 86.7%\n",
      "% of available memory: 13.321200469044827\n",
      "episode: 62, score: 0.000191, 100 games acg: 0.0005598713403180571 learning steps:16430\n",
      "episode: 63, score: 0.000163, 100 games acg: 0.0005535725415168343 learning steps:16695\n",
      "episode: 64, score: 0.000636, 100 games acg: 0.0005548575106896828 learning steps:16960\n",
      "episode: 65, score: 0.000703, 100 games acg: 0.0005571384552444708 learning steps:17225\n",
      "episode: 66, score: 0.000646, 100 games acg: 0.0005584900554846899 learning steps:17490\n",
      "episode: 67, score: 0.000907, 100 games acg: 0.0005636894426805181 learning steps:17755\n",
      "episode: 68, score: 0.001093, 100 games acg: 0.0005714705644383139 learning steps:18020\n",
      "episode: 69, score: 0.000444, 100 games acg: 0.0005696286415870244 learning steps:18285\n",
      "episode: 70, score: 0.000654, 100 games acg: 0.000570831934023219 learning steps:18550\n",
      "episode: 71, score: 0.000373, 100 games acg: 0.0005680391572428082 learning steps:18815\n",
      "===== Saving Chekpoint =====\n",
      "===== Saving Chekpoint =====\n",
      "===== Saving Chekpoint =====\n",
      "===== Saving Chekpoint =====\n",
      "% of memory used: 86.8%\n",
      "% of available memory: 13.166836308514037\n",
      "episode: 72, score: 0.001174, 100 games acg: 0.0005764618814284646 learning steps:19080\n",
      "episode: 73, score: 0.000592, 100 games acg: 0.0005766715271575428 learning steps:19345\n",
      "episode: 74, score: 0.000735, 100 games acg: 0.0005788085135385304 learning steps:19610\n",
      "episode: 75, score: 0.000721, 100 games acg: 0.0005807031152039935 learning steps:19875\n",
      "episode: 76, score: 0.000724, 100 games acg: 0.0005825854518319527 learning steps:20140\n",
      "episode: 77, score: 0.000466, 100 games acg: 0.000581066471550295 learning steps:20405\n",
      "episode: 78, score: 0.000697, 100 games acg: 0.0005825526063096977 learning steps:20670\n",
      "episode: 79, score: 0.000674, 100 games acg: 0.0005837050977697554 learning steps:20935\n",
      "episode: 80, score: 0.000741, 100 games acg: 0.0005856663631868214 learning steps:21200\n",
      "episode: 81, score: 0.000127, 100 games acg: 0.0005799981144760717 learning steps:21465\n",
      "===== Saving Chekpoint =====\n",
      "===== Saving Chekpoint =====\n",
      "===== Saving Chekpoint =====\n",
      "===== Saving Chekpoint =====\n",
      "% of memory used: 86.8%\n",
      "% of available memory: 13.196201213088017\n",
      "episode: 82, score: -0.000181, 100 games acg: 0.0005707147002935384 learning steps:21730\n",
      "episode: 83, score: 0.000297, 100 games acg: 0.0005674135018819426 learning steps:21995\n",
      "episode: 84, score: 0.000492, 100 games acg: 0.0005665129096724621 learning steps:22260\n",
      "episode: 85, score: 0.001063, 100 games acg: 0.0005723535899074389 learning steps:22525\n",
      "episode: 86, score: 0.000459, 100 games acg: 0.0005710356086375015 learning steps:22790\n",
      "episode: 87, score: 0.000158, 100 games acg: 0.0005662884148820868 learning steps:23055\n",
      "episode: 88, score: -0.000289, 100 games acg: 0.0005565687748198607 learning steps:23320\n",
      "episode: 89, score: 0.000216, 100 games acg: 0.0005527423195178682 learning steps:23585\n",
      "episode: 90, score: 0.000631, 100 games acg: 0.0005536143747957839 learning steps:23850\n",
      "episode: 91, score: 0.000616, 100 games acg: 0.0005542980239348483 learning steps:24115\n",
      "===== Saving Chekpoint =====\n",
      "===== Saving Chekpoint =====\n",
      "===== Saving Chekpoint =====\n",
      "===== Saving Chekpoint =====\n",
      "% of memory used: 87.4%\n",
      "% of available memory: 12.578347747930072\n",
      "episode: 92, score: 0.000395, 100 games acg: 0.0005525634216611719 learning steps:24380\n",
      "episode: 93, score: 0.000397, 100 games acg: 0.0005508929763089512 learning steps:24645\n",
      "episode: 94, score: 0.000532, 100 games acg: 0.0005506887080232134 learning steps:24910\n",
      "episode: 95, score: 0.000267, 100 games acg: 0.0005477072278103867 learning steps:25175\n",
      "episode: 96, score: 0.000507, 100 games acg: 0.000547278580447369 learning steps:25440\n",
      "episode: 97, score: 0.000467, 100 games acg: 0.0005464495596329517 learning steps:25705\n",
      "episode: 98, score: 0.000785, 100 games acg: 0.0005488881184640557 learning steps:25970\n",
      "episode: 99, score: 0.000588, 100 games acg: 0.0005492799213046131 learning steps:26235\n",
      "episode: 100, score: 0.000773, 100 games acg: 0.0005515206028448089 learning steps:26500\n",
      "episode: 101, score: 0.000414, 100 games acg: 0.0005529992817711427 learning steps:26765\n",
      "===== Saving Chekpoint =====\n",
      "===== Saving Chekpoint =====\n",
      "===== Saving Chekpoint =====\n",
      "===== Saving Chekpoint =====\n",
      "% of memory used: 87.0%\n",
      "% of available memory: 12.960736344823344\n",
      "episode: 102, score: 0.000493, 100 games acg: 0.0005543848121082638 learning steps:27030\n",
      "episode: 103, score: 0.000284, 100 games acg: 0.0005525699580474025 learning steps:27295\n",
      "episode: 104, score: 0.000271, 100 games acg: 0.000553624583468628 learning steps:27560\n",
      "episode: 105, score: 0.000248, 100 games acg: 0.0005543608654746495 learning steps:27825\n",
      "episode: 106, score: 0.000522, 100 games acg: 0.0005577700036149287 learning steps:28090\n",
      "episode: 107, score: 0.000551, 100 games acg: 0.0005604978605915016 learning steps:28355\n",
      "episode: 108, score: 0.000385, 100 games acg: 0.0005572163685366074 learning steps:28620\n",
      "episode: 109, score: 0.00064, 100 games acg: 0.0005582093396428183 learning steps:28885\n",
      "episode: 110, score: 0.000621, 100 games acg: 0.0005546587723384796 learning steps:29150\n",
      "episode: 111, score: 0.000595, 100 games acg: 0.000553675363726412 learning steps:29415\n",
      "===== Saving Chekpoint =====\n",
      "===== Saving Chekpoint =====\n",
      "===== Saving Chekpoint =====\n",
      "===== Saving Chekpoint =====\n",
      "% of memory used: 87.6%\n",
      "% of available memory: 12.427207774556898\n",
      "episode: 112, score: 0.001134, 100 games acg: 0.0005609363229880956 learning steps:29680\n",
      "episode: 113, score: 0.001088, 100 games acg: 0.0005655010799401517 learning steps:29945\n",
      "episode: 114, score: 0.000472, 100 games acg: 0.000560054268019576 learning steps:30210\n",
      "episode: 115, score: 0.000473, 100 games acg: 0.0005556463390433331 learning steps:30475\n",
      "episode: 116, score: 0.001134, 100 games acg: 0.0005604887313001911 learning steps:30740\n",
      "episode: 117, score: 0.000824, 100 games acg: 0.000567544856360391 learning steps:31005\n",
      "episode: 118, score: 0.000648, 100 games acg: 0.0005702113423751382 learning steps:31270\n",
      "episode: 119, score: 0.001105, 100 games acg: 0.0005792058244796516 learning steps:31535\n",
      "episode: 120, score: 0.000488, 100 games acg: 0.0005840031527542117 learning steps:31800\n",
      "episode: 121, score: 0.000824, 100 games acg: 0.0005931166954351233 learning steps:32065\n",
      "===== Saving Chekpoint =====\n",
      "===== Saving Chekpoint =====\n",
      "===== Saving Chekpoint =====\n",
      "===== Saving Chekpoint =====\n",
      "% of memory used: 87.3%\n",
      "% of available memory: 12.725073065041279\n",
      "episode: 122, score: 0.000592, 100 games acg: 0.0005909641297456799 learning steps:32330\n",
      "episode: 123, score: 0.000559, 100 games acg: 0.0005907316918259454 learning steps:32595\n",
      "episode: 124, score: 0.000706, 100 games acg: 0.0005971734863120516 learning steps:32860\n",
      "episode: 125, score: 0.000821, 100 games acg: 0.0006021487998918998 learning steps:33125\n",
      "episode: 126, score: 0.000653, 100 games acg: 0.0006083370516819976 learning steps:33390\n",
      "episode: 127, score: 0.000827, 100 games acg: 0.0006096844093717197 learning steps:33655\n",
      "episode: 128, score: 0.000691, 100 games acg: 0.0006090526572254543 learning steps:33920\n",
      "episode: 129, score: 0.000697, 100 games acg: 0.0006047293269789275 learning steps:34185\n",
      "episode: 130, score: 0.000539, 100 games acg: 0.0006032813428856922 learning steps:34450\n",
      "episode: 131, score: 0.000768, 100 games acg: 0.0006064203307203506 learning steps:34715\n",
      "===== Saving Chekpoint =====\n",
      "===== Saving Chekpoint =====\n",
      "===== Saving Chekpoint =====\n",
      "===== Saving Chekpoint =====\n",
      "% of memory used: 87.0%\n",
      "% of available memory: 12.999525796473433\n",
      "episode: 132, score: 0.000639, 100 games acg: 0.0006031240186195158 learning steps:34980\n",
      "episode: 133, score: 0.000164, 100 games acg: 0.0005975104746409431 learning steps:35245\n",
      "episode: 134, score: 0.000155, 100 games acg: 0.000590385777989946 learning steps:35510\n",
      "episode: 135, score: 0.000447, 100 games acg: 0.0005886229602595322 learning steps:35775\n",
      "episode: 136, score: 0.000818, 100 games acg: 0.0005905273871352676 learning steps:36040\n",
      "episode: 137, score: 0.000139, 100 games acg: 0.0005872009350828287 learning steps:36305\n",
      "episode: 138, score: 0.000504, 100 games acg: 0.0005850029091055088 learning steps:36570\n",
      "episode: 139, score: 0.000411, 100 games acg: 0.0005817644899534795 learning steps:36835\n",
      "episode: 140, score: 0.000842, 100 games acg: 0.0005790701075670017 learning steps:37100\n",
      "episode: 141, score: 0.001116, 100 games acg: 0.0005778869537121903 learning steps:37365\n",
      "===== Saving Chekpoint =====\n",
      "===== Saving Chekpoint =====\n",
      "===== Saving Chekpoint =====\n",
      "===== Saving Chekpoint =====\n",
      "% of memory used: 87.6%\n",
      "% of available memory: 12.3826147860231\n",
      "episode: 142, score: 0.000902, 100 games acg: 0.0005786730928552467 learning steps:37630\n",
      "episode: 143, score: 0.000415, 100 games acg: 0.0005774345417089743 learning steps:37895\n",
      "episode: 144, score: 0.000621, 100 games acg: 0.0005771838350200288 learning steps:38160\n",
      "episode: 145, score: 3.5e-05, 100 games acg: 0.0005716896462756317 learning steps:38425\n",
      "episode: 146, score: 0.000857, 100 games acg: 0.0005747732254752021 learning steps:38690\n",
      "episode: 147, score: 0.000419, 100 games acg: 0.0005785702269167888 learning steps:38955\n",
      "episode: 148, score: 0.000644, 100 games acg: 0.0005809692046368491 learning steps:39220\n",
      "episode: 149, score: 0.000415, 100 games acg: 0.0005808439267476668 learning steps:39485\n",
      "episode: 150, score: 0.000345, 100 games acg: 0.0005823339149732922 learning steps:39750\n",
      "episode: 151, score: 0.000731, 100 games acg: 0.0005853666315593915 learning steps:40015\n",
      "===== Saving Chekpoint =====\n",
      "===== Saving Chekpoint =====\n",
      "===== Saving Chekpoint =====\n",
      "===== Saving Chekpoint =====\n",
      "% of memory used: 86.9%\n",
      "% of available memory: 13.065001597212715\n",
      "episode: 152, score: 0.000724, 100 games acg: 0.0005873128206756881 learning steps:40280\n",
      "episode: 153, score: 0.000895, 100 games acg: 0.000586245190064966 learning steps:40545\n",
      "episode: 154, score: 0.001181, 100 games acg: 0.0005930764864025827 learning steps:40810\n",
      "episode: 155, score: 0.000901, 100 games acg: 0.0005961932789455467 learning steps:41075\n",
      "episode: 156, score: 0.000759, 100 games acg: 0.0005950739990081959 learning steps:41340\n",
      "episode: 157, score: 0.000485, 100 games acg: 0.0005906839634685312 learning steps:41605\n",
      "episode: 158, score: 0.000923, 100 games acg: 0.0005893393751608975 learning steps:41870\n",
      "episode: 159, score: 0.000141, 100 games acg: 0.0005833038467695926 learning steps:42135\n",
      "episode: 160, score: -0.000375, 100 games acg: 0.000574347085321498 learning steps:42400\n",
      "episode: 161, score: -0.000206, 100 games acg: 0.0005674378353238371 learning steps:42665\n",
      "===== Saving Chekpoint =====\n",
      "===== Saving Chekpoint =====\n",
      "===== Saving Chekpoint =====\n",
      "===== Saving Chekpoint =====\n",
      "% of memory used: 86.7%\n",
      "% of available memory: 13.263958746277304\n",
      "episode: 162, score: -0.0002, 100 games acg: 0.0005635245180431412 learning steps:42930\n",
      "episode: 163, score: 0.000305, 100 games acg: 0.0005649432495956826 learning steps:43195\n",
      "episode: 164, score: 0.000458, 100 games acg: 0.0005631641063239914 learning steps:43460\n",
      "episode: 165, score: 0.000311, 100 games acg: 0.0005592476677467361 learning steps:43725\n",
      "episode: 166, score: 0.000387, 100 games acg: 0.000556658571114116 learning steps:43990\n",
      "episode: 167, score: 0.000596, 100 games acg: 0.0005535467432414599 learning steps:44255\n",
      "episode: 168, score: 0.000118, 100 games acg: 0.0005437988235851732 learning steps:44520\n",
      "episode: 169, score: 0.000641, 100 games acg: 0.0005457605430989165 learning steps:44785\n",
      "episode: 170, score: 0.000404, 100 games acg: 0.0005432593674507025 learning steps:45050\n",
      "episode: 171, score: -0.000219, 100 games acg: 0.0005373443679761403 learning steps:45315\n",
      "===== Saving Chekpoint =====\n",
      "===== Saving Chekpoint =====\n",
      "===== Saving Chekpoint =====\n",
      "===== Saving Chekpoint =====\n",
      "% of memory used: 86.7%\n",
      "% of available memory: 13.307609280103492\n",
      "episode: 172, score: -0.00034, 100 games acg: 0.0005222006709348265 learning steps:45580\n",
      "episode: 173, score: -0.000113, 100 games acg: 0.0005151496833241316 learning steps:45845\n",
      "episode: 174, score: 0.000315, 100 games acg: 0.0005109551672309599 learning steps:46110\n",
      "episode: 175, score: 0.000277, 100 games acg: 0.0005065143299821194 learning steps:46375\n",
      "episode: 176, score: 9.3e-05, 100 games acg: 0.0005002113885231754 learning steps:46640\n",
      "episode: 177, score: 0.000212, 100 games acg: 0.0004976766060067913 learning steps:46905\n",
      "episode: 178, score: 0.000615, 100 games acg: 0.0004968609981172233 learning steps:47170\n",
      "episode: 179, score: 0.000593, 100 games acg: 0.0004960576461856578 learning steps:47435\n",
      "episode: 180, score: 5.6e-05, 100 games acg: 0.0004892088086382136 learning steps:47700\n",
      "episode: 181, score: 0.000144, 100 games acg: 0.000489381493152309 learning steps:47965\n",
      "===== Saving Chekpoint =====\n",
      "===== Saving Chekpoint =====\n",
      "===== Saving Chekpoint =====\n",
      "===== Saving Chekpoint =====\n",
      "% of memory used: 86.8%\n",
      "% of available memory: 13.233750592754408\n",
      "episode: 182, score: 0.000621, 100 games acg: 0.0004974030171284109 learning steps:48230\n",
      "episode: 183, score: 0.000921, 100 games acg: 0.0005036433192331366 learning steps:48495\n",
      "episode: 184, score: 0.000628, 100 games acg: 0.0005050060899900139 learning steps:48760\n",
      "episode: 185, score: 0.000406, 100 games acg: 0.0004984411432051912 learning steps:49025\n",
      "episode: 186, score: 0.000188, 100 games acg: 0.0004957263298240092 learning steps:49290\n",
      "episode: 187, score: 1.5e-05, 100 games acg: 0.000494291778542299 learning steps:49555\n",
      "episode: 188, score: -0.000151, 100 games acg: 0.0004956674026520269 learning steps:49820\n",
      "episode: 189, score: 0.000173, 100 games acg: 0.0004952337928193564 learning steps:50085\n",
      "episode: 190, score: -1.2e-05, 100 games acg: 0.0004888003057911823 learning steps:50350\n",
      "episode: 191, score: -4.7e-05, 100 games acg: 0.00048217184466790706 learning steps:50615\n",
      "===== Saving Chekpoint =====\n",
      "===== Saving Chekpoint =====\n",
      "===== Saving Chekpoint =====\n",
      "===== Saving Chekpoint =====\n",
      "% of memory used: 86.8%\n",
      "% of available memory: 13.152997105175961\n",
      "episode: 192, score: 0.000307, 100 games acg: 0.00048129488211993385 learning steps:50880\n",
      "episode: 193, score: 0.000398, 100 games acg: 0.00048130443558931326 learning steps:51145\n",
      "episode: 194, score: 0.000628, 100 games acg: 0.0004822699980817224 learning steps:51410\n",
      "episode: 195, score: 0.000336, 100 games acg: 0.00048295770163780754 learning steps:51675\n",
      "episode: 196, score: 0.000656, 100 games acg: 0.00048444833796637326 learning steps:51940\n",
      "episode: 197, score: 0.000295, 100 games acg: 0.00048272525816683604 learning steps:52205\n",
      "episode: 198, score: 0.000652, 100 games acg: 0.0004813958757965377 learning steps:52470\n",
      "episode: 199, score: 0.000194, 100 games acg: 0.0004774639263351569 learning steps:52735\n",
      "episode: 200, score: 0.000737, 100 games acg: 0.0004770985379764607 learning steps:53000\n",
      "Visualizing model weights...\n",
      "{'cost': 0.00012613760936942752,\n",
      " 'date': Timestamp('2022-03-24 00:00:00'),\n",
      " 'log_return': 4.4905867396705864e-05,\n",
      " 'market_return': 1.0044157053923577,\n",
      " 'market_value': 1.2227160583690204,\n",
      " 'portfolio_value': 1.2156202619947445,\n",
      " 'price_AC SPOLKA AKCYJNA': 1.017619408213651,\n",
      " 'price_ALUMETAL SPOLKA AKCYJNA': 1.0013825731128096,\n",
      " 'price_APLISENS SPOLKA AKCYJNA': 0.9719272301348829,\n",
      " 'price_ARCHICOM SPOLKA AKCYJNA': 0.9935125294679249,\n",
      " 'price_ARCTIC PAPER SPOLKA AKCYJNA': 1.0420993473992908,\n",
      " 'price_ARTERIA SPOLKA AKCYJNA': 0.9999071516052168,\n",
      " 'price_AS SILVANO FASHION GROUP': 1.0483644104909813,\n",
      " 'price_ASSECO BUSINESS SOLUTIONS SPOLKA AKCYJNA': 0.9926462519530778,\n",
      " 'price_ASSECO POLAND SPOLKA AKCYJNA': 0.9903639941475764,\n",
      " 'price_ASSECO SOUTH EASTERN EUROPE SPOLKA AKCYJNA': 0.9932961776376964,\n",
      " 'price_ATLANTA POLAND SPOLKA AKCYJNA': 1.0009547257075524,\n",
      " 'price_BBI DEVELOPMENT SPOLKA AKCYJNA': 0.9883163448384513,\n",
      " 'price_BETACOM SPOLKA AKCYJNA': 0.9997423411059274,\n",
      " 'price_BORYSZEW SPOLKA AKCYJNA': 0.9436332120698483,\n",
      " 'price_BOWIM SPOLKA AKCYJNA': 0.9747496372680703,\n",
      " 'price_BUMECH SPOLKA AKCYJNA': 0.9911258605790383,\n",
      " 'price_CASH': 1.0,\n",
      " 'price_CCC SPOLKA AKCYJNA': 0.989668147908126,\n",
      " 'price_CD PROJEKT SPOLKA AKCYJNA': 0.9653913661990049,\n",
      " 'price_CENTRUM MEDYCZNE ENEL-MED SPOLKA AKCYJNA': 1.0453803248058944,\n",
      " 'price_CENTRUM NOWOCZESNYCH TECHNOLOGII SPOLKA AKCYJNA': 1.004371881398367,\n",
      " 'price_CIECH SPOLKA AKCYJNA': 0.9937828621998351,\n",
      " 'price_COMP SPOLKA AKCYJNA': 1.0001528003385676,\n",
      " 'price_CYFROWY POLSAT SPOLKA AKCYJNA': 0.970743210388444,\n",
      " 'price_DIGITAL NETWORK SPOLKA AKCYJNA': 0.9917212866821307,\n",
      " 'price_DINO POLSKA SPOLKA AKCYJNA': 1.0255126723979155,\n",
      " 'price_DROZAPOL-PROFIL SPOLKA AKCYJNA': 0.9999741263956232,\n",
      " 'price_ERG SPOLKA AKCYJNA': 0.9900778614157864,\n",
      " 'price_FERRUM SPOLKA AKCYJNA': 0.9978820324303846,\n",
      " 'price_FIRMA OPONIARSKA DĘBICA SPOLKA AKCYJNA': 1.0000837214606881,\n",
      " 'price_GETIN HOLDING SPOLKA AKCYJNA': 0.9758189563189126,\n",
      " 'price_GI GROUP POLAND SPOLKA AKCYJNA': 0.9645728987823482,\n",
      " 'price_GIELDA PAPIEROW WARTOŚCIOWYCH W WARSZAWIE SPOLKA AKCYJNA': 1.0017051772817807,\n",
      " 'price_GLOBE TRADE CENTRE SPOLKA AKCYJNA': 0.9860254834075523,\n",
      " 'price_GRUPA AZOTY SPOLKA AKCYJNA': 1.004662295412618,\n",
      " 'price_GRUPA AZOTY ZAKLADY CHEMICZNE POLICE SPOLKA AKCYJNA': 0.9865657222782644,\n",
      " 'price_GRUPA KAPITALOWA IMMOBILE SPOLKA AKCYJNA': 1.0359682855899646,\n",
      " 'price_GRUPA KĘTY SPOLKA AKCYJNA': 1.0016408253417877,\n",
      " 'price_IFIRMA SPOLKA AKCYJNA': 1.004365572418133,\n",
      " 'price_IMMOFINANZ AG': 0.9999286953349272,\n",
      " 'price_INDUSTRIAL MILK COMPANY S.A.': 0.9863391350169891,\n",
      " 'price_INSTAL KRAKOW SPOLKA AKCYJNA': 1.0000789081453305,\n",
      " 'price_INVISTA SPOLKA AKCYJNA': 1.0068287819575368,\n",
      " 'price_JASTRZĘBSKA SPOLKA WĘGLOWA SPOLKA AKCYJNA': 0.977099383266803,\n",
      " 'price_KGHM POLSKA MIEDŹ SPOLKA AKCYJNA': 0.9908427554697132,\n",
      " 'price_KOSZALIŃSKIE PRZEDSIĘBIORSTWO PRZEMYSLU DRZEWNEGO SPOLKA AKCYJNA': 0.9732294956349024,\n",
      " 'price_KRKA. TOVARNA ZDRAVIL. D.D.. NOVO MESTO': 1.0000236433649405,\n",
      " 'price_LENA LIGHTING SPOLKA AKCYJNA': 1.011944447656579,\n",
      " 'price_LIBET SPOLKA AKCYJNA': 1.027569104089381,\n",
      " 'price_LUBAWA SPOLKA AKCYJNA': 0.9984415209160559,\n",
      " 'price_MARIE BRIZARD WINE & SPIRITS': 1.0633964793769042,\n",
      " 'price_MENNICA POLSKA SPOLKA AKCYJNA': 0.9803863386453883,\n",
      " 'price_MLP GROUP SPOLKA AKCYJNA': 1.0028196375828153,\n",
      " 'price_MOJ SPOLKA AKCYJNA': 1.0095617806959345,\n",
      " 'price_OEX SPOLKA AKCYJNA': 0.9847149750895366,\n",
      " 'price_ORANGE POLSKA SPOLKA AKCYJNA': 0.9662411058581711,\n",
      " 'price_OT LOGISTICS SPOLKA AKCYJNA': 0.990350008054624,\n",
      " 'price_OVOSTAR UNION N.V.': 1.0634502329505369,\n",
      " 'price_PCC ROKITA SPOLKA AKCYJNA': 1.0146844017033108,\n",
      " 'price_PGF POLSKA GRUPA FOTOWOLTAICZNA SPOLKA AKCYJNA': 0.9677309322051416,\n",
      " 'price_PLAZA CENTERS N.V.': 1.054677236504911,\n",
      " 'price_PMPG POLSKIE MEDIA SPOLKA AKCYJNA': 1.015224255112158,\n",
      " 'price_POLSKI KONCERN NAFTOWY ORLEN SPOLKA AKCYJNA': 1.0162027402638327,\n",
      " 'price_POLSKIE GORNICTWO NAFTOWE I GAZOWNICTWO SPOLKA AKCYJNA': 1.0064255166346094,\n",
      " 'price_PROCHEM SPOLKA AKCYJNA': 1.0056558116667895,\n",
      " 'price_PROJPRZEM MAKRUM SPOLKA AKCYJNA': 0.9994789190302682,\n",
      " 'price_PROTEKTOR SPOLKA AKCYJNA': 0.983797595161563,\n",
      " 'price_PRZEDSIĘBIORSTWO HYDRAULIKI SILOWEJ HYDROTOR S.A.': 0.991950876966586,\n",
      " 'price_SILVAIR, INC.': 0.9853256838927207,\n",
      " 'price_SOHO DEVELOPMENT SPOLKA AKCYJNA': 0.9894618404576416,\n",
      " 'price_SOPHARMA AD': 1.0185574477492843,\n",
      " 'price_STALEXPORT AUTOSTRADY SPOLKA AKCYJNA': 1.0111038277685578,\n",
      " 'price_SUNEX SPOLKA AKCYJNA': 1.051141927735843,\n",
      " 'price_SUWARY SPOLKA AKCYJNA': 0.9998595267413023,\n",
      " 'price_SYGNITY SPOLKA AKCYJNA': 1.0125350134539048,\n",
      " 'price_TALEX SPOLKA AKCYJNA': 0.9941782198033121,\n",
      " 'price_TATRY MOUNTAIN RESORTS. A.S.': 1.1047977040306538,\n",
      " 'price_TAURON POLSKA ENERGIA SPOLKA AKCYJNA': 1.0153062653226916,\n",
      " 'price_TORPOL SPOLKA AKCYJNA': 0.9811693557262455,\n",
      " 'price_TRANS POLONIA SPOLKA AKCYJNA': 1.0424005003324928,\n",
      " 'price_VISTULA RETAIL GROUP SPOLKA AKCYJNA': 1.0207573929933798,\n",
      " 'price_VOTUM SPOLKA AKCYJNA': 1.1010849436852637,\n",
      " 'price_WIKANA SPOLKA AKCYJNA': 1.003376027616514,\n",
      " 'price_WITTCHEN SPOLKA AKCYJNA': 1.0055608964035907,\n",
      " 'price_ZAKLAD BUDOWY MASZYN ZREMB-CHOJNICE SPOLKA AKCYJNA': 0.9974844323578079,\n",
      " 'price_ZPUE SPOLKA AKCYJNA': 1.0678623552967497,\n",
      " 'price_ČEZ. A.S.': 1.0074195868267952,\n",
      " 'rate_of_return': 4.4906876049521927e-05,\n",
      " 'reward': 1.6945610338379572e-07,\n",
      " 'steps': 266,\n",
      " 'weight_AC SPOLKA AKCYJNA': 0.0,\n",
      " 'weight_ALUMETAL SPOLKA AKCYJNA': 0.0,\n",
      " 'weight_APLISENS SPOLKA AKCYJNA': 0.059110805,\n",
      " 'weight_ARCHICOM SPOLKA AKCYJNA': 0.07957315,\n",
      " 'weight_ARCTIC PAPER SPOLKA AKCYJNA': 0.0,\n",
      " 'weight_ARTERIA SPOLKA AKCYJNA': 0.009658762,\n",
      " 'weight_AS SILVANO FASHION GROUP': 0.021772193,\n",
      " 'weight_ASSECO BUSINESS SOLUTIONS SPOLKA AKCYJNA': 0.0,\n",
      " 'weight_ASSECO POLAND SPOLKA AKCYJNA': 0.0,\n",
      " 'weight_ASSECO SOUTH EASTERN EUROPE SPOLKA AKCYJNA': 0.0,\n",
      " 'weight_ATLANTA POLAND SPOLKA AKCYJNA': 0.037205696,\n",
      " 'weight_BBI DEVELOPMENT SPOLKA AKCYJNA': 0.0,\n",
      " 'weight_BETACOM SPOLKA AKCYJNA': 0.0,\n",
      " 'weight_BORYSZEW SPOLKA AKCYJNA': 0.032954343,\n",
      " 'weight_BOWIM SPOLKA AKCYJNA': 0.015430712,\n",
      " 'weight_BUMECH SPOLKA AKCYJNA': 0.0,\n",
      " 'weight_CASH': 0.014620144,\n",
      " 'weight_CCC SPOLKA AKCYJNA': 0.005710484,\n",
      " 'weight_CD PROJEKT SPOLKA AKCYJNA': 0.0012621277,\n",
      " 'weight_CENTRUM MEDYCZNE ENEL-MED SPOLKA AKCYJNA': 0.04529275,\n",
      " 'weight_CENTRUM NOWOCZESNYCH TECHNOLOGII SPOLKA AKCYJNA': 0.0,\n",
      " 'weight_CIECH SPOLKA AKCYJNA': 0.0016220456,\n",
      " 'weight_COMP SPOLKA AKCYJNA': 0.039284237,\n",
      " 'weight_CYFROWY POLSAT SPOLKA AKCYJNA': 0.007177359,\n",
      " 'weight_DIGITAL NETWORK SPOLKA AKCYJNA': 0.0017472574,\n",
      " 'weight_DINO POLSKA SPOLKA AKCYJNA': 0.0,\n",
      " 'weight_DROZAPOL-PROFIL SPOLKA AKCYJNA': 0.0,\n",
      " 'weight_ERG SPOLKA AKCYJNA': 0.031455997,\n",
      " 'weight_FERRUM SPOLKA AKCYJNA': 0.0,\n",
      " 'weight_FIRMA OPONIARSKA DĘBICA SPOLKA AKCYJNA': 0.0013271985,\n",
      " 'weight_GETIN HOLDING SPOLKA AKCYJNA': 0.0,\n",
      " 'weight_GI GROUP POLAND SPOLKA AKCYJNA': 0.0,\n",
      " 'weight_GIELDA PAPIEROW WARTOŚCIOWYCH W WARSZAWIE SPOLKA AKCYJNA': 0.0,\n",
      " 'weight_GLOBE TRADE CENTRE SPOLKA AKCYJNA': 0.025849745,\n",
      " 'weight_GRUPA AZOTY SPOLKA AKCYJNA': 0.0,\n",
      " 'weight_GRUPA AZOTY ZAKLADY CHEMICZNE POLICE SPOLKA AKCYJNA': 0.009260334,\n",
      " 'weight_GRUPA KAPITALOWA IMMOBILE SPOLKA AKCYJNA': 0.036072347,\n",
      " 'weight_GRUPA KĘTY SPOLKA AKCYJNA': 0.0,\n",
      " 'weight_IFIRMA SPOLKA AKCYJNA': 0.010874629,\n",
      " 'weight_IMMOFINANZ AG': 0.014977116,\n",
      " 'weight_INDUSTRIAL MILK COMPANY S.A.': 0.0057597635,\n",
      " 'weight_INSTAL KRAKOW SPOLKA AKCYJNA': 0.024843732,\n",
      " 'weight_INVISTA SPOLKA AKCYJNA': 0.016772486,\n",
      " 'weight_JASTRZĘBSKA SPOLKA WĘGLOWA SPOLKA AKCYJNA': 0.0,\n",
      " 'weight_KGHM POLSKA MIEDŹ SPOLKA AKCYJNA': 0.03794692,\n",
      " 'weight_KOSZALIŃSKIE PRZEDSIĘBIORSTWO PRZEMYSLU DRZEWNEGO SPOLKA AKCYJNA': 0.0005132718,\n",
      " 'weight_KRKA. TOVARNA ZDRAVIL. D.D.. NOVO MESTO': 0.018818464,\n",
      " 'weight_LENA LIGHTING SPOLKA AKCYJNA': 0.053088732,\n",
      " 'weight_LIBET SPOLKA AKCYJNA': 0.0,\n",
      " 'weight_LUBAWA SPOLKA AKCYJNA': 0.014435478,\n",
      " 'weight_MARIE BRIZARD WINE & SPIRITS': 0.007406967,\n",
      " 'weight_MENNICA POLSKA SPOLKA AKCYJNA': 0.0052301907,\n",
      " 'weight_MLP GROUP SPOLKA AKCYJNA': 0.0,\n",
      " 'weight_MOJ SPOLKA AKCYJNA': 0.0,\n",
      " 'weight_OEX SPOLKA AKCYJNA': 0.0,\n",
      " 'weight_ORANGE POLSKA SPOLKA AKCYJNA': 0.0,\n",
      " 'weight_OT LOGISTICS SPOLKA AKCYJNA': 0.053920317,\n",
      " 'weight_OVOSTAR UNION N.V.': 0.0,\n",
      " 'weight_PCC ROKITA SPOLKA AKCYJNA': 0.00038619226,\n",
      " 'weight_PGF POLSKA GRUPA FOTOWOLTAICZNA SPOLKA AKCYJNA': 0.021971337,\n",
      " 'weight_PLAZA CENTERS N.V.': 0.028804801,\n",
      " 'weight_PMPG POLSKIE MEDIA SPOLKA AKCYJNA': 0.00016140314,\n",
      " 'weight_POLSKI KONCERN NAFTOWY ORLEN SPOLKA AKCYJNA': 0.0,\n",
      " 'weight_POLSKIE GORNICTWO NAFTOWE I GAZOWNICTWO SPOLKA AKCYJNA': 0.03850227,\n",
      " 'weight_PROCHEM SPOLKA AKCYJNA': 0.03191515,\n",
      " 'weight_PROJPRZEM MAKRUM SPOLKA AKCYJNA': 0.0005403014,\n",
      " 'weight_PROTEKTOR SPOLKA AKCYJNA': 0.020272516,\n",
      " 'weight_PRZEDSIĘBIORSTWO HYDRAULIKI SILOWEJ HYDROTOR S.A.': 0.010404975,\n",
      " 'weight_SILVAIR, INC.': 0.0,\n",
      " 'weight_SOHO DEVELOPMENT SPOLKA AKCYJNA': 0.027817417,\n",
      " 'weight_SOPHARMA AD': 0.0012863742,\n",
      " 'weight_STALEXPORT AUTOSTRADY SPOLKA AKCYJNA': 0.0,\n",
      " 'weight_SUNEX SPOLKA AKCYJNA': 0.0,\n",
      " 'weight_SUWARY SPOLKA AKCYJNA': 0.009432723,\n",
      " 'weight_SYGNITY SPOLKA AKCYJNA': 0.0,\n",
      " 'weight_TALEX SPOLKA AKCYJNA': 0.0,\n",
      " 'weight_TATRY MOUNTAIN RESORTS. A.S.': 0.0,\n",
      " 'weight_TAURON POLSKA ENERGIA SPOLKA AKCYJNA': 0.012028621,\n",
      " 'weight_TORPOL SPOLKA AKCYJNA': 0.0,\n",
      " 'weight_TRANS POLONIA SPOLKA AKCYJNA': 0.0,\n",
      " 'weight_VISTULA RETAIL GROUP SPOLKA AKCYJNA': 0.018810984,\n",
      " 'weight_VOTUM SPOLKA AKCYJNA': 0.0,\n",
      " 'weight_WIKANA SPOLKA AKCYJNA': 0.012862218,\n",
      " 'weight_WITTCHEN SPOLKA AKCYJNA': 0.0,\n",
      " 'weight_ZAKLAD BUDOWY MASZYN ZREMB-CHOJNICE SPOLKA AKCYJNA': 0.02342611,\n",
      " 'weight_ZPUE SPOLKA AKCYJNA': 0.0,\n",
      " 'weight_ČEZ. A.S.': 0.00040094895,\n",
      " 'weights_mean': 0.011494253,\n",
      " 'weights_std': 0.016626121}\n"
     ]
    },
    {
     "data": {
      "application/vnd.plotly.v1+json": {
       "config": {
        "plotlyServerURL": "https://plot.ly"
       },
       "data": [
        {
         "line": {
          "color": "firebrick"
         },
         "mode": "lines",
         "name": "Market Value",
         "type": "scatter",
         "x": [
          "2021-03-05T00:00:00",
          "2021-03-08T00:00:00",
          "2021-03-09T00:00:00",
          "2021-03-10T00:00:00",
          "2021-03-11T00:00:00",
          "2021-03-12T00:00:00",
          "2021-03-15T00:00:00",
          "2021-03-16T00:00:00",
          "2021-03-17T00:00:00",
          "2021-03-18T00:00:00",
          "2021-03-19T00:00:00",
          "2021-03-22T00:00:00",
          "2021-03-23T00:00:00",
          "2021-03-24T00:00:00",
          "2021-03-25T00:00:00",
          "2021-03-26T00:00:00",
          "2021-03-29T00:00:00",
          "2021-03-30T00:00:00",
          "2021-03-31T00:00:00",
          "2021-04-01T00:00:00",
          "2021-04-06T00:00:00",
          "2021-04-07T00:00:00",
          "2021-04-08T00:00:00",
          "2021-04-09T00:00:00",
          "2021-04-12T00:00:00",
          "2021-04-13T00:00:00",
          "2021-04-14T00:00:00",
          "2021-04-15T00:00:00",
          "2021-04-16T00:00:00",
          "2021-04-19T00:00:00",
          "2021-04-20T00:00:00",
          "2021-04-21T00:00:00",
          "2021-04-22T00:00:00",
          "2021-04-23T00:00:00",
          "2021-04-26T00:00:00",
          "2021-04-27T00:00:00",
          "2021-04-28T00:00:00",
          "2021-04-29T00:00:00",
          "2021-04-30T00:00:00",
          "2021-05-04T00:00:00",
          "2021-05-05T00:00:00",
          "2021-05-06T00:00:00",
          "2021-05-07T00:00:00",
          "2021-05-10T00:00:00",
          "2021-05-11T00:00:00",
          "2021-05-12T00:00:00",
          "2021-05-13T00:00:00",
          "2021-05-14T00:00:00",
          "2021-05-17T00:00:00",
          "2021-05-18T00:00:00",
          "2021-05-19T00:00:00",
          "2021-05-20T00:00:00",
          "2021-05-21T00:00:00",
          "2021-05-24T00:00:00",
          "2021-05-25T00:00:00",
          "2021-05-26T00:00:00",
          "2021-05-27T00:00:00",
          "2021-05-28T00:00:00",
          "2021-05-31T00:00:00",
          "2021-06-01T00:00:00",
          "2021-06-02T00:00:00",
          "2021-06-04T00:00:00",
          "2021-06-07T00:00:00",
          "2021-06-08T00:00:00",
          "2021-06-09T00:00:00",
          "2021-06-10T00:00:00",
          "2021-06-11T00:00:00",
          "2021-06-14T00:00:00",
          "2021-06-15T00:00:00",
          "2021-06-16T00:00:00",
          "2021-06-17T00:00:00",
          "2021-06-18T00:00:00",
          "2021-06-21T00:00:00",
          "2021-06-22T00:00:00",
          "2021-06-23T00:00:00",
          "2021-06-24T00:00:00",
          "2021-06-25T00:00:00",
          "2021-06-28T00:00:00",
          "2021-06-29T00:00:00",
          "2021-06-30T00:00:00",
          "2021-07-01T00:00:00",
          "2021-07-02T00:00:00",
          "2021-07-05T00:00:00",
          "2021-07-06T00:00:00",
          "2021-07-07T00:00:00",
          "2021-07-08T00:00:00",
          "2021-07-09T00:00:00",
          "2021-07-12T00:00:00",
          "2021-07-13T00:00:00",
          "2021-07-14T00:00:00",
          "2021-07-15T00:00:00",
          "2021-07-16T00:00:00",
          "2021-07-19T00:00:00",
          "2021-07-20T00:00:00",
          "2021-07-21T00:00:00",
          "2021-07-22T00:00:00",
          "2021-07-23T00:00:00",
          "2021-07-26T00:00:00",
          "2021-07-27T00:00:00",
          "2021-07-28T00:00:00",
          "2021-07-29T00:00:00",
          "2021-07-30T00:00:00",
          "2021-08-02T00:00:00",
          "2021-08-03T00:00:00",
          "2021-08-04T00:00:00",
          "2021-08-05T00:00:00",
          "2021-08-06T00:00:00",
          "2021-08-09T00:00:00",
          "2021-08-10T00:00:00",
          "2021-08-11T00:00:00",
          "2021-08-12T00:00:00",
          "2021-08-13T00:00:00",
          "2021-08-16T00:00:00",
          "2021-08-17T00:00:00",
          "2021-08-18T00:00:00",
          "2021-08-19T00:00:00",
          "2021-08-20T00:00:00",
          "2021-08-23T00:00:00",
          "2021-08-24T00:00:00",
          "2021-08-25T00:00:00",
          "2021-08-26T00:00:00",
          "2021-08-27T00:00:00",
          "2021-08-30T00:00:00",
          "2021-08-31T00:00:00",
          "2021-09-01T00:00:00",
          "2021-09-02T00:00:00",
          "2021-09-03T00:00:00",
          "2021-09-06T00:00:00",
          "2021-09-07T00:00:00",
          "2021-09-08T00:00:00",
          "2021-09-09T00:00:00",
          "2021-09-10T00:00:00",
          "2021-09-13T00:00:00",
          "2021-09-14T00:00:00",
          "2021-09-15T00:00:00",
          "2021-09-16T00:00:00",
          "2021-09-17T00:00:00",
          "2021-09-20T00:00:00",
          "2021-09-21T00:00:00",
          "2021-09-22T00:00:00",
          "2021-09-23T00:00:00",
          "2021-09-24T00:00:00",
          "2021-09-27T00:00:00",
          "2021-09-28T00:00:00",
          "2021-09-29T00:00:00",
          "2021-09-30T00:00:00",
          "2021-10-01T00:00:00",
          "2021-10-04T00:00:00",
          "2021-10-05T00:00:00",
          "2021-10-06T00:00:00",
          "2021-10-07T00:00:00",
          "2021-10-08T00:00:00",
          "2021-10-11T00:00:00",
          "2021-10-12T00:00:00",
          "2021-10-13T00:00:00",
          "2021-10-14T00:00:00",
          "2021-10-15T00:00:00",
          "2021-10-18T00:00:00",
          "2021-10-19T00:00:00",
          "2021-10-20T00:00:00",
          "2021-10-21T00:00:00",
          "2021-10-22T00:00:00",
          "2021-10-25T00:00:00",
          "2021-10-26T00:00:00",
          "2021-10-27T00:00:00",
          "2021-10-28T00:00:00",
          "2021-10-29T00:00:00",
          "2021-11-02T00:00:00",
          "2021-11-03T00:00:00",
          "2021-11-04T00:00:00",
          "2021-11-05T00:00:00",
          "2021-11-08T00:00:00",
          "2021-11-09T00:00:00",
          "2021-11-10T00:00:00",
          "2021-11-12T00:00:00",
          "2021-11-15T00:00:00",
          "2021-11-16T00:00:00",
          "2021-11-17T00:00:00",
          "2021-11-18T00:00:00",
          "2021-11-19T00:00:00",
          "2021-11-22T00:00:00",
          "2021-11-23T00:00:00",
          "2021-11-24T00:00:00",
          "2021-11-25T00:00:00",
          "2021-11-26T00:00:00",
          "2021-11-29T00:00:00",
          "2021-11-30T00:00:00",
          "2021-12-01T00:00:00",
          "2021-12-02T00:00:00",
          "2021-12-03T00:00:00",
          "2021-12-06T00:00:00",
          "2021-12-07T00:00:00",
          "2021-12-08T00:00:00",
          "2021-12-09T00:00:00",
          "2021-12-10T00:00:00",
          "2021-12-13T00:00:00",
          "2021-12-14T00:00:00",
          "2021-12-15T00:00:00",
          "2021-12-16T00:00:00",
          "2021-12-17T00:00:00",
          "2021-12-20T00:00:00",
          "2021-12-21T00:00:00",
          "2021-12-22T00:00:00",
          "2021-12-23T00:00:00",
          "2021-12-27T00:00:00",
          "2021-12-28T00:00:00",
          "2021-12-29T00:00:00",
          "2021-12-30T00:00:00",
          "2022-01-03T00:00:00",
          "2022-01-04T00:00:00",
          "2022-01-05T00:00:00",
          "2022-01-07T00:00:00",
          "2022-01-10T00:00:00",
          "2022-01-11T00:00:00",
          "2022-01-12T00:00:00",
          "2022-01-13T00:00:00",
          "2022-01-14T00:00:00",
          "2022-01-17T00:00:00",
          "2022-01-18T00:00:00",
          "2022-01-19T00:00:00",
          "2022-01-20T00:00:00",
          "2022-01-21T00:00:00",
          "2022-01-24T00:00:00",
          "2022-01-25T00:00:00",
          "2022-01-26T00:00:00",
          "2022-01-27T00:00:00",
          "2022-01-28T00:00:00",
          "2022-01-31T00:00:00",
          "2022-02-01T00:00:00",
          "2022-02-02T00:00:00",
          "2022-02-03T00:00:00",
          "2022-02-04T00:00:00",
          "2022-02-07T00:00:00",
          "2022-02-08T00:00:00",
          "2022-02-09T00:00:00",
          "2022-02-10T00:00:00",
          "2022-02-11T00:00:00",
          "2022-02-14T00:00:00",
          "2022-02-15T00:00:00",
          "2022-02-16T00:00:00",
          "2022-02-17T00:00:00",
          "2022-02-18T00:00:00",
          "2022-02-21T00:00:00",
          "2022-02-22T00:00:00",
          "2022-02-23T00:00:00",
          "2022-02-24T00:00:00",
          "2022-02-25T00:00:00",
          "2022-02-28T00:00:00",
          "2022-03-01T00:00:00",
          "2022-03-02T00:00:00",
          "2022-03-03T00:00:00",
          "2022-03-04T00:00:00",
          "2022-03-07T00:00:00",
          "2022-03-08T00:00:00",
          "2022-03-09T00:00:00",
          "2022-03-10T00:00:00",
          "2022-03-11T00:00:00",
          "2022-03-14T00:00:00",
          "2022-03-15T00:00:00",
          "2022-03-16T00:00:00",
          "2022-03-17T00:00:00",
          "2022-03-18T00:00:00",
          "2022-03-21T00:00:00",
          "2022-03-22T00:00:00",
          "2022-03-23T00:00:00",
          "2022-03-24T00:00:00"
         ],
         "y": [
          1.0047422448839374,
          1.0056340481290622,
          0.9981492882099363,
          1.0026094726740744,
          1.0060939473360297,
          1.0071591887570517,
          1.0045040621861197,
          1.0083213029981237,
          1.0114296146456807,
          1.0173214150643592,
          1.0236487432112784,
          1.024529404115525,
          1.0301241930776874,
          1.034599730979673,
          1.0361048216420607,
          1.0370163884207746,
          1.0374725536958767,
          1.0403342386988588,
          1.0376212906641644,
          1.0465784235443845,
          1.0418946786069772,
          1.0375198143981939,
          1.036865932920284,
          1.0333644588296231,
          1.0292769404661721,
          1.0320018331455292,
          1.0350022639185135,
          1.0433651272978126,
          1.0494878675207355,
          1.0487320918093472,
          1.0407524409139106,
          1.0384037193617413,
          1.0411838801413171,
          1.0471928922324696,
          1.0496116878112072,
          1.0478610038336793,
          1.049585640145887,
          1.0428790069993517,
          1.044668584093687,
          1.042763193256219,
          1.0457055782164553,
          1.049478752224601,
          1.0495464898537734,
          1.0490510284720782,
          1.0277707082337284,
          1.038212461221089,
          1.0471746898081933,
          1.0482288237773467,
          1.0573522101372308,
          1.06317735678272,
          1.0599047626659528,
          1.0587627899254297,
          1.0640954463147072,
          1.0631751503820235,
          1.0691333222338415,
          1.0657282187719452,
          1.0628914543457504,
          1.0679344617787243,
          1.0715842822807533,
          1.073799413790768,
          1.0730590327754703,
          1.0760009832241257,
          1.0800465566408086,
          1.0812947647671072,
          1.0793286280468553,
          1.0787713319209487,
          1.073344584979584,
          1.0658808695500057,
          1.0700849681578184,
          1.0718749549738171,
          1.0747635116327177,
          1.0753285804754917,
          1.0760322405815683,
          1.0755448647030112,
          1.080863485756683,
          1.0770107207950022,
          1.0805978228177715,
          1.0899624854546108,
          1.0875997215062567,
          1.0950129629770615,
          1.0943190998168144,
          1.0887693652912545,
          1.0876662042849081,
          1.0894706921331219,
          1.0992887586877353,
          1.0997353507667142,
          1.104169144965901,
          1.1045416700228088,
          1.1021616115201545,
          1.0791915909849719,
          1.0782420653178726,
          1.0944275113468627,
          1.0941648884660893,
          1.0889127971118693,
          1.0909892658706302,
          1.0801822056273909,
          1.0847822088094357,
          1.0943874052749576,
          1.1054049632899794,
          1.104619812913431,
          1.1060723275763726,
          1.0974962405194235,
          1.0982558443425603,
          1.1045949931176102,
          1.1147150210904377,
          1.1152326960021735,
          1.1172945324653465,
          1.1168597430646847,
          1.1222207148616934,
          1.1219129789192657,
          1.1232807643675347,
          1.1178651780502997,
          1.1140657927884148,
          1.1150731165889955,
          1.1163611385379615,
          1.1174902505115825,
          1.1120525511927242,
          1.1159294134615971,
          1.1205849513529702,
          1.1185553070486776,
          1.1174825671320476,
          1.1278097140934111,
          1.126222647560471,
          1.1246887000293309,
          1.1334427998772463,
          1.1272875407059642,
          1.1322621682052239,
          1.124084496224155,
          1.1267836108787153,
          1.1289355025888337,
          1.130893072041502,
          1.1244317943912339,
          1.122402804008091,
          1.1200617188234796,
          1.1168121445644272,
          1.120261412410801,
          1.104013799863115,
          1.1075546807790853,
          1.118832383869067,
          1.1286116597132883,
          1.1258468149432108,
          1.1229016330599484,
          1.1189903761132691,
          1.1280432591628646,
          1.1293370559042957,
          1.127189635005087,
          1.1249630942748616,
          1.1304530172659137,
          1.1256287205616324,
          1.1165149401259493,
          1.1250357219717344,
          1.1238251142128495,
          1.1208116535162231,
          1.1201532962592953,
          1.1247401910000616,
          1.125828260718308,
          1.1211364899343728,
          1.1226572492490672,
          1.1426436324102838,
          1.1478702725834775,
          1.1690797770838428,
          1.1741325982132162,
          1.1765661356885848,
          1.1815625329172377,
          1.1807644383307003,
          1.1888043052704065,
          1.1962868546560317,
          1.1923067364138769,
          1.1899000921108245,
          1.1930703392476139,
          1.1823550746877378,
          1.1783892804306233,
          1.1729870753714793,
          1.161026212019003,
          1.1200189111115137,
          1.133730806278357,
          1.1401859927655913,
          1.142887091562674,
          1.1453802830497672,
          1.152440314073245,
          1.1583965184583336,
          1.1658484424588698,
          1.163363178893465,
          1.15547349466657,
          1.1573394630759053,
          1.1595023081838582,
          1.1617365630594707,
          1.1641752841772033,
          1.1583227754351961,
          1.135577339804206,
          1.1527743157014154,
          1.1507041726764107,
          1.1393743909797138,
          1.1419353776433516,
          1.1231496519151194,
          1.1290535396778612,
          1.1209313064934847,
          1.0705283340488851,
          1.1032552462663616,
          1.1221452666996612,
          1.132149165035374,
          1.1603999986919415,
          1.1583523393655233,
          1.1392222079761052,
          1.1349079145411456,
          1.127285080308958,
          1.1354563965400537,
          1.1496806412133405,
          1.1618703501722043,
          1.1547024811641522,
          1.1580692821046208,
          1.1654085852619067,
          1.1802150469200108,
          1.188906732970849,
          1.1985006385013721,
          1.205079985295571,
          1.2116038412812504,
          1.2202171163594329,
          1.2265076025627955,
          1.233230696723719,
          1.2330059481375668,
          1.2389686580437476,
          1.2342406293018715,
          1.2441785118179893,
          1.2453354990607377,
          1.2428695610677634,
          1.2317208440865068,
          1.2294299247838774,
          1.235936141098749,
          1.234736949850351,
          1.2382591754351913,
          1.248018540091284,
          1.2470897792091775,
          1.2462385187734197,
          1.2425083816088305,
          1.2351372666335483,
          1.227972072806179,
          1.2182278198623397,
          1.2093238992708344,
          1.2071790790897052,
          1.2092194846050441,
          1.2104751353455958,
          1.211771954139989,
          1.2082357689915706,
          1.2017632727544385,
          1.1939058604196406,
          1.1842680878409007,
          1.1788845715593952,
          1.1758427944950043,
          1.1656245531775575,
          1.185723690931041,
          1.1947158051740367,
          1.2133330199057357,
          1.211891566337524,
          1.2088891558714596,
          1.208426442606318,
          1.2180513687319228,
          1.2128297085462516,
          1.2113793670954862,
          1.2123873277195667,
          1.217462533288346,
          1.2243410454992008,
          1.2256299582822923,
          1.2207981606687919,
          1.2173406407373801,
          1.2227160583690204
         ]
        },
        {
         "line": {
          "color": "royalblue"
         },
         "mode": "lines",
         "name": "Portfolio Value",
         "type": "scatter",
         "x": [
          "2021-03-05T00:00:00",
          "2021-03-08T00:00:00",
          "2021-03-09T00:00:00",
          "2021-03-10T00:00:00",
          "2021-03-11T00:00:00",
          "2021-03-12T00:00:00",
          "2021-03-15T00:00:00",
          "2021-03-16T00:00:00",
          "2021-03-17T00:00:00",
          "2021-03-18T00:00:00",
          "2021-03-19T00:00:00",
          "2021-03-22T00:00:00",
          "2021-03-23T00:00:00",
          "2021-03-24T00:00:00",
          "2021-03-25T00:00:00",
          "2021-03-26T00:00:00",
          "2021-03-29T00:00:00",
          "2021-03-30T00:00:00",
          "2021-03-31T00:00:00",
          "2021-04-01T00:00:00",
          "2021-04-06T00:00:00",
          "2021-04-07T00:00:00",
          "2021-04-08T00:00:00",
          "2021-04-09T00:00:00",
          "2021-04-12T00:00:00",
          "2021-04-13T00:00:00",
          "2021-04-14T00:00:00",
          "2021-04-15T00:00:00",
          "2021-04-16T00:00:00",
          "2021-04-19T00:00:00",
          "2021-04-20T00:00:00",
          "2021-04-21T00:00:00",
          "2021-04-22T00:00:00",
          "2021-04-23T00:00:00",
          "2021-04-26T00:00:00",
          "2021-04-27T00:00:00",
          "2021-04-28T00:00:00",
          "2021-04-29T00:00:00",
          "2021-04-30T00:00:00",
          "2021-05-04T00:00:00",
          "2021-05-05T00:00:00",
          "2021-05-06T00:00:00",
          "2021-05-07T00:00:00",
          "2021-05-10T00:00:00",
          "2021-05-11T00:00:00",
          "2021-05-12T00:00:00",
          "2021-05-13T00:00:00",
          "2021-05-14T00:00:00",
          "2021-05-17T00:00:00",
          "2021-05-18T00:00:00",
          "2021-05-19T00:00:00",
          "2021-05-20T00:00:00",
          "2021-05-21T00:00:00",
          "2021-05-24T00:00:00",
          "2021-05-25T00:00:00",
          "2021-05-26T00:00:00",
          "2021-05-27T00:00:00",
          "2021-05-28T00:00:00",
          "2021-05-31T00:00:00",
          "2021-06-01T00:00:00",
          "2021-06-02T00:00:00",
          "2021-06-04T00:00:00",
          "2021-06-07T00:00:00",
          "2021-06-08T00:00:00",
          "2021-06-09T00:00:00",
          "2021-06-10T00:00:00",
          "2021-06-11T00:00:00",
          "2021-06-14T00:00:00",
          "2021-06-15T00:00:00",
          "2021-06-16T00:00:00",
          "2021-06-17T00:00:00",
          "2021-06-18T00:00:00",
          "2021-06-21T00:00:00",
          "2021-06-22T00:00:00",
          "2021-06-23T00:00:00",
          "2021-06-24T00:00:00",
          "2021-06-25T00:00:00",
          "2021-06-28T00:00:00",
          "2021-06-29T00:00:00",
          "2021-06-30T00:00:00",
          "2021-07-01T00:00:00",
          "2021-07-02T00:00:00",
          "2021-07-05T00:00:00",
          "2021-07-06T00:00:00",
          "2021-07-07T00:00:00",
          "2021-07-08T00:00:00",
          "2021-07-09T00:00:00",
          "2021-07-12T00:00:00",
          "2021-07-13T00:00:00",
          "2021-07-14T00:00:00",
          "2021-07-15T00:00:00",
          "2021-07-16T00:00:00",
          "2021-07-19T00:00:00",
          "2021-07-20T00:00:00",
          "2021-07-21T00:00:00",
          "2021-07-22T00:00:00",
          "2021-07-23T00:00:00",
          "2021-07-26T00:00:00",
          "2021-07-27T00:00:00",
          "2021-07-28T00:00:00",
          "2021-07-29T00:00:00",
          "2021-07-30T00:00:00",
          "2021-08-02T00:00:00",
          "2021-08-03T00:00:00",
          "2021-08-04T00:00:00",
          "2021-08-05T00:00:00",
          "2021-08-06T00:00:00",
          "2021-08-09T00:00:00",
          "2021-08-10T00:00:00",
          "2021-08-11T00:00:00",
          "2021-08-12T00:00:00",
          "2021-08-13T00:00:00",
          "2021-08-16T00:00:00",
          "2021-08-17T00:00:00",
          "2021-08-18T00:00:00",
          "2021-08-19T00:00:00",
          "2021-08-20T00:00:00",
          "2021-08-23T00:00:00",
          "2021-08-24T00:00:00",
          "2021-08-25T00:00:00",
          "2021-08-26T00:00:00",
          "2021-08-27T00:00:00",
          "2021-08-30T00:00:00",
          "2021-08-31T00:00:00",
          "2021-09-01T00:00:00",
          "2021-09-02T00:00:00",
          "2021-09-03T00:00:00",
          "2021-09-06T00:00:00",
          "2021-09-07T00:00:00",
          "2021-09-08T00:00:00",
          "2021-09-09T00:00:00",
          "2021-09-10T00:00:00",
          "2021-09-13T00:00:00",
          "2021-09-14T00:00:00",
          "2021-09-15T00:00:00",
          "2021-09-16T00:00:00",
          "2021-09-17T00:00:00",
          "2021-09-20T00:00:00",
          "2021-09-21T00:00:00",
          "2021-09-22T00:00:00",
          "2021-09-23T00:00:00",
          "2021-09-24T00:00:00",
          "2021-09-27T00:00:00",
          "2021-09-28T00:00:00",
          "2021-09-29T00:00:00",
          "2021-09-30T00:00:00",
          "2021-10-01T00:00:00",
          "2021-10-04T00:00:00",
          "2021-10-05T00:00:00",
          "2021-10-06T00:00:00",
          "2021-10-07T00:00:00",
          "2021-10-08T00:00:00",
          "2021-10-11T00:00:00",
          "2021-10-12T00:00:00",
          "2021-10-13T00:00:00",
          "2021-10-14T00:00:00",
          "2021-10-15T00:00:00",
          "2021-10-18T00:00:00",
          "2021-10-19T00:00:00",
          "2021-10-20T00:00:00",
          "2021-10-21T00:00:00",
          "2021-10-22T00:00:00",
          "2021-10-25T00:00:00",
          "2021-10-26T00:00:00",
          "2021-10-27T00:00:00",
          "2021-10-28T00:00:00",
          "2021-10-29T00:00:00",
          "2021-11-02T00:00:00",
          "2021-11-03T00:00:00",
          "2021-11-04T00:00:00",
          "2021-11-05T00:00:00",
          "2021-11-08T00:00:00",
          "2021-11-09T00:00:00",
          "2021-11-10T00:00:00",
          "2021-11-12T00:00:00",
          "2021-11-15T00:00:00",
          "2021-11-16T00:00:00",
          "2021-11-17T00:00:00",
          "2021-11-18T00:00:00",
          "2021-11-19T00:00:00",
          "2021-11-22T00:00:00",
          "2021-11-23T00:00:00",
          "2021-11-24T00:00:00",
          "2021-11-25T00:00:00",
          "2021-11-26T00:00:00",
          "2021-11-29T00:00:00",
          "2021-11-30T00:00:00",
          "2021-12-01T00:00:00",
          "2021-12-02T00:00:00",
          "2021-12-03T00:00:00",
          "2021-12-06T00:00:00",
          "2021-12-07T00:00:00",
          "2021-12-08T00:00:00",
          "2021-12-09T00:00:00",
          "2021-12-10T00:00:00",
          "2021-12-13T00:00:00",
          "2021-12-14T00:00:00",
          "2021-12-15T00:00:00",
          "2021-12-16T00:00:00",
          "2021-12-17T00:00:00",
          "2021-12-20T00:00:00",
          "2021-12-21T00:00:00",
          "2021-12-22T00:00:00",
          "2021-12-23T00:00:00",
          "2021-12-27T00:00:00",
          "2021-12-28T00:00:00",
          "2021-12-29T00:00:00",
          "2021-12-30T00:00:00",
          "2022-01-03T00:00:00",
          "2022-01-04T00:00:00",
          "2022-01-05T00:00:00",
          "2022-01-07T00:00:00",
          "2022-01-10T00:00:00",
          "2022-01-11T00:00:00",
          "2022-01-12T00:00:00",
          "2022-01-13T00:00:00",
          "2022-01-14T00:00:00",
          "2022-01-17T00:00:00",
          "2022-01-18T00:00:00",
          "2022-01-19T00:00:00",
          "2022-01-20T00:00:00",
          "2022-01-21T00:00:00",
          "2022-01-24T00:00:00",
          "2022-01-25T00:00:00",
          "2022-01-26T00:00:00",
          "2022-01-27T00:00:00",
          "2022-01-28T00:00:00",
          "2022-01-31T00:00:00",
          "2022-02-01T00:00:00",
          "2022-02-02T00:00:00",
          "2022-02-03T00:00:00",
          "2022-02-04T00:00:00",
          "2022-02-07T00:00:00",
          "2022-02-08T00:00:00",
          "2022-02-09T00:00:00",
          "2022-02-10T00:00:00",
          "2022-02-11T00:00:00",
          "2022-02-14T00:00:00",
          "2022-02-15T00:00:00",
          "2022-02-16T00:00:00",
          "2022-02-17T00:00:00",
          "2022-02-18T00:00:00",
          "2022-02-21T00:00:00",
          "2022-02-22T00:00:00",
          "2022-02-23T00:00:00",
          "2022-02-24T00:00:00",
          "2022-02-25T00:00:00",
          "2022-02-28T00:00:00",
          "2022-03-01T00:00:00",
          "2022-03-02T00:00:00",
          "2022-03-03T00:00:00",
          "2022-03-04T00:00:00",
          "2022-03-07T00:00:00",
          "2022-03-08T00:00:00",
          "2022-03-09T00:00:00",
          "2022-03-10T00:00:00",
          "2022-03-11T00:00:00",
          "2022-03-14T00:00:00",
          "2022-03-15T00:00:00",
          "2022-03-16T00:00:00",
          "2022-03-17T00:00:00",
          "2022-03-18T00:00:00",
          "2022-03-21T00:00:00",
          "2022-03-22T00:00:00",
          "2022-03-23T00:00:00",
          "2022-03-24T00:00:00"
         ],
         "y": [
          1,
          0.9975035047571992,
          0.9901638761104773,
          0.9973461863581401,
          0.998654570010272,
          0.9944632943118047,
          0.9928199106803852,
          0.9906129224228651,
          0.9903889976958566,
          0.9970357667340836,
          1.003777964320806,
          1.002595061120199,
          1.009975882325996,
          1.0183513465847982,
          1.018576873258123,
          1.0223438031286474,
          1.0227930591811814,
          1.0210733554618374,
          1.0183029029251627,
          1.0350071142455832,
          1.0258948975650426,
          1.0256808895874396,
          1.018757325854517,
          1.0181256023986922,
          1.0119063831623605,
          1.0117631854456681,
          1.0106741219847093,
          1.0177306024881367,
          1.0248917695213156,
          1.0215335410719557,
          1.0248603880542535,
          1.020002151926292,
          1.022817883333141,
          1.029211676500504,
          1.0348093955446338,
          1.028093237116934,
          1.027968036538775,
          1.0230589179670544,
          1.0197382607437235,
          1.0161059982952427,
          1.0225240892376597,
          1.0296847444880897,
          1.031508890616693,
          1.033867797796304,
          1.0149811005919622,
          1.0484323775278876,
          1.0662570985006175,
          1.069520712205721,
          1.090415403474374,
          1.1025678075884637,
          1.0930989729650578,
          1.0862885864046083,
          1.0926526103690395,
          1.088911771793258,
          1.0940496469643928,
          1.089269062023639,
          1.0831325225376127,
          1.0927822943289165,
          1.0988927550135819,
          1.102788643063332,
          1.0943632027091275,
          1.0924667778167478,
          1.0959844725222179,
          1.0967947447395503,
          1.0922865136068658,
          1.0912224918792597,
          1.0826544487060545,
          1.0740234237411808,
          1.0799497074640199,
          1.0800142896697462,
          1.082129923340219,
          1.0828329961113887,
          1.0968051246026038,
          1.09221544873061,
          1.0943232877811058,
          1.090851769262265,
          1.090364300829469,
          1.1016674352966753,
          1.094432705433842,
          1.1079458215374227,
          1.1025056926906307,
          1.0932296108369932,
          1.0923111365492748,
          1.0970242372647467,
          1.1058275511151023,
          1.1083595874438525,
          1.113013702390165,
          1.1083817159994762,
          1.1132989906703106,
          1.0893300257546032,
          1.0881632130220746,
          1.103318200501354,
          1.108466638573978,
          1.1023236855086063,
          1.101521449996923,
          1.0886892524914917,
          1.0976050517463047,
          1.1073008085745226,
          1.115682500021383,
          1.11699063928543,
          1.11579400427739,
          1.1084243241340594,
          1.1038944838366755,
          1.1130434062439012,
          1.1239825959574434,
          1.122941473132624,
          1.1242014651145666,
          1.124455032855055,
          1.129072429211803,
          1.1359126468109404,
          1.1359459232124625,
          1.1321457073542553,
          1.1272414030707485,
          1.1322907226960106,
          1.133944350057614,
          1.1368353901370944,
          1.1303149527976997,
          1.1481205109457902,
          1.1584323924701565,
          1.1605568437707616,
          1.1527008491240816,
          1.1584113435484111,
          1.1515046987685054,
          1.151379284180715,
          1.1835784632309712,
          1.176179825269161,
          1.1917418030314555,
          1.1777792829125113,
          1.1733325944321973,
          1.175207154245279,
          1.1732094313237218,
          1.1731435447299834,
          1.1649178841112842,
          1.1661292280658462,
          1.162896154597173,
          1.1671012291072413,
          1.1476364308482443,
          1.1508705399665942,
          1.161695280704779,
          1.1779180536467198,
          1.1792213469258372,
          1.174920543157995,
          1.167648661088509,
          1.1779678032045369,
          1.1817306430598793,
          1.180279093233341,
          1.1758838014723907,
          1.183136742616659,
          1.1737720082040255,
          1.1617009717592133,
          1.168615242844055,
          1.1747490530409868,
          1.1661854477240774,
          1.1689820958986903,
          1.176243820623798,
          1.1798701573915247,
          1.1797615709617872,
          1.1796243373343434,
          1.2092722729614298,
          1.2124478473719824,
          1.231355487804192,
          1.236528138280904,
          1.2352582518188633,
          1.2315913178861873,
          1.2233860132073286,
          1.2282934908207737,
          1.2395074867415974,
          1.237213878197598,
          1.225420836097024,
          1.2283072186507202,
          1.2217486989714907,
          1.2106644250707737,
          1.2115650102415343,
          1.2019325053629881,
          1.1597405497955888,
          1.1616403957540304,
          1.1716878516623006,
          1.1707809053236198,
          1.1750126324352137,
          1.1790082120575818,
          1.1834376177672918,
          1.19704282693878,
          1.1880852855993935,
          1.1823097227435921,
          1.1794098728602436,
          1.1795781424775065,
          1.1839618077116225,
          1.1867680719263232,
          1.1805176870225507,
          1.1544819576302483,
          1.1763384013602367,
          1.1682310346785814,
          1.1606376268871923,
          1.1586593436932684,
          1.1421657035697654,
          1.1500848958230845,
          1.1381301969752684,
          1.0869258165600093,
          1.1307939896623822,
          1.154060390733029,
          1.1807218641659134,
          1.208776651441324,
          1.202925242008725,
          1.1894526556962142,
          1.1811186140202377,
          1.1581540562877508,
          1.1643799304851816,
          1.1843656942477803,
          1.2058609780795764,
          1.1934371813698874,
          1.1895156373220275,
          1.2007117495663295,
          1.217206201201195,
          1.2234012938889798,
          1.2317210170641086,
          1.233485677541608,
          1.240780933980706,
          1.249347778932574,
          1.2473869548827157,
          1.2631681011600202,
          1.2642409670084525,
          1.2655634149766348,
          1.2680208459988753,
          1.27590547543134,
          1.2728379007855737,
          1.2696721908048807,
          1.25945467410075,
          1.252481722736604,
          1.2608714945256971,
          1.2682540410964052,
          1.2665796617320286,
          1.2831123915710945,
          1.2815408588487924,
          1.2794435908108297,
          1.2692157499822947,
          1.2612464459174297,
          1.2551713556963677,
          1.2432925452441208,
          1.2277262311566877,
          1.219719142009996,
          1.2303323999267726,
          1.2357841241818668,
          1.2382235450904022,
          1.2445386754218544,
          1.233628445489055,
          1.2227511649550855,
          1.2118834368514209,
          1.2027666422358902,
          1.1950613384319437,
          1.1848068832764744,
          1.200653374765206,
          1.2062363071074897,
          1.237311958945247,
          1.236597067960353,
          1.2353603572924343,
          1.234940026415106,
          1.2467515632171666,
          1.239912950644031,
          1.2328032365203605,
          1.2336064488666443,
          1.2335140793945238,
          1.2295336666940135,
          1.2298537718921283,
          1.2187045557759606,
          1.2155656747376589,
          1.2156202619947445
         ]
        },
        {
         "line": {
          "color": "grey",
          "dash": "dash",
          "width": 2
         },
         "name": "start value",
         "type": "scatter",
         "x": [
          "2021-03-05T00:00:00",
          "2021-03-08T00:00:00",
          "2021-03-09T00:00:00",
          "2021-03-10T00:00:00",
          "2021-03-11T00:00:00",
          "2021-03-12T00:00:00",
          "2021-03-15T00:00:00",
          "2021-03-16T00:00:00",
          "2021-03-17T00:00:00",
          "2021-03-18T00:00:00",
          "2021-03-19T00:00:00",
          "2021-03-22T00:00:00",
          "2021-03-23T00:00:00",
          "2021-03-24T00:00:00",
          "2021-03-25T00:00:00",
          "2021-03-26T00:00:00",
          "2021-03-29T00:00:00",
          "2021-03-30T00:00:00",
          "2021-03-31T00:00:00",
          "2021-04-01T00:00:00",
          "2021-04-06T00:00:00",
          "2021-04-07T00:00:00",
          "2021-04-08T00:00:00",
          "2021-04-09T00:00:00",
          "2021-04-12T00:00:00",
          "2021-04-13T00:00:00",
          "2021-04-14T00:00:00",
          "2021-04-15T00:00:00",
          "2021-04-16T00:00:00",
          "2021-04-19T00:00:00",
          "2021-04-20T00:00:00",
          "2021-04-21T00:00:00",
          "2021-04-22T00:00:00",
          "2021-04-23T00:00:00",
          "2021-04-26T00:00:00",
          "2021-04-27T00:00:00",
          "2021-04-28T00:00:00",
          "2021-04-29T00:00:00",
          "2021-04-30T00:00:00",
          "2021-05-04T00:00:00",
          "2021-05-05T00:00:00",
          "2021-05-06T00:00:00",
          "2021-05-07T00:00:00",
          "2021-05-10T00:00:00",
          "2021-05-11T00:00:00",
          "2021-05-12T00:00:00",
          "2021-05-13T00:00:00",
          "2021-05-14T00:00:00",
          "2021-05-17T00:00:00",
          "2021-05-18T00:00:00",
          "2021-05-19T00:00:00",
          "2021-05-20T00:00:00",
          "2021-05-21T00:00:00",
          "2021-05-24T00:00:00",
          "2021-05-25T00:00:00",
          "2021-05-26T00:00:00",
          "2021-05-27T00:00:00",
          "2021-05-28T00:00:00",
          "2021-05-31T00:00:00",
          "2021-06-01T00:00:00",
          "2021-06-02T00:00:00",
          "2021-06-04T00:00:00",
          "2021-06-07T00:00:00",
          "2021-06-08T00:00:00",
          "2021-06-09T00:00:00",
          "2021-06-10T00:00:00",
          "2021-06-11T00:00:00",
          "2021-06-14T00:00:00",
          "2021-06-15T00:00:00",
          "2021-06-16T00:00:00",
          "2021-06-17T00:00:00",
          "2021-06-18T00:00:00",
          "2021-06-21T00:00:00",
          "2021-06-22T00:00:00",
          "2021-06-23T00:00:00",
          "2021-06-24T00:00:00",
          "2021-06-25T00:00:00",
          "2021-06-28T00:00:00",
          "2021-06-29T00:00:00",
          "2021-06-30T00:00:00",
          "2021-07-01T00:00:00",
          "2021-07-02T00:00:00",
          "2021-07-05T00:00:00",
          "2021-07-06T00:00:00",
          "2021-07-07T00:00:00",
          "2021-07-08T00:00:00",
          "2021-07-09T00:00:00",
          "2021-07-12T00:00:00",
          "2021-07-13T00:00:00",
          "2021-07-14T00:00:00",
          "2021-07-15T00:00:00",
          "2021-07-16T00:00:00",
          "2021-07-19T00:00:00",
          "2021-07-20T00:00:00",
          "2021-07-21T00:00:00",
          "2021-07-22T00:00:00",
          "2021-07-23T00:00:00",
          "2021-07-26T00:00:00",
          "2021-07-27T00:00:00",
          "2021-07-28T00:00:00",
          "2021-07-29T00:00:00",
          "2021-07-30T00:00:00",
          "2021-08-02T00:00:00",
          "2021-08-03T00:00:00",
          "2021-08-04T00:00:00",
          "2021-08-05T00:00:00",
          "2021-08-06T00:00:00",
          "2021-08-09T00:00:00",
          "2021-08-10T00:00:00",
          "2021-08-11T00:00:00",
          "2021-08-12T00:00:00",
          "2021-08-13T00:00:00",
          "2021-08-16T00:00:00",
          "2021-08-17T00:00:00",
          "2021-08-18T00:00:00",
          "2021-08-19T00:00:00",
          "2021-08-20T00:00:00",
          "2021-08-23T00:00:00",
          "2021-08-24T00:00:00",
          "2021-08-25T00:00:00",
          "2021-08-26T00:00:00",
          "2021-08-27T00:00:00",
          "2021-08-30T00:00:00",
          "2021-08-31T00:00:00",
          "2021-09-01T00:00:00",
          "2021-09-02T00:00:00",
          "2021-09-03T00:00:00",
          "2021-09-06T00:00:00",
          "2021-09-07T00:00:00",
          "2021-09-08T00:00:00",
          "2021-09-09T00:00:00",
          "2021-09-10T00:00:00",
          "2021-09-13T00:00:00",
          "2021-09-14T00:00:00",
          "2021-09-15T00:00:00",
          "2021-09-16T00:00:00",
          "2021-09-17T00:00:00",
          "2021-09-20T00:00:00",
          "2021-09-21T00:00:00",
          "2021-09-22T00:00:00",
          "2021-09-23T00:00:00",
          "2021-09-24T00:00:00",
          "2021-09-27T00:00:00",
          "2021-09-28T00:00:00",
          "2021-09-29T00:00:00",
          "2021-09-30T00:00:00",
          "2021-10-01T00:00:00",
          "2021-10-04T00:00:00",
          "2021-10-05T00:00:00",
          "2021-10-06T00:00:00",
          "2021-10-07T00:00:00",
          "2021-10-08T00:00:00",
          "2021-10-11T00:00:00",
          "2021-10-12T00:00:00",
          "2021-10-13T00:00:00",
          "2021-10-14T00:00:00",
          "2021-10-15T00:00:00",
          "2021-10-18T00:00:00",
          "2021-10-19T00:00:00",
          "2021-10-20T00:00:00",
          "2021-10-21T00:00:00",
          "2021-10-22T00:00:00",
          "2021-10-25T00:00:00",
          "2021-10-26T00:00:00",
          "2021-10-27T00:00:00",
          "2021-10-28T00:00:00",
          "2021-10-29T00:00:00",
          "2021-11-02T00:00:00",
          "2021-11-03T00:00:00",
          "2021-11-04T00:00:00",
          "2021-11-05T00:00:00",
          "2021-11-08T00:00:00",
          "2021-11-09T00:00:00",
          "2021-11-10T00:00:00",
          "2021-11-12T00:00:00",
          "2021-11-15T00:00:00",
          "2021-11-16T00:00:00",
          "2021-11-17T00:00:00",
          "2021-11-18T00:00:00",
          "2021-11-19T00:00:00",
          "2021-11-22T00:00:00",
          "2021-11-23T00:00:00",
          "2021-11-24T00:00:00",
          "2021-11-25T00:00:00",
          "2021-11-26T00:00:00",
          "2021-11-29T00:00:00",
          "2021-11-30T00:00:00",
          "2021-12-01T00:00:00",
          "2021-12-02T00:00:00",
          "2021-12-03T00:00:00",
          "2021-12-06T00:00:00",
          "2021-12-07T00:00:00",
          "2021-12-08T00:00:00",
          "2021-12-09T00:00:00",
          "2021-12-10T00:00:00",
          "2021-12-13T00:00:00",
          "2021-12-14T00:00:00",
          "2021-12-15T00:00:00",
          "2021-12-16T00:00:00",
          "2021-12-17T00:00:00",
          "2021-12-20T00:00:00",
          "2021-12-21T00:00:00",
          "2021-12-22T00:00:00",
          "2021-12-23T00:00:00",
          "2021-12-27T00:00:00",
          "2021-12-28T00:00:00",
          "2021-12-29T00:00:00",
          "2021-12-30T00:00:00",
          "2022-01-03T00:00:00",
          "2022-01-04T00:00:00",
          "2022-01-05T00:00:00",
          "2022-01-07T00:00:00",
          "2022-01-10T00:00:00",
          "2022-01-11T00:00:00",
          "2022-01-12T00:00:00",
          "2022-01-13T00:00:00",
          "2022-01-14T00:00:00",
          "2022-01-17T00:00:00",
          "2022-01-18T00:00:00",
          "2022-01-19T00:00:00",
          "2022-01-20T00:00:00",
          "2022-01-21T00:00:00",
          "2022-01-24T00:00:00",
          "2022-01-25T00:00:00",
          "2022-01-26T00:00:00",
          "2022-01-27T00:00:00",
          "2022-01-28T00:00:00",
          "2022-01-31T00:00:00",
          "2022-02-01T00:00:00",
          "2022-02-02T00:00:00",
          "2022-02-03T00:00:00",
          "2022-02-04T00:00:00",
          "2022-02-07T00:00:00",
          "2022-02-08T00:00:00",
          "2022-02-09T00:00:00",
          "2022-02-10T00:00:00",
          "2022-02-11T00:00:00",
          "2022-02-14T00:00:00",
          "2022-02-15T00:00:00",
          "2022-02-16T00:00:00",
          "2022-02-17T00:00:00",
          "2022-02-18T00:00:00",
          "2022-02-21T00:00:00",
          "2022-02-22T00:00:00",
          "2022-02-23T00:00:00",
          "2022-02-24T00:00:00",
          "2022-02-25T00:00:00",
          "2022-02-28T00:00:00",
          "2022-03-01T00:00:00",
          "2022-03-02T00:00:00",
          "2022-03-03T00:00:00",
          "2022-03-04T00:00:00",
          "2022-03-07T00:00:00",
          "2022-03-08T00:00:00",
          "2022-03-09T00:00:00",
          "2022-03-10T00:00:00",
          "2022-03-11T00:00:00",
          "2022-03-14T00:00:00",
          "2022-03-15T00:00:00",
          "2022-03-16T00:00:00",
          "2022-03-17T00:00:00",
          "2022-03-18T00:00:00",
          "2022-03-21T00:00:00",
          "2022-03-22T00:00:00",
          "2022-03-23T00:00:00",
          "2022-03-24T00:00:00"
         ],
         "y": [
          1,
          1,
          1,
          1,
          1,
          1,
          1,
          1,
          1,
          1,
          1,
          1,
          1,
          1,
          1,
          1,
          1,
          1,
          1,
          1,
          1,
          1,
          1,
          1,
          1,
          1,
          1,
          1,
          1,
          1,
          1,
          1,
          1,
          1,
          1,
          1,
          1,
          1,
          1,
          1,
          1,
          1,
          1,
          1,
          1,
          1,
          1,
          1,
          1,
          1,
          1,
          1,
          1,
          1,
          1,
          1,
          1,
          1,
          1,
          1,
          1,
          1,
          1,
          1,
          1,
          1,
          1,
          1,
          1,
          1,
          1,
          1,
          1,
          1,
          1,
          1,
          1,
          1,
          1,
          1,
          1,
          1,
          1,
          1,
          1,
          1,
          1,
          1,
          1,
          1,
          1,
          1,
          1,
          1,
          1,
          1,
          1,
          1,
          1,
          1,
          1,
          1,
          1,
          1,
          1,
          1,
          1,
          1,
          1,
          1,
          1,
          1,
          1,
          1,
          1,
          1,
          1,
          1,
          1,
          1,
          1,
          1,
          1,
          1,
          1,
          1,
          1,
          1,
          1,
          1,
          1,
          1,
          1,
          1,
          1,
          1,
          1,
          1,
          1,
          1,
          1,
          1,
          1,
          1,
          1,
          1,
          1,
          1,
          1,
          1,
          1,
          1,
          1,
          1,
          1,
          1,
          1,
          1,
          1,
          1,
          1,
          1,
          1,
          1,
          1,
          1,
          1,
          1,
          1,
          1,
          1,
          1,
          1,
          1,
          1,
          1,
          1,
          1,
          1,
          1,
          1,
          1,
          1,
          1,
          1,
          1,
          1,
          1,
          1,
          1,
          1,
          1,
          1,
          1,
          1,
          1,
          1,
          1,
          1,
          1,
          1,
          1,
          1,
          1,
          1,
          1,
          1,
          1,
          1,
          1,
          1,
          1,
          1,
          1,
          1,
          1,
          1,
          1,
          1,
          1,
          1,
          1,
          1,
          1,
          1,
          1,
          1,
          1,
          1,
          1,
          1,
          1,
          1,
          1,
          1,
          1,
          1,
          1,
          1,
          1,
          1,
          1,
          1,
          1,
          1,
          1,
          1,
          1,
          1,
          1,
          1,
          1,
          1,
          1,
          1,
          1,
          1,
          1,
          1,
          1,
          1,
          1,
          1,
          1,
          1,
          1
         ]
        }
       ],
       "layout": {
        "template": {
         "data": {
          "bar": [
           {
            "error_x": {
             "color": "#2a3f5f"
            },
            "error_y": {
             "color": "#2a3f5f"
            },
            "marker": {
             "line": {
              "color": "#E5ECF6",
              "width": 0.5
             },
             "pattern": {
              "fillmode": "overlay",
              "size": 10,
              "solidity": 0.2
             }
            },
            "type": "bar"
           }
          ],
          "barpolar": [
           {
            "marker": {
             "line": {
              "color": "#E5ECF6",
              "width": 0.5
             },
             "pattern": {
              "fillmode": "overlay",
              "size": 10,
              "solidity": 0.2
             }
            },
            "type": "barpolar"
           }
          ],
          "carpet": [
           {
            "aaxis": {
             "endlinecolor": "#2a3f5f",
             "gridcolor": "white",
             "linecolor": "white",
             "minorgridcolor": "white",
             "startlinecolor": "#2a3f5f"
            },
            "baxis": {
             "endlinecolor": "#2a3f5f",
             "gridcolor": "white",
             "linecolor": "white",
             "minorgridcolor": "white",
             "startlinecolor": "#2a3f5f"
            },
            "type": "carpet"
           }
          ],
          "choropleth": [
           {
            "colorbar": {
             "outlinewidth": 0,
             "ticks": ""
            },
            "type": "choropleth"
           }
          ],
          "contour": [
           {
            "colorbar": {
             "outlinewidth": 0,
             "ticks": ""
            },
            "colorscale": [
             [
              0,
              "#0d0887"
             ],
             [
              0.1111111111111111,
              "#46039f"
             ],
             [
              0.2222222222222222,
              "#7201a8"
             ],
             [
              0.3333333333333333,
              "#9c179e"
             ],
             [
              0.4444444444444444,
              "#bd3786"
             ],
             [
              0.5555555555555556,
              "#d8576b"
             ],
             [
              0.6666666666666666,
              "#ed7953"
             ],
             [
              0.7777777777777778,
              "#fb9f3a"
             ],
             [
              0.8888888888888888,
              "#fdca26"
             ],
             [
              1,
              "#f0f921"
             ]
            ],
            "type": "contour"
           }
          ],
          "contourcarpet": [
           {
            "colorbar": {
             "outlinewidth": 0,
             "ticks": ""
            },
            "type": "contourcarpet"
           }
          ],
          "heatmap": [
           {
            "colorbar": {
             "outlinewidth": 0,
             "ticks": ""
            },
            "colorscale": [
             [
              0,
              "#0d0887"
             ],
             [
              0.1111111111111111,
              "#46039f"
             ],
             [
              0.2222222222222222,
              "#7201a8"
             ],
             [
              0.3333333333333333,
              "#9c179e"
             ],
             [
              0.4444444444444444,
              "#bd3786"
             ],
             [
              0.5555555555555556,
              "#d8576b"
             ],
             [
              0.6666666666666666,
              "#ed7953"
             ],
             [
              0.7777777777777778,
              "#fb9f3a"
             ],
             [
              0.8888888888888888,
              "#fdca26"
             ],
             [
              1,
              "#f0f921"
             ]
            ],
            "type": "heatmap"
           }
          ],
          "heatmapgl": [
           {
            "colorbar": {
             "outlinewidth": 0,
             "ticks": ""
            },
            "colorscale": [
             [
              0,
              "#0d0887"
             ],
             [
              0.1111111111111111,
              "#46039f"
             ],
             [
              0.2222222222222222,
              "#7201a8"
             ],
             [
              0.3333333333333333,
              "#9c179e"
             ],
             [
              0.4444444444444444,
              "#bd3786"
             ],
             [
              0.5555555555555556,
              "#d8576b"
             ],
             [
              0.6666666666666666,
              "#ed7953"
             ],
             [
              0.7777777777777778,
              "#fb9f3a"
             ],
             [
              0.8888888888888888,
              "#fdca26"
             ],
             [
              1,
              "#f0f921"
             ]
            ],
            "type": "heatmapgl"
           }
          ],
          "histogram": [
           {
            "marker": {
             "pattern": {
              "fillmode": "overlay",
              "size": 10,
              "solidity": 0.2
             }
            },
            "type": "histogram"
           }
          ],
          "histogram2d": [
           {
            "colorbar": {
             "outlinewidth": 0,
             "ticks": ""
            },
            "colorscale": [
             [
              0,
              "#0d0887"
             ],
             [
              0.1111111111111111,
              "#46039f"
             ],
             [
              0.2222222222222222,
              "#7201a8"
             ],
             [
              0.3333333333333333,
              "#9c179e"
             ],
             [
              0.4444444444444444,
              "#bd3786"
             ],
             [
              0.5555555555555556,
              "#d8576b"
             ],
             [
              0.6666666666666666,
              "#ed7953"
             ],
             [
              0.7777777777777778,
              "#fb9f3a"
             ],
             [
              0.8888888888888888,
              "#fdca26"
             ],
             [
              1,
              "#f0f921"
             ]
            ],
            "type": "histogram2d"
           }
          ],
          "histogram2dcontour": [
           {
            "colorbar": {
             "outlinewidth": 0,
             "ticks": ""
            },
            "colorscale": [
             [
              0,
              "#0d0887"
             ],
             [
              0.1111111111111111,
              "#46039f"
             ],
             [
              0.2222222222222222,
              "#7201a8"
             ],
             [
              0.3333333333333333,
              "#9c179e"
             ],
             [
              0.4444444444444444,
              "#bd3786"
             ],
             [
              0.5555555555555556,
              "#d8576b"
             ],
             [
              0.6666666666666666,
              "#ed7953"
             ],
             [
              0.7777777777777778,
              "#fb9f3a"
             ],
             [
              0.8888888888888888,
              "#fdca26"
             ],
             [
              1,
              "#f0f921"
             ]
            ],
            "type": "histogram2dcontour"
           }
          ],
          "mesh3d": [
           {
            "colorbar": {
             "outlinewidth": 0,
             "ticks": ""
            },
            "type": "mesh3d"
           }
          ],
          "parcoords": [
           {
            "line": {
             "colorbar": {
              "outlinewidth": 0,
              "ticks": ""
             }
            },
            "type": "parcoords"
           }
          ],
          "pie": [
           {
            "automargin": true,
            "type": "pie"
           }
          ],
          "scatter": [
           {
            "marker": {
             "colorbar": {
              "outlinewidth": 0,
              "ticks": ""
             }
            },
            "type": "scatter"
           }
          ],
          "scatter3d": [
           {
            "line": {
             "colorbar": {
              "outlinewidth": 0,
              "ticks": ""
             }
            },
            "marker": {
             "colorbar": {
              "outlinewidth": 0,
              "ticks": ""
             }
            },
            "type": "scatter3d"
           }
          ],
          "scattercarpet": [
           {
            "marker": {
             "colorbar": {
              "outlinewidth": 0,
              "ticks": ""
             }
            },
            "type": "scattercarpet"
           }
          ],
          "scattergeo": [
           {
            "marker": {
             "colorbar": {
              "outlinewidth": 0,
              "ticks": ""
             }
            },
            "type": "scattergeo"
           }
          ],
          "scattergl": [
           {
            "marker": {
             "colorbar": {
              "outlinewidth": 0,
              "ticks": ""
             }
            },
            "type": "scattergl"
           }
          ],
          "scattermapbox": [
           {
            "marker": {
             "colorbar": {
              "outlinewidth": 0,
              "ticks": ""
             }
            },
            "type": "scattermapbox"
           }
          ],
          "scatterpolar": [
           {
            "marker": {
             "colorbar": {
              "outlinewidth": 0,
              "ticks": ""
             }
            },
            "type": "scatterpolar"
           }
          ],
          "scatterpolargl": [
           {
            "marker": {
             "colorbar": {
              "outlinewidth": 0,
              "ticks": ""
             }
            },
            "type": "scatterpolargl"
           }
          ],
          "scatterternary": [
           {
            "marker": {
             "colorbar": {
              "outlinewidth": 0,
              "ticks": ""
             }
            },
            "type": "scatterternary"
           }
          ],
          "surface": [
           {
            "colorbar": {
             "outlinewidth": 0,
             "ticks": ""
            },
            "colorscale": [
             [
              0,
              "#0d0887"
             ],
             [
              0.1111111111111111,
              "#46039f"
             ],
             [
              0.2222222222222222,
              "#7201a8"
             ],
             [
              0.3333333333333333,
              "#9c179e"
             ],
             [
              0.4444444444444444,
              "#bd3786"
             ],
             [
              0.5555555555555556,
              "#d8576b"
             ],
             [
              0.6666666666666666,
              "#ed7953"
             ],
             [
              0.7777777777777778,
              "#fb9f3a"
             ],
             [
              0.8888888888888888,
              "#fdca26"
             ],
             [
              1,
              "#f0f921"
             ]
            ],
            "type": "surface"
           }
          ],
          "table": [
           {
            "cells": {
             "fill": {
              "color": "#EBF0F8"
             },
             "line": {
              "color": "white"
             }
            },
            "header": {
             "fill": {
              "color": "#C8D4E3"
             },
             "line": {
              "color": "white"
             }
            },
            "type": "table"
           }
          ]
         },
         "layout": {
          "annotationdefaults": {
           "arrowcolor": "#2a3f5f",
           "arrowhead": 0,
           "arrowwidth": 1
          },
          "autotypenumbers": "strict",
          "coloraxis": {
           "colorbar": {
            "outlinewidth": 0,
            "ticks": ""
           }
          },
          "colorscale": {
           "diverging": [
            [
             0,
             "#8e0152"
            ],
            [
             0.1,
             "#c51b7d"
            ],
            [
             0.2,
             "#de77ae"
            ],
            [
             0.3,
             "#f1b6da"
            ],
            [
             0.4,
             "#fde0ef"
            ],
            [
             0.5,
             "#f7f7f7"
            ],
            [
             0.6,
             "#e6f5d0"
            ],
            [
             0.7,
             "#b8e186"
            ],
            [
             0.8,
             "#7fbc41"
            ],
            [
             0.9,
             "#4d9221"
            ],
            [
             1,
             "#276419"
            ]
           ],
           "sequential": [
            [
             0,
             "#0d0887"
            ],
            [
             0.1111111111111111,
             "#46039f"
            ],
            [
             0.2222222222222222,
             "#7201a8"
            ],
            [
             0.3333333333333333,
             "#9c179e"
            ],
            [
             0.4444444444444444,
             "#bd3786"
            ],
            [
             0.5555555555555556,
             "#d8576b"
            ],
            [
             0.6666666666666666,
             "#ed7953"
            ],
            [
             0.7777777777777778,
             "#fb9f3a"
            ],
            [
             0.8888888888888888,
             "#fdca26"
            ],
            [
             1,
             "#f0f921"
            ]
           ],
           "sequentialminus": [
            [
             0,
             "#0d0887"
            ],
            [
             0.1111111111111111,
             "#46039f"
            ],
            [
             0.2222222222222222,
             "#7201a8"
            ],
            [
             0.3333333333333333,
             "#9c179e"
            ],
            [
             0.4444444444444444,
             "#bd3786"
            ],
            [
             0.5555555555555556,
             "#d8576b"
            ],
            [
             0.6666666666666666,
             "#ed7953"
            ],
            [
             0.7777777777777778,
             "#fb9f3a"
            ],
            [
             0.8888888888888888,
             "#fdca26"
            ],
            [
             1,
             "#f0f921"
            ]
           ]
          },
          "colorway": [
           "#636efa",
           "#EF553B",
           "#00cc96",
           "#ab63fa",
           "#FFA15A",
           "#19d3f3",
           "#FF6692",
           "#B6E880",
           "#FF97FF",
           "#FECB52"
          ],
          "font": {
           "color": "#2a3f5f"
          },
          "geo": {
           "bgcolor": "white",
           "lakecolor": "white",
           "landcolor": "#E5ECF6",
           "showlakes": true,
           "showland": true,
           "subunitcolor": "white"
          },
          "hoverlabel": {
           "align": "left"
          },
          "hovermode": "closest",
          "mapbox": {
           "style": "light"
          },
          "paper_bgcolor": "white",
          "plot_bgcolor": "#E5ECF6",
          "polar": {
           "angularaxis": {
            "gridcolor": "white",
            "linecolor": "white",
            "ticks": ""
           },
           "bgcolor": "#E5ECF6",
           "radialaxis": {
            "gridcolor": "white",
            "linecolor": "white",
            "ticks": ""
           }
          },
          "scene": {
           "xaxis": {
            "backgroundcolor": "#E5ECF6",
            "gridcolor": "white",
            "gridwidth": 2,
            "linecolor": "white",
            "showbackground": true,
            "ticks": "",
            "zerolinecolor": "white"
           },
           "yaxis": {
            "backgroundcolor": "#E5ECF6",
            "gridcolor": "white",
            "gridwidth": 2,
            "linecolor": "white",
            "showbackground": true,
            "ticks": "",
            "zerolinecolor": "white"
           },
           "zaxis": {
            "backgroundcolor": "#E5ECF6",
            "gridcolor": "white",
            "gridwidth": 2,
            "linecolor": "white",
            "showbackground": true,
            "ticks": "",
            "zerolinecolor": "white"
           }
          },
          "shapedefaults": {
           "line": {
            "color": "#2a3f5f"
           }
          },
          "ternary": {
           "aaxis": {
            "gridcolor": "white",
            "linecolor": "white",
            "ticks": ""
           },
           "baxis": {
            "gridcolor": "white",
            "linecolor": "white",
            "ticks": ""
           },
           "bgcolor": "#E5ECF6",
           "caxis": {
            "gridcolor": "white",
            "linecolor": "white",
            "ticks": ""
           }
          },
          "title": {
           "x": 0.05
          },
          "xaxis": {
           "automargin": true,
           "gridcolor": "white",
           "linecolor": "white",
           "ticks": "",
           "title": {
            "standoff": 15
           },
           "zerolinecolor": "white",
           "zerolinewidth": 2
          },
          "yaxis": {
           "automargin": true,
           "gridcolor": "white",
           "linecolor": "white",
           "ticks": "",
           "title": {
            "standoff": 15
           },
           "zerolinecolor": "white",
           "zerolinewidth": 2
          }
         }
        },
        "title": {
         "text": "max_drawdown=-5.75% sharpe_ratio= 0.4612 mean_rate_of_return= 7.7682% cost= 0.0409"
        },
        "xaxis": {
         "title": {
          "text": "Date"
         }
        },
        "yaxis": {
         "title": {
          "text": "Normalized value"
         }
        }
       }
      }
     },
     "metadata": {},
     "output_type": "display_data"
    },
    {
     "data": {
      "application/vnd.plotly.v1+json": {
       "config": {
        "plotlyServerURL": "https://plot.ly"
       },
       "data": [
        {
         "customdata": [
          [
           "CASH"
          ],
          [
           "AC SPOLKA AKCYJNA"
          ],
          [
           "ALUMETAL SPOLKA AKCYJNA"
          ],
          [
           "APLISENS SPOLKA AKCYJNA"
          ],
          [
           "ARCHICOM SPOLKA AKCYJNA"
          ],
          [
           "ARCTIC PAPER SPOLKA AKCYJNA"
          ],
          [
           "ARTERIA SPOLKA AKCYJNA"
          ],
          [
           "AS SILVANO FASHION GROUP"
          ],
          [
           "ASSECO BUSINESS SOLUTIONS SPOLKA AKCYJNA"
          ],
          [
           "ASSECO POLAND SPOLKA AKCYJNA"
          ],
          [
           "ASSECO SOUTH EASTERN EUROPE SPOLKA AKCYJNA"
          ],
          [
           "ATLANTA POLAND SPOLKA AKCYJNA"
          ],
          [
           "BBI DEVELOPMENT SPOLKA AKCYJNA"
          ],
          [
           "BETACOM SPOLKA AKCYJNA"
          ],
          [
           "BORYSZEW SPOLKA AKCYJNA"
          ],
          [
           "BOWIM SPOLKA AKCYJNA"
          ],
          [
           "BUMECH SPOLKA AKCYJNA"
          ],
          [
           "CCC SPOLKA AKCYJNA"
          ],
          [
           "CD PROJEKT SPOLKA AKCYJNA"
          ],
          [
           "CENTRUM MEDYCZNE ENEL-MED SPOLKA AKCYJNA"
          ],
          [
           "CENTRUM NOWOCZESNYCH TECHNOLOGII SPOLKA AKCYJNA"
          ],
          [
           "CIECH SPOLKA AKCYJNA"
          ],
          [
           "COMP SPOLKA AKCYJNA"
          ],
          [
           "CYFROWY POLSAT SPOLKA AKCYJNA"
          ],
          [
           "DIGITAL NETWORK SPOLKA AKCYJNA"
          ],
          [
           "DINO POLSKA SPOLKA AKCYJNA"
          ],
          [
           "DROZAPOL-PROFIL SPOLKA AKCYJNA"
          ],
          [
           "ERG SPOLKA AKCYJNA"
          ],
          [
           "FERRUM SPOLKA AKCYJNA"
          ],
          [
           "FIRMA OPONIARSKA DĘBICA SPOLKA AKCYJNA"
          ],
          [
           "GETIN HOLDING SPOLKA AKCYJNA"
          ],
          [
           "GI GROUP POLAND SPOLKA AKCYJNA"
          ],
          [
           "GIELDA PAPIEROW WARTOŚCIOWYCH W WARSZAWIE SPOLKA AKCYJNA"
          ],
          [
           "GLOBE TRADE CENTRE SPOLKA AKCYJNA"
          ],
          [
           "GRUPA AZOTY SPOLKA AKCYJNA"
          ],
          [
           "GRUPA AZOTY ZAKLADY CHEMICZNE POLICE SPOLKA AKCYJNA"
          ],
          [
           "GRUPA KAPITALOWA IMMOBILE SPOLKA AKCYJNA"
          ],
          [
           "GRUPA KĘTY SPOLKA AKCYJNA"
          ],
          [
           "IFIRMA SPOLKA AKCYJNA"
          ],
          [
           "IMMOFINANZ AG"
          ],
          [
           "INDUSTRIAL MILK COMPANY S.A."
          ],
          [
           "INSTAL KRAKOW SPOLKA AKCYJNA"
          ],
          [
           "INVISTA SPOLKA AKCYJNA"
          ],
          [
           "JASTRZĘBSKA SPOLKA WĘGLOWA SPOLKA AKCYJNA"
          ],
          [
           "KGHM POLSKA MIEDŹ SPOLKA AKCYJNA"
          ],
          [
           "KOSZALIŃSKIE PRZEDSIĘBIORSTWO PRZEMYSLU DRZEWNEGO SPOLKA AKCYJNA"
          ],
          [
           "KRKA. TOVARNA ZDRAVIL. D.D.. NOVO MESTO"
          ],
          [
           "LENA LIGHTING SPOLKA AKCYJNA"
          ],
          [
           "LIBET SPOLKA AKCYJNA"
          ],
          [
           "LUBAWA SPOLKA AKCYJNA"
          ],
          [
           "MARIE BRIZARD WINE & SPIRITS"
          ],
          [
           "MENNICA POLSKA SPOLKA AKCYJNA"
          ],
          [
           "MLP GROUP SPOLKA AKCYJNA"
          ],
          [
           "MOJ SPOLKA AKCYJNA"
          ],
          [
           "OEX SPOLKA AKCYJNA"
          ],
          [
           "ORANGE POLSKA SPOLKA AKCYJNA"
          ],
          [
           "OT LOGISTICS SPOLKA AKCYJNA"
          ],
          [
           "OVOSTAR UNION N.V."
          ],
          [
           "PCC ROKITA SPOLKA AKCYJNA"
          ],
          [
           "PGF POLSKA GRUPA FOTOWOLTAICZNA SPOLKA AKCYJNA"
          ],
          [
           "PLAZA CENTERS N.V."
          ],
          [
           "PMPG POLSKIE MEDIA SPOLKA AKCYJNA"
          ],
          [
           "POLSKI KONCERN NAFTOWY ORLEN SPOLKA AKCYJNA"
          ],
          [
           "POLSKIE GORNICTWO NAFTOWE I GAZOWNICTWO SPOLKA AKCYJNA"
          ],
          [
           "PROCHEM SPOLKA AKCYJNA"
          ],
          [
           "PROJPRZEM MAKRUM SPOLKA AKCYJNA"
          ],
          [
           "PROTEKTOR SPOLKA AKCYJNA"
          ],
          [
           "PRZEDSIĘBIORSTWO HYDRAULIKI SILOWEJ HYDROTOR S.A."
          ],
          [
           "SILVAIR, INC."
          ],
          [
           "SOHO DEVELOPMENT SPOLKA AKCYJNA"
          ],
          [
           "SOPHARMA AD"
          ],
          [
           "STALEXPORT AUTOSTRADY SPOLKA AKCYJNA"
          ],
          [
           "SUNEX SPOLKA AKCYJNA"
          ],
          [
           "SUWARY SPOLKA AKCYJNA"
          ],
          [
           "SYGNITY SPOLKA AKCYJNA"
          ],
          [
           "TALEX SPOLKA AKCYJNA"
          ],
          [
           "TATRY MOUNTAIN RESORTS. A.S."
          ],
          [
           "TAURON POLSKA ENERGIA SPOLKA AKCYJNA"
          ],
          [
           "TORPOL SPOLKA AKCYJNA"
          ],
          [
           "TRANS POLONIA SPOLKA AKCYJNA"
          ],
          [
           "VISTULA RETAIL GROUP SPOLKA AKCYJNA"
          ],
          [
           "VOTUM SPOLKA AKCYJNA"
          ],
          [
           "WIKANA SPOLKA AKCYJNA"
          ],
          [
           "WITTCHEN SPOLKA AKCYJNA"
          ],
          [
           "ZAKLAD BUDOWY MASZYN ZREMB-CHOJNICE SPOLKA AKCYJNA"
          ],
          [
           "ZPUE SPOLKA AKCYJNA"
          ],
          [
           "ČEZ. A.S."
          ]
         ],
         "domain": {
          "x": [
           0,
           1
          ],
          "y": [
           0,
           1
          ]
         },
         "hole": 0.3,
         "hovertemplate": "Asset names=%{label}<br>Weigths=%{value}<br>full_names=%{customdata[0]}<extra></extra>",
         "labels": [
          "CASH",
          "AC SP",
          "ALUME",
          "APLIS",
          "ARCHI",
          "ARCTI",
          "ARTER",
          "AS SI",
          "ASSEC",
          "ASSEC",
          "ASSEC",
          "ATLAN",
          "BBI D",
          "BETAC",
          "BORYS",
          "BOWIM",
          "BUMEC",
          "CCC S",
          "CD PR",
          "CENTR",
          "CENTR",
          "CIECH",
          "COMP ",
          "CYFRO",
          "DIGIT",
          "DINO ",
          "DROZA",
          "ERG S",
          "FERRU",
          "FIRMA",
          "GETIN",
          "GI GR",
          "GIELD",
          "GLOBE",
          "GRUPA",
          "GRUPA",
          "GRUPA",
          "GRUPA",
          "IFIRM",
          "IMMOF",
          "INDUS",
          "INSTA",
          "INVIS",
          "JASTR",
          "KGHM ",
          "KOSZA",
          "KRKA.",
          "LENA ",
          "LIBET",
          "LUBAW",
          "MARIE",
          "MENNI",
          "MLP G",
          "MOJ S",
          "OEX S",
          "ORANG",
          "OT LO",
          "OVOST",
          "PCC R",
          "PGF P",
          "PLAZA",
          "PMPG ",
          "POLSK",
          "POLSK",
          "PROCH",
          "PROJP",
          "PROTE",
          "PRZED",
          "SILVA",
          "SOHO ",
          "SOPHA",
          "STALE",
          "SUNEX",
          "SUWAR",
          "SYGNI",
          "TALEX",
          "TATRY",
          "TAURO",
          "TORPO",
          "TRANS",
          "VISTU",
          "VOTUM",
          "WIKAN",
          "WITTC",
          "ZAKLA",
          "ZPUE ",
          "ČEZ. "
         ],
         "legendgroup": "",
         "name": "",
         "showlegend": true,
         "textinfo": "percent+label",
         "textposition": "inside",
         "type": "pie",
         "values": [
          0.014620143920183182,
          0,
          0,
          0.05911080539226532,
          0.0795731469988823,
          0,
          0.009658762253820896,
          0.021772192791104317,
          0,
          0,
          0,
          0.03720569610595703,
          0,
          0,
          0.032954342663288116,
          0.015430712141096592,
          0,
          0.005710483994334936,
          0.0012621276546269655,
          0.045292750000953674,
          0,
          0.0016220456454902887,
          0.03928423672914505,
          0.0071773589588701725,
          0.0017472574254497886,
          0,
          0,
          0.03145599737763405,
          0,
          0.001327198464423418,
          0,
          0,
          0,
          0.02584974467754364,
          0,
          0.009260334074497223,
          0.036072347313165665,
          0,
          0.010874629020690918,
          0.014977116137742996,
          0.005759763531386852,
          0.02484373189508915,
          0.01677248626947403,
          0,
          0.0379469208419323,
          0.0005132717778906226,
          0.018818464130163193,
          0.053088732063770294,
          0,
          0.014435477554798126,
          0.007406967226415873,
          0.005230190698057413,
          0,
          0,
          0,
          0,
          0.05392031744122505,
          0,
          0.0003861922596115619,
          0.021971337497234344,
          0.028804801404476166,
          0.00016140313528012484,
          0,
          0.03850226849317551,
          0.031915150582790375,
          0.0005403013783507049,
          0.02027251571416855,
          0.010404975153505802,
          0,
          0.027817416936159134,
          0.0012863741721957922,
          0,
          0,
          0.009432722814381123,
          0,
          0,
          0,
          0.012028620578348637,
          0,
          0,
          0.01881098374724388,
          0,
          0.012862217612564564,
          0,
          0.023426109924912453,
          0,
          0.0004009489493910223
         ]
        }
       ],
       "layout": {
        "height": 1000,
        "legend": {
         "tracegroupgap": 0
        },
        "template": {
         "data": {
          "bar": [
           {
            "error_x": {
             "color": "#2a3f5f"
            },
            "error_y": {
             "color": "#2a3f5f"
            },
            "marker": {
             "line": {
              "color": "#E5ECF6",
              "width": 0.5
             },
             "pattern": {
              "fillmode": "overlay",
              "size": 10,
              "solidity": 0.2
             }
            },
            "type": "bar"
           }
          ],
          "barpolar": [
           {
            "marker": {
             "line": {
              "color": "#E5ECF6",
              "width": 0.5
             },
             "pattern": {
              "fillmode": "overlay",
              "size": 10,
              "solidity": 0.2
             }
            },
            "type": "barpolar"
           }
          ],
          "carpet": [
           {
            "aaxis": {
             "endlinecolor": "#2a3f5f",
             "gridcolor": "white",
             "linecolor": "white",
             "minorgridcolor": "white",
             "startlinecolor": "#2a3f5f"
            },
            "baxis": {
             "endlinecolor": "#2a3f5f",
             "gridcolor": "white",
             "linecolor": "white",
             "minorgridcolor": "white",
             "startlinecolor": "#2a3f5f"
            },
            "type": "carpet"
           }
          ],
          "choropleth": [
           {
            "colorbar": {
             "outlinewidth": 0,
             "ticks": ""
            },
            "type": "choropleth"
           }
          ],
          "contour": [
           {
            "colorbar": {
             "outlinewidth": 0,
             "ticks": ""
            },
            "colorscale": [
             [
              0,
              "#0d0887"
             ],
             [
              0.1111111111111111,
              "#46039f"
             ],
             [
              0.2222222222222222,
              "#7201a8"
             ],
             [
              0.3333333333333333,
              "#9c179e"
             ],
             [
              0.4444444444444444,
              "#bd3786"
             ],
             [
              0.5555555555555556,
              "#d8576b"
             ],
             [
              0.6666666666666666,
              "#ed7953"
             ],
             [
              0.7777777777777778,
              "#fb9f3a"
             ],
             [
              0.8888888888888888,
              "#fdca26"
             ],
             [
              1,
              "#f0f921"
             ]
            ],
            "type": "contour"
           }
          ],
          "contourcarpet": [
           {
            "colorbar": {
             "outlinewidth": 0,
             "ticks": ""
            },
            "type": "contourcarpet"
           }
          ],
          "heatmap": [
           {
            "colorbar": {
             "outlinewidth": 0,
             "ticks": ""
            },
            "colorscale": [
             [
              0,
              "#0d0887"
             ],
             [
              0.1111111111111111,
              "#46039f"
             ],
             [
              0.2222222222222222,
              "#7201a8"
             ],
             [
              0.3333333333333333,
              "#9c179e"
             ],
             [
              0.4444444444444444,
              "#bd3786"
             ],
             [
              0.5555555555555556,
              "#d8576b"
             ],
             [
              0.6666666666666666,
              "#ed7953"
             ],
             [
              0.7777777777777778,
              "#fb9f3a"
             ],
             [
              0.8888888888888888,
              "#fdca26"
             ],
             [
              1,
              "#f0f921"
             ]
            ],
            "type": "heatmap"
           }
          ],
          "heatmapgl": [
           {
            "colorbar": {
             "outlinewidth": 0,
             "ticks": ""
            },
            "colorscale": [
             [
              0,
              "#0d0887"
             ],
             [
              0.1111111111111111,
              "#46039f"
             ],
             [
              0.2222222222222222,
              "#7201a8"
             ],
             [
              0.3333333333333333,
              "#9c179e"
             ],
             [
              0.4444444444444444,
              "#bd3786"
             ],
             [
              0.5555555555555556,
              "#d8576b"
             ],
             [
              0.6666666666666666,
              "#ed7953"
             ],
             [
              0.7777777777777778,
              "#fb9f3a"
             ],
             [
              0.8888888888888888,
              "#fdca26"
             ],
             [
              1,
              "#f0f921"
             ]
            ],
            "type": "heatmapgl"
           }
          ],
          "histogram": [
           {
            "marker": {
             "pattern": {
              "fillmode": "overlay",
              "size": 10,
              "solidity": 0.2
             }
            },
            "type": "histogram"
           }
          ],
          "histogram2d": [
           {
            "colorbar": {
             "outlinewidth": 0,
             "ticks": ""
            },
            "colorscale": [
             [
              0,
              "#0d0887"
             ],
             [
              0.1111111111111111,
              "#46039f"
             ],
             [
              0.2222222222222222,
              "#7201a8"
             ],
             [
              0.3333333333333333,
              "#9c179e"
             ],
             [
              0.4444444444444444,
              "#bd3786"
             ],
             [
              0.5555555555555556,
              "#d8576b"
             ],
             [
              0.6666666666666666,
              "#ed7953"
             ],
             [
              0.7777777777777778,
              "#fb9f3a"
             ],
             [
              0.8888888888888888,
              "#fdca26"
             ],
             [
              1,
              "#f0f921"
             ]
            ],
            "type": "histogram2d"
           }
          ],
          "histogram2dcontour": [
           {
            "colorbar": {
             "outlinewidth": 0,
             "ticks": ""
            },
            "colorscale": [
             [
              0,
              "#0d0887"
             ],
             [
              0.1111111111111111,
              "#46039f"
             ],
             [
              0.2222222222222222,
              "#7201a8"
             ],
             [
              0.3333333333333333,
              "#9c179e"
             ],
             [
              0.4444444444444444,
              "#bd3786"
             ],
             [
              0.5555555555555556,
              "#d8576b"
             ],
             [
              0.6666666666666666,
              "#ed7953"
             ],
             [
              0.7777777777777778,
              "#fb9f3a"
             ],
             [
              0.8888888888888888,
              "#fdca26"
             ],
             [
              1,
              "#f0f921"
             ]
            ],
            "type": "histogram2dcontour"
           }
          ],
          "mesh3d": [
           {
            "colorbar": {
             "outlinewidth": 0,
             "ticks": ""
            },
            "type": "mesh3d"
           }
          ],
          "parcoords": [
           {
            "line": {
             "colorbar": {
              "outlinewidth": 0,
              "ticks": ""
             }
            },
            "type": "parcoords"
           }
          ],
          "pie": [
           {
            "automargin": true,
            "type": "pie"
           }
          ],
          "scatter": [
           {
            "marker": {
             "colorbar": {
              "outlinewidth": 0,
              "ticks": ""
             }
            },
            "type": "scatter"
           }
          ],
          "scatter3d": [
           {
            "line": {
             "colorbar": {
              "outlinewidth": 0,
              "ticks": ""
             }
            },
            "marker": {
             "colorbar": {
              "outlinewidth": 0,
              "ticks": ""
             }
            },
            "type": "scatter3d"
           }
          ],
          "scattercarpet": [
           {
            "marker": {
             "colorbar": {
              "outlinewidth": 0,
              "ticks": ""
             }
            },
            "type": "scattercarpet"
           }
          ],
          "scattergeo": [
           {
            "marker": {
             "colorbar": {
              "outlinewidth": 0,
              "ticks": ""
             }
            },
            "type": "scattergeo"
           }
          ],
          "scattergl": [
           {
            "marker": {
             "colorbar": {
              "outlinewidth": 0,
              "ticks": ""
             }
            },
            "type": "scattergl"
           }
          ],
          "scattermapbox": [
           {
            "marker": {
             "colorbar": {
              "outlinewidth": 0,
              "ticks": ""
             }
            },
            "type": "scattermapbox"
           }
          ],
          "scatterpolar": [
           {
            "marker": {
             "colorbar": {
              "outlinewidth": 0,
              "ticks": ""
             }
            },
            "type": "scatterpolar"
           }
          ],
          "scatterpolargl": [
           {
            "marker": {
             "colorbar": {
              "outlinewidth": 0,
              "ticks": ""
             }
            },
            "type": "scatterpolargl"
           }
          ],
          "scatterternary": [
           {
            "marker": {
             "colorbar": {
              "outlinewidth": 0,
              "ticks": ""
             }
            },
            "type": "scatterternary"
           }
          ],
          "surface": [
           {
            "colorbar": {
             "outlinewidth": 0,
             "ticks": ""
            },
            "colorscale": [
             [
              0,
              "#0d0887"
             ],
             [
              0.1111111111111111,
              "#46039f"
             ],
             [
              0.2222222222222222,
              "#7201a8"
             ],
             [
              0.3333333333333333,
              "#9c179e"
             ],
             [
              0.4444444444444444,
              "#bd3786"
             ],
             [
              0.5555555555555556,
              "#d8576b"
             ],
             [
              0.6666666666666666,
              "#ed7953"
             ],
             [
              0.7777777777777778,
              "#fb9f3a"
             ],
             [
              0.8888888888888888,
              "#fdca26"
             ],
             [
              1,
              "#f0f921"
             ]
            ],
            "type": "surface"
           }
          ],
          "table": [
           {
            "cells": {
             "fill": {
              "color": "#EBF0F8"
             },
             "line": {
              "color": "white"
             }
            },
            "header": {
             "fill": {
              "color": "#C8D4E3"
             },
             "line": {
              "color": "white"
             }
            },
            "type": "table"
           }
          ]
         },
         "layout": {
          "annotationdefaults": {
           "arrowcolor": "#2a3f5f",
           "arrowhead": 0,
           "arrowwidth": 1
          },
          "autotypenumbers": "strict",
          "coloraxis": {
           "colorbar": {
            "outlinewidth": 0,
            "ticks": ""
           }
          },
          "colorscale": {
           "diverging": [
            [
             0,
             "#8e0152"
            ],
            [
             0.1,
             "#c51b7d"
            ],
            [
             0.2,
             "#de77ae"
            ],
            [
             0.3,
             "#f1b6da"
            ],
            [
             0.4,
             "#fde0ef"
            ],
            [
             0.5,
             "#f7f7f7"
            ],
            [
             0.6,
             "#e6f5d0"
            ],
            [
             0.7,
             "#b8e186"
            ],
            [
             0.8,
             "#7fbc41"
            ],
            [
             0.9,
             "#4d9221"
            ],
            [
             1,
             "#276419"
            ]
           ],
           "sequential": [
            [
             0,
             "#0d0887"
            ],
            [
             0.1111111111111111,
             "#46039f"
            ],
            [
             0.2222222222222222,
             "#7201a8"
            ],
            [
             0.3333333333333333,
             "#9c179e"
            ],
            [
             0.4444444444444444,
             "#bd3786"
            ],
            [
             0.5555555555555556,
             "#d8576b"
            ],
            [
             0.6666666666666666,
             "#ed7953"
            ],
            [
             0.7777777777777778,
             "#fb9f3a"
            ],
            [
             0.8888888888888888,
             "#fdca26"
            ],
            [
             1,
             "#f0f921"
            ]
           ],
           "sequentialminus": [
            [
             0,
             "#0d0887"
            ],
            [
             0.1111111111111111,
             "#46039f"
            ],
            [
             0.2222222222222222,
             "#7201a8"
            ],
            [
             0.3333333333333333,
             "#9c179e"
            ],
            [
             0.4444444444444444,
             "#bd3786"
            ],
            [
             0.5555555555555556,
             "#d8576b"
            ],
            [
             0.6666666666666666,
             "#ed7953"
            ],
            [
             0.7777777777777778,
             "#fb9f3a"
            ],
            [
             0.8888888888888888,
             "#fdca26"
            ],
            [
             1,
             "#f0f921"
            ]
           ]
          },
          "colorway": [
           "#636efa",
           "#EF553B",
           "#00cc96",
           "#ab63fa",
           "#FFA15A",
           "#19d3f3",
           "#FF6692",
           "#B6E880",
           "#FF97FF",
           "#FECB52"
          ],
          "font": {
           "color": "#2a3f5f"
          },
          "geo": {
           "bgcolor": "white",
           "lakecolor": "white",
           "landcolor": "#E5ECF6",
           "showlakes": true,
           "showland": true,
           "subunitcolor": "white"
          },
          "hoverlabel": {
           "align": "left"
          },
          "hovermode": "closest",
          "mapbox": {
           "style": "light"
          },
          "paper_bgcolor": "white",
          "plot_bgcolor": "#E5ECF6",
          "polar": {
           "angularaxis": {
            "gridcolor": "white",
            "linecolor": "white",
            "ticks": ""
           },
           "bgcolor": "#E5ECF6",
           "radialaxis": {
            "gridcolor": "white",
            "linecolor": "white",
            "ticks": ""
           }
          },
          "scene": {
           "xaxis": {
            "backgroundcolor": "#E5ECF6",
            "gridcolor": "white",
            "gridwidth": 2,
            "linecolor": "white",
            "showbackground": true,
            "ticks": "",
            "zerolinecolor": "white"
           },
           "yaxis": {
            "backgroundcolor": "#E5ECF6",
            "gridcolor": "white",
            "gridwidth": 2,
            "linecolor": "white",
            "showbackground": true,
            "ticks": "",
            "zerolinecolor": "white"
           },
           "zaxis": {
            "backgroundcolor": "#E5ECF6",
            "gridcolor": "white",
            "gridwidth": 2,
            "linecolor": "white",
            "showbackground": true,
            "ticks": "",
            "zerolinecolor": "white"
           }
          },
          "shapedefaults": {
           "line": {
            "color": "#2a3f5f"
           }
          },
          "ternary": {
           "aaxis": {
            "gridcolor": "white",
            "linecolor": "white",
            "ticks": ""
           },
           "baxis": {
            "gridcolor": "white",
            "linecolor": "white",
            "ticks": ""
           },
           "bgcolor": "#E5ECF6",
           "caxis": {
            "gridcolor": "white",
            "linecolor": "white",
            "ticks": ""
           }
          },
          "title": {
           "x": 0.05
          },
          "xaxis": {
           "automargin": true,
           "gridcolor": "white",
           "linecolor": "white",
           "ticks": "",
           "title": {
            "standoff": 15
           },
           "zerolinecolor": "white",
           "zerolinewidth": 2
          },
          "yaxis": {
           "automargin": true,
           "gridcolor": "white",
           "linecolor": "white",
           "ticks": "",
           "title": {
            "standoff": 15
           },
           "zerolinecolor": "white",
           "zerolinewidth": 2
          }
         }
        },
        "title": {
         "text": "Asset Allocation Weights"
        },
        "width": 1000
       }
      }
     },
     "metadata": {},
     "output_type": "display_data"
    },
    {
     "data": {
      "text/plain": [
       "<Figure size 828x432 with 0 Axes>"
      ]
     },
     "metadata": {},
     "output_type": "display_data"
    },
    {
     "data": {
      "image/png": "[encoded data removed]",
      "text/plain": [
       "<Figure size 1440x576 with 1 Axes>"
      ]
     },
     "metadata": {},
     "output_type": "display_data"
    }
   ],
   "source": [
    "from torch.utils.tensorboard import SummaryWriter\n",
    "from datetime import datetime\n",
    "import psutil\n",
    "\n",
    "T.backends.cudnn.benchmark = True\n",
    "\n",
    "def weight_histograms_conv2d(writer, step, weights, layer_number):\n",
    "  weights_shape = weights.shape\n",
    "  num_kernels = weights_shape[0]\n",
    "  for k in range(num_kernels):\n",
    "    flattened_weights = weights[k].flatten()\n",
    "    tag = f\"layer_{layer_number}/kernel_{k}\"\n",
    "    writer.add_histogram(tag, flattened_weights, global_step=step, bins='tensorflow')\n",
    "\n",
    "\n",
    "def weight_histograms_linear(writer, step, weights, layer_number):\n",
    "  flattened_weights = weights.flatten()\n",
    "  tag = f\"layer_{layer_number}\"\n",
    "  writer.add_histogram(tag, flattened_weights, global_step=step, bins='tensorflow')\n",
    "\n",
    "\n",
    "def weight_histograms(writer, step, model):\n",
    "  print(\"Visualizing model weights...\")\n",
    "  # Iterate over all model layers\n",
    "  i=1\n",
    "  for layer in model.children():\n",
    "    # Get layer\n",
    "    # Compute weight histograms for appropriate layer\n",
    "    if isinstance(layer, nn.Conv2d):\n",
    "      weights = layer.weight\n",
    "      weight_histograms_conv2d(writer, step, weights, i)\n",
    "    elif isinstance(layer, nn.Linear):\n",
    "      weights = layer.weight\n",
    "      weight_histograms_linear(writer, step, weights, i)\n",
    "      i+=1\n",
    "\n",
    "state = env2.reset()\n",
    "observation, reward, done, info = env2.step(state[\"weights\"])\n",
    "\n",
    "agent = Agent(alpha=0.001, \n",
    "              beta=0.001,\n",
    "              state_dim = observation[\"history\"].shape,\n",
    "              action_dim= env2.action_space,\n",
    "              tau=0.001,\n",
    "              max_size=5000,\n",
    "              batch_size=64,\n",
    "              l1_lambda=0.005)\n",
    "\n",
    "np.random.seed(5)\n",
    "\n",
    "writer = SummaryWriter()\n",
    "score_history = []\n",
    "\n",
    "r = []\n",
    "s = []\n",
    "step_ = 0\n",
    "\n",
    "#agent.load_models()\n",
    "%load_ext tensorboard\n",
    "%tensorboard --logdir runs\n",
    "\n",
    "learning_steps = 0\n",
    "for i in range(200):\n",
    "    done = False\n",
    "    score = 0\n",
    "    obs = env2.reset()\n",
    "    obs = obs[\"history\"]\n",
    "    while not done:\n",
    "        act = agent.choose_action(obs)\n",
    "        act = np.clip(act, 0, 1)\n",
    "        act /= act.sum()\n",
    "        act = act.reshape(-1)\n",
    "        new_state, reward, done, info = env2.step(act)\n",
    "        agent.remember(obs, act, reward, new_state, int(done))\n",
    "        agent.learn()\n",
    "        score += reward\n",
    "        obs = new_state[\"history\"]\n",
    "        learning_steps+=1\n",
    "\n",
    "    step_ += 1\n",
    "    r.append(reward)     \n",
    "    s.append(step_)\n",
    "    writer.add_scalar(\"Reward\" , np.mean(score_history[-100:]), global_step=step_) \n",
    "        \n",
    "    score_history.append(score)\n",
    "    print(f\"episode: {i+1}, score: {round(score,6)}, 100 games acg: {np.mean(score_history[-100:])} learning steps:{learning_steps}\")\n",
    "    \n",
    "    if i %10 ==0 and i!=0:\n",
    "        agent.save_model()\n",
    "        print(f\"% of memory used: {psutil.virtual_memory().percent}%\")\n",
    "        print(f\"% of available memory: {psutil.virtual_memory().available * 100 / psutil.virtual_memory().total}\")   \n",
    "        \n",
    "weight_histograms(writer, step_, agent.actor)      \n",
    "\n",
    "writer.close()\n",
    " \n",
    "env2.render('ansi')\n",
    "plt.figure(figsize=(20,8))\n",
    "plt.xlabel(\"STEP\")\n",
    "plt.ylabel(\"Normalized reward\")\n",
    "plt.plot(s,r)\n",
    "plt.title(\"Results\")\n",
    "plt.show()\n",
    "\n",
    "#%load_ext tensorboard\n",
    "#%reload_ext tensorboard\n",
    "\n",
    "\n"
   ]
  },
  {
   "cell_type": "code",
   "execution_count": 116,
   "metadata": {},
   "outputs": [
    {
     "name": "stdout",
     "output_type": "stream",
     "text": [
      "{'cost': 3.612604230271971e-06,\n",
      " 'date': Timestamp('2022-09-08 00:00:00'),\n",
      " 'log_return': 0.00556098835155162,\n",
      " 'market_return': 1.0058978763847708,\n",
      " 'market_value': 1.2900775045647093,\n",
      " 'portfolio_value': 1.3004769475551021,\n",
      " 'price_AC SPOLKA AKCYJNA': 0.9824519337913356,\n",
      " 'price_ALUMETAL SPOLKA AKCYJNA': 1.0000129359546317,\n",
      " 'price_APLISENS SPOLKA AKCYJNA': 1.0000157876680977,\n",
      " 'price_ARCHICOM SPOLKA AKCYJNA': 1.005499943369214,\n",
      " 'price_ARCTIC PAPER SPOLKA AKCYJNA': 1.0759246127057889,\n",
      " 'price_ARTERIA SPOLKA AKCYJNA': 0.9708593227700743,\n",
      " 'price_AS SILVANO FASHION GROUP': 0.9813358244347009,\n",
      " 'price_ASSECO BUSINESS SOLUTIONS SPOLKA AKCYJNA': 1.0081096661852509,\n",
      " 'price_ASSECO POLAND SPOLKA AKCYJNA': 0.9916198997997938,\n",
      " 'price_ASSECO SOUTH EASTERN EUROPE SPOLKA AKCYJNA': 1.02423298288962,\n",
      " 'price_ATLANTA POLAND SPOLKA AKCYJNA': 1.0338808025487938,\n",
      " 'price_BBI DEVELOPMENT SPOLKA AKCYJNA': 0.9556056613985293,\n",
      " 'price_BETACOM SPOLKA AKCYJNA': 1.040148140823559,\n",
      " 'price_BORYSZEW SPOLKA AKCYJNA': 0.9995810339725764,\n",
      " 'price_BOWIM SPOLKA AKCYJNA': 1.0078333516093134,\n",
      " 'price_BUMECH SPOLKA AKCYJNA': 1.0062579289191615,\n",
      " 'price_CASH': 1.0,\n",
      " 'price_CCC SPOLKA AKCYJNA': 1.0490525140441054,\n",
      " 'price_CD PROJEKT SPOLKA AKCYJNA': 1.054177800555748,\n",
      " 'price_CENTRUM MEDYCZNE ENEL-MED SPOLKA AKCYJNA': 0.9999842518529924,\n",
      " 'price_CENTRUM NOWOCZESNYCH TECHNOLOGII SPOLKA AKCYJNA': 1.0001661156210784,\n",
      " 'price_CIECH SPOLKA AKCYJNA': 1.0117965299443454,\n",
      " 'price_COMP SPOLKA AKCYJNA': 0.9999944780511172,\n",
      " 'price_CYFROWY POLSAT SPOLKA AKCYJNA': 1.0322509463344645,\n",
      " 'price_DIGITAL NETWORK SPOLKA AKCYJNA': 0.999712060349948,\n",
      " 'price_DINO POLSKA SPOLKA AKCYJNA': 0.9955879593795286,\n",
      " 'price_DROZAPOL-PROFIL SPOLKA AKCYJNA': 0.9835124729360823,\n",
      " 'price_ERG SPOLKA AKCYJNA': 0.9999707966177179,\n",
      " 'price_FERRUM SPOLKA AKCYJNA': 1.0001751848907217,\n",
      " 'price_FIRMA OPONIARSKA DĘBICA SPOLKA AKCYJNA': 1.0033226462748928,\n",
      " 'price_GETIN HOLDING SPOLKA AKCYJNA': 0.9967982358848331,\n",
      " 'price_GI GROUP POLAND SPOLKA AKCYJNA': 1.005682297400424,\n",
      " 'price_GIELDA PAPIEROW WARTOŚCIOWYCH W WARSZAWIE SPOLKA AKCYJNA': 1.000543558853025,\n",
      " 'price_GLOBE TRADE CENTRE SPOLKA AKCYJNA': 0.9972108890862524,\n",
      " 'price_GRUPA AZOTY SPOLKA AKCYJNA': 0.9830051582813817,\n",
      " 'price_GRUPA AZOTY ZAKLADY CHEMICZNE POLICE SPOLKA AKCYJNA': 0.9950640923480091,\n",
      " 'price_GRUPA KAPITALOWA IMMOBILE SPOLKA AKCYJNA': 1.003421159339706,\n",
      " 'price_GRUPA KĘTY SPOLKA AKCYJNA': 0.9882354415682368,\n",
      " 'price_IFIRMA SPOLKA AKCYJNA': 1.009547930394095,\n",
      " 'price_IMMOFINANZ AG': 1.0000115838940102,\n",
      " 'price_INDUSTRIAL MILK COMPANY S.A.': 1.016265584858886,\n",
      " 'price_INSTAL KRAKOW SPOLKA AKCYJNA': 0.9999237057659847,\n",
      " 'price_INVISTA SPOLKA AKCYJNA': 1.0284795398219282,\n",
      " 'price_JASTRZĘBSKA SPOLKA WĘGLOWA SPOLKA AKCYJNA': 0.990343273788298,\n",
      " 'price_KGHM POLSKA MIEDŹ SPOLKA AKCYJNA': 1.0154156793699365,\n",
      " 'price_KOSZALIŃSKIE PRZEDSIĘBIORSTWO PRZEMYSLU DRZEWNEGO SPOLKA AKCYJNA': 1.01061166879099,\n",
      " 'price_KRKA. TOVARNA ZDRAVIL. D.D.. NOVO MESTO': 0.9910961341520974,\n",
      " 'price_LENA LIGHTING SPOLKA AKCYJNA': 1.0029894186298722,\n",
      " 'price_LIBET SPOLKA AKCYJNA': 0.99944589903724,\n",
      " 'price_LUBAWA SPOLKA AKCYJNA': 0.999218438640726,\n",
      " 'price_MARIE BRIZARD WINE & SPIRITS': 0.9269374369084885,\n",
      " 'price_MENNICA POLSKA SPOLKA AKCYJNA': 1.0001712488396584,\n",
      " 'price_MLP GROUP SPOLKA AKCYJNA': 0.9573832683166293,\n",
      " 'price_MOJ SPOLKA AKCYJNA': 1.00187097584269,\n",
      " 'price_OEX SPOLKA AKCYJNA': 1.015896249548302,\n",
      " 'price_ORANGE POLSKA SPOLKA AKCYJNA': 0.9987032311343934,\n",
      " 'price_OT LOGISTICS SPOLKA AKCYJNA': 1.0530685535008273,\n",
      " 'price_OVOSTAR UNION N.V.': 0.9999673883495037,\n",
      " 'price_PCC ROKITA SPOLKA AKCYJNA': 1.0318522966195434,\n",
      " 'price_PGF POLSKA GRUPA FOTOWOLTAICZNA SPOLKA AKCYJNA': 1.0911427432107026,\n",
      " 'price_PLAZA CENTERS N.V.': 1.0503072232890425,\n",
      " 'price_PMPG POLSKIE MEDIA SPOLKA AKCYJNA': 1.0139634227862673,\n",
      " 'price_POLSKI KONCERN NAFTOWY ORLEN SPOLKA AKCYJNA': 0.9541931099199957,\n",
      " 'price_POLSKIE GORNICTWO NAFTOWE I GAZOWNICTWO SPOLKA AKCYJNA': 0.95277025782052,\n",
      " 'price_PROCHEM SPOLKA AKCYJNA': 1.0350881907688252,\n",
      " 'price_PROJPRZEM MAKRUM SPOLKA AKCYJNA': 0.9625189383100365,\n",
      " 'price_PROTEKTOR SPOLKA AKCYJNA': 1.0040250761502112,\n",
      " 'price_PRZEDSIĘBIORSTWO HYDRAULIKI SILOWEJ HYDROTOR S.A.': 0.9639787439809532,\n",
      " 'price_SILVAIR, INC.': 1.0334089898608494,\n",
      " 'price_SOHO DEVELOPMENT SPOLKA AKCYJNA': 1.0052786039358736,\n",
      " 'price_SOPHARMA AD': 1.073402495212737,\n",
      " 'price_STALEXPORT AUTOSTRADY SPOLKA AKCYJNA': 1.0089749977278195,\n",
      " 'price_SUNEX SPOLKA AKCYJNA': 1.0458301940982326,\n",
      " 'price_SUWARY SPOLKA AKCYJNA': 0.9806982906313416,\n",
      " 'price_SYGNITY SPOLKA AKCYJNA': 0.98209318016797,\n",
      " 'price_TALEX SPOLKA AKCYJNA': 0.9999559431834699,\n",
      " 'price_TATRY MOUNTAIN RESORTS. A.S.': 1.0274025837271956,\n",
      " 'price_TAURON POLSKA ENERGIA SPOLKA AKCYJNA': 1.0144540355125364,\n",
      " 'price_TORPOL SPOLKA AKCYJNA': 1.0188209042468888,\n",
      " 'price_TRANS POLONIA SPOLKA AKCYJNA': 0.9709978122998373,\n",
      " 'price_VISTULA RETAIL GROUP SPOLKA AKCYJNA': 0.9942177879919645,\n",
      " 'price_VOTUM SPOLKA AKCYJNA': 1.0389716438036205,\n",
      " 'price_WIKANA SPOLKA AKCYJNA': 1.0488604415706828,\n",
      " 'price_WITTCHEN SPOLKA AKCYJNA': 0.9972437072791774,\n",
      " 'price_ZAKLAD BUDOWY MASZYN ZREMB-CHOJNICE SPOLKA AKCYJNA': 1.003283879432466,\n",
      " 'price_ZPUE SPOLKA AKCYJNA': 0.9965151278735175,\n",
      " 'price_ČEZ. A.S.': 1.0124829960231545,\n",
      " 'rate_of_return': 0.005576479392167766,\n",
      " 'reward': 5.5609883515516196e-05,\n",
      " 'steps': 59,\n",
      " 'weight_AC SPOLKA AKCYJNA': 0.0003040029,\n",
      " 'weight_ALUMETAL SPOLKA AKCYJNA': 0.0003944735,\n",
      " 'weight_APLISENS SPOLKA AKCYJNA': 0.0011428138,\n",
      " 'weight_ARCHICOM SPOLKA AKCYJNA': 0.9327341,\n",
      " 'weight_ARCTIC PAPER SPOLKA AKCYJNA': 0.0012053316,\n",
      " 'weight_ARTERIA SPOLKA AKCYJNA': 0.00059846765,\n",
      " 'weight_AS SILVANO FASHION GROUP': 0.00034660738,\n",
      " 'weight_ASSECO BUSINESS SOLUTIONS SPOLKA AKCYJNA': 0.00032247812,\n",
      " 'weight_ASSECO POLAND SPOLKA AKCYJNA': 0.00040910984,\n",
      " 'weight_ASSECO SOUTH EASTERN EUROPE SPOLKA AKCYJNA': 0.00080865016,\n",
      " 'weight_ATLANTA POLAND SPOLKA AKCYJNA': 0.0017971322,\n",
      " 'weight_BBI DEVELOPMENT SPOLKA AKCYJNA': 0.0016742905,\n",
      " 'weight_BETACOM SPOLKA AKCYJNA': 0.00062171114,\n",
      " 'weight_BORYSZEW SPOLKA AKCYJNA': 0.0003462207,\n",
      " 'weight_BOWIM SPOLKA AKCYJNA': 0.00037830166,\n",
      " 'weight_BUMECH SPOLKA AKCYJNA': 0.0004708143,\n",
      " 'weight_CASH': 0.0011019914,\n",
      " 'weight_CCC SPOLKA AKCYJNA': 0.00083905394,\n",
      " 'weight_CD PROJEKT SPOLKA AKCYJNA': 0.0020385736,\n",
      " 'weight_CENTRUM MEDYCZNE ENEL-MED SPOLKA AKCYJNA': 0.0013300397,\n",
      " 'weight_CENTRUM NOWOCZESNYCH TECHNOLOGII SPOLKA AKCYJNA': 0.0006289251,\n",
      " 'weight_CIECH SPOLKA AKCYJNA': 0.00036909027,\n",
      " 'weight_COMP SPOLKA AKCYJNA': 0.00033365985,\n",
      " 'weight_CYFROWY POLSAT SPOLKA AKCYJNA': 0.0004879911,\n",
      " 'weight_DIGITAL NETWORK SPOLKA AKCYJNA': 0.0005308753,\n",
      " 'weight_DINO POLSKA SPOLKA AKCYJNA': 0.0015166826,\n",
      " 'weight_DROZAPOL-PROFIL SPOLKA AKCYJNA': 0.0009323471,\n",
      " 'weight_ERG SPOLKA AKCYJNA': 0.00059230474,\n",
      " 'weight_FERRUM SPOLKA AKCYJNA': 0.00042634513,\n",
      " 'weight_FIRMA OPONIARSKA DĘBICA SPOLKA AKCYJNA': 0.0003228854,\n",
      " 'weight_GETIN HOLDING SPOLKA AKCYJNA': 0.00043248065,\n",
      " 'weight_GI GROUP POLAND SPOLKA AKCYJNA': 0.0007620154,\n",
      " 'weight_GIELDA PAPIEROW WARTOŚCIOWYCH W WARSZAWIE SPOLKA AKCYJNA': 0.0017965223,\n",
      " 'weight_GLOBE TRADE CENTRE SPOLKA AKCYJNA': 0.0013643558,\n",
      " 'weight_GRUPA AZOTY SPOLKA AKCYJNA': 0.00056352105,\n",
      " 'weight_GRUPA AZOTY ZAKLADY CHEMICZNE POLICE SPOLKA AKCYJNA': 0.00033177237,\n",
      " 'weight_GRUPA KAPITALOWA IMMOBILE SPOLKA AKCYJNA': 0.0003504288,\n",
      " 'weight_GRUPA KĘTY SPOLKA AKCYJNA': 0.00045475646,\n",
      " 'weight_IFIRMA SPOLKA AKCYJNA': 0.0009011832,\n",
      " 'weight_IMMOFINANZ AG': 0.0016502575,\n",
      " 'weight_INDUSTRIAL MILK COMPANY S.A.': 0.0011578585,\n",
      " 'weight_INSTAL KRAKOW SPOLKA AKCYJNA': 0.00056679314,\n",
      " 'weight_INVISTA SPOLKA AKCYJNA': 0.00031486226,\n",
      " 'weight_JASTRZĘBSKA SPOLKA WĘGLOWA SPOLKA AKCYJNA': 0.00033401512,\n",
      " 'weight_KGHM POLSKA MIEDŹ SPOLKA AKCYJNA': 0.00045708634,\n",
      " 'weight_KOSZALIŃSKIE PRZEDSIĘBIORSTWO PRZEMYSLU DRZEWNEGO SPOLKA AKCYJNA': 0.00094108726,\n",
      " 'weight_KRKA. TOVARNA ZDRAVIL. D.D.. NOVO MESTO': 0.003151842,\n",
      " 'weight_LENA LIGHTING SPOLKA AKCYJNA': 0.0011067863,\n",
      " 'weight_LIBET SPOLKA AKCYJNA': 0.0006346659,\n",
      " 'weight_LUBAWA SPOLKA AKCYJNA': 0.00025960154,\n",
      " 'weight_MARIE BRIZARD WINE & SPIRITS': 0.00033867368,\n",
      " 'weight_MENNICA POLSKA SPOLKA AKCYJNA': 0.00043911763,\n",
      " 'weight_MLP GROUP SPOLKA AKCYJNA': 0.0010541703,\n",
      " 'weight_MOJ SPOLKA AKCYJNA': 0.0018078268,\n",
      " 'weight_OEX SPOLKA AKCYJNA': 0.0011686431,\n",
      " 'weight_ORANGE POLSKA SPOLKA AKCYJNA': 0.0006473938,\n",
      " 'weight_OT LOGISTICS SPOLKA AKCYJNA': 0.00023497036,\n",
      " 'weight_OVOSTAR UNION N.V.': 0.00031813656,\n",
      " 'weight_PCC ROKITA SPOLKA AKCYJNA': 0.00038333994,\n",
      " 'weight_PGF POLSKA GRUPA FOTOWOLTAICZNA SPOLKA AKCYJNA': 0.00086886645,\n",
      " 'weight_PLAZA CENTERS N.V.': 0.0011951193,\n",
      " 'weight_PMPG POLSKIE MEDIA SPOLKA AKCYJNA': 0.0010181501,\n",
      " 'weight_POLSKI KONCERN NAFTOWY ORLEN SPOLKA AKCYJNA': 0.00072777335,\n",
      " 'weight_POLSKIE GORNICTWO NAFTOWE I GAZOWNICTWO SPOLKA AKCYJNA': 0.00030571152,\n",
      " 'weight_PROCHEM SPOLKA AKCYJNA': 0.0003254518,\n",
      " 'weight_PROJPRZEM MAKRUM SPOLKA AKCYJNA': 0.00036980445,\n",
      " 'weight_PROTEKTOR SPOLKA AKCYJNA': 0.0008064257,\n",
      " 'weight_PRZEDSIĘBIORSTWO HYDRAULIKI SILOWEJ HYDROTOR S.A.': 0.0015467138,\n",
      " 'weight_SILVAIR, INC.': 0.0010440298,\n",
      " 'weight_SOHO DEVELOPMENT SPOLKA AKCYJNA': 0.0007060322,\n",
      " 'weight_SOPHARMA AD': 0.00028428185,\n",
      " 'weight_STALEXPORT AUTOSTRADY SPOLKA AKCYJNA': 0.0002832962,\n",
      " 'weight_SUNEX SPOLKA AKCYJNA': 0.00039682136,\n",
      " 'weight_SUWARY SPOLKA AKCYJNA': 0.00086474814,\n",
      " 'weight_SYGNITY SPOLKA AKCYJNA': 0.0018275224,\n",
      " 'weight_TALEX SPOLKA AKCYJNA': 0.0013048215,\n",
      " 'weight_TATRY MOUNTAIN RESORTS. A.S.': 0.0007310365,\n",
      " 'weight_TAURON POLSKA ENERGIA SPOLKA AKCYJNA': 0.00029784645,\n",
      " 'weight_TORPOL SPOLKA AKCYJNA': 0.00032817756,\n",
      " 'weight_TRANS POLONIA SPOLKA AKCYJNA': 0.0003802041,\n",
      " 'weight_VISTULA RETAIL GROUP SPOLKA AKCYJNA': 0.0009447494,\n",
      " 'weight_VOTUM SPOLKA AKCYJNA': 0.0015790162,\n",
      " 'weight_WIKANA SPOLKA AKCYJNA': 0.001141232,\n",
      " 'weight_WITTCHEN SPOLKA AKCYJNA': 0.00077024265,\n",
      " 'weight_ZAKLAD BUDOWY MASZYN ZREMB-CHOJNICE SPOLKA AKCYJNA': 0.00031741953,\n",
      " 'weight_ZPUE SPOLKA AKCYJNA': 0.00032939258,\n",
      " 'weight_ČEZ. A.S.': 0.0003756008,\n",
      " 'weights_mean': 0.011494253,\n",
      " 'weights_std': 0.09934124}\n"
     ]
    },
    {
     "data": {
      "application/vnd.plotly.v1+json": {
       "config": {
        "plotlyServerURL": "https://plot.ly"
       },
       "data": [
        {
         "line": {
          "color": "firebrick"
         },
         "mode": "lines",
         "name": "Market Value",
         "type": "scatter",
         "x": [
          "2022-06-17T00:00:00",
          "2022-06-20T00:00:00",
          "2022-06-21T00:00:00",
          "2022-06-22T00:00:00",
          "2022-06-23T00:00:00",
          "2022-06-24T00:00:00",
          "2022-06-27T00:00:00",
          "2022-06-28T00:00:00",
          "2022-06-29T00:00:00",
          "2022-06-30T00:00:00",
          "2022-07-01T00:00:00",
          "2022-07-04T00:00:00",
          "2022-07-05T00:00:00",
          "2022-07-06T00:00:00",
          "2022-07-07T00:00:00",
          "2022-07-08T00:00:00",
          "2022-07-11T00:00:00",
          "2022-07-12T00:00:00",
          "2022-07-13T00:00:00",
          "2022-07-14T00:00:00",
          "2022-07-15T00:00:00",
          "2022-07-18T00:00:00",
          "2022-07-19T00:00:00",
          "2022-07-20T00:00:00",
          "2022-07-21T00:00:00",
          "2022-07-22T00:00:00",
          "2022-07-25T00:00:00",
          "2022-07-26T00:00:00",
          "2022-07-27T00:00:00",
          "2022-07-28T00:00:00",
          "2022-07-29T00:00:00",
          "2022-08-01T00:00:00",
          "2022-08-02T00:00:00",
          "2022-08-03T00:00:00",
          "2022-08-04T00:00:00",
          "2022-08-05T00:00:00",
          "2022-08-08T00:00:00",
          "2022-08-09T00:00:00",
          "2022-08-10T00:00:00",
          "2022-08-11T00:00:00",
          "2022-08-12T00:00:00",
          "2022-08-16T00:00:00",
          "2022-08-17T00:00:00",
          "2022-08-18T00:00:00",
          "2022-08-19T00:00:00",
          "2022-08-22T00:00:00",
          "2022-08-23T00:00:00",
          "2022-08-24T00:00:00",
          "2022-08-25T00:00:00",
          "2022-08-26T00:00:00",
          "2022-08-29T00:00:00",
          "2022-08-30T00:00:00",
          "2022-08-31T00:00:00",
          "2022-09-01T00:00:00",
          "2022-09-02T00:00:00",
          "2022-09-05T00:00:00",
          "2022-09-06T00:00:00",
          "2022-09-07T00:00:00",
          "2022-09-08T00:00:00"
         ],
         "y": [
          1.0020635923750911,
          0.9965815682286678,
          0.9878899374075034,
          0.9814720842726561,
          0.9823694218008443,
          0.9662133328122677,
          0.9747852878828254,
          0.9733647072551426,
          0.9635528562205611,
          0.9671083422943014,
          0.9728122277478338,
          0.9785497540126841,
          0.9843211194981988,
          0.9901265237839184,
          0.9959661676264788,
          1.0018402529665538,
          1.007748982935838,
          1.013692561864072,
          1.019671195286108,
          1.0256850899490169,
          1.0317344538192388,
          1.0378194960897738,
          1.0439404271874164,
          1.0500974587800327,
          1.0562908037838792,
          1.0625206763709667,
          1.0687872919764658,
          1.075090867306157,
          1.0814316203439247,
          1.0878097703592955,
          1.0942255379150205,
          1.1006791448747026,
          1.1071708144104688,
          1.1137007710106879,
          1.1202692404877328,
          1.1268764499857906,
          1.133522627988716,
          1.1402080043279341,
          1.1469328101903864,
          1.1536972781265271,
          1.1605016420583638,
          1.1673461372875475,
          1.1742310005035093,
          1.1811564697916448,
          1.188122784641548,
          1.1951301859552936,
          1.202178916055766,
          1.2092692186950407,
          1.2164013390628123,
          1.2235755237948744,
          1.2307920209816479,
          1.23805108017676,
          1.2453529524056743,
          1.2526978901743724,
          1.260086147478084,
          1.2675179798100717,
          1.274993644170466,
          1.2825133990751518,
          1.2900775045647093
         ]
        },
        {
         "line": {
          "color": "royalblue"
         },
         "mode": "lines",
         "name": "Portfolio Value",
         "type": "scatter",
         "x": [
          "2022-06-17T00:00:00",
          "2022-06-20T00:00:00",
          "2022-06-21T00:00:00",
          "2022-06-22T00:00:00",
          "2022-06-23T00:00:00",
          "2022-06-24T00:00:00",
          "2022-06-27T00:00:00",
          "2022-06-28T00:00:00",
          "2022-06-29T00:00:00",
          "2022-06-30T00:00:00",
          "2022-07-01T00:00:00",
          "2022-07-04T00:00:00",
          "2022-07-05T00:00:00",
          "2022-07-06T00:00:00",
          "2022-07-07T00:00:00",
          "2022-07-08T00:00:00",
          "2022-07-11T00:00:00",
          "2022-07-12T00:00:00",
          "2022-07-13T00:00:00",
          "2022-07-14T00:00:00",
          "2022-07-15T00:00:00",
          "2022-07-18T00:00:00",
          "2022-07-19T00:00:00",
          "2022-07-20T00:00:00",
          "2022-07-21T00:00:00",
          "2022-07-22T00:00:00",
          "2022-07-25T00:00:00",
          "2022-07-26T00:00:00",
          "2022-07-27T00:00:00",
          "2022-07-28T00:00:00",
          "2022-07-29T00:00:00",
          "2022-08-01T00:00:00",
          "2022-08-02T00:00:00",
          "2022-08-03T00:00:00",
          "2022-08-04T00:00:00",
          "2022-08-05T00:00:00",
          "2022-08-08T00:00:00",
          "2022-08-09T00:00:00",
          "2022-08-10T00:00:00",
          "2022-08-11T00:00:00",
          "2022-08-12T00:00:00",
          "2022-08-16T00:00:00",
          "2022-08-17T00:00:00",
          "2022-08-18T00:00:00",
          "2022-08-19T00:00:00",
          "2022-08-22T00:00:00",
          "2022-08-23T00:00:00",
          "2022-08-24T00:00:00",
          "2022-08-25T00:00:00",
          "2022-08-26T00:00:00",
          "2022-08-29T00:00:00",
          "2022-08-30T00:00:00",
          "2022-08-31T00:00:00",
          "2022-09-01T00:00:00",
          "2022-09-02T00:00:00",
          "2022-09-05T00:00:00",
          "2022-09-06T00:00:00",
          "2022-09-07T00:00:00",
          "2022-09-08T00:00:00"
         ],
         "y": [
          1,
          0.9975027452668487,
          0.9995165842956473,
          1.0041508282608087,
          0.9967137682859254,
          0.99572718281148,
          0.9962377595769898,
          0.9985178116676063,
          0.9926583684200149,
          0.9902900970939613,
          0.9958124294126737,
          1.001365556903758,
          1.0069496512958584,
          1.0125648852752605,
          1.0182114324912308,
          1.0238894675613877,
          1.0295991660771013,
          1.0353407046089234,
          1.0411142607120476,
          1.0469200129318004,
          1.0527581408091626,
          1.0586288248863218,
          1.064532246712255,
          1.070468588848344,
          1.0764380348740197,
          1.08244076939244,
          1.0884769780361991,
          1.094546847473067,
          1.1006505654117626,
          1.1067883206077591,
          1.1129603028691204,
          1.1191667030623709,
          1.1254077131183986,
          1.1316835260383902,
          1.137994335899799,
          1.144340337862348,
          1.1507217281740636,
          1.157138704177346,
          1.1635914643150707,
          1.1700802081367259,
          1.1766051363045837,
          1.183166450599905,
          1.1897643539291798,
          1.1963990503304016,
          1.203070744979378,
          1.2097796441960755,
          1.216525955450999,
          1.2233098873716088,
          1.2301316497487718,
          1.2369914535432491,
          1.2438895108922206,
          1.2508260351158447,
          1.2578012407238552,
          1.264815343422195,
          1.2718685601196864,
          1.27896110893474,
          1.2860932092020985,
          1.293265081479621,
          1.3004769475551021
         ]
        },
        {
         "line": {
          "color": "grey",
          "dash": "dash",
          "width": 2
         },
         "name": "start value",
         "type": "scatter",
         "x": [
          "2022-06-17T00:00:00",
          "2022-06-20T00:00:00",
          "2022-06-21T00:00:00",
          "2022-06-22T00:00:00",
          "2022-06-23T00:00:00",
          "2022-06-24T00:00:00",
          "2022-06-27T00:00:00",
          "2022-06-28T00:00:00",
          "2022-06-29T00:00:00",
          "2022-06-30T00:00:00",
          "2022-07-01T00:00:00",
          "2022-07-04T00:00:00",
          "2022-07-05T00:00:00",
          "2022-07-06T00:00:00",
          "2022-07-07T00:00:00",
          "2022-07-08T00:00:00",
          "2022-07-11T00:00:00",
          "2022-07-12T00:00:00",
          "2022-07-13T00:00:00",
          "2022-07-14T00:00:00",
          "2022-07-15T00:00:00",
          "2022-07-18T00:00:00",
          "2022-07-19T00:00:00",
          "2022-07-20T00:00:00",
          "2022-07-21T00:00:00",
          "2022-07-22T00:00:00",
          "2022-07-25T00:00:00",
          "2022-07-26T00:00:00",
          "2022-07-27T00:00:00",
          "2022-07-28T00:00:00",
          "2022-07-29T00:00:00",
          "2022-08-01T00:00:00",
          "2022-08-02T00:00:00",
          "2022-08-03T00:00:00",
          "2022-08-04T00:00:00",
          "2022-08-05T00:00:00",
          "2022-08-08T00:00:00",
          "2022-08-09T00:00:00",
          "2022-08-10T00:00:00",
          "2022-08-11T00:00:00",
          "2022-08-12T00:00:00",
          "2022-08-16T00:00:00",
          "2022-08-17T00:00:00",
          "2022-08-18T00:00:00",
          "2022-08-19T00:00:00",
          "2022-08-22T00:00:00",
          "2022-08-23T00:00:00",
          "2022-08-24T00:00:00",
          "2022-08-25T00:00:00",
          "2022-08-26T00:00:00",
          "2022-08-29T00:00:00",
          "2022-08-30T00:00:00",
          "2022-08-31T00:00:00",
          "2022-09-01T00:00:00",
          "2022-09-02T00:00:00",
          "2022-09-05T00:00:00",
          "2022-09-06T00:00:00",
          "2022-09-07T00:00:00",
          "2022-09-08T00:00:00"
         ],
         "y": [
          1,
          1,
          1,
          1,
          1,
          1,
          1,
          1,
          1,
          1,
          1,
          1,
          1,
          1,
          1,
          1,
          1,
          1,
          1,
          1,
          1,
          1,
          1,
          1,
          1,
          1,
          1,
          1,
          1,
          1,
          1,
          1,
          1,
          1,
          1,
          1,
          1,
          1,
          1,
          1,
          1,
          1,
          1,
          1,
          1,
          1,
          1,
          1,
          1,
          1,
          1,
          1,
          1,
          1,
          1,
          1,
          1,
          1,
          1
         ]
        }
       ],
       "layout": {
        "template": {
         "data": {
          "bar": [
           {
            "error_x": {
             "color": "#2a3f5f"
            },
            "error_y": {
             "color": "#2a3f5f"
            },
            "marker": {
             "line": {
              "color": "#E5ECF6",
              "width": 0.5
             },
             "pattern": {
              "fillmode": "overlay",
              "size": 10,
              "solidity": 0.2
             }
            },
            "type": "bar"
           }
          ],
          "barpolar": [
           {
            "marker": {
             "line": {
              "color": "#E5ECF6",
              "width": 0.5
             },
             "pattern": {
              "fillmode": "overlay",
              "size": 10,
              "solidity": 0.2
             }
            },
            "type": "barpolar"
           }
          ],
          "carpet": [
           {
            "aaxis": {
             "endlinecolor": "#2a3f5f",
             "gridcolor": "white",
             "linecolor": "white",
             "minorgridcolor": "white",
             "startlinecolor": "#2a3f5f"
            },
            "baxis": {
             "endlinecolor": "#2a3f5f",
             "gridcolor": "white",
             "linecolor": "white",
             "minorgridcolor": "white",
             "startlinecolor": "#2a3f5f"
            },
            "type": "carpet"
           }
          ],
          "choropleth": [
           {
            "colorbar": {
             "outlinewidth": 0,
             "ticks": ""
            },
            "type": "choropleth"
           }
          ],
          "contour": [
           {
            "colorbar": {
             "outlinewidth": 0,
             "ticks": ""
            },
            "colorscale": [
             [
              0,
              "#0d0887"
             ],
             [
              0.1111111111111111,
              "#46039f"
             ],
             [
              0.2222222222222222,
              "#7201a8"
             ],
             [
              0.3333333333333333,
              "#9c179e"
             ],
             [
              0.4444444444444444,
              "#bd3786"
             ],
             [
              0.5555555555555556,
              "#d8576b"
             ],
             [
              0.6666666666666666,
              "#ed7953"
             ],
             [
              0.7777777777777778,
              "#fb9f3a"
             ],
             [
              0.8888888888888888,
              "#fdca26"
             ],
             [
              1,
              "#f0f921"
             ]
            ],
            "type": "contour"
           }
          ],
          "contourcarpet": [
           {
            "colorbar": {
             "outlinewidth": 0,
             "ticks": ""
            },
            "type": "contourcarpet"
           }
          ],
          "heatmap": [
           {
            "colorbar": {
             "outlinewidth": 0,
             "ticks": ""
            },
            "colorscale": [
             [
              0,
              "#0d0887"
             ],
             [
              0.1111111111111111,
              "#46039f"
             ],
             [
              0.2222222222222222,
              "#7201a8"
             ],
             [
              0.3333333333333333,
              "#9c179e"
             ],
             [
              0.4444444444444444,
              "#bd3786"
             ],
             [
              0.5555555555555556,
              "#d8576b"
             ],
             [
              0.6666666666666666,
              "#ed7953"
             ],
             [
              0.7777777777777778,
              "#fb9f3a"
             ],
             [
              0.8888888888888888,
              "#fdca26"
             ],
             [
              1,
              "#f0f921"
             ]
            ],
            "type": "heatmap"
           }
          ],
          "heatmapgl": [
           {
            "colorbar": {
             "outlinewidth": 0,
             "ticks": ""
            },
            "colorscale": [
             [
              0,
              "#0d0887"
             ],
             [
              0.1111111111111111,
              "#46039f"
             ],
             [
              0.2222222222222222,
              "#7201a8"
             ],
             [
              0.3333333333333333,
              "#9c179e"
             ],
             [
              0.4444444444444444,
              "#bd3786"
             ],
             [
              0.5555555555555556,
              "#d8576b"
             ],
             [
              0.6666666666666666,
              "#ed7953"
             ],
             [
              0.7777777777777778,
              "#fb9f3a"
             ],
             [
              0.8888888888888888,
              "#fdca26"
             ],
             [
              1,
              "#f0f921"
             ]
            ],
            "type": "heatmapgl"
           }
          ],
          "histogram": [
           {
            "marker": {
             "pattern": {
              "fillmode": "overlay",
              "size": 10,
              "solidity": 0.2
             }
            },
            "type": "histogram"
           }
          ],
          "histogram2d": [
           {
            "colorbar": {
             "outlinewidth": 0,
             "ticks": ""
            },
            "colorscale": [
             [
              0,
              "#0d0887"
             ],
             [
              0.1111111111111111,
              "#46039f"
             ],
             [
              0.2222222222222222,
              "#7201a8"
             ],
             [
              0.3333333333333333,
              "#9c179e"
             ],
             [
              0.4444444444444444,
              "#bd3786"
             ],
             [
              0.5555555555555556,
              "#d8576b"
             ],
             [
              0.6666666666666666,
              "#ed7953"
             ],
             [
              0.7777777777777778,
              "#fb9f3a"
             ],
             [
              0.8888888888888888,
              "#fdca26"
             ],
             [
              1,
              "#f0f921"
             ]
            ],
            "type": "histogram2d"
           }
          ],
          "histogram2dcontour": [
           {
            "colorbar": {
             "outlinewidth": 0,
             "ticks": ""
            },
            "colorscale": [
             [
              0,
              "#0d0887"
             ],
             [
              0.1111111111111111,
              "#46039f"
             ],
             [
              0.2222222222222222,
              "#7201a8"
             ],
             [
              0.3333333333333333,
              "#9c179e"
             ],
             [
              0.4444444444444444,
              "#bd3786"
             ],
             [
              0.5555555555555556,
              "#d8576b"
             ],
             [
              0.6666666666666666,
              "#ed7953"
             ],
             [
              0.7777777777777778,
              "#fb9f3a"
             ],
             [
              0.8888888888888888,
              "#fdca26"
             ],
             [
              1,
              "#f0f921"
             ]
            ],
            "type": "histogram2dcontour"
           }
          ],
          "mesh3d": [
           {
            "colorbar": {
             "outlinewidth": 0,
             "ticks": ""
            },
            "type": "mesh3d"
           }
          ],
          "parcoords": [
           {
            "line": {
             "colorbar": {
              "outlinewidth": 0,
              "ticks": ""
             }
            },
            "type": "parcoords"
           }
          ],
          "pie": [
           {
            "automargin": true,
            "type": "pie"
           }
          ],
          "scatter": [
           {
            "marker": {
             "colorbar": {
              "outlinewidth": 0,
              "ticks": ""
             }
            },
            "type": "scatter"
           }
          ],
          "scatter3d": [
           {
            "line": {
             "colorbar": {
              "outlinewidth": 0,
              "ticks": ""
             }
            },
            "marker": {
             "colorbar": {
              "outlinewidth": 0,
              "ticks": ""
             }
            },
            "type": "scatter3d"
           }
          ],
          "scattercarpet": [
           {
            "marker": {
             "colorbar": {
              "outlinewidth": 0,
              "ticks": ""
             }
            },
            "type": "scattercarpet"
           }
          ],
          "scattergeo": [
           {
            "marker": {
             "colorbar": {
              "outlinewidth": 0,
              "ticks": ""
             }
            },
            "type": "scattergeo"
           }
          ],
          "scattergl": [
           {
            "marker": {
             "colorbar": {
              "outlinewidth": 0,
              "ticks": ""
             }
            },
            "type": "scattergl"
           }
          ],
          "scattermapbox": [
           {
            "marker": {
             "colorbar": {
              "outlinewidth": 0,
              "ticks": ""
             }
            },
            "type": "scattermapbox"
           }
          ],
          "scatterpolar": [
           {
            "marker": {
             "colorbar": {
              "outlinewidth": 0,
              "ticks": ""
             }
            },
            "type": "scatterpolar"
           }
          ],
          "scatterpolargl": [
           {
            "marker": {
             "colorbar": {
              "outlinewidth": 0,
              "ticks": ""
             }
            },
            "type": "scatterpolargl"
           }
          ],
          "scatterternary": [
           {
            "marker": {
             "colorbar": {
              "outlinewidth": 0,
              "ticks": ""
             }
            },
            "type": "scatterternary"
           }
          ],
          "surface": [
           {
            "colorbar": {
             "outlinewidth": 0,
             "ticks": ""
            },
            "colorscale": [
             [
              0,
              "#0d0887"
             ],
             [
              0.1111111111111111,
              "#46039f"
             ],
             [
              0.2222222222222222,
              "#7201a8"
             ],
             [
              0.3333333333333333,
              "#9c179e"
             ],
             [
              0.4444444444444444,
              "#bd3786"
             ],
             [
              0.5555555555555556,
              "#d8576b"
             ],
             [
              0.6666666666666666,
              "#ed7953"
             ],
             [
              0.7777777777777778,
              "#fb9f3a"
             ],
             [
              0.8888888888888888,
              "#fdca26"
             ],
             [
              1,
              "#f0f921"
             ]
            ],
            "type": "surface"
           }
          ],
          "table": [
           {
            "cells": {
             "fill": {
              "color": "#EBF0F8"
             },
             "line": {
              "color": "white"
             }
            },
            "header": {
             "fill": {
              "color": "#C8D4E3"
             },
             "line": {
              "color": "white"
             }
            },
            "type": "table"
           }
          ]
         },
         "layout": {
          "annotationdefaults": {
           "arrowcolor": "#2a3f5f",
           "arrowhead": 0,
           "arrowwidth": 1
          },
          "autotypenumbers": "strict",
          "coloraxis": {
           "colorbar": {
            "outlinewidth": 0,
            "ticks": ""
           }
          },
          "colorscale": {
           "diverging": [
            [
             0,
             "#8e0152"
            ],
            [
             0.1,
             "#c51b7d"
            ],
            [
             0.2,
             "#de77ae"
            ],
            [
             0.3,
             "#f1b6da"
            ],
            [
             0.4,
             "#fde0ef"
            ],
            [
             0.5,
             "#f7f7f7"
            ],
            [
             0.6,
             "#e6f5d0"
            ],
            [
             0.7,
             "#b8e186"
            ],
            [
             0.8,
             "#7fbc41"
            ],
            [
             0.9,
             "#4d9221"
            ],
            [
             1,
             "#276419"
            ]
           ],
           "sequential": [
            [
             0,
             "#0d0887"
            ],
            [
             0.1111111111111111,
             "#46039f"
            ],
            [
             0.2222222222222222,
             "#7201a8"
            ],
            [
             0.3333333333333333,
             "#9c179e"
            ],
            [
             0.4444444444444444,
             "#bd3786"
            ],
            [
             0.5555555555555556,
             "#d8576b"
            ],
            [
             0.6666666666666666,
             "#ed7953"
            ],
            [
             0.7777777777777778,
             "#fb9f3a"
            ],
            [
             0.8888888888888888,
             "#fdca26"
            ],
            [
             1,
             "#f0f921"
            ]
           ],
           "sequentialminus": [
            [
             0,
             "#0d0887"
            ],
            [
             0.1111111111111111,
             "#46039f"
            ],
            [
             0.2222222222222222,
             "#7201a8"
            ],
            [
             0.3333333333333333,
             "#9c179e"
            ],
            [
             0.4444444444444444,
             "#bd3786"
            ],
            [
             0.5555555555555556,
             "#d8576b"
            ],
            [
             0.6666666666666666,
             "#ed7953"
            ],
            [
             0.7777777777777778,
             "#fb9f3a"
            ],
            [
             0.8888888888888888,
             "#fdca26"
            ],
            [
             1,
             "#f0f921"
            ]
           ]
          },
          "colorway": [
           "#636efa",
           "#EF553B",
           "#00cc96",
           "#ab63fa",
           "#FFA15A",
           "#19d3f3",
           "#FF6692",
           "#B6E880",
           "#FF97FF",
           "#FECB52"
          ],
          "font": {
           "color": "#2a3f5f"
          },
          "geo": {
           "bgcolor": "white",
           "lakecolor": "white",
           "landcolor": "#E5ECF6",
           "showlakes": true,
           "showland": true,
           "subunitcolor": "white"
          },
          "hoverlabel": {
           "align": "left"
          },
          "hovermode": "closest",
          "mapbox": {
           "style": "light"
          },
          "paper_bgcolor": "white",
          "plot_bgcolor": "#E5ECF6",
          "polar": {
           "angularaxis": {
            "gridcolor": "white",
            "linecolor": "white",
            "ticks": ""
           },
           "bgcolor": "#E5ECF6",
           "radialaxis": {
            "gridcolor": "white",
            "linecolor": "white",
            "ticks": ""
           }
          },
          "scene": {
           "xaxis": {
            "backgroundcolor": "#E5ECF6",
            "gridcolor": "white",
            "gridwidth": 2,
            "linecolor": "white",
            "showbackground": true,
            "ticks": "",
            "zerolinecolor": "white"
           },
           "yaxis": {
            "backgroundcolor": "#E5ECF6",
            "gridcolor": "white",
            "gridwidth": 2,
            "linecolor": "white",
            "showbackground": true,
            "ticks": "",
            "zerolinecolor": "white"
           },
           "zaxis": {
            "backgroundcolor": "#E5ECF6",
            "gridcolor": "white",
            "gridwidth": 2,
            "linecolor": "white",
            "showbackground": true,
            "ticks": "",
            "zerolinecolor": "white"
           }
          },
          "shapedefaults": {
           "line": {
            "color": "#2a3f5f"
           }
          },
          "ternary": {
           "aaxis": {
            "gridcolor": "white",
            "linecolor": "white",
            "ticks": ""
           },
           "baxis": {
            "gridcolor": "white",
            "linecolor": "white",
            "ticks": ""
           },
           "bgcolor": "#E5ECF6",
           "caxis": {
            "gridcolor": "white",
            "linecolor": "white",
            "ticks": ""
           }
          },
          "title": {
           "x": 0.05
          },
          "xaxis": {
           "automargin": true,
           "gridcolor": "white",
           "linecolor": "white",
           "ticks": "",
           "title": {
            "standoff": 15
           },
           "zerolinecolor": "white",
           "zerolinewidth": 2
          },
          "yaxis": {
           "automargin": true,
           "gridcolor": "white",
           "linecolor": "white",
           "ticks": "",
           "title": {
            "standoff": 15
           },
           "zerolinecolor": "white",
           "zerolinewidth": 2
          }
         }
        },
        "title": {
         "text": "max_drawdown=-0.00% sharpe_ratio= 8.5807 mean_rate_of_return= 44.6707% cost= 0.0027"
        },
        "xaxis": {
         "title": {
          "text": "Date"
         }
        },
        "yaxis": {
         "title": {
          "text": "Normalized value"
         }
        }
       }
      }
     },
     "metadata": {},
     "output_type": "display_data"
    },
    {
     "data": {
      "application/vnd.plotly.v1+json": {
       "config": {
        "plotlyServerURL": "https://plot.ly"
       },
       "data": [
        {
         "customdata": [
          [
           "CASH"
          ],
          [
           "AC SPOLKA AKCYJNA"
          ],
          [
           "ALUMETAL SPOLKA AKCYJNA"
          ],
          [
           "APLISENS SPOLKA AKCYJNA"
          ],
          [
           "ARCHICOM SPOLKA AKCYJNA"
          ],
          [
           "ARCTIC PAPER SPOLKA AKCYJNA"
          ],
          [
           "ARTERIA SPOLKA AKCYJNA"
          ],
          [
           "AS SILVANO FASHION GROUP"
          ],
          [
           "ASSECO BUSINESS SOLUTIONS SPOLKA AKCYJNA"
          ],
          [
           "ASSECO POLAND SPOLKA AKCYJNA"
          ],
          [
           "ASSECO SOUTH EASTERN EUROPE SPOLKA AKCYJNA"
          ],
          [
           "ATLANTA POLAND SPOLKA AKCYJNA"
          ],
          [
           "BBI DEVELOPMENT SPOLKA AKCYJNA"
          ],
          [
           "BETACOM SPOLKA AKCYJNA"
          ],
          [
           "BORYSZEW SPOLKA AKCYJNA"
          ],
          [
           "BOWIM SPOLKA AKCYJNA"
          ],
          [
           "BUMECH SPOLKA AKCYJNA"
          ],
          [
           "CCC SPOLKA AKCYJNA"
          ],
          [
           "CD PROJEKT SPOLKA AKCYJNA"
          ],
          [
           "CENTRUM MEDYCZNE ENEL-MED SPOLKA AKCYJNA"
          ],
          [
           "CENTRUM NOWOCZESNYCH TECHNOLOGII SPOLKA AKCYJNA"
          ],
          [
           "CIECH SPOLKA AKCYJNA"
          ],
          [
           "COMP SPOLKA AKCYJNA"
          ],
          [
           "CYFROWY POLSAT SPOLKA AKCYJNA"
          ],
          [
           "DIGITAL NETWORK SPOLKA AKCYJNA"
          ],
          [
           "DINO POLSKA SPOLKA AKCYJNA"
          ],
          [
           "DROZAPOL-PROFIL SPOLKA AKCYJNA"
          ],
          [
           "ERG SPOLKA AKCYJNA"
          ],
          [
           "FERRUM SPOLKA AKCYJNA"
          ],
          [
           "FIRMA OPONIARSKA DĘBICA SPOLKA AKCYJNA"
          ],
          [
           "GETIN HOLDING SPOLKA AKCYJNA"
          ],
          [
           "GI GROUP POLAND SPOLKA AKCYJNA"
          ],
          [
           "GIELDA PAPIEROW WARTOŚCIOWYCH W WARSZAWIE SPOLKA AKCYJNA"
          ],
          [
           "GLOBE TRADE CENTRE SPOLKA AKCYJNA"
          ],
          [
           "GRUPA AZOTY SPOLKA AKCYJNA"
          ],
          [
           "GRUPA AZOTY ZAKLADY CHEMICZNE POLICE SPOLKA AKCYJNA"
          ],
          [
           "GRUPA KAPITALOWA IMMOBILE SPOLKA AKCYJNA"
          ],
          [
           "GRUPA KĘTY SPOLKA AKCYJNA"
          ],
          [
           "IFIRMA SPOLKA AKCYJNA"
          ],
          [
           "IMMOFINANZ AG"
          ],
          [
           "INDUSTRIAL MILK COMPANY S.A."
          ],
          [
           "INSTAL KRAKOW SPOLKA AKCYJNA"
          ],
          [
           "INVISTA SPOLKA AKCYJNA"
          ],
          [
           "JASTRZĘBSKA SPOLKA WĘGLOWA SPOLKA AKCYJNA"
          ],
          [
           "KGHM POLSKA MIEDŹ SPOLKA AKCYJNA"
          ],
          [
           "KOSZALIŃSKIE PRZEDSIĘBIORSTWO PRZEMYSLU DRZEWNEGO SPOLKA AKCYJNA"
          ],
          [
           "KRKA. TOVARNA ZDRAVIL. D.D.. NOVO MESTO"
          ],
          [
           "LENA LIGHTING SPOLKA AKCYJNA"
          ],
          [
           "LIBET SPOLKA AKCYJNA"
          ],
          [
           "LUBAWA SPOLKA AKCYJNA"
          ],
          [
           "MARIE BRIZARD WINE & SPIRITS"
          ],
          [
           "MENNICA POLSKA SPOLKA AKCYJNA"
          ],
          [
           "MLP GROUP SPOLKA AKCYJNA"
          ],
          [
           "MOJ SPOLKA AKCYJNA"
          ],
          [
           "OEX SPOLKA AKCYJNA"
          ],
          [
           "ORANGE POLSKA SPOLKA AKCYJNA"
          ],
          [
           "OT LOGISTICS SPOLKA AKCYJNA"
          ],
          [
           "OVOSTAR UNION N.V."
          ],
          [
           "PCC ROKITA SPOLKA AKCYJNA"
          ],
          [
           "PGF POLSKA GRUPA FOTOWOLTAICZNA SPOLKA AKCYJNA"
          ],
          [
           "PLAZA CENTERS N.V."
          ],
          [
           "PMPG POLSKIE MEDIA SPOLKA AKCYJNA"
          ],
          [
           "POLSKI KONCERN NAFTOWY ORLEN SPOLKA AKCYJNA"
          ],
          [
           "POLSKIE GORNICTWO NAFTOWE I GAZOWNICTWO SPOLKA AKCYJNA"
          ],
          [
           "PROCHEM SPOLKA AKCYJNA"
          ],
          [
           "PROJPRZEM MAKRUM SPOLKA AKCYJNA"
          ],
          [
           "PROTEKTOR SPOLKA AKCYJNA"
          ],
          [
           "PRZEDSIĘBIORSTWO HYDRAULIKI SILOWEJ HYDROTOR S.A."
          ],
          [
           "SILVAIR, INC."
          ],
          [
           "SOHO DEVELOPMENT SPOLKA AKCYJNA"
          ],
          [
           "SOPHARMA AD"
          ],
          [
           "STALEXPORT AUTOSTRADY SPOLKA AKCYJNA"
          ],
          [
           "SUNEX SPOLKA AKCYJNA"
          ],
          [
           "SUWARY SPOLKA AKCYJNA"
          ],
          [
           "SYGNITY SPOLKA AKCYJNA"
          ],
          [
           "TALEX SPOLKA AKCYJNA"
          ],
          [
           "TATRY MOUNTAIN RESORTS. A.S."
          ],
          [
           "TAURON POLSKA ENERGIA SPOLKA AKCYJNA"
          ],
          [
           "TORPOL SPOLKA AKCYJNA"
          ],
          [
           "TRANS POLONIA SPOLKA AKCYJNA"
          ],
          [
           "VISTULA RETAIL GROUP SPOLKA AKCYJNA"
          ],
          [
           "VOTUM SPOLKA AKCYJNA"
          ],
          [
           "WIKANA SPOLKA AKCYJNA"
          ],
          [
           "WITTCHEN SPOLKA AKCYJNA"
          ],
          [
           "ZAKLAD BUDOWY MASZYN ZREMB-CHOJNICE SPOLKA AKCYJNA"
          ],
          [
           "ZPUE SPOLKA AKCYJNA"
          ],
          [
           "ČEZ. A.S."
          ]
         ],
         "domain": {
          "x": [
           0,
           1
          ],
          "y": [
           0,
           1
          ]
         },
         "hole": 0.3,
         "hovertemplate": "Asset names=%{label}<br>Weigths=%{value}<br>full_names=%{customdata[0]}<extra></extra>",
         "labels": [
          "CASH",
          "AC SP",
          "ALUME",
          "APLIS",
          "ARCHI",
          "ARCTI",
          "ARTER",
          "AS SI",
          "ASSEC",
          "ASSEC",
          "ASSEC",
          "ATLAN",
          "BBI D",
          "BETAC",
          "BORYS",
          "BOWIM",
          "BUMEC",
          "CCC S",
          "CD PR",
          "CENTR",
          "CENTR",
          "CIECH",
          "COMP ",
          "CYFRO",
          "DIGIT",
          "DINO ",
          "DROZA",
          "ERG S",
          "FERRU",
          "FIRMA",
          "GETIN",
          "GI GR",
          "GIELD",
          "GLOBE",
          "GRUPA",
          "GRUPA",
          "GRUPA",
          "GRUPA",
          "IFIRM",
          "IMMOF",
          "INDUS",
          "INSTA",
          "INVIS",
          "JASTR",
          "KGHM ",
          "KOSZA",
          "KRKA.",
          "LENA ",
          "LIBET",
          "LUBAW",
          "MARIE",
          "MENNI",
          "MLP G",
          "MOJ S",
          "OEX S",
          "ORANG",
          "OT LO",
          "OVOST",
          "PCC R",
          "PGF P",
          "PLAZA",
          "PMPG ",
          "POLSK",
          "POLSK",
          "PROCH",
          "PROJP",
          "PROTE",
          "PRZED",
          "SILVA",
          "SOHO ",
          "SOPHA",
          "STALE",
          "SUNEX",
          "SUWAR",
          "SYGNI",
          "TALEX",
          "TATRY",
          "TAURO",
          "TORPO",
          "TRANS",
          "VISTU",
          "VOTUM",
          "WIKAN",
          "WITTC",
          "ZAKLA",
          "ZPUE ",
          "ČEZ. "
         ],
         "legendgroup": "",
         "name": "",
         "showlegend": true,
         "textinfo": "percent+label",
         "textposition": "inside",
         "type": "pie",
         "values": [
          0.001101991394534707,
          0.00030400289688259363,
          0.00039447349263355136,
          0.0011428138241171837,
          0.9327340722084045,
          0.0012053316459059715,
          0.0005984676536172628,
          0.0003466073831077665,
          0.00032247812487185,
          0.0004091098380740732,
          0.0008086501620709896,
          0.0017971321940422058,
          0.0016742905136197805,
          0.0006217111367732286,
          0.00034622070961631835,
          0.0003783016582019627,
          0.0004708142951130867,
          0.0008390539442189038,
          0.0020385736133903265,
          0.0013300396967679262,
          0.0006289251032285392,
          0.00036909026675857604,
          0.00033365984563715756,
          0.0004879911139141768,
          0.0005308752879500389,
          0.0015166825614869595,
          0.0009323470876552165,
          0.0005923047428950667,
          0.0004263451264705509,
          0.00032288540387526155,
          0.0004324806504882872,
          0.0007620154065079987,
          0.0017965222941711545,
          0.0013643557904288173,
          0.0005635210545733571,
          0.000331772374920547,
          0.000350428803358227,
          0.0004547564603853971,
          0.0009011831716634333,
          0.0016502575017511845,
          0.001157858525402844,
          0.0005667931400239468,
          0.0003148622636217624,
          0.0003340151160955429,
          0.00045708633842878044,
          0.0009410872589796782,
          0.003151841927319765,
          0.0011067863088101149,
          0.0006346658919937909,
          0.000259601540165022,
          0.0003386736789252609,
          0.00043911763350479305,
          0.0010541703086346388,
          0.001807826803997159,
          0.0011686431244015694,
          0.0006473938119597733,
          0.0002349703572690487,
          0.00031813656096346676,
          0.0003833399387076497,
          0.000868866452947259,
          0.0011951193446293473,
          0.001018150127492845,
          0.0007277733529917896,
          0.00030571152456104755,
          0.0003254518087487668,
          0.0003698044456541538,
          0.0008064256981015205,
          0.0015467137563973665,
          0.0010440298356115818,
          0.0007060322095640004,
          0.0002842818503268063,
          0.0002832961909007281,
          0.000396821356844157,
          0.0008647481445223093,
          0.0018275224138051271,
          0.0013048214605078101,
          0.0007310364744625986,
          0.0002978464472107589,
          0.00032817755709402263,
          0.000380204088287428,
          0.000944749393966049,
          0.001579016214236617,
          0.0011412319727241993,
          0.0007702426519244909,
          0.0003174195298925042,
          0.00032939258380793035,
          0.00037560079363174736
         ]
        }
       ],
       "layout": {
        "height": 1000,
        "legend": {
         "tracegroupgap": 0
        },
        "template": {
         "data": {
          "bar": [
           {
            "error_x": {
             "color": "#2a3f5f"
            },
            "error_y": {
             "color": "#2a3f5f"
            },
            "marker": {
             "line": {
              "color": "#E5ECF6",
              "width": 0.5
             },
             "pattern": {
              "fillmode": "overlay",
              "size": 10,
              "solidity": 0.2
             }
            },
            "type": "bar"
           }
          ],
          "barpolar": [
           {
            "marker": {
             "line": {
              "color": "#E5ECF6",
              "width": 0.5
             },
             "pattern": {
              "fillmode": "overlay",
              "size": 10,
              "solidity": 0.2
             }
            },
            "type": "barpolar"
           }
          ],
          "carpet": [
           {
            "aaxis": {
             "endlinecolor": "#2a3f5f",
             "gridcolor": "white",
             "linecolor": "white",
             "minorgridcolor": "white",
             "startlinecolor": "#2a3f5f"
            },
            "baxis": {
             "endlinecolor": "#2a3f5f",
             "gridcolor": "white",
             "linecolor": "white",
             "minorgridcolor": "white",
             "startlinecolor": "#2a3f5f"
            },
            "type": "carpet"
           }
          ],
          "choropleth": [
           {
            "colorbar": {
             "outlinewidth": 0,
             "ticks": ""
            },
            "type": "choropleth"
           }
          ],
          "contour": [
           {
            "colorbar": {
             "outlinewidth": 0,
             "ticks": ""
            },
            "colorscale": [
             [
              0,
              "#0d0887"
             ],
             [
              0.1111111111111111,
              "#46039f"
             ],
             [
              0.2222222222222222,
              "#7201a8"
             ],
             [
              0.3333333333333333,
              "#9c179e"
             ],
             [
              0.4444444444444444,
              "#bd3786"
             ],
             [
              0.5555555555555556,
              "#d8576b"
             ],
             [
              0.6666666666666666,
              "#ed7953"
             ],
             [
              0.7777777777777778,
              "#fb9f3a"
             ],
             [
              0.8888888888888888,
              "#fdca26"
             ],
             [
              1,
              "#f0f921"
             ]
            ],
            "type": "contour"
           }
          ],
          "contourcarpet": [
           {
            "colorbar": {
             "outlinewidth": 0,
             "ticks": ""
            },
            "type": "contourcarpet"
           }
          ],
          "heatmap": [
           {
            "colorbar": {
             "outlinewidth": 0,
             "ticks": ""
            },
            "colorscale": [
             [
              0,
              "#0d0887"
             ],
             [
              0.1111111111111111,
              "#46039f"
             ],
             [
              0.2222222222222222,
              "#7201a8"
             ],
             [
              0.3333333333333333,
              "#9c179e"
             ],
             [
              0.4444444444444444,
              "#bd3786"
             ],
             [
              0.5555555555555556,
              "#d8576b"
             ],
             [
              0.6666666666666666,
              "#ed7953"
             ],
             [
              0.7777777777777778,
              "#fb9f3a"
             ],
             [
              0.8888888888888888,
              "#fdca26"
             ],
             [
              1,
              "#f0f921"
             ]
            ],
            "type": "heatmap"
           }
          ],
          "heatmapgl": [
           {
            "colorbar": {
             "outlinewidth": 0,
             "ticks": ""
            },
            "colorscale": [
             [
              0,
              "#0d0887"
             ],
             [
              0.1111111111111111,
              "#46039f"
             ],
             [
              0.2222222222222222,
              "#7201a8"
             ],
             [
              0.3333333333333333,
              "#9c179e"
             ],
             [
              0.4444444444444444,
              "#bd3786"
             ],
             [
              0.5555555555555556,
              "#d8576b"
             ],
             [
              0.6666666666666666,
              "#ed7953"
             ],
             [
              0.7777777777777778,
              "#fb9f3a"
             ],
             [
              0.8888888888888888,
              "#fdca26"
             ],
             [
              1,
              "#f0f921"
             ]
            ],
            "type": "heatmapgl"
           }
          ],
          "histogram": [
           {
            "marker": {
             "pattern": {
              "fillmode": "overlay",
              "size": 10,
              "solidity": 0.2
             }
            },
            "type": "histogram"
           }
          ],
          "histogram2d": [
           {
            "colorbar": {
             "outlinewidth": 0,
             "ticks": ""
            },
            "colorscale": [
             [
              0,
              "#0d0887"
             ],
             [
              0.1111111111111111,
              "#46039f"
             ],
             [
              0.2222222222222222,
              "#7201a8"
             ],
             [
              0.3333333333333333,
              "#9c179e"
             ],
             [
              0.4444444444444444,
              "#bd3786"
             ],
             [
              0.5555555555555556,
              "#d8576b"
             ],
             [
              0.6666666666666666,
              "#ed7953"
             ],
             [
              0.7777777777777778,
              "#fb9f3a"
             ],
             [
              0.8888888888888888,
              "#fdca26"
             ],
             [
              1,
              "#f0f921"
             ]
            ],
            "type": "histogram2d"
           }
          ],
          "histogram2dcontour": [
           {
            "colorbar": {
             "outlinewidth": 0,
             "ticks": ""
            },
            "colorscale": [
             [
              0,
              "#0d0887"
             ],
             [
              0.1111111111111111,
              "#46039f"
             ],
             [
              0.2222222222222222,
              "#7201a8"
             ],
             [
              0.3333333333333333,
              "#9c179e"
             ],
             [
              0.4444444444444444,
              "#bd3786"
             ],
             [
              0.5555555555555556,
              "#d8576b"
             ],
             [
              0.6666666666666666,
              "#ed7953"
             ],
             [
              0.7777777777777778,
              "#fb9f3a"
             ],
             [
              0.8888888888888888,
              "#fdca26"
             ],
             [
              1,
              "#f0f921"
             ]
            ],
            "type": "histogram2dcontour"
           }
          ],
          "mesh3d": [
           {
            "colorbar": {
             "outlinewidth": 0,
             "ticks": ""
            },
            "type": "mesh3d"
           }
          ],
          "parcoords": [
           {
            "line": {
             "colorbar": {
              "outlinewidth": 0,
              "ticks": ""
             }
            },
            "type": "parcoords"
           }
          ],
          "pie": [
           {
            "automargin": true,
            "type": "pie"
           }
          ],
          "scatter": [
           {
            "marker": {
             "colorbar": {
              "outlinewidth": 0,
              "ticks": ""
             }
            },
            "type": "scatter"
           }
          ],
          "scatter3d": [
           {
            "line": {
             "colorbar": {
              "outlinewidth": 0,
              "ticks": ""
             }
            },
            "marker": {
             "colorbar": {
              "outlinewidth": 0,
              "ticks": ""
             }
            },
            "type": "scatter3d"
           }
          ],
          "scattercarpet": [
           {
            "marker": {
             "colorbar": {
              "outlinewidth": 0,
              "ticks": ""
             }
            },
            "type": "scattercarpet"
           }
          ],
          "scattergeo": [
           {
            "marker": {
             "colorbar": {
              "outlinewidth": 0,
              "ticks": ""
             }
            },
            "type": "scattergeo"
           }
          ],
          "scattergl": [
           {
            "marker": {
             "colorbar": {
              "outlinewidth": 0,
              "ticks": ""
             }
            },
            "type": "scattergl"
           }
          ],
          "scattermapbox": [
           {
            "marker": {
             "colorbar": {
              "outlinewidth": 0,
              "ticks": ""
             }
            },
            "type": "scattermapbox"
           }
          ],
          "scatterpolar": [
           {
            "marker": {
             "colorbar": {
              "outlinewidth": 0,
              "ticks": ""
             }
            },
            "type": "scatterpolar"
           }
          ],
          "scatterpolargl": [
           {
            "marker": {
             "colorbar": {
              "outlinewidth": 0,
              "ticks": ""
             }
            },
            "type": "scatterpolargl"
           }
          ],
          "scatterternary": [
           {
            "marker": {
             "colorbar": {
              "outlinewidth": 0,
              "ticks": ""
             }
            },
            "type": "scatterternary"
           }
          ],
          "surface": [
           {
            "colorbar": {
             "outlinewidth": 0,
             "ticks": ""
            },
            "colorscale": [
             [
              0,
              "#0d0887"
             ],
             [
              0.1111111111111111,
              "#46039f"
             ],
             [
              0.2222222222222222,
              "#7201a8"
             ],
             [
              0.3333333333333333,
              "#9c179e"
             ],
             [
              0.4444444444444444,
              "#bd3786"
             ],
             [
              0.5555555555555556,
              "#d8576b"
             ],
             [
              0.6666666666666666,
              "#ed7953"
             ],
             [
              0.7777777777777778,
              "#fb9f3a"
             ],
             [
              0.8888888888888888,
              "#fdca26"
             ],
             [
              1,
              "#f0f921"
             ]
            ],
            "type": "surface"
           }
          ],
          "table": [
           {
            "cells": {
             "fill": {
              "color": "#EBF0F8"
             },
             "line": {
              "color": "white"
             }
            },
            "header": {
             "fill": {
              "color": "#C8D4E3"
             },
             "line": {
              "color": "white"
             }
            },
            "type": "table"
           }
          ]
         },
         "layout": {
          "annotationdefaults": {
           "arrowcolor": "#2a3f5f",
           "arrowhead": 0,
           "arrowwidth": 1
          },
          "autotypenumbers": "strict",
          "coloraxis": {
           "colorbar": {
            "outlinewidth": 0,
            "ticks": ""
           }
          },
          "colorscale": {
           "diverging": [
            [
             0,
             "#8e0152"
            ],
            [
             0.1,
             "#c51b7d"
            ],
            [
             0.2,
             "#de77ae"
            ],
            [
             0.3,
             "#f1b6da"
            ],
            [
             0.4,
             "#fde0ef"
            ],
            [
             0.5,
             "#f7f7f7"
            ],
            [
             0.6,
             "#e6f5d0"
            ],
            [
             0.7,
             "#b8e186"
            ],
            [
             0.8,
             "#7fbc41"
            ],
            [
             0.9,
             "#4d9221"
            ],
            [
             1,
             "#276419"
            ]
           ],
           "sequential": [
            [
             0,
             "#0d0887"
            ],
            [
             0.1111111111111111,
             "#46039f"
            ],
            [
             0.2222222222222222,
             "#7201a8"
            ],
            [
             0.3333333333333333,
             "#9c179e"
            ],
            [
             0.4444444444444444,
             "#bd3786"
            ],
            [
             0.5555555555555556,
             "#d8576b"
            ],
            [
             0.6666666666666666,
             "#ed7953"
            ],
            [
             0.7777777777777778,
             "#fb9f3a"
            ],
            [
             0.8888888888888888,
             "#fdca26"
            ],
            [
             1,
             "#f0f921"
            ]
           ],
           "sequentialminus": [
            [
             0,
             "#0d0887"
            ],
            [
             0.1111111111111111,
             "#46039f"
            ],
            [
             0.2222222222222222,
             "#7201a8"
            ],
            [
             0.3333333333333333,
             "#9c179e"
            ],
            [
             0.4444444444444444,
             "#bd3786"
            ],
            [
             0.5555555555555556,
             "#d8576b"
            ],
            [
             0.6666666666666666,
             "#ed7953"
            ],
            [
             0.7777777777777778,
             "#fb9f3a"
            ],
            [
             0.8888888888888888,
             "#fdca26"
            ],
            [
             1,
             "#f0f921"
            ]
           ]
          },
          "colorway": [
           "#636efa",
           "#EF553B",
           "#00cc96",
           "#ab63fa",
           "#FFA15A",
           "#19d3f3",
           "#FF6692",
           "#B6E880",
           "#FF97FF",
           "#FECB52"
          ],
          "font": {
           "color": "#2a3f5f"
          },
          "geo": {
           "bgcolor": "white",
           "lakecolor": "white",
           "landcolor": "#E5ECF6",
           "showlakes": true,
           "showland": true,
           "subunitcolor": "white"
          },
          "hoverlabel": {
           "align": "left"
          },
          "hovermode": "closest",
          "mapbox": {
           "style": "light"
          },
          "paper_bgcolor": "white",
          "plot_bgcolor": "#E5ECF6",
          "polar": {
           "angularaxis": {
            "gridcolor": "white",
            "linecolor": "white",
            "ticks": ""
           },
           "bgcolor": "#E5ECF6",
           "radialaxis": {
            "gridcolor": "white",
            "linecolor": "white",
            "ticks": ""
           }
          },
          "scene": {
           "xaxis": {
            "backgroundcolor": "#E5ECF6",
            "gridcolor": "white",
            "gridwidth": 2,
            "linecolor": "white",
            "showbackground": true,
            "ticks": "",
            "zerolinecolor": "white"
           },
           "yaxis": {
            "backgroundcolor": "#E5ECF6",
            "gridcolor": "white",
            "gridwidth": 2,
            "linecolor": "white",
            "showbackground": true,
            "ticks": "",
            "zerolinecolor": "white"
           },
           "zaxis": {
            "backgroundcolor": "#E5ECF6",
            "gridcolor": "white",
            "gridwidth": 2,
            "linecolor": "white",
            "showbackground": true,
            "ticks": "",
            "zerolinecolor": "white"
           }
          },
          "shapedefaults": {
           "line": {
            "color": "#2a3f5f"
           }
          },
          "ternary": {
           "aaxis": {
            "gridcolor": "white",
            "linecolor": "white",
            "ticks": ""
           },
           "baxis": {
            "gridcolor": "white",
            "linecolor": "white",
            "ticks": ""
           },
           "bgcolor": "#E5ECF6",
           "caxis": {
            "gridcolor": "white",
            "linecolor": "white",
            "ticks": ""
           }
          },
          "title": {
           "x": 0.05
          },
          "xaxis": {
           "automargin": true,
           "gridcolor": "white",
           "linecolor": "white",
           "ticks": "",
           "title": {
            "standoff": 15
           },
           "zerolinecolor": "white",
           "zerolinewidth": 2
          },
          "yaxis": {
           "automargin": true,
           "gridcolor": "white",
           "linecolor": "white",
           "ticks": "",
           "title": {
            "standoff": 15
           },
           "zerolinecolor": "white",
           "zerolinewidth": 2
          }
         }
        },
        "title": {
         "text": "Asset Allocation Weights"
        },
        "width": 1000
       }
      }
     },
     "metadata": {},
     "output_type": "display_data"
    },
    {
     "name": "stdout",
     "output_type": "stream",
     "text": [
      "Test step: 1\n",
      "(86, 50, 7)\n",
      "Test step: 2\n",
      "(86, 50, 7)\n",
      "Test step: 3\n",
      "(86, 50, 7)\n",
      "Test step: 4\n",
      "(86, 50, 7)\n",
      "Test step: 5\n",
      "(86, 50, 7)\n",
      "Test step: 6\n",
      "(86, 50, 7)\n",
      "Test step: 7\n",
      "(86, 50, 7)\n",
      "Test step: 8\n",
      "(86, 50, 7)\n",
      "Test step: 9\n",
      "(86, 50, 7)\n",
      "Test step: 10\n",
      "(86, 50, 7)\n",
      "Test step: 11\n",
      "(86, 50, 7)\n",
      "Test step: 12\n",
      "(86, 50, 7)\n",
      "Test step: 13\n",
      "(86, 50, 7)\n",
      "Test step: 14\n",
      "(86, 50, 7)\n",
      "Test step: 15\n",
      "(86, 50, 7)\n",
      "Test step: 16\n",
      "(86, 50, 7)\n",
      "Test step: 17\n",
      "(86, 50, 7)\n",
      "Test step: 18\n",
      "(86, 50, 7)\n",
      "Test step: 19\n",
      "(86, 50, 7)\n",
      "Test step: 20\n",
      "(86, 50, 7)\n",
      "Test step: 21\n",
      "(86, 50, 7)\n",
      "Test step: 22\n",
      "(86, 50, 7)\n",
      "Test step: 23\n",
      "(86, 50, 7)\n",
      "Test step: 24\n",
      "(86, 50, 7)\n",
      "Test step: 25\n",
      "(86, 50, 7)\n",
      "Test step: 26\n",
      "(86, 50, 7)\n",
      "Test step: 27\n",
      "(86, 50, 7)\n",
      "Test step: 28\n",
      "(86, 50, 7)\n",
      "Test step: 29\n",
      "(86, 50, 7)\n",
      "Test step: 30\n",
      "(86, 50, 7)\n",
      "Test step: 31\n",
      "(86, 50, 7)\n",
      "Test step: 32\n",
      "(86, 50, 7)\n",
      "Test step: 33\n",
      "(86, 50, 7)\n",
      "Test step: 34\n",
      "(86, 50, 7)\n",
      "Test step: 35\n",
      "(86, 50, 7)\n",
      "Test step: 36\n",
      "(86, 50, 7)\n",
      "Test step: 37\n",
      "(86, 50, 7)\n",
      "Test step: 38\n",
      "(86, 50, 7)\n",
      "Test step: 39\n",
      "(86, 50, 7)\n",
      "Test step: 40\n",
      "(86, 50, 7)\n",
      "Test step: 41\n",
      "(86, 50, 7)\n",
      "Test step: 42\n",
      "(86, 50, 7)\n",
      "Test step: 43\n",
      "(86, 50, 7)\n",
      "Test step: 44\n",
      "(86, 50, 7)\n",
      "Test step: 45\n",
      "(86, 50, 7)\n",
      "Test step: 46\n",
      "(86, 50, 7)\n",
      "Test step: 47\n",
      "(86, 50, 7)\n",
      "Test step: 48\n",
      "(86, 50, 7)\n",
      "Test step: 49\n",
      "(86, 50, 7)\n",
      "Test step: 50\n",
      "(86, 50, 7)\n",
      "Test step: 51\n",
      "(86, 50, 7)\n",
      "Test step: 52\n",
      "(86, 50, 7)\n",
      "Test step: 53\n",
      "(86, 50, 7)\n",
      "Test step: 54\n",
      "(86, 50, 7)\n",
      "Test step: 55\n",
      "(86, 50, 7)\n",
      "Test step: 56\n",
      "(86, 50, 7)\n",
      "Test step: 57\n",
      "(86, 50, 7)\n",
      "Test step: 58\n",
      "(86, 50, 7)\n",
      "{'cost': 3.6318399759675797e-06,\n",
      " 'date': Timestamp('2022-09-08 00:00:00'),\n",
      " 'log_return': 0.005517586382573006,\n",
      " 'market_return': 1.0058683227236807,\n",
      " 'market_value': 1.2882770473992902,\n",
      " 'portfolio_value': 1.297852286992308,\n",
      " 'price_AC SPOLKA AKCYJNA': 0.9824230792757803,\n",
      " 'price_ALUMETAL SPOLKA AKCYJNA': 0.999991148253603,\n",
      " 'price_APLISENS SPOLKA AKCYJNA': 1.0000596809524787,\n",
      " 'price_ARCHICOM SPOLKA AKCYJNA': 1.0054573462455494,\n",
      " 'price_ARCTIC PAPER SPOLKA AKCYJNA': 1.0758419940543744,\n",
      " 'price_ARTERIA SPOLKA AKCYJNA': 0.9710164685408925,\n",
      " 'price_AS SILVANO FASHION GROUP': 0.9813557449489051,\n",
      " 'price_ASSECO BUSINESS SOLUTIONS SPOLKA AKCYJNA': 1.0080418722158564,\n",
      " 'price_ASSECO POLAND SPOLKA AKCYJNA': 0.9916334016500565,\n",
      " 'price_ASSECO SOUTH EASTERN EUROPE SPOLKA AKCYJNA': 1.0242119242823677,\n",
      " 'price_ATLANTA POLAND SPOLKA AKCYJNA': 1.0342443998837005,\n",
      " 'price_BBI DEVELOPMENT SPOLKA AKCYJNA': 0.9557109605121249,\n",
      " 'price_BETACOM SPOLKA AKCYJNA': 1.0399356319703918,\n",
      " 'price_BORYSZEW SPOLKA AKCYJNA': 0.9996768277348737,\n",
      " 'price_BOWIM SPOLKA AKCYJNA': 1.0077384992316099,\n",
      " 'price_BUMECH SPOLKA AKCYJNA': 1.0062869495860685,\n",
      " 'price_CASH': 1.0,\n",
      " 'price_CCC SPOLKA AKCYJNA': 1.0490988027542973,\n",
      " 'price_CD PROJEKT SPOLKA AKCYJNA': 1.0541866882881032,\n",
      " 'price_CENTRUM MEDYCZNE ENEL-MED SPOLKA AKCYJNA': 1.0000564777447323,\n",
      " 'price_CENTRUM NOWOCZESNYCH TECHNOLOGII SPOLKA AKCYJNA': 0.9999397557502502,\n",
      " 'price_CIECH SPOLKA AKCYJNA': 1.0117594790418272,\n",
      " 'price_COMP SPOLKA AKCYJNA': 1.0000636388141286,\n",
      " 'price_CYFROWY POLSAT SPOLKA AKCYJNA': 1.0323764698635696,\n",
      " 'price_DIGITAL NETWORK SPOLKA AKCYJNA': 0.9999274132438286,\n",
      " 'price_DINO POLSKA SPOLKA AKCYJNA': 0.9955943745803066,\n",
      " 'price_DROZAPOL-PROFIL SPOLKA AKCYJNA': 0.9834223229537638,\n",
      " 'price_ERG SPOLKA AKCYJNA': 0.9999966951011673,\n",
      " 'price_FERRUM SPOLKA AKCYJNA': 0.9999895468906799,\n",
      " 'price_FIRMA OPONIARSKA DĘBICA SPOLKA AKCYJNA': 1.0033202897282614,\n",
      " 'price_GETIN HOLDING SPOLKA AKCYJNA': 0.9961187731561282,\n",
      " 'price_GI GROUP POLAND SPOLKA AKCYJNA': 1.0090686093594048,\n",
      " 'price_GIELDA PAPIEROW WARTOŚCIOWYCH W WARSZAWIE SPOLKA AKCYJNA': 1.0006646132583132,\n",
      " 'price_GLOBE TRADE CENTRE SPOLKA AKCYJNA': 0.9967723283436816,\n",
      " 'price_GRUPA AZOTY SPOLKA AKCYJNA': 0.9830125525459166,\n",
      " 'price_GRUPA AZOTY ZAKLADY CHEMICZNE POLICE SPOLKA AKCYJNA': 0.9950612622494841,\n",
      " 'price_GRUPA KAPITALOWA IMMOBILE SPOLKA AKCYJNA': 1.006103333879165,\n",
      " 'price_GRUPA KĘTY SPOLKA AKCYJNA': 0.98823707031905,\n",
      " 'price_IFIRMA SPOLKA AKCYJNA': 1.0095636828694179,\n",
      " 'price_IMMOFINANZ AG': 1.0000099541099614,\n",
      " 'price_INDUSTRIAL MILK COMPANY S.A.': 1.0164578893529843,\n",
      " 'price_INSTAL KRAKOW SPOLKA AKCYJNA': 0.999973720381284,\n",
      " 'price_INVISTA SPOLKA AKCYJNA': 1.0291240796210481,\n",
      " 'price_JASTRZĘBSKA SPOLKA WĘGLOWA SPOLKA AKCYJNA': 0.9903961530950722,\n",
      " 'price_KGHM POLSKA MIEDŹ SPOLKA AKCYJNA': 1.0154193778740621,\n",
      " 'price_KOSZALIŃSKIE PRZEDSIĘBIORSTWO PRZEMYSLU DRZEWNEGO SPOLKA AKCYJNA': 1.0106067327759463,\n",
      " 'price_KRKA. TOVARNA ZDRAVIL. D.D.. NOVO MESTO': 0.9910898930852085,\n",
      " 'price_LENA LIGHTING SPOLKA AKCYJNA': 1.0026640170046972,\n",
      " 'price_LIBET SPOLKA AKCYJNA': 1.0001188811309973,\n",
      " 'price_LUBAWA SPOLKA AKCYJNA': 0.9999022989952628,\n",
      " 'price_MARIE BRIZARD WINE & SPIRITS': 0.9266114200322129,\n",
      " 'price_MENNICA POLSKA SPOLKA AKCYJNA': 1.0000487275923773,\n",
      " 'price_MLP GROUP SPOLKA AKCYJNA': 0.9573921052049974,\n",
      " 'price_MOJ SPOLKA AKCYJNA': 1.000302118564184,\n",
      " 'price_OEX SPOLKA AKCYJNA': 1.0159083924480468,\n",
      " 'price_ORANGE POLSKA SPOLKA AKCYJNA': 0.9984375786596265,\n",
      " 'price_OT LOGISTICS SPOLKA AKCYJNA': 1.052944240305727,\n",
      " 'price_OVOSTAR UNION N.V.': 0.9999482464447388,\n",
      " 'price_PCC ROKITA SPOLKA AKCYJNA': 1.0318802233209359,\n",
      " 'price_PGF POLSKA GRUPA FOTOWOLTAICZNA SPOLKA AKCYJNA': 1.0899539517167856,\n",
      " 'price_PLAZA CENTERS N.V.': 1.050318378675634,\n",
      " 'price_PMPG POLSKIE MEDIA SPOLKA AKCYJNA': 1.0131224759468065,\n",
      " 'price_POLSKI KONCERN NAFTOWY ORLEN SPOLKA AKCYJNA': 0.9542313292046087,\n",
      " 'price_POLSKIE GORNICTWO NAFTOWE I GAZOWNICTWO SPOLKA AKCYJNA': 0.9527771958141692,\n",
      " 'price_PROCHEM SPOLKA AKCYJNA': 1.0350497539981258,\n",
      " 'price_PROJPRZEM MAKRUM SPOLKA AKCYJNA': 0.9624587220224607,\n",
      " 'price_PROTEKTOR SPOLKA AKCYJNA': 1.0042231646005049,\n",
      " 'price_PRZEDSIĘBIORSTWO HYDRAULIKI SILOWEJ HYDROTOR S.A.': 0.963975006320307,\n",
      " 'price_SILVAIR, INC.': 1.0329922856628135,\n",
      " 'price_SOHO DEVELOPMENT SPOLKA AKCYJNA': 0.9997499331112114,\n",
      " 'price_SOPHARMA AD': 1.0733951232312575,\n",
      " 'price_STALEXPORT AUTOSTRADY SPOLKA AKCYJNA': 1.008875466115543,\n",
      " 'price_SUNEX SPOLKA AKCYJNA': 1.0459157170287103,\n",
      " 'price_SUWARY SPOLKA AKCYJNA': 0.9806459684837646,\n",
      " 'price_SYGNITY SPOLKA AKCYJNA': 0.9820942719403906,\n",
      " 'price_TALEX SPOLKA AKCYJNA': 0.9999327788958773,\n",
      " 'price_TATRY MOUNTAIN RESORTS. A.S.': 1.0274101195305252,\n",
      " 'price_TAURON POLSKA ENERGIA SPOLKA AKCYJNA': 1.0139980781618065,\n",
      " 'price_TORPOL SPOLKA AKCYJNA': 1.018968349166304,\n",
      " 'price_TRANS POLONIA SPOLKA AKCYJNA': 0.9702153281537853,\n",
      " 'price_VISTULA RETAIL GROUP SPOLKA AKCYJNA': 0.9946288542669299,\n",
      " 'price_VOTUM SPOLKA AKCYJNA': 1.0389986297597926,\n",
      " 'price_WIKANA SPOLKA AKCYJNA': 1.0494644563276276,\n",
      " 'price_WITTCHEN SPOLKA AKCYJNA': 0.9970986981576326,\n",
      " 'price_ZAKLAD BUDOWY MASZYN ZREMB-CHOJNICE SPOLKA AKCYJNA': 1.0039067505635217,\n",
      " 'price_ZPUE SPOLKA AKCYJNA': 0.9964917728825954,\n",
      " 'price_ČEZ. A.S.': 1.0124553571472454,\n",
      " 'rate_of_return': 0.005532836339856573,\n",
      " 'reward': 9.513079969953459e-05,\n",
      " 'steps': 59,\n",
      " 'weight_AC SPOLKA AKCYJNA': 0.0003041638,\n",
      " 'weight_ALUMETAL SPOLKA AKCYJNA': 0.00039465996,\n",
      " 'weight_APLISENS SPOLKA AKCYJNA': 0.0011439681,\n",
      " 'weight_ARCHICOM SPOLKA AKCYJNA': 0.93268687,\n",
      " 'weight_ARCTIC PAPER SPOLKA AKCYJNA': 0.0012068971,\n",
      " 'weight_ARTERIA SPOLKA AKCYJNA': 0.0005991598,\n",
      " 'weight_AS SILVANO FASHION GROUP': 0.0003469131,\n",
      " 'weight_ASSECO BUSINESS SOLUTIONS SPOLKA AKCYJNA': 0.00032278517,\n",
      " 'weight_ASSECO POLAND SPOLKA AKCYJNA': 0.00040931086,\n",
      " 'weight_ASSECO SOUTH EASTERN EUROPE SPOLKA AKCYJNA': 0.00080865517,\n",
      " 'weight_ATLANTA POLAND SPOLKA AKCYJNA': 0.0018000336,\n",
      " 'weight_BBI DEVELOPMENT SPOLKA AKCYJNA': 0.0016760143,\n",
      " 'weight_BETACOM SPOLKA AKCYJNA': 0.00062228617,\n",
      " 'weight_BORYSZEW SPOLKA AKCYJNA': 0.00034640366,\n",
      " 'weight_BOWIM SPOLKA AKCYJNA': 0.00037841997,\n",
      " 'weight_BUMECH SPOLKA AKCYJNA': 0.00047118418,\n",
      " 'weight_CASH': 0.0011027404,\n",
      " 'weight_CCC SPOLKA AKCYJNA': 0.0008390983,\n",
      " 'weight_CD PROJEKT SPOLKA AKCYJNA': 0.0020412153,\n",
      " 'weight_CENTRUM MEDYCZNE ENEL-MED SPOLKA AKCYJNA': 0.0013313384,\n",
      " 'weight_CENTRUM NOWOCZESNYCH TECHNOLOGII SPOLKA AKCYJNA': 0.0006295753,\n",
      " 'weight_CIECH SPOLKA AKCYJNA': 0.000369304,\n",
      " 'weight_COMP SPOLKA AKCYJNA': 0.0003341072,\n",
      " 'weight_CYFROWY POLSAT SPOLKA AKCYJNA': 0.0004883058,\n",
      " 'weight_DIGITAL NETWORK SPOLKA AKCYJNA': 0.0005313856,\n",
      " 'weight_DINO POLSKA SPOLKA AKCYJNA': 0.0015172416,\n",
      " 'weight_DROZAPOL-PROFIL SPOLKA AKCYJNA': 0.0009334213,\n",
      " 'weight_ERG SPOLKA AKCYJNA': 0.00059304235,\n",
      " 'weight_FERRUM SPOLKA AKCYJNA': 0.00042654196,\n",
      " 'weight_FIRMA OPONIARSKA DĘBICA SPOLKA AKCYJNA': 0.00032305988,\n",
      " 'weight_GETIN HOLDING SPOLKA AKCYJNA': 0.00043278825,\n",
      " 'weight_GI GROUP POLAND SPOLKA AKCYJNA': 0.00076237594,\n",
      " 'weight_GIELDA PAPIEROW WARTOŚCIOWYCH W WARSZAWIE SPOLKA AKCYJNA': 0.001798009,\n",
      " 'weight_GLOBE TRADE CENTRE SPOLKA AKCYJNA': 0.0013660156,\n",
      " 'weight_GRUPA AZOTY SPOLKA AKCYJNA': 0.0005642448,\n",
      " 'weight_GRUPA AZOTY ZAKLADY CHEMICZNE POLICE SPOLKA AKCYJNA': 0.00033195337,\n",
      " 'weight_GRUPA KAPITALOWA IMMOBILE SPOLKA AKCYJNA': 0.0003509286,\n",
      " 'weight_GRUPA KĘTY SPOLKA AKCYJNA': 0.00045499046,\n",
      " 'weight_IFIRMA SPOLKA AKCYJNA': 0.0009018451,\n",
      " 'weight_IMMOFINANZ AG': 0.0016518839,\n",
      " 'weight_INDUSTRIAL MILK COMPANY S.A.': 0.0011590847,\n",
      " 'weight_INSTAL KRAKOW SPOLKA AKCYJNA': 0.00056766433,\n",
      " 'weight_INVISTA SPOLKA AKCYJNA': 0.00031516206,\n",
      " 'weight_JASTRZĘBSKA SPOLKA WĘGLOWA SPOLKA AKCYJNA': 0.00033437222,\n",
      " 'weight_KGHM POLSKA MIEDŹ SPOLKA AKCYJNA': 0.00045732787,\n",
      " 'weight_KOSZALIŃSKIE PRZEDSIĘBIORSTWO PRZEMYSLU DRZEWNEGO SPOLKA AKCYJNA': 0.0009418706,\n",
      " 'weight_KRKA. TOVARNA ZDRAVIL. D.D.. NOVO MESTO': 0.0031432733,\n",
      " 'weight_LENA LIGHTING SPOLKA AKCYJNA': 0.0011077445,\n",
      " 'weight_LIBET SPOLKA AKCYJNA': 0.0006353372,\n",
      " 'weight_LUBAWA SPOLKA AKCYJNA': 0.0002597548,\n",
      " 'weight_MARIE BRIZARD WINE & SPIRITS': 0.00033903882,\n",
      " 'weight_MENNICA POLSKA SPOLKA AKCYJNA': 0.00043932855,\n",
      " 'weight_MLP GROUP SPOLKA AKCYJNA': 0.0010553714,\n",
      " 'weight_MOJ SPOLKA AKCYJNA': 0.0018091125,\n",
      " 'weight_OEX SPOLKA AKCYJNA': 0.0011701207,\n",
      " 'weight_ORANGE POLSKA SPOLKA AKCYJNA': 0.0006478038,\n",
      " 'weight_OT LOGISTICS SPOLKA AKCYJNA': 0.00023510864,\n",
      " 'weight_OVOSTAR UNION N.V.': 0.00031848333,\n",
      " 'weight_PCC ROKITA SPOLKA AKCYJNA': 0.0003835778,\n",
      " 'weight_PGF POLSKA GRUPA FOTOWOLTAICZNA SPOLKA AKCYJNA': 0.00086932443,\n",
      " 'weight_PLAZA CENTERS N.V.': 0.0011960554,\n",
      " 'weight_PMPG POLSKIE MEDIA SPOLKA AKCYJNA': 0.0010192138,\n",
      " 'weight_POLSKI KONCERN NAFTOWY ORLEN SPOLKA AKCYJNA': 0.00072862924,\n",
      " 'weight_POLSKIE GORNICTWO NAFTOWE I GAZOWNICTWO SPOLKA AKCYJNA': 0.0003058958,\n",
      " 'weight_PROCHEM SPOLKA AKCYJNA': 0.00032568155,\n",
      " 'weight_PROJPRZEM MAKRUM SPOLKA AKCYJNA': 0.00036999988,\n",
      " 'weight_PROTEKTOR SPOLKA AKCYJNA': 0.0008067652,\n",
      " 'weight_PRZEDSIĘBIORSTWO HYDRAULIKI SILOWEJ HYDROTOR S.A.': 0.0015485771,\n",
      " 'weight_SILVAIR, INC.': 0.0010446139,\n",
      " 'weight_SOHO DEVELOPMENT SPOLKA AKCYJNA': 0.0007064111,\n",
      " 'weight_SOPHARMA AD': 0.00028446547,\n",
      " 'weight_STALEXPORT AUTOSTRADY SPOLKA AKCYJNA': 0.0002835213,\n",
      " 'weight_SUNEX SPOLKA AKCYJNA': 0.00039704735,\n",
      " 'weight_SUWARY SPOLKA AKCYJNA': 0.00086505123,\n",
      " 'weight_SYGNITY SPOLKA AKCYJNA': 0.0018287323,\n",
      " 'weight_TALEX SPOLKA AKCYJNA': 0.0013063485,\n",
      " 'weight_TATRY MOUNTAIN RESORTS. A.S.': 0.00073194434,\n",
      " 'weight_TAURON POLSKA ENERGIA SPOLKA AKCYJNA': 0.00029811353,\n",
      " 'weight_TORPOL SPOLKA AKCYJNA': 0.0003283137,\n",
      " 'weight_TRANS POLONIA SPOLKA AKCYJNA': 0.0003804228,\n",
      " 'weight_VISTULA RETAIL GROUP SPOLKA AKCYJNA': 0.0009451892,\n",
      " 'weight_VOTUM SPOLKA AKCYJNA': 0.0015806434,\n",
      " 'weight_WIKANA SPOLKA AKCYJNA': 0.0011425109,\n",
      " 'weight_WITTCHEN SPOLKA AKCYJNA': 0.00077067135,\n",
      " 'weight_ZAKLAD BUDOWY MASZYN ZREMB-CHOJNICE SPOLKA AKCYJNA': 0.00031757454,\n",
      " 'weight_ZPUE SPOLKA AKCYJNA': 0.00032969585,\n",
      " 'weight_ČEZ. A.S.': 0.0003758523,\n",
      " 'weights_mean': 0.011494253,\n",
      " 'weights_std': 0.099336155}\n"
     ]
    },
    {
     "data": {
      "application/vnd.plotly.v1+json": {
       "config": {
        "plotlyServerURL": "https://plot.ly"
       },
       "data": [
        {
         "line": {
          "color": "firebrick"
         },
         "mode": "lines",
         "name": "Market Value",
         "type": "scatter",
         "x": [
          "2022-06-17T00:00:00",
          "2022-06-20T00:00:00",
          "2022-06-21T00:00:00",
          "2022-06-22T00:00:00",
          "2022-06-23T00:00:00",
          "2022-06-24T00:00:00",
          "2022-06-27T00:00:00",
          "2022-06-28T00:00:00",
          "2022-06-29T00:00:00",
          "2022-06-30T00:00:00",
          "2022-07-01T00:00:00",
          "2022-07-04T00:00:00",
          "2022-07-05T00:00:00",
          "2022-07-06T00:00:00",
          "2022-07-07T00:00:00",
          "2022-07-08T00:00:00",
          "2022-07-11T00:00:00",
          "2022-07-12T00:00:00",
          "2022-07-13T00:00:00",
          "2022-07-14T00:00:00",
          "2022-07-15T00:00:00",
          "2022-07-18T00:00:00",
          "2022-07-19T00:00:00",
          "2022-07-20T00:00:00",
          "2022-07-21T00:00:00",
          "2022-07-22T00:00:00",
          "2022-07-25T00:00:00",
          "2022-07-26T00:00:00",
          "2022-07-27T00:00:00",
          "2022-07-28T00:00:00",
          "2022-07-29T00:00:00",
          "2022-08-01T00:00:00",
          "2022-08-02T00:00:00",
          "2022-08-03T00:00:00",
          "2022-08-04T00:00:00",
          "2022-08-05T00:00:00",
          "2022-08-08T00:00:00",
          "2022-08-09T00:00:00",
          "2022-08-10T00:00:00",
          "2022-08-11T00:00:00",
          "2022-08-12T00:00:00",
          "2022-08-16T00:00:00",
          "2022-08-17T00:00:00",
          "2022-08-18T00:00:00",
          "2022-08-19T00:00:00",
          "2022-08-22T00:00:00",
          "2022-08-23T00:00:00",
          "2022-08-24T00:00:00",
          "2022-08-25T00:00:00",
          "2022-08-26T00:00:00",
          "2022-08-29T00:00:00",
          "2022-08-30T00:00:00",
          "2022-08-31T00:00:00",
          "2022-09-01T00:00:00",
          "2022-09-02T00:00:00",
          "2022-09-05T00:00:00",
          "2022-09-06T00:00:00",
          "2022-09-07T00:00:00",
          "2022-09-08T00:00:00"
         ],
         "y": [
          1.002209062352953,
          0.9966308071294409,
          0.9879947358444228,
          0.9815578786055966,
          0.9824758328599106,
          0.966387360156058,
          0.974814956216491,
          0.9732831609966647,
          0.9635028328165302,
          0.9671499922626577,
          0.9728255405394602,
          0.9785343947651849,
          0.9842767503898885,
          0.990052804010592,
          0.9958627533780111,
          1.0017067974033265,
          1.0075851361649937,
          1.0134979709155936,
          1.0194455040887218,
          1.0254279393059198,
          1.0314454813836458,
          1.0374983363402872,
          1.0435867114032138,
          1.0497108150158725,
          1.0558708568449235,
          1.0620670477874188,
          1.068299599978022,
          1.074568726796272,
          1.0808746428738871,
          1.0872175641021142,
          1.0935977076391195,
          1.100015291917423,
          1.1064705366513783,
          1.1129636628446926,
          1.119494892797995,
          1.126064450116446,
          1.1326725597173934,
          1.1393194478380726,
          1.146005342043352,
          1.1527304712335245,
          1.1594950656521432,
          1.1662993568939053,
          1.1731435779125798,
          1.1800279630289843,
          1.1869527479390058,
          1.1939181697216714,
          1.2009244668472643,
          1.207971879185488,
          1.2150606480136794,
          1.2221910160250682,
          1.2293632273370865,
          1.2365775274997262,
          1.2438341635039456,
          1.2511333837901262,
          1.2584754382565773,
          1.2658605782680923,
          1.2732890566645545,
          1.280761127769593,
          1.2882770473992902
         ]
        },
        {
         "line": {
          "color": "royalblue"
         },
         "mode": "lines",
         "name": "Portfolio Value",
         "type": "scatter",
         "x": [
          "2022-06-17T00:00:00",
          "2022-06-20T00:00:00",
          "2022-06-21T00:00:00",
          "2022-06-22T00:00:00",
          "2022-06-23T00:00:00",
          "2022-06-24T00:00:00",
          "2022-06-27T00:00:00",
          "2022-06-28T00:00:00",
          "2022-06-29T00:00:00",
          "2022-06-30T00:00:00",
          "2022-07-01T00:00:00",
          "2022-07-04T00:00:00",
          "2022-07-05T00:00:00",
          "2022-07-06T00:00:00",
          "2022-07-07T00:00:00",
          "2022-07-08T00:00:00",
          "2022-07-11T00:00:00",
          "2022-07-12T00:00:00",
          "2022-07-13T00:00:00",
          "2022-07-14T00:00:00",
          "2022-07-15T00:00:00",
          "2022-07-18T00:00:00",
          "2022-07-19T00:00:00",
          "2022-07-20T00:00:00",
          "2022-07-21T00:00:00",
          "2022-07-22T00:00:00",
          "2022-07-25T00:00:00",
          "2022-07-26T00:00:00",
          "2022-07-27T00:00:00",
          "2022-07-28T00:00:00",
          "2022-07-29T00:00:00",
          "2022-08-01T00:00:00",
          "2022-08-02T00:00:00",
          "2022-08-03T00:00:00",
          "2022-08-04T00:00:00",
          "2022-08-05T00:00:00",
          "2022-08-08T00:00:00",
          "2022-08-09T00:00:00",
          "2022-08-10T00:00:00",
          "2022-08-11T00:00:00",
          "2022-08-12T00:00:00",
          "2022-08-16T00:00:00",
          "2022-08-17T00:00:00",
          "2022-08-18T00:00:00",
          "2022-08-19T00:00:00",
          "2022-08-22T00:00:00",
          "2022-08-23T00:00:00",
          "2022-08-24T00:00:00",
          "2022-08-25T00:00:00",
          "2022-08-26T00:00:00",
          "2022-08-29T00:00:00",
          "2022-08-30T00:00:00",
          "2022-08-31T00:00:00",
          "2022-09-01T00:00:00",
          "2022-09-02T00:00:00",
          "2022-09-05T00:00:00",
          "2022-09-06T00:00:00",
          "2022-09-07T00:00:00",
          "2022-09-08T00:00:00"
         ],
         "y": [
          1,
          0.9975027470373438,
          0.9994476940454977,
          1.0042114899625723,
          0.9965718792761155,
          0.9957388440038974,
          0.9961104747431301,
          0.9984409270574348,
          0.9926079654768174,
          0.990395497210892,
          0.9958751934086907,
          1.001385207868744,
          1.0069257083370349,
          1.0124968634876579,
          1.0180988429279532,
          1.023731817203671,
          1.0293959578041627,
          1.035091437167603,
          1.040818428686238,
          1.0465771067116656,
          1.052367646560142,
          1.058190224517919,
          1.0640450178466128,
          1.0699322047885977,
          1.075851964572435,
          1.0818044774183273,
          1.0877899245436071,
          1.093808488168252,
          1.0998603515204326,
          1.1059456988420922,
          1.1120647153945538,
          1.118217587464161,
          1.1244045023679494,
          1.130625648459349,
          1.1368812151339187,
          1.1431713928351117,
          1.1494963730600742,
          1.1558563483654742,
          1.1622515123733645,
          1.168682059777077,
          1.1751481863471502,
          1.1816500889372883,
          1.1881879654903553,
          1.1947620150444005,
          1.2013724377387185,
          1.2080194348199413,
          1.2147032086481662,
          1.2214239627031152,
          1.2281819015903306,
          1.2349772310474036,
          1.241810157950238,
          1.2486808903193483,
          1.2555896373261917,
          1.2625366092995374,
          1.2695220177318691,
          1.276546075285824,
          1.2836089958006665,
          1.290710994298799,
          1.297852286992308
         ]
        },
        {
         "line": {
          "color": "grey",
          "dash": "dash",
          "width": 2
         },
         "name": "start value",
         "type": "scatter",
         "x": [
          "2022-06-17T00:00:00",
          "2022-06-20T00:00:00",
          "2022-06-21T00:00:00",
          "2022-06-22T00:00:00",
          "2022-06-23T00:00:00",
          "2022-06-24T00:00:00",
          "2022-06-27T00:00:00",
          "2022-06-28T00:00:00",
          "2022-06-29T00:00:00",
          "2022-06-30T00:00:00",
          "2022-07-01T00:00:00",
          "2022-07-04T00:00:00",
          "2022-07-05T00:00:00",
          "2022-07-06T00:00:00",
          "2022-07-07T00:00:00",
          "2022-07-08T00:00:00",
          "2022-07-11T00:00:00",
          "2022-07-12T00:00:00",
          "2022-07-13T00:00:00",
          "2022-07-14T00:00:00",
          "2022-07-15T00:00:00",
          "2022-07-18T00:00:00",
          "2022-07-19T00:00:00",
          "2022-07-20T00:00:00",
          "2022-07-21T00:00:00",
          "2022-07-22T00:00:00",
          "2022-07-25T00:00:00",
          "2022-07-26T00:00:00",
          "2022-07-27T00:00:00",
          "2022-07-28T00:00:00",
          "2022-07-29T00:00:00",
          "2022-08-01T00:00:00",
          "2022-08-02T00:00:00",
          "2022-08-03T00:00:00",
          "2022-08-04T00:00:00",
          "2022-08-05T00:00:00",
          "2022-08-08T00:00:00",
          "2022-08-09T00:00:00",
          "2022-08-10T00:00:00",
          "2022-08-11T00:00:00",
          "2022-08-12T00:00:00",
          "2022-08-16T00:00:00",
          "2022-08-17T00:00:00",
          "2022-08-18T00:00:00",
          "2022-08-19T00:00:00",
          "2022-08-22T00:00:00",
          "2022-08-23T00:00:00",
          "2022-08-24T00:00:00",
          "2022-08-25T00:00:00",
          "2022-08-26T00:00:00",
          "2022-08-29T00:00:00",
          "2022-08-30T00:00:00",
          "2022-08-31T00:00:00",
          "2022-09-01T00:00:00",
          "2022-09-02T00:00:00",
          "2022-09-05T00:00:00",
          "2022-09-06T00:00:00",
          "2022-09-07T00:00:00",
          "2022-09-08T00:00:00"
         ],
         "y": [
          1,
          1,
          1,
          1,
          1,
          1,
          1,
          1,
          1,
          1,
          1,
          1,
          1,
          1,
          1,
          1,
          1,
          1,
          1,
          1,
          1,
          1,
          1,
          1,
          1,
          1,
          1,
          1,
          1,
          1,
          1,
          1,
          1,
          1,
          1,
          1,
          1,
          1,
          1,
          1,
          1,
          1,
          1,
          1,
          1,
          1,
          1,
          1,
          1,
          1,
          1,
          1,
          1,
          1,
          1,
          1,
          1,
          1,
          1
         ]
        }
       ],
       "layout": {
        "template": {
         "data": {
          "bar": [
           {
            "error_x": {
             "color": "#2a3f5f"
            },
            "error_y": {
             "color": "#2a3f5f"
            },
            "marker": {
             "line": {
              "color": "#E5ECF6",
              "width": 0.5
             },
             "pattern": {
              "fillmode": "overlay",
              "size": 10,
              "solidity": 0.2
             }
            },
            "type": "bar"
           }
          ],
          "barpolar": [
           {
            "marker": {
             "line": {
              "color": "#E5ECF6",
              "width": 0.5
             },
             "pattern": {
              "fillmode": "overlay",
              "size": 10,
              "solidity": 0.2
             }
            },
            "type": "barpolar"
           }
          ],
          "carpet": [
           {
            "aaxis": {
             "endlinecolor": "#2a3f5f",
             "gridcolor": "white",
             "linecolor": "white",
             "minorgridcolor": "white",
             "startlinecolor": "#2a3f5f"
            },
            "baxis": {
             "endlinecolor": "#2a3f5f",
             "gridcolor": "white",
             "linecolor": "white",
             "minorgridcolor": "white",
             "startlinecolor": "#2a3f5f"
            },
            "type": "carpet"
           }
          ],
          "choropleth": [
           {
            "colorbar": {
             "outlinewidth": 0,
             "ticks": ""
            },
            "type": "choropleth"
           }
          ],
          "contour": [
           {
            "colorbar": {
             "outlinewidth": 0,
             "ticks": ""
            },
            "colorscale": [
             [
              0,
              "#0d0887"
             ],
             [
              0.1111111111111111,
              "#46039f"
             ],
             [
              0.2222222222222222,
              "#7201a8"
             ],
             [
              0.3333333333333333,
              "#9c179e"
             ],
             [
              0.4444444444444444,
              "#bd3786"
             ],
             [
              0.5555555555555556,
              "#d8576b"
             ],
             [
              0.6666666666666666,
              "#ed7953"
             ],
             [
              0.7777777777777778,
              "#fb9f3a"
             ],
             [
              0.8888888888888888,
              "#fdca26"
             ],
             [
              1,
              "#f0f921"
             ]
            ],
            "type": "contour"
           }
          ],
          "contourcarpet": [
           {
            "colorbar": {
             "outlinewidth": 0,
             "ticks": ""
            },
            "type": "contourcarpet"
           }
          ],
          "heatmap": [
           {
            "colorbar": {
             "outlinewidth": 0,
             "ticks": ""
            },
            "colorscale": [
             [
              0,
              "#0d0887"
             ],
             [
              0.1111111111111111,
              "#46039f"
             ],
             [
              0.2222222222222222,
              "#7201a8"
             ],
             [
              0.3333333333333333,
              "#9c179e"
             ],
             [
              0.4444444444444444,
              "#bd3786"
             ],
             [
              0.5555555555555556,
              "#d8576b"
             ],
             [
              0.6666666666666666,
              "#ed7953"
             ],
             [
              0.7777777777777778,
              "#fb9f3a"
             ],
             [
              0.8888888888888888,
              "#fdca26"
             ],
             [
              1,
              "#f0f921"
             ]
            ],
            "type": "heatmap"
           }
          ],
          "heatmapgl": [
           {
            "colorbar": {
             "outlinewidth": 0,
             "ticks": ""
            },
            "colorscale": [
             [
              0,
              "#0d0887"
             ],
             [
              0.1111111111111111,
              "#46039f"
             ],
             [
              0.2222222222222222,
              "#7201a8"
             ],
             [
              0.3333333333333333,
              "#9c179e"
             ],
             [
              0.4444444444444444,
              "#bd3786"
             ],
             [
              0.5555555555555556,
              "#d8576b"
             ],
             [
              0.6666666666666666,
              "#ed7953"
             ],
             [
              0.7777777777777778,
              "#fb9f3a"
             ],
             [
              0.8888888888888888,
              "#fdca26"
             ],
             [
              1,
              "#f0f921"
             ]
            ],
            "type": "heatmapgl"
           }
          ],
          "histogram": [
           {
            "marker": {
             "pattern": {
              "fillmode": "overlay",
              "size": 10,
              "solidity": 0.2
             }
            },
            "type": "histogram"
           }
          ],
          "histogram2d": [
           {
            "colorbar": {
             "outlinewidth": 0,
             "ticks": ""
            },
            "colorscale": [
             [
              0,
              "#0d0887"
             ],
             [
              0.1111111111111111,
              "#46039f"
             ],
             [
              0.2222222222222222,
              "#7201a8"
             ],
             [
              0.3333333333333333,
              "#9c179e"
             ],
             [
              0.4444444444444444,
              "#bd3786"
             ],
             [
              0.5555555555555556,
              "#d8576b"
             ],
             [
              0.6666666666666666,
              "#ed7953"
             ],
             [
              0.7777777777777778,
              "#fb9f3a"
             ],
             [
              0.8888888888888888,
              "#fdca26"
             ],
             [
              1,
              "#f0f921"
             ]
            ],
            "type": "histogram2d"
           }
          ],
          "histogram2dcontour": [
           {
            "colorbar": {
             "outlinewidth": 0,
             "ticks": ""
            },
            "colorscale": [
             [
              0,
              "#0d0887"
             ],
             [
              0.1111111111111111,
              "#46039f"
             ],
             [
              0.2222222222222222,
              "#7201a8"
             ],
             [
              0.3333333333333333,
              "#9c179e"
             ],
             [
              0.4444444444444444,
              "#bd3786"
             ],
             [
              0.5555555555555556,
              "#d8576b"
             ],
             [
              0.6666666666666666,
              "#ed7953"
             ],
             [
              0.7777777777777778,
              "#fb9f3a"
             ],
             [
              0.8888888888888888,
              "#fdca26"
             ],
             [
              1,
              "#f0f921"
             ]
            ],
            "type": "histogram2dcontour"
           }
          ],
          "mesh3d": [
           {
            "colorbar": {
             "outlinewidth": 0,
             "ticks": ""
            },
            "type": "mesh3d"
           }
          ],
          "parcoords": [
           {
            "line": {
             "colorbar": {
              "outlinewidth": 0,
              "ticks": ""
             }
            },
            "type": "parcoords"
           }
          ],
          "pie": [
           {
            "automargin": true,
            "type": "pie"
           }
          ],
          "scatter": [
           {
            "marker": {
             "colorbar": {
              "outlinewidth": 0,
              "ticks": ""
             }
            },
            "type": "scatter"
           }
          ],
          "scatter3d": [
           {
            "line": {
             "colorbar": {
              "outlinewidth": 0,
              "ticks": ""
             }
            },
            "marker": {
             "colorbar": {
              "outlinewidth": 0,
              "ticks": ""
             }
            },
            "type": "scatter3d"
           }
          ],
          "scattercarpet": [
           {
            "marker": {
             "colorbar": {
              "outlinewidth": 0,
              "ticks": ""
             }
            },
            "type": "scattercarpet"
           }
          ],
          "scattergeo": [
           {
            "marker": {
             "colorbar": {
              "outlinewidth": 0,
              "ticks": ""
             }
            },
            "type": "scattergeo"
           }
          ],
          "scattergl": [
           {
            "marker": {
             "colorbar": {
              "outlinewidth": 0,
              "ticks": ""
             }
            },
            "type": "scattergl"
           }
          ],
          "scattermapbox": [
           {
            "marker": {
             "colorbar": {
              "outlinewidth": 0,
              "ticks": ""
             }
            },
            "type": "scattermapbox"
           }
          ],
          "scatterpolar": [
           {
            "marker": {
             "colorbar": {
              "outlinewidth": 0,
              "ticks": ""
             }
            },
            "type": "scatterpolar"
           }
          ],
          "scatterpolargl": [
           {
            "marker": {
             "colorbar": {
              "outlinewidth": 0,
              "ticks": ""
             }
            },
            "type": "scatterpolargl"
           }
          ],
          "scatterternary": [
           {
            "marker": {
             "colorbar": {
              "outlinewidth": 0,
              "ticks": ""
             }
            },
            "type": "scatterternary"
           }
          ],
          "surface": [
           {
            "colorbar": {
             "outlinewidth": 0,
             "ticks": ""
            },
            "colorscale": [
             [
              0,
              "#0d0887"
             ],
             [
              0.1111111111111111,
              "#46039f"
             ],
             [
              0.2222222222222222,
              "#7201a8"
             ],
             [
              0.3333333333333333,
              "#9c179e"
             ],
             [
              0.4444444444444444,
              "#bd3786"
             ],
             [
              0.5555555555555556,
              "#d8576b"
             ],
             [
              0.6666666666666666,
              "#ed7953"
             ],
             [
              0.7777777777777778,
              "#fb9f3a"
             ],
             [
              0.8888888888888888,
              "#fdca26"
             ],
             [
              1,
              "#f0f921"
             ]
            ],
            "type": "surface"
           }
          ],
          "table": [
           {
            "cells": {
             "fill": {
              "color": "#EBF0F8"
             },
             "line": {
              "color": "white"
             }
            },
            "header": {
             "fill": {
              "color": "#C8D4E3"
             },
             "line": {
              "color": "white"
             }
            },
            "type": "table"
           }
          ]
         },
         "layout": {
          "annotationdefaults": {
           "arrowcolor": "#2a3f5f",
           "arrowhead": 0,
           "arrowwidth": 1
          },
          "autotypenumbers": "strict",
          "coloraxis": {
           "colorbar": {
            "outlinewidth": 0,
            "ticks": ""
           }
          },
          "colorscale": {
           "diverging": [
            [
             0,
             "#8e0152"
            ],
            [
             0.1,
             "#c51b7d"
            ],
            [
             0.2,
             "#de77ae"
            ],
            [
             0.3,
             "#f1b6da"
            ],
            [
             0.4,
             "#fde0ef"
            ],
            [
             0.5,
             "#f7f7f7"
            ],
            [
             0.6,
             "#e6f5d0"
            ],
            [
             0.7,
             "#b8e186"
            ],
            [
             0.8,
             "#7fbc41"
            ],
            [
             0.9,
             "#4d9221"
            ],
            [
             1,
             "#276419"
            ]
           ],
           "sequential": [
            [
             0,
             "#0d0887"
            ],
            [
             0.1111111111111111,
             "#46039f"
            ],
            [
             0.2222222222222222,
             "#7201a8"
            ],
            [
             0.3333333333333333,
             "#9c179e"
            ],
            [
             0.4444444444444444,
             "#bd3786"
            ],
            [
             0.5555555555555556,
             "#d8576b"
            ],
            [
             0.6666666666666666,
             "#ed7953"
            ],
            [
             0.7777777777777778,
             "#fb9f3a"
            ],
            [
             0.8888888888888888,
             "#fdca26"
            ],
            [
             1,
             "#f0f921"
            ]
           ],
           "sequentialminus": [
            [
             0,
             "#0d0887"
            ],
            [
             0.1111111111111111,
             "#46039f"
            ],
            [
             0.2222222222222222,
             "#7201a8"
            ],
            [
             0.3333333333333333,
             "#9c179e"
            ],
            [
             0.4444444444444444,
             "#bd3786"
            ],
            [
             0.5555555555555556,
             "#d8576b"
            ],
            [
             0.6666666666666666,
             "#ed7953"
            ],
            [
             0.7777777777777778,
             "#fb9f3a"
            ],
            [
             0.8888888888888888,
             "#fdca26"
            ],
            [
             1,
             "#f0f921"
            ]
           ]
          },
          "colorway": [
           "#636efa",
           "#EF553B",
           "#00cc96",
           "#ab63fa",
           "#FFA15A",
           "#19d3f3",
           "#FF6692",
           "#B6E880",
           "#FF97FF",
           "#FECB52"
          ],
          "font": {
           "color": "#2a3f5f"
          },
          "geo": {
           "bgcolor": "white",
           "lakecolor": "white",
           "landcolor": "#E5ECF6",
           "showlakes": true,
           "showland": true,
           "subunitcolor": "white"
          },
          "hoverlabel": {
           "align": "left"
          },
          "hovermode": "closest",
          "mapbox": {
           "style": "light"
          },
          "paper_bgcolor": "white",
          "plot_bgcolor": "#E5ECF6",
          "polar": {
           "angularaxis": {
            "gridcolor": "white",
            "linecolor": "white",
            "ticks": ""
           },
           "bgcolor": "#E5ECF6",
           "radialaxis": {
            "gridcolor": "white",
            "linecolor": "white",
            "ticks": ""
           }
          },
          "scene": {
           "xaxis": {
            "backgroundcolor": "#E5ECF6",
            "gridcolor": "white",
            "gridwidth": 2,
            "linecolor": "white",
            "showbackground": true,
            "ticks": "",
            "zerolinecolor": "white"
           },
           "yaxis": {
            "backgroundcolor": "#E5ECF6",
            "gridcolor": "white",
            "gridwidth": 2,
            "linecolor": "white",
            "showbackground": true,
            "ticks": "",
            "zerolinecolor": "white"
           },
           "zaxis": {
            "backgroundcolor": "#E5ECF6",
            "gridcolor": "white",
            "gridwidth": 2,
            "linecolor": "white",
            "showbackground": true,
            "ticks": "",
            "zerolinecolor": "white"
           }
          },
          "shapedefaults": {
           "line": {
            "color": "#2a3f5f"
           }
          },
          "ternary": {
           "aaxis": {
            "gridcolor": "white",
            "linecolor": "white",
            "ticks": ""
           },
           "baxis": {
            "gridcolor": "white",
            "linecolor": "white",
            "ticks": ""
           },
           "bgcolor": "#E5ECF6",
           "caxis": {
            "gridcolor": "white",
            "linecolor": "white",
            "ticks": ""
           }
          },
          "title": {
           "x": 0.05
          },
          "xaxis": {
           "automargin": true,
           "gridcolor": "white",
           "linecolor": "white",
           "ticks": "",
           "title": {
            "standoff": 15
           },
           "zerolinecolor": "white",
           "zerolinewidth": 2
          },
          "yaxis": {
           "automargin": true,
           "gridcolor": "white",
           "linecolor": "white",
           "ticks": "",
           "title": {
            "standoff": 15
           },
           "zerolinecolor": "white",
           "zerolinewidth": 2
          }
         }
        },
        "title": {
         "text": "max_drawdown=-0.00% sharpe_ratio= 8.5406 mean_rate_of_return= 44.3265% cost= 0.0027"
        },
        "xaxis": {
         "title": {
          "text": "Date"
         }
        },
        "yaxis": {
         "title": {
          "text": "Normalized value"
         }
        }
       }
      }
     },
     "metadata": {},
     "output_type": "display_data"
    },
    {
     "data": {
      "application/vnd.plotly.v1+json": {
       "config": {
        "plotlyServerURL": "https://plot.ly"
       },
       "data": [
        {
         "customdata": [
          [
           "CASH"
          ],
          [
           "AC SPOLKA AKCYJNA"
          ],
          [
           "ALUMETAL SPOLKA AKCYJNA"
          ],
          [
           "APLISENS SPOLKA AKCYJNA"
          ],
          [
           "ARCHICOM SPOLKA AKCYJNA"
          ],
          [
           "ARCTIC PAPER SPOLKA AKCYJNA"
          ],
          [
           "ARTERIA SPOLKA AKCYJNA"
          ],
          [
           "AS SILVANO FASHION GROUP"
          ],
          [
           "ASSECO BUSINESS SOLUTIONS SPOLKA AKCYJNA"
          ],
          [
           "ASSECO POLAND SPOLKA AKCYJNA"
          ],
          [
           "ASSECO SOUTH EASTERN EUROPE SPOLKA AKCYJNA"
          ],
          [
           "ATLANTA POLAND SPOLKA AKCYJNA"
          ],
          [
           "BBI DEVELOPMENT SPOLKA AKCYJNA"
          ],
          [
           "BETACOM SPOLKA AKCYJNA"
          ],
          [
           "BORYSZEW SPOLKA AKCYJNA"
          ],
          [
           "BOWIM SPOLKA AKCYJNA"
          ],
          [
           "BUMECH SPOLKA AKCYJNA"
          ],
          [
           "CCC SPOLKA AKCYJNA"
          ],
          [
           "CD PROJEKT SPOLKA AKCYJNA"
          ],
          [
           "CENTRUM MEDYCZNE ENEL-MED SPOLKA AKCYJNA"
          ],
          [
           "CENTRUM NOWOCZESNYCH TECHNOLOGII SPOLKA AKCYJNA"
          ],
          [
           "CIECH SPOLKA AKCYJNA"
          ],
          [
           "COMP SPOLKA AKCYJNA"
          ],
          [
           "CYFROWY POLSAT SPOLKA AKCYJNA"
          ],
          [
           "DIGITAL NETWORK SPOLKA AKCYJNA"
          ],
          [
           "DINO POLSKA SPOLKA AKCYJNA"
          ],
          [
           "DROZAPOL-PROFIL SPOLKA AKCYJNA"
          ],
          [
           "ERG SPOLKA AKCYJNA"
          ],
          [
           "FERRUM SPOLKA AKCYJNA"
          ],
          [
           "FIRMA OPONIARSKA DĘBICA SPOLKA AKCYJNA"
          ],
          [
           "GETIN HOLDING SPOLKA AKCYJNA"
          ],
          [
           "GI GROUP POLAND SPOLKA AKCYJNA"
          ],
          [
           "GIELDA PAPIEROW WARTOŚCIOWYCH W WARSZAWIE SPOLKA AKCYJNA"
          ],
          [
           "GLOBE TRADE CENTRE SPOLKA AKCYJNA"
          ],
          [
           "GRUPA AZOTY SPOLKA AKCYJNA"
          ],
          [
           "GRUPA AZOTY ZAKLADY CHEMICZNE POLICE SPOLKA AKCYJNA"
          ],
          [
           "GRUPA KAPITALOWA IMMOBILE SPOLKA AKCYJNA"
          ],
          [
           "GRUPA KĘTY SPOLKA AKCYJNA"
          ],
          [
           "IFIRMA SPOLKA AKCYJNA"
          ],
          [
           "IMMOFINANZ AG"
          ],
          [
           "INDUSTRIAL MILK COMPANY S.A."
          ],
          [
           "INSTAL KRAKOW SPOLKA AKCYJNA"
          ],
          [
           "INVISTA SPOLKA AKCYJNA"
          ],
          [
           "JASTRZĘBSKA SPOLKA WĘGLOWA SPOLKA AKCYJNA"
          ],
          [
           "KGHM POLSKA MIEDŹ SPOLKA AKCYJNA"
          ],
          [
           "KOSZALIŃSKIE PRZEDSIĘBIORSTWO PRZEMYSLU DRZEWNEGO SPOLKA AKCYJNA"
          ],
          [
           "KRKA. TOVARNA ZDRAVIL. D.D.. NOVO MESTO"
          ],
          [
           "LENA LIGHTING SPOLKA AKCYJNA"
          ],
          [
           "LIBET SPOLKA AKCYJNA"
          ],
          [
           "LUBAWA SPOLKA AKCYJNA"
          ],
          [
           "MARIE BRIZARD WINE & SPIRITS"
          ],
          [
           "MENNICA POLSKA SPOLKA AKCYJNA"
          ],
          [
           "MLP GROUP SPOLKA AKCYJNA"
          ],
          [
           "MOJ SPOLKA AKCYJNA"
          ],
          [
           "OEX SPOLKA AKCYJNA"
          ],
          [
           "ORANGE POLSKA SPOLKA AKCYJNA"
          ],
          [
           "OT LOGISTICS SPOLKA AKCYJNA"
          ],
          [
           "OVOSTAR UNION N.V."
          ],
          [
           "PCC ROKITA SPOLKA AKCYJNA"
          ],
          [
           "PGF POLSKA GRUPA FOTOWOLTAICZNA SPOLKA AKCYJNA"
          ],
          [
           "PLAZA CENTERS N.V."
          ],
          [
           "PMPG POLSKIE MEDIA SPOLKA AKCYJNA"
          ],
          [
           "POLSKI KONCERN NAFTOWY ORLEN SPOLKA AKCYJNA"
          ],
          [
           "POLSKIE GORNICTWO NAFTOWE I GAZOWNICTWO SPOLKA AKCYJNA"
          ],
          [
           "PROCHEM SPOLKA AKCYJNA"
          ],
          [
           "PROJPRZEM MAKRUM SPOLKA AKCYJNA"
          ],
          [
           "PROTEKTOR SPOLKA AKCYJNA"
          ],
          [
           "PRZEDSIĘBIORSTWO HYDRAULIKI SILOWEJ HYDROTOR S.A."
          ],
          [
           "SILVAIR, INC."
          ],
          [
           "SOHO DEVELOPMENT SPOLKA AKCYJNA"
          ],
          [
           "SOPHARMA AD"
          ],
          [
           "STALEXPORT AUTOSTRADY SPOLKA AKCYJNA"
          ],
          [
           "SUNEX SPOLKA AKCYJNA"
          ],
          [
           "SUWARY SPOLKA AKCYJNA"
          ],
          [
           "SYGNITY SPOLKA AKCYJNA"
          ],
          [
           "TALEX SPOLKA AKCYJNA"
          ],
          [
           "TATRY MOUNTAIN RESORTS. A.S."
          ],
          [
           "TAURON POLSKA ENERGIA SPOLKA AKCYJNA"
          ],
          [
           "TORPOL SPOLKA AKCYJNA"
          ],
          [
           "TRANS POLONIA SPOLKA AKCYJNA"
          ],
          [
           "VISTULA RETAIL GROUP SPOLKA AKCYJNA"
          ],
          [
           "VOTUM SPOLKA AKCYJNA"
          ],
          [
           "WIKANA SPOLKA AKCYJNA"
          ],
          [
           "WITTCHEN SPOLKA AKCYJNA"
          ],
          [
           "ZAKLAD BUDOWY MASZYN ZREMB-CHOJNICE SPOLKA AKCYJNA"
          ],
          [
           "ZPUE SPOLKA AKCYJNA"
          ],
          [
           "ČEZ. A.S."
          ]
         ],
         "domain": {
          "x": [
           0,
           1
          ],
          "y": [
           0,
           1
          ]
         },
         "hole": 0.3,
         "hovertemplate": "Asset names=%{label}<br>Weigths=%{value}<br>full_names=%{customdata[0]}<extra></extra>",
         "labels": [
          "CASH",
          "AC SP",
          "ALUME",
          "APLIS",
          "ARCHI",
          "ARCTI",
          "ARTER",
          "AS SI",
          "ASSEC",
          "ASSEC",
          "ASSEC",
          "ATLAN",
          "BBI D",
          "BETAC",
          "BORYS",
          "BOWIM",
          "BUMEC",
          "CCC S",
          "CD PR",
          "CENTR",
          "CENTR",
          "CIECH",
          "COMP ",
          "CYFRO",
          "DIGIT",
          "DINO ",
          "DROZA",
          "ERG S",
          "FERRU",
          "FIRMA",
          "GETIN",
          "GI GR",
          "GIELD",
          "GLOBE",
          "GRUPA",
          "GRUPA",
          "GRUPA",
          "GRUPA",
          "IFIRM",
          "IMMOF",
          "INDUS",
          "INSTA",
          "INVIS",
          "JASTR",
          "KGHM ",
          "KOSZA",
          "KRKA.",
          "LENA ",
          "LIBET",
          "LUBAW",
          "MARIE",
          "MENNI",
          "MLP G",
          "MOJ S",
          "OEX S",
          "ORANG",
          "OT LO",
          "OVOST",
          "PCC R",
          "PGF P",
          "PLAZA",
          "PMPG ",
          "POLSK",
          "POLSK",
          "PROCH",
          "PROJP",
          "PROTE",
          "PRZED",
          "SILVA",
          "SOHO ",
          "SOPHA",
          "STALE",
          "SUNEX",
          "SUWAR",
          "SYGNI",
          "TALEX",
          "TATRY",
          "TAURO",
          "TORPO",
          "TRANS",
          "VISTU",
          "VOTUM",
          "WIKAN",
          "WITTC",
          "ZAKLA",
          "ZPUE ",
          "ČEZ. "
         ],
         "legendgroup": "",
         "name": "",
         "showlegend": true,
         "textinfo": "percent+label",
         "textposition": "inside",
         "type": "pie",
         "values": [
          0.0011027404107153416,
          0.0003041638119611889,
          0.00039465996087528765,
          0.0011439680820330977,
          0.9326868653297424,
          0.0012068970827385783,
          0.0005991598009131849,
          0.00034691308974288404,
          0.00032278517028316855,
          0.00040931085823103786,
          0.0008086551679298282,
          0.0018000336131080985,
          0.001676014275290072,
          0.0006222861702553928,
          0.0003464036562945694,
          0.00037841996527276933,
          0.00047118417569436133,
          0.0008390982984565198,
          0.0020412153098732233,
          0.0013313384260982275,
          0.0006295752828009427,
          0.0003693040052894503,
          0.000334107200615108,
          0.0004883058136329055,
          0.0005313855945132673,
          0.0015172415878623724,
          0.0009334213100373745,
          0.0005930423503741622,
          0.0004265419556759298,
          0.00032305988133884966,
          0.00043278824887238443,
          0.0007623759447596967,
          0.0017980090342462063,
          0.0013660156400874257,
          0.0005642448086291552,
          0.00033195337164215744,
          0.0003509286034386605,
          0.0004549904551822692,
          0.0009018451091833413,
          0.0016518839402124286,
          0.001159084727987647,
          0.0005676643340848386,
          0.0003151620621792972,
          0.00033437222009524703,
          0.00045732787111774087,
          0.0009418706176802516,
          0.0031432732939720154,
          0.0011077445233240724,
          0.0006353372009471059,
          0.0002597548009362072,
          0.0003390388155821711,
          0.000439328548964113,
          0.0010553713655099273,
          0.0018091124948114157,
          0.0011701206676661968,
          0.0006478038267232478,
          0.00023510864411946386,
          0.00031848333310335875,
          0.0003835778043139726,
          0.0008693244308233261,
          0.0011960554402321577,
          0.0010192138142883778,
          0.0007286292384378612,
          0.0003058958100154996,
          0.00032568155438639224,
          0.0003699998778756708,
          0.0008067652233876288,
          0.0015485771000385284,
          0.0010446138912811875,
          0.0007064110832288861,
          0.00028446546639315784,
          0.00028352130902931094,
          0.0003970473480876535,
          0.0008650512318126857,
          0.0018287323182448745,
          0.001306348480284214,
          0.0007319443393498659,
          0.00029811353306286037,
          0.00032831370481289923,
          0.0003804228035733104,
          0.0009451892110519111,
          0.0015806433511897922,
          0.00114251091144979,
          0.0007706713513471186,
          0.0003175745368935168,
          0.0003296958457212895,
          0.00037585230893455446
         ]
        }
       ],
       "layout": {
        "height": 1000,
        "legend": {
         "tracegroupgap": 0
        },
        "template": {
         "data": {
          "bar": [
           {
            "error_x": {
             "color": "#2a3f5f"
            },
            "error_y": {
             "color": "#2a3f5f"
            },
            "marker": {
             "line": {
              "color": "#E5ECF6",
              "width": 0.5
             },
             "pattern": {
              "fillmode": "overlay",
              "size": 10,
              "solidity": 0.2
             }
            },
            "type": "bar"
           }
          ],
          "barpolar": [
           {
            "marker": {
             "line": {
              "color": "#E5ECF6",
              "width": 0.5
             },
             "pattern": {
              "fillmode": "overlay",
              "size": 10,
              "solidity": 0.2
             }
            },
            "type": "barpolar"
           }
          ],
          "carpet": [
           {
            "aaxis": {
             "endlinecolor": "#2a3f5f",
             "gridcolor": "white",
             "linecolor": "white",
             "minorgridcolor": "white",
             "startlinecolor": "#2a3f5f"
            },
            "baxis": {
             "endlinecolor": "#2a3f5f",
             "gridcolor": "white",
             "linecolor": "white",
             "minorgridcolor": "white",
             "startlinecolor": "#2a3f5f"
            },
            "type": "carpet"
           }
          ],
          "choropleth": [
           {
            "colorbar": {
             "outlinewidth": 0,
             "ticks": ""
            },
            "type": "choropleth"
           }
          ],
          "contour": [
           {
            "colorbar": {
             "outlinewidth": 0,
             "ticks": ""
            },
            "colorscale": [
             [
              0,
              "#0d0887"
             ],
             [
              0.1111111111111111,
              "#46039f"
             ],
             [
              0.2222222222222222,
              "#7201a8"
             ],
             [
              0.3333333333333333,
              "#9c179e"
             ],
             [
              0.4444444444444444,
              "#bd3786"
             ],
             [
              0.5555555555555556,
              "#d8576b"
             ],
             [
              0.6666666666666666,
              "#ed7953"
             ],
             [
              0.7777777777777778,
              "#fb9f3a"
             ],
             [
              0.8888888888888888,
              "#fdca26"
             ],
             [
              1,
              "#f0f921"
             ]
            ],
            "type": "contour"
           }
          ],
          "contourcarpet": [
           {
            "colorbar": {
             "outlinewidth": 0,
             "ticks": ""
            },
            "type": "contourcarpet"
           }
          ],
          "heatmap": [
           {
            "colorbar": {
             "outlinewidth": 0,
             "ticks": ""
            },
            "colorscale": [
             [
              0,
              "#0d0887"
             ],
             [
              0.1111111111111111,
              "#46039f"
             ],
             [
              0.2222222222222222,
              "#7201a8"
             ],
             [
              0.3333333333333333,
              "#9c179e"
             ],
             [
              0.4444444444444444,
              "#bd3786"
             ],
             [
              0.5555555555555556,
              "#d8576b"
             ],
             [
              0.6666666666666666,
              "#ed7953"
             ],
             [
              0.7777777777777778,
              "#fb9f3a"
             ],
             [
              0.8888888888888888,
              "#fdca26"
             ],
             [
              1,
              "#f0f921"
             ]
            ],
            "type": "heatmap"
           }
          ],
          "heatmapgl": [
           {
            "colorbar": {
             "outlinewidth": 0,
             "ticks": ""
            },
            "colorscale": [
             [
              0,
              "#0d0887"
             ],
             [
              0.1111111111111111,
              "#46039f"
             ],
             [
              0.2222222222222222,
              "#7201a8"
             ],
             [
              0.3333333333333333,
              "#9c179e"
             ],
             [
              0.4444444444444444,
              "#bd3786"
             ],
             [
              0.5555555555555556,
              "#d8576b"
             ],
             [
              0.6666666666666666,
              "#ed7953"
             ],
             [
              0.7777777777777778,
              "#fb9f3a"
             ],
             [
              0.8888888888888888,
              "#fdca26"
             ],
             [
              1,
              "#f0f921"
             ]
            ],
            "type": "heatmapgl"
           }
          ],
          "histogram": [
           {
            "marker": {
             "pattern": {
              "fillmode": "overlay",
              "size": 10,
              "solidity": 0.2
             }
            },
            "type": "histogram"
           }
          ],
          "histogram2d": [
           {
            "colorbar": {
             "outlinewidth": 0,
             "ticks": ""
            },
            "colorscale": [
             [
              0,
              "#0d0887"
             ],
             [
              0.1111111111111111,
              "#46039f"
             ],
             [
              0.2222222222222222,
              "#7201a8"
             ],
             [
              0.3333333333333333,
              "#9c179e"
             ],
             [
              0.4444444444444444,
              "#bd3786"
             ],
             [
              0.5555555555555556,
              "#d8576b"
             ],
             [
              0.6666666666666666,
              "#ed7953"
             ],
             [
              0.7777777777777778,
              "#fb9f3a"
             ],
             [
              0.8888888888888888,
              "#fdca26"
             ],
             [
              1,
              "#f0f921"
             ]
            ],
            "type": "histogram2d"
           }
          ],
          "histogram2dcontour": [
           {
            "colorbar": {
             "outlinewidth": 0,
             "ticks": ""
            },
            "colorscale": [
             [
              0,
              "#0d0887"
             ],
             [
              0.1111111111111111,
              "#46039f"
             ],
             [
              0.2222222222222222,
              "#7201a8"
             ],
             [
              0.3333333333333333,
              "#9c179e"
             ],
             [
              0.4444444444444444,
              "#bd3786"
             ],
             [
              0.5555555555555556,
              "#d8576b"
             ],
             [
              0.6666666666666666,
              "#ed7953"
             ],
             [
              0.7777777777777778,
              "#fb9f3a"
             ],
             [
              0.8888888888888888,
              "#fdca26"
             ],
             [
              1,
              "#f0f921"
             ]
            ],
            "type": "histogram2dcontour"
           }
          ],
          "mesh3d": [
           {
            "colorbar": {
             "outlinewidth": 0,
             "ticks": ""
            },
            "type": "mesh3d"
           }
          ],
          "parcoords": [
           {
            "line": {
             "colorbar": {
              "outlinewidth": 0,
              "ticks": ""
             }
            },
            "type": "parcoords"
           }
          ],
          "pie": [
           {
            "automargin": true,
            "type": "pie"
           }
          ],
          "scatter": [
           {
            "marker": {
             "colorbar": {
              "outlinewidth": 0,
              "ticks": ""
             }
            },
            "type": "scatter"
           }
          ],
          "scatter3d": [
           {
            "line": {
             "colorbar": {
              "outlinewidth": 0,
              "ticks": ""
             }
            },
            "marker": {
             "colorbar": {
              "outlinewidth": 0,
              "ticks": ""
             }
            },
            "type": "scatter3d"
           }
          ],
          "scattercarpet": [
           {
            "marker": {
             "colorbar": {
              "outlinewidth": 0,
              "ticks": ""
             }
            },
            "type": "scattercarpet"
           }
          ],
          "scattergeo": [
           {
            "marker": {
             "colorbar": {
              "outlinewidth": 0,
              "ticks": ""
             }
            },
            "type": "scattergeo"
           }
          ],
          "scattergl": [
           {
            "marker": {
             "colorbar": {
              "outlinewidth": 0,
              "ticks": ""
             }
            },
            "type": "scattergl"
           }
          ],
          "scattermapbox": [
           {
            "marker": {
             "colorbar": {
              "outlinewidth": 0,
              "ticks": ""
             }
            },
            "type": "scattermapbox"
           }
          ],
          "scatterpolar": [
           {
            "marker": {
             "colorbar": {
              "outlinewidth": 0,
              "ticks": ""
             }
            },
            "type": "scatterpolar"
           }
          ],
          "scatterpolargl": [
           {
            "marker": {
             "colorbar": {
              "outlinewidth": 0,
              "ticks": ""
             }
            },
            "type": "scatterpolargl"
           }
          ],
          "scatterternary": [
           {
            "marker": {
             "colorbar": {
              "outlinewidth": 0,
              "ticks": ""
             }
            },
            "type": "scatterternary"
           }
          ],
          "surface": [
           {
            "colorbar": {
             "outlinewidth": 0,
             "ticks": ""
            },
            "colorscale": [
             [
              0,
              "#0d0887"
             ],
             [
              0.1111111111111111,
              "#46039f"
             ],
             [
              0.2222222222222222,
              "#7201a8"
             ],
             [
              0.3333333333333333,
              "#9c179e"
             ],
             [
              0.4444444444444444,
              "#bd3786"
             ],
             [
              0.5555555555555556,
              "#d8576b"
             ],
             [
              0.6666666666666666,
              "#ed7953"
             ],
             [
              0.7777777777777778,
              "#fb9f3a"
             ],
             [
              0.8888888888888888,
              "#fdca26"
             ],
             [
              1,
              "#f0f921"
             ]
            ],
            "type": "surface"
           }
          ],
          "table": [
           {
            "cells": {
             "fill": {
              "color": "#EBF0F8"
             },
             "line": {
              "color": "white"
             }
            },
            "header": {
             "fill": {
              "color": "#C8D4E3"
             },
             "line": {
              "color": "white"
             }
            },
            "type": "table"
           }
          ]
         },
         "layout": {
          "annotationdefaults": {
           "arrowcolor": "#2a3f5f",
           "arrowhead": 0,
           "arrowwidth": 1
          },
          "autotypenumbers": "strict",
          "coloraxis": {
           "colorbar": {
            "outlinewidth": 0,
            "ticks": ""
           }
          },
          "colorscale": {
           "diverging": [
            [
             0,
             "#8e0152"
            ],
            [
             0.1,
             "#c51b7d"
            ],
            [
             0.2,
             "#de77ae"
            ],
            [
             0.3,
             "#f1b6da"
            ],
            [
             0.4,
             "#fde0ef"
            ],
            [
             0.5,
             "#f7f7f7"
            ],
            [
             0.6,
             "#e6f5d0"
            ],
            [
             0.7,
             "#b8e186"
            ],
            [
             0.8,
             "#7fbc41"
            ],
            [
             0.9,
             "#4d9221"
            ],
            [
             1,
             "#276419"
            ]
           ],
           "sequential": [
            [
             0,
             "#0d0887"
            ],
            [
             0.1111111111111111,
             "#46039f"
            ],
            [
             0.2222222222222222,
             "#7201a8"
            ],
            [
             0.3333333333333333,
             "#9c179e"
            ],
            [
             0.4444444444444444,
             "#bd3786"
            ],
            [
             0.5555555555555556,
             "#d8576b"
            ],
            [
             0.6666666666666666,
             "#ed7953"
            ],
            [
             0.7777777777777778,
             "#fb9f3a"
            ],
            [
             0.8888888888888888,
             "#fdca26"
            ],
            [
             1,
             "#f0f921"
            ]
           ],
           "sequentialminus": [
            [
             0,
             "#0d0887"
            ],
            [
             0.1111111111111111,
             "#46039f"
            ],
            [
             0.2222222222222222,
             "#7201a8"
            ],
            [
             0.3333333333333333,
             "#9c179e"
            ],
            [
             0.4444444444444444,
             "#bd3786"
            ],
            [
             0.5555555555555556,
             "#d8576b"
            ],
            [
             0.6666666666666666,
             "#ed7953"
            ],
            [
             0.7777777777777778,
             "#fb9f3a"
            ],
            [
             0.8888888888888888,
             "#fdca26"
            ],
            [
             1,
             "#f0f921"
            ]
           ]
          },
          "colorway": [
           "#636efa",
           "#EF553B",
           "#00cc96",
           "#ab63fa",
           "#FFA15A",
           "#19d3f3",
           "#FF6692",
           "#B6E880",
           "#FF97FF",
           "#FECB52"
          ],
          "font": {
           "color": "#2a3f5f"
          },
          "geo": {
           "bgcolor": "white",
           "lakecolor": "white",
           "landcolor": "#E5ECF6",
           "showlakes": true,
           "showland": true,
           "subunitcolor": "white"
          },
          "hoverlabel": {
           "align": "left"
          },
          "hovermode": "closest",
          "mapbox": {
           "style": "light"
          },
          "paper_bgcolor": "white",
          "plot_bgcolor": "#E5ECF6",
          "polar": {
           "angularaxis": {
            "gridcolor": "white",
            "linecolor": "white",
            "ticks": ""
           },
           "bgcolor": "#E5ECF6",
           "radialaxis": {
            "gridcolor": "white",
            "linecolor": "white",
            "ticks": ""
           }
          },
          "scene": {
           "xaxis": {
            "backgroundcolor": "#E5ECF6",
            "gridcolor": "white",
            "gridwidth": 2,
            "linecolor": "white",
            "showbackground": true,
            "ticks": "",
            "zerolinecolor": "white"
           },
           "yaxis": {
            "backgroundcolor": "#E5ECF6",
            "gridcolor": "white",
            "gridwidth": 2,
            "linecolor": "white",
            "showbackground": true,
            "ticks": "",
            "zerolinecolor": "white"
           },
           "zaxis": {
            "backgroundcolor": "#E5ECF6",
            "gridcolor": "white",
            "gridwidth": 2,
            "linecolor": "white",
            "showbackground": true,
            "ticks": "",
            "zerolinecolor": "white"
           }
          },
          "shapedefaults": {
           "line": {
            "color": "#2a3f5f"
           }
          },
          "ternary": {
           "aaxis": {
            "gridcolor": "white",
            "linecolor": "white",
            "ticks": ""
           },
           "baxis": {
            "gridcolor": "white",
            "linecolor": "white",
            "ticks": ""
           },
           "bgcolor": "#E5ECF6",
           "caxis": {
            "gridcolor": "white",
            "linecolor": "white",
            "ticks": ""
           }
          },
          "title": {
           "x": 0.05
          },
          "xaxis": {
           "automargin": true,
           "gridcolor": "white",
           "linecolor": "white",
           "ticks": "",
           "title": {
            "standoff": 15
           },
           "zerolinecolor": "white",
           "zerolinewidth": 2
          },
          "yaxis": {
           "automargin": true,
           "gridcolor": "white",
           "linecolor": "white",
           "ticks": "",
           "title": {
            "standoff": 15
           },
           "zerolinecolor": "white",
           "zerolinewidth": 2
          }
         }
        },
        "title": {
         "text": "Asset Allocation Weights"
        },
        "width": 1000
       }
      }
     },
     "metadata": {},
     "output_type": "display_data"
    },
    {
     "data": {
      "text/plain": [
       "(None, None)"
      ]
     },
     "execution_count": 116,
     "metadata": {},
     "output_type": "execute_result"
    },
    {
     "data": {
      "text/plain": [
       "<Figure size 828x432 with 0 Axes>"
      ]
     },
     "metadata": {},
     "output_type": "display_data"
    },
    {
     "data": {
      "text/plain": [
       "<Figure size 828x432 with 0 Axes>"
      ]
     },
     "metadata": {},
     "output_type": "display_data"
    }
   ],
   "source": [
    "env_test = PortfolioEnv(\n",
    "  df=df_test,\n",
    "  steps=58,\n",
    "  scale=True,\n",
    "  trading_cost=0.0025,\n",
    "  time_cost=0.00,\n",
    "  window_length=50,\n",
    "  output_mode='EIIE',\n",
    "  random_reset=False\n",
    ")\n",
    "\n",
    "\n",
    "done = False\n",
    "obs = env_test.reset()\n",
    "obs = obs[\"history\"]\n",
    "#print(obs.shape)\n",
    "step_test = 1\n",
    "while not done:\n",
    "  print(f\"Test step: {step_test}\")\n",
    "  step_test += 1\n",
    "  #act = agent.actor.forward(obs[np.newaxis, :])\n",
    "  act = agent.choose_action(obs, eval=True)\n",
    "  act = np.clip(act, 0, 1)\n",
    "  act /= act.sum()\n",
    "  act = act.reshape(-1)\n",
    "  new_state, reward, done, info = env_test.step(act)\n",
    "#prediction = agent.actor.predict(obs, act)\n",
    "  #obs = new_state[\"history\"]\n",
    "  print(obs.shape)\n",
    "\n",
    "env_test.render('ansi')"
   ]
  }
 ],
 "metadata": {
  "interpreter": {
   "hash": "41ed014e84315089d37015886aced8d71959f49a235bf4f70829032bc6f62571"
  },
  "kernelspec": {
   "display_name": "Python 3.7.11 64-bit ('pytorch': conda)",
   "language": "python",
   "name": "python3"
  },
  "language_info": {
   "codemirror_mode": {
    "name": "ipython",
    "version": 3
   },
   "file_extension": ".py",
   "mimetype": "text/x-python",
   "name": "python",
   "nbconvert_exporter": "python",
   "pygments_lexer": "ipython3",
   "version": "3.7.11"
  },
  "orig_nbformat": 4
 },
 "nbformat": 4,
 "nbformat_minor": 2
}

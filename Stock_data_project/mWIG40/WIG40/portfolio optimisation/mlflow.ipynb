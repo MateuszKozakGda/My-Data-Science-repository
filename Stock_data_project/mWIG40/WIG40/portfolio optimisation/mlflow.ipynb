{
 "cells": [
  {
   "cell_type": "code",
   "execution_count": 4,
   "metadata": {},
   "outputs": [],
   "source": [
    "import os\n",
    "# Importing tracking functions from MLflow\n",
    "from mlflow import log_metric, log_param, log_artifacts\n",
    "# Logging a parameter (key-value pair)\n",
    "log_param(\"param1\", 0)\n",
    "# Logging a metric; metrics can be updated throughout the run\n",
    "log_metric(\"foo\", 100)\n",
    "log_metric(\"foo\", 200)\n",
    "log_metric(\"foo\", 300)\n",
    "# Create a file called test.text in outputs directory\n",
    "if not os.path.exists(\"outputs\"):\n",
    "    os.makedirs(\"outputs\")\n",
    "with open(\"outputs/test.txt\", \"w\") as f:\n",
    "    f.write(\"hello world!\")\n",
    "# Logging an artifact (output file)\n",
    "log_artifacts(\"outputs\")"
   ]
  },
  {
   "cell_type": "code",
   "execution_count": null,
   "metadata": {},
   "outputs": [],
   "source": [
    "# Importing the os library to work with operating system functionalities\n",
    "import os\n",
    "# Importing tracking functions from MLflow\n",
    "from mlflow import log_metric, log_param, log_artifacts, start_run, end_run\n",
    "# Ending previously running runs\n",
    "end_run()\n",
    "# Starting a new run\n",
    "start_run()\n",
    "# Logging a parameter (key-value pair)\n",
    "log_param(\"param1\", 0)\n",
    "# Logging a metric; metrics can be updated throughout the run\n",
    "log_metric(\"foo\", 100)\n",
    "log_metric(\"foo\", 200)\n",
    "log_metric(\"foo\", 300)\n",
    "# Create a file called test.text in outputs directory\n",
    "if not os.path.exists(\"outputs\"):\n",
    "    os.makedirs(\"outputs\")\n",
    "with open(\"outputs/test.txt\", \"w\") as f:\n",
    "    f.write(\"hello world!\")\n",
    "# Logging an artifact (output file)\n",
    "log_artifacts(\"outputs\")\n",
    "# Ending the run\n",
    "end_run()"
   ]
  }
 ],
 "metadata": {
  "interpreter": {
   "hash": "9d98dbdf0977920ed96a0100b8199e4556e61a4e3e218346fd3684f86dacdd24"
  },
  "kernelspec": {
   "display_name": "Python 3.7.6 64-bit ('new_env_gpu': conda)",
   "language": "python",
   "name": "python3"
  },
  "language_info": {
   "codemirror_mode": {
    "name": "ipython",
    "version": 3
   },
   "file_extension": ".py",
   "mimetype": "text/x-python",
   "name": "python",
   "nbconvert_exporter": "python",
   "pygments_lexer": "ipython3",
   "version": "3.7.11"
  },
  "orig_nbformat": 4
 },
 "nbformat": 4,
 "nbformat_minor": 2
}

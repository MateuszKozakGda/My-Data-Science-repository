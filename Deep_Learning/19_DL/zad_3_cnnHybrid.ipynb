{
  "nbformat": 4,
  "nbformat_minor": 0,
  "metadata": {
    "colab": {
      "name": "zad_3_cnnHybrid.ipynb",
      "version": "0.3.2",
      "provenance": [],
      "collapsed_sections": []
    },
    "kernelspec": {
      "name": "python3",
      "display_name": "Python 3"
    },
    "language_info": {
      "codemirror_mode": {
        "name": "ipython",
        "version": 3
      },
      "file_extension": ".py",
      "mimetype": "text/x-python",
      "name": "python",
      "nbconvert_exporter": "python",
      "pygments_lexer": "ipython3",
      "version": "3.6.8"
    },
    "accelerator": "TPU"
  },
  "cells": [
    {
      "cell_type": "code",
      "metadata": {
        "colab_type": "code",
        "id": "-B3898ZKDyGM",
        "colab": {}
      },
      "source": [
        "from tensorflow.keras.preprocessing import sequence\n",
        "from tensorflow.keras.models import Sequential\n",
        "from tensorflow.keras.layers import Dense, Embedding, TimeDistributed, Dropout, Softmax\n",
        "from tensorflow.keras.layers import LSTM, Conv2D, MaxPooling2D, Flatten, Reshape\n",
        "from tensorflow.keras.callbacks import TensorBoard\n",
        "from tensorflow.keras import models\n",
        "import numpy as np\n",
        "import matplotlib.pyplot as plt\n",
        "from sklearn.preprocessing import MinMaxScaler\n",
        "from sklearn.datasets import load_digits\n",
        "from sklearn.model_selection import train_test_split\n",
        "from random import randint\n",
        "from tensorflow.keras import optimizers\n",
        "from sklearn.preprocessing import OneHotEncoder"
      ],
      "execution_count": 0,
      "outputs": []
    },
    {
      "cell_type": "code",
      "metadata": {
        "id": "fQAxMkuTG-4u",
        "colab_type": "code",
        "colab": {}
      },
      "source": [
        "from tensorflow.keras.datasets import mnist\n",
        "(x_train, y_train), (x_test, y_test) = mnist.load_data()"
      ],
      "execution_count": 0,
      "outputs": []
    },
    {
      "cell_type": "code",
      "metadata": {
        "id": "e040AAhuJI9X",
        "colab_type": "code",
        "colab": {}
      },
      "source": [
        "#x_train.shape"
      ],
      "execution_count": 0,
      "outputs": []
    },
    {
      "cell_type": "code",
      "metadata": {
        "colab_type": "code",
        "id": "QVKSOz5wDyGS",
        "outputId": "580c9e8f-3d3a-4781-d204-9c97ebd3c573",
        "colab": {
          "base_uri": "https://localhost:8080/",
          "height": 34
        }
      },
      "source": [
        "\n",
        "print(\"shape\", x_train.shape)"
      ],
      "execution_count": 40,
      "outputs": [
        {
          "output_type": "stream",
          "text": [
            "shape (60000, 28, 28)\n"
          ],
          "name": "stdout"
        }
      ]
    },
    {
      "cell_type": "code",
      "metadata": {
        "colab_type": "code",
        "id": "InjY64T-DyGV",
        "outputId": "caee3c33-d381-4120-a25b-85cbf3c1d692",
        "colab": {
          "base_uri": "https://localhost:8080/",
          "height": 292
        }
      },
      "source": [
        "plt.gray()\n",
        "plt.matshow(x_train[1])\n",
        "plt.show()"
      ],
      "execution_count": 39,
      "outputs": [
        {
          "output_type": "display_data",
          "data": {
            "text/plain": [
              "<Figure size 432x288 with 0 Axes>"
            ]
          },
          "metadata": {
            "tags": []
          }
        },
        {
          "output_type": "display_data",
          "data": {
            "image/png": "[encoded data removed]",
            "text/plain": [
              "<Figure size 288x288 with 1 Axes>"
            ]
          },
          "metadata": {
            "tags": []
          }
        }
      ]
    },
    {
      "cell_type": "code",
      "metadata": {
        "colab_type": "code",
        "id": "VVoFyhh-DyGZ",
        "outputId": "d3b863f7-33e8-447d-f53e-c7bc4ab4674f",
        "colab": {
          "base_uri": "https://localhost:8080/",
          "height": 292
        }
      },
      "source": [
        "img1 = x_train[0]\n",
        "img2 = x_train[1]\n",
        "twoAtOne = np.concatenate((img1, img2), axis=1)\n",
        "plt.gray()\n",
        "plt.matshow(twoAtOne)\n",
        "plt.show()\n"
      ],
      "execution_count": 42,
      "outputs": [
        {
          "output_type": "display_data",
          "data": {
            "text/plain": [
              "<Figure size 432x288 with 0 Axes>"
            ]
          },
          "metadata": {
            "tags": []
          }
        },
        {
          "output_type": "display_data",
          "data": {
            "image/png": "[encoded data removed]",
            "text/plain": [
              "<Figure size 576x288 with 1 Axes>"
            ]
          },
          "metadata": {
            "tags": []
          }
        }
      ]
    },
    {
      "cell_type": "code",
      "metadata": {
        "id": "3I9vrG8nk4LU",
        "colab_type": "code",
        "outputId": "42f85e12-13f7-4355-a390-3c31023428a2",
        "colab": {
          "base_uri": "https://localhost:8080/",
          "height": 105
        }
      },
      "source": [
        "onehot_encoder = OneHotEncoder(sparse=False)\n",
        "y_train_reshpaed = y_train.reshape(len(y_train), 1)\n",
        "onehot_encoded = onehot_encoder.fit_transform(y_train_reshpaed).reshape(len(y_train),1,10)\n"
      ],
      "execution_count": 16,
      "outputs": [
        {
          "output_type": "stream",
          "text": [
            "/usr/local/lib/python3.6/dist-packages/sklearn/preprocessing/_encoders.py:415: FutureWarning: The handling of integer data will change in version 0.22. Currently, the categories are determined based on the range [0, max(values)], while in the future they will be determined based on the unique values.\n",
            "If you want the future behaviour and silence this warning, you can specify \"categories='auto'\".\n",
            "In case you used a LabelEncoder before this OneHotEncoder to convert the categories to integers, then you can now use the OneHotEncoder directly.\n",
            "  warnings.warn(msg, FutureWarning)\n"
          ],
          "name": "stderr"
        }
      ]
    },
    {
      "cell_type": "code",
      "metadata": {
        "colab_type": "code",
        "id": "5mc6zYKwFG0v",
        "colab": {}
      },
      "source": [
        "\n",
        "txtLen = 6\n",
        "randSamplesNum = 1000\n",
        "imgsNum = len(x_train)\n",
        "xList = []\n",
        "yList = []\n",
        "for i in range(randSamplesNum):\n",
        "    tmpImgNum = randint(0, imgsNum-1)\n",
        "    tmpConcImgs = x_train[tmpImgNum]\n",
        "    tmpLabels = onehot_encoded[tmpImgNum]\n",
        "    for j in range(txtLen-1):\n",
        "        tmpImgNum = randint(0, imgsNum-1)\n",
        "        tmpConcImgs = np.concatenate((tmpConcImgs, x_train[tmpImgNum]), axis=1)\n",
        "        tmpLabels = np.concatenate((tmpLabels, onehot_encoded[tmpImgNum]))\n",
        "    xList.append(tmpConcImgs)\n",
        "    yList.append(tmpLabels)\n",
        "xData = np.array(xList)\n",
        "yData = np.array(yList)"
      ],
      "execution_count": 0,
      "outputs": []
    },
    {
      "cell_type": "code",
      "metadata": {
        "id": "Uj4I-OBSWtwp",
        "colab_type": "code",
        "outputId": "1f8f6a5f-3369-4a2e-adf5-5ac111a5ca17",
        "colab": {
          "base_uri": "https://localhost:8080/",
          "height": 34
        }
      },
      "source": [
        "yData.shape"
      ],
      "execution_count": 18,
      "outputs": [
        {
          "output_type": "execute_result",
          "data": {
            "text/plain": [
              "(1000, 6, 10)"
            ]
          },
          "metadata": {
            "tags": []
          },
          "execution_count": 18
        }
      ]
    },
    {
      "cell_type": "code",
      "metadata": {
        "id": "K_0Ofwv8iOci",
        "colab_type": "code",
        "outputId": "6aff990e-cf89-488c-b94a-4b626df73734",
        "colab": {
          "base_uri": "https://localhost:8080/",
          "height": 357
        }
      },
      "source": [
        "yData[:3]"
      ],
      "execution_count": 19,
      "outputs": [
        {
          "output_type": "execute_result",
          "data": {
            "text/plain": [
              "array([[[0., 0., 0., 0., 0., 1., 0., 0., 0., 0.],\n",
              "        [0., 0., 0., 1., 0., 0., 0., 0., 0., 0.],\n",
              "        [0., 0., 0., 0., 0., 0., 0., 0., 1., 0.],\n",
              "        [0., 0., 1., 0., 0., 0., 0., 0., 0., 0.],\n",
              "        [0., 0., 0., 0., 0., 0., 1., 0., 0., 0.],\n",
              "        [0., 0., 1., 0., 0., 0., 0., 0., 0., 0.]],\n",
              "\n",
              "       [[0., 0., 0., 0., 0., 0., 0., 0., 0., 1.],\n",
              "        [0., 0., 0., 0., 0., 0., 0., 0., 1., 0.],\n",
              "        [1., 0., 0., 0., 0., 0., 0., 0., 0., 0.],\n",
              "        [0., 0., 0., 0., 0., 0., 0., 1., 0., 0.],\n",
              "        [0., 0., 0., 0., 0., 1., 0., 0., 0., 0.],\n",
              "        [0., 0., 0., 0., 0., 1., 0., 0., 0., 0.]],\n",
              "\n",
              "       [[0., 0., 0., 0., 0., 0., 1., 0., 0., 0.],\n",
              "        [0., 0., 0., 1., 0., 0., 0., 0., 0., 0.],\n",
              "        [1., 0., 0., 0., 0., 0., 0., 0., 0., 0.],\n",
              "        [0., 0., 0., 0., 1., 0., 0., 0., 0., 0.],\n",
              "        [0., 1., 0., 0., 0., 0., 0., 0., 0., 0.],\n",
              "        [0., 1., 0., 0., 0., 0., 0., 0., 0., 0.]]])"
            ]
          },
          "metadata": {
            "tags": []
          },
          "execution_count": 19
        }
      ]
    },
    {
      "cell_type": "code",
      "metadata": {
        "id": "SAqqrpShjcjg",
        "colab_type": "code",
        "outputId": "ee723b02-a634-43d8-f4ee-bb869e72c35a",
        "colab": {
          "base_uri": "https://localhost:8080/",
          "height": 34
        }
      },
      "source": [
        "xData.shape"
      ],
      "execution_count": 20,
      "outputs": [
        {
          "output_type": "execute_result",
          "data": {
            "text/plain": [
              "(1000, 28, 168)"
            ]
          },
          "metadata": {
            "tags": []
          },
          "execution_count": 20
        }
      ]
    },
    {
      "cell_type": "code",
      "metadata": {
        "id": "ORVUXCob7MUZ",
        "colab_type": "code",
        "outputId": "5dcf07df-cd28-4efc-d015-2568944f7595",
        "colab": {
          "base_uri": "https://localhost:8080/",
          "height": 34
        }
      },
      "source": [
        "xData = xData.reshape(-1, 28,28*txtLen,1)\n",
        "xData.shape"
      ],
      "execution_count": 21,
      "outputs": [
        {
          "output_type": "execute_result",
          "data": {
            "text/plain": [
              "(1000, 28, 168, 1)"
            ]
          },
          "metadata": {
            "tags": []
          },
          "execution_count": 21
        }
      ]
    },
    {
      "cell_type": "code",
      "metadata": {
        "id": "7K9ooglmWymZ",
        "colab_type": "code",
        "colab": {}
      },
      "source": [
        "xData.shape"
      ],
      "execution_count": 0,
      "outputs": []
    },
    {
      "cell_type": "code",
      "metadata": {
        "id": "pZrVIFGY3L2r",
        "colab_type": "code",
        "colab": {}
      },
      "source": [
        "def OneHotDecode(x):\n",
        "  tmpOut = []\n",
        "  #for v in x:\n",
        "    #tmpOut.append(np.argmax(v))\n",
        "  return np.argmax(x, axis=1)\n",
        "  #return np.array(tmpOut)"
      ],
      "execution_count": 0,
      "outputs": []
    },
    {
      "cell_type": "code",
      "metadata": {
        "id": "moAFl-E83rTK",
        "colab_type": "code",
        "colab": {}
      },
      "source": [
        "OneHotDecode(yData[0])"
      ],
      "execution_count": 0,
      "outputs": []
    },
    {
      "cell_type": "code",
      "metadata": {
        "id": "MhAx1jsA3HG9",
        "colab_type": "code",
        "outputId": "04219676-cbd0-4bca-e122-85e2ef23b4b1",
        "colab": {
          "base_uri": "https://localhost:8080/",
          "height": 493
        }
      },
      "source": [
        "model = Sequential()\n",
        "model.add(Conv2D(16, kernel_size=(3,3), strides=(2,2),padding=\"same\",activation=\"relu\", input_shape = (28,168,1), data_format=\"channels_last\"))\n",
        "model.add(Conv2D(32, kernel_size=(3,3), strides=(2,2), padding=\"same\", activation=\"relu\", data_format=\"channels_last\"))\n",
        "model.add(Conv2D(43, kernel_size=(3,3), strides=(2,2), padding=\"same\", activation=\"relu\", data_format=\"channels_last\"))\n",
        "model.add(Conv2D(40, kernel_size=(3,3), strides=(2,2), padding=\"same\", activation=\"relu\", data_format=\"channels_last\"))\n",
        "model.add(Conv2D(48, kernel_size=(3,3), strides=(2,2), padding=\"same\", activation=\"relu\", data_format=\"channels_last\"))\n",
        "model.add(Dropout(0.4))\n",
        "model.add(Reshape((6,48))) ### Zmieniamy wymiar aby pasowao pod LSTM, 64 oznacza wymiar ostatniej konwolucji\n",
        "model.add(LSTM(64, return_sequences=True, activation=\"relu\"))\n",
        "model.add(LSTM(32, return_sequences=True, activation=\"relu\"))\n",
        "model.add(Dense(10, activation=\"softmax\"))\n",
        "\n",
        "model.summary()"
      ],
      "execution_count": 24,
      "outputs": [
        {
          "output_type": "stream",
          "text": [
            "Model: \"sequential_1\"\n",
            "_________________________________________________________________\n",
            "Layer (type)                 Output Shape              Param #   \n",
            "=================================================================\n",
            "conv2d_5 (Conv2D)            (None, 14, 84, 16)        160       \n",
            "_________________________________________________________________\n",
            "conv2d_6 (Conv2D)            (None, 7, 42, 32)         4640      \n",
            "_________________________________________________________________\n",
            "conv2d_7 (Conv2D)            (None, 4, 21, 43)         12427     \n",
            "_________________________________________________________________\n",
            "conv2d_8 (Conv2D)            (None, 2, 11, 40)         15520     \n",
            "_________________________________________________________________\n",
            "conv2d_9 (Conv2D)            (None, 1, 6, 48)          17328     \n",
            "_________________________________________________________________\n",
            "dropout_1 (Dropout)          (None, 1, 6, 48)          0         \n",
            "_________________________________________________________________\n",
            "reshape_1 (Reshape)          (None, 6, 48)             0         \n",
            "_________________________________________________________________\n",
            "lstm_2 (LSTM)                (None, 6, 64)             28928     \n",
            "_________________________________________________________________\n",
            "lstm_3 (LSTM)                (None, 6, 32)             12416     \n",
            "_________________________________________________________________\n",
            "dense_1 (Dense)              (None, 6, 10)             330       \n",
            "=================================================================\n",
            "Total params: 91,749\n",
            "Trainable params: 91,749\n",
            "Non-trainable params: 0\n",
            "_________________________________________________________________\n"
          ],
          "name": "stdout"
        }
      ]
    },
    {
      "cell_type": "code",
      "metadata": {
        "id": "WwpyBBlk7pXH",
        "colab_type": "code",
        "outputId": "c41c957b-5fde-40cd-fcee-b961e2aecd6a",
        "colab": {
          "base_uri": "https://localhost:8080/",
          "height": 493
        }
      },
      "source": [
        "model.summary()"
      ],
      "execution_count": 25,
      "outputs": [
        {
          "output_type": "stream",
          "text": [
            "Model: \"sequential_1\"\n",
            "_________________________________________________________________\n",
            "Layer (type)                 Output Shape              Param #   \n",
            "=================================================================\n",
            "conv2d_5 (Conv2D)            (None, 14, 84, 16)        160       \n",
            "_________________________________________________________________\n",
            "conv2d_6 (Conv2D)            (None, 7, 42, 32)         4640      \n",
            "_________________________________________________________________\n",
            "conv2d_7 (Conv2D)            (None, 4, 21, 43)         12427     \n",
            "_________________________________________________________________\n",
            "conv2d_8 (Conv2D)            (None, 2, 11, 40)         15520     \n",
            "_________________________________________________________________\n",
            "conv2d_9 (Conv2D)            (None, 1, 6, 48)          17328     \n",
            "_________________________________________________________________\n",
            "dropout_1 (Dropout)          (None, 1, 6, 48)          0         \n",
            "_________________________________________________________________\n",
            "reshape_1 (Reshape)          (None, 6, 48)             0         \n",
            "_________________________________________________________________\n",
            "lstm_2 (LSTM)                (None, 6, 64)             28928     \n",
            "_________________________________________________________________\n",
            "lstm_3 (LSTM)                (None, 6, 32)             12416     \n",
            "_________________________________________________________________\n",
            "dense_1 (Dense)              (None, 6, 10)             330       \n",
            "=================================================================\n",
            "Total params: 91,749\n",
            "Trainable params: 91,749\n",
            "Non-trainable params: 0\n",
            "_________________________________________________________________\n"
          ],
          "name": "stdout"
        }
      ]
    },
    {
      "cell_type": "code",
      "metadata": {
        "id": "XNkY2dKo8yVP",
        "colab_type": "code",
        "colab": {}
      },
      "source": [
        "model.compile(optimizer=\"adam\", loss=\"categorical_crossentropy\", metrics=[\"categorical_accuracy\"])"
      ],
      "execution_count": 0,
      "outputs": []
    },
    {
      "cell_type": "code",
      "metadata": {
        "id": "HOdsyReD-t10",
        "colab_type": "code",
        "colab": {}
      },
      "source": [
        "xData = xData/255\n",
        "xTrain, xTest, yTrain, yTest = train_test_split(xData, yData, test_size=0.2, random_state=2)\n"
      ],
      "execution_count": 0,
      "outputs": []
    },
    {
      "cell_type": "code",
      "metadata": {
        "id": "gm7X_r-0_qsU",
        "colab_type": "code",
        "outputId": "e7f0f065-20eb-43a0-ce1a-91e7c3c38e41",
        "colab": {
          "base_uri": "https://localhost:8080/",
          "height": 1000
        }
      },
      "source": [
        "history = model.fit(xTrain, yTrain, epochs=100, batch_size=200, verbose=1)"
      ],
      "execution_count": 29,
      "outputs": [
        {
          "output_type": "stream",
          "text": [
            "Epoch 1/100\n",
            "800/800 [==============================] - 1s 1ms/sample - loss: 0.3584 - categorical_accuracy: 0.8740\n",
            "Epoch 2/100\n",
            "800/800 [==============================] - 1s 1ms/sample - loss: 0.3631 - categorical_accuracy: 0.8740\n",
            "Epoch 3/100\n",
            "800/800 [==============================] - 1s 1ms/sample - loss: 0.3480 - categorical_accuracy: 0.8817\n",
            "Epoch 4/100\n",
            "800/800 [==============================] - 1s 1ms/sample - loss: 0.3606 - categorical_accuracy: 0.8798\n",
            "Epoch 5/100\n",
            "800/800 [==============================] - 1s 1ms/sample - loss: 0.3315 - categorical_accuracy: 0.8910\n",
            "Epoch 6/100\n",
            "800/800 [==============================] - 1s 1ms/sample - loss: 0.3448 - categorical_accuracy: 0.8823\n",
            "Epoch 7/100\n",
            "800/800 [==============================] - 1s 1ms/sample - loss: 0.3314 - categorical_accuracy: 0.8867\n",
            "Epoch 8/100\n",
            "800/800 [==============================] - 1s 1ms/sample - loss: 0.3286 - categorical_accuracy: 0.8883\n",
            "Epoch 9/100\n",
            "800/800 [==============================] - 1s 1ms/sample - loss: 0.3143 - categorical_accuracy: 0.8919\n",
            "Epoch 10/100\n",
            "800/800 [==============================] - 1s 1ms/sample - loss: 0.3160 - categorical_accuracy: 0.8977\n",
            "Epoch 11/100\n",
            "800/800 [==============================] - 1s 1ms/sample - loss: 0.2963 - categorical_accuracy: 0.9046\n",
            "Epoch 12/100\n",
            "800/800 [==============================] - 1s 1ms/sample - loss: 0.3039 - categorical_accuracy: 0.8988\n",
            "Epoch 13/100\n",
            "800/800 [==============================] - 1s 1ms/sample - loss: 0.2939 - categorical_accuracy: 0.9002\n",
            "Epoch 14/100\n",
            "800/800 [==============================] - 1s 1ms/sample - loss: 0.2644 - categorical_accuracy: 0.9090\n",
            "Epoch 15/100\n",
            "800/800 [==============================] - 1s 1ms/sample - loss: 0.2613 - categorical_accuracy: 0.9129\n",
            "Epoch 16/100\n",
            "800/800 [==============================] - 1s 1ms/sample - loss: 0.2648 - categorical_accuracy: 0.9131\n",
            "Epoch 17/100\n",
            "800/800 [==============================] - 1s 1ms/sample - loss: 0.2481 - categorical_accuracy: 0.9146\n",
            "Epoch 18/100\n",
            "800/800 [==============================] - 1s 1ms/sample - loss: 0.2618 - categorical_accuracy: 0.9121\n",
            "Epoch 19/100\n",
            "800/800 [==============================] - 1s 1ms/sample - loss: 0.2460 - categorical_accuracy: 0.9179\n",
            "Epoch 20/100\n",
            "800/800 [==============================] - 1s 1ms/sample - loss: 0.2288 - categorical_accuracy: 0.9242\n",
            "Epoch 21/100\n",
            "800/800 [==============================] - 1s 1ms/sample - loss: 0.2295 - categorical_accuracy: 0.9229\n",
            "Epoch 22/100\n",
            "800/800 [==============================] - 1s 1ms/sample - loss: 0.2205 - categorical_accuracy: 0.9294\n",
            "Epoch 23/100\n",
            "800/800 [==============================] - 1s 1ms/sample - loss: 0.2209 - categorical_accuracy: 0.9258\n",
            "Epoch 24/100\n",
            "800/800 [==============================] - 1s 1ms/sample - loss: 0.2145 - categorical_accuracy: 0.9298\n",
            "Epoch 25/100\n",
            "800/800 [==============================] - 1s 1ms/sample - loss: 0.2117 - categorical_accuracy: 0.9269\n",
            "Epoch 26/100\n",
            "800/800 [==============================] - 1s 1ms/sample - loss: 0.2052 - categorical_accuracy: 0.9319\n",
            "Epoch 27/100\n",
            "800/800 [==============================] - 1s 1ms/sample - loss: 0.1984 - categorical_accuracy: 0.9333\n",
            "Epoch 28/100\n",
            "800/800 [==============================] - 1s 1ms/sample - loss: 0.2043 - categorical_accuracy: 0.9296\n",
            "Epoch 29/100\n",
            "800/800 [==============================] - 1s 1ms/sample - loss: 0.1958 - categorical_accuracy: 0.9346\n",
            "Epoch 30/100\n",
            "800/800 [==============================] - 1s 1ms/sample - loss: 0.1922 - categorical_accuracy: 0.9329\n",
            "Epoch 31/100\n",
            "800/800 [==============================] - 1s 1ms/sample - loss: 0.1859 - categorical_accuracy: 0.9346\n",
            "Epoch 32/100\n",
            "800/800 [==============================] - 1s 1ms/sample - loss: 0.1820 - categorical_accuracy: 0.9408\n",
            "Epoch 33/100\n",
            "800/800 [==============================] - 1s 1ms/sample - loss: 0.1644 - categorical_accuracy: 0.9469\n",
            "Epoch 34/100\n",
            "800/800 [==============================] - 1s 1ms/sample - loss: 0.1740 - categorical_accuracy: 0.9379\n",
            "Epoch 35/100\n",
            "800/800 [==============================] - 1s 1ms/sample - loss: 0.1730 - categorical_accuracy: 0.9402\n",
            "Epoch 36/100\n",
            "800/800 [==============================] - 1s 1ms/sample - loss: 0.1741 - categorical_accuracy: 0.9398\n",
            "Epoch 37/100\n",
            "800/800 [==============================] - 1s 1ms/sample - loss: 0.1611 - categorical_accuracy: 0.9423\n",
            "Epoch 38/100\n",
            "800/800 [==============================] - 1s 1ms/sample - loss: 0.1624 - categorical_accuracy: 0.9433\n",
            "Epoch 39/100\n",
            "800/800 [==============================] - 1s 1ms/sample - loss: 0.1541 - categorical_accuracy: 0.9463\n",
            "Epoch 40/100\n",
            "800/800 [==============================] - 1s 1ms/sample - loss: 0.1600 - categorical_accuracy: 0.9440\n",
            "Epoch 41/100\n",
            "800/800 [==============================] - 1s 1ms/sample - loss: 0.1528 - categorical_accuracy: 0.9458\n",
            "Epoch 42/100\n",
            "800/800 [==============================] - 1s 1ms/sample - loss: 0.1442 - categorical_accuracy: 0.9506\n",
            "Epoch 43/100\n",
            "800/800 [==============================] - 1s 1ms/sample - loss: 0.1457 - categorical_accuracy: 0.9506\n",
            "Epoch 44/100\n",
            "800/800 [==============================] - 1s 1ms/sample - loss: 0.1398 - categorical_accuracy: 0.9521\n",
            "Epoch 45/100\n",
            "800/800 [==============================] - 1s 1ms/sample - loss: 0.1399 - categorical_accuracy: 0.9500\n",
            "Epoch 46/100\n",
            "800/800 [==============================] - 1s 1ms/sample - loss: 0.1446 - categorical_accuracy: 0.9510\n",
            "Epoch 47/100\n",
            "800/800 [==============================] - 1s 1ms/sample - loss: 0.1348 - categorical_accuracy: 0.9533\n",
            "Epoch 48/100\n",
            "800/800 [==============================] - 1s 1ms/sample - loss: 0.1406 - categorical_accuracy: 0.9529\n",
            "Epoch 49/100\n",
            "800/800 [==============================] - 1s 1ms/sample - loss: 0.1317 - categorical_accuracy: 0.9540\n",
            "Epoch 50/100\n",
            "800/800 [==============================] - 1s 1ms/sample - loss: 0.1285 - categorical_accuracy: 0.9575\n",
            "Epoch 51/100\n",
            "800/800 [==============================] - 1s 1ms/sample - loss: 0.1256 - categorical_accuracy: 0.9604\n",
            "Epoch 52/100\n",
            "800/800 [==============================] - 1s 1ms/sample - loss: 0.1195 - categorical_accuracy: 0.9596\n",
            "Epoch 53/100\n",
            "800/800 [==============================] - 1s 1ms/sample - loss: 0.1083 - categorical_accuracy: 0.9671\n",
            "Epoch 54/100\n",
            "800/800 [==============================] - 1s 1ms/sample - loss: 0.1245 - categorical_accuracy: 0.9565\n",
            "Epoch 55/100\n",
            "800/800 [==============================] - 1s 1ms/sample - loss: 0.1096 - categorical_accuracy: 0.9646\n",
            "Epoch 56/100\n",
            "800/800 [==============================] - 1s 1ms/sample - loss: 0.1168 - categorical_accuracy: 0.9642\n",
            "Epoch 57/100\n",
            "800/800 [==============================] - 1s 1ms/sample - loss: 0.1163 - categorical_accuracy: 0.9602\n",
            "Epoch 58/100\n",
            "800/800 [==============================] - 1s 1ms/sample - loss: 0.1100 - categorical_accuracy: 0.9633\n",
            "Epoch 59/100\n",
            "800/800 [==============================] - 1s 1ms/sample - loss: 0.1050 - categorical_accuracy: 0.9625\n",
            "Epoch 60/100\n",
            "800/800 [==============================] - 1s 1ms/sample - loss: 0.1045 - categorical_accuracy: 0.9654\n",
            "Epoch 61/100\n",
            "800/800 [==============================] - 1s 1ms/sample - loss: 0.1061 - categorical_accuracy: 0.9640\n",
            "Epoch 62/100\n",
            "800/800 [==============================] - 1s 1ms/sample - loss: 0.1000 - categorical_accuracy: 0.9646\n",
            "Epoch 63/100\n",
            "800/800 [==============================] - 1s 1ms/sample - loss: 0.1029 - categorical_accuracy: 0.9667\n",
            "Epoch 64/100\n",
            "800/800 [==============================] - 1s 1ms/sample - loss: 0.1038 - categorical_accuracy: 0.9642\n",
            "Epoch 65/100\n",
            "800/800 [==============================] - 1s 1ms/sample - loss: 0.1112 - categorical_accuracy: 0.9623\n",
            "Epoch 66/100\n",
            "800/800 [==============================] - 1s 1ms/sample - loss: 0.1156 - categorical_accuracy: 0.9600\n",
            "Epoch 67/100\n",
            "800/800 [==============================] - 1s 1ms/sample - loss: 0.1077 - categorical_accuracy: 0.9631\n",
            "Epoch 68/100\n",
            "800/800 [==============================] - 1s 1ms/sample - loss: 0.1044 - categorical_accuracy: 0.9685\n",
            "Epoch 69/100\n",
            "800/800 [==============================] - 1s 1ms/sample - loss: 0.1062 - categorical_accuracy: 0.9669\n",
            "Epoch 70/100\n",
            "800/800 [==============================] - 1s 1ms/sample - loss: 0.1027 - categorical_accuracy: 0.9646\n",
            "Epoch 71/100\n",
            "800/800 [==============================] - 1s 1ms/sample - loss: 0.0931 - categorical_accuracy: 0.9704\n",
            "Epoch 72/100\n",
            "800/800 [==============================] - 1s 1ms/sample - loss: 0.0995 - categorical_accuracy: 0.9669\n",
            "Epoch 73/100\n",
            "800/800 [==============================] - 1s 1ms/sample - loss: 0.0883 - categorical_accuracy: 0.9700\n",
            "Epoch 74/100\n",
            "800/800 [==============================] - 1s 1ms/sample - loss: 0.0874 - categorical_accuracy: 0.9715\n",
            "Epoch 75/100\n",
            "800/800 [==============================] - 1s 1ms/sample - loss: 0.0864 - categorical_accuracy: 0.9740\n",
            "Epoch 76/100\n",
            "800/800 [==============================] - 1s 1ms/sample - loss: 0.0844 - categorical_accuracy: 0.9717\n",
            "Epoch 77/100\n",
            "800/800 [==============================] - 1s 1ms/sample - loss: 0.0809 - categorical_accuracy: 0.9725\n",
            "Epoch 78/100\n",
            "800/800 [==============================] - 1s 1ms/sample - loss: 0.0878 - categorical_accuracy: 0.9688\n",
            "Epoch 79/100\n",
            "800/800 [==============================] - 1s 1ms/sample - loss: 0.0831 - categorical_accuracy: 0.9702\n",
            "Epoch 80/100\n",
            "800/800 [==============================] - 1s 1ms/sample - loss: 0.0810 - categorical_accuracy: 0.9725\n",
            "Epoch 81/100\n",
            "800/800 [==============================] - 1s 1ms/sample - loss: 0.0895 - categorical_accuracy: 0.9698\n",
            "Epoch 82/100\n",
            "800/800 [==============================] - 1s 1ms/sample - loss: 0.0722 - categorical_accuracy: 0.9752\n",
            "Epoch 83/100\n",
            "800/800 [==============================] - 1s 1ms/sample - loss: 0.0788 - categorical_accuracy: 0.9733\n",
            "Epoch 84/100\n",
            "800/800 [==============================] - 1s 1ms/sample - loss: 0.0870 - categorical_accuracy: 0.9721\n",
            "Epoch 85/100\n",
            "800/800 [==============================] - 1s 1ms/sample - loss: 0.0765 - categorical_accuracy: 0.9735\n",
            "Epoch 86/100\n",
            "800/800 [==============================] - 1s 1ms/sample - loss: 0.0888 - categorical_accuracy: 0.9710\n",
            "Epoch 87/100\n",
            "800/800 [==============================] - 1s 1ms/sample - loss: 0.0797 - categorical_accuracy: 0.9731\n",
            "Epoch 88/100\n",
            "800/800 [==============================] - 1s 1ms/sample - loss: 0.0715 - categorical_accuracy: 0.9748\n",
            "Epoch 89/100\n",
            "800/800 [==============================] - 1s 1ms/sample - loss: 0.0766 - categorical_accuracy: 0.9748\n",
            "Epoch 90/100\n",
            "800/800 [==============================] - 1s 1ms/sample - loss: 0.0754 - categorical_accuracy: 0.9756\n",
            "Epoch 91/100\n",
            "800/800 [==============================] - 1s 1ms/sample - loss: 0.0643 - categorical_accuracy: 0.9779\n",
            "Epoch 92/100\n",
            "800/800 [==============================] - 1s 1ms/sample - loss: 0.0709 - categorical_accuracy: 0.9760\n",
            "Epoch 93/100\n",
            "800/800 [==============================] - 1s 1ms/sample - loss: 0.0800 - categorical_accuracy: 0.9717\n",
            "Epoch 94/100\n",
            "800/800 [==============================] - 1s 1ms/sample - loss: 0.0703 - categorical_accuracy: 0.9785\n",
            "Epoch 95/100\n",
            "800/800 [==============================] - 1s 1ms/sample - loss: 0.0671 - categorical_accuracy: 0.9785\n",
            "Epoch 96/100\n",
            "800/800 [==============================] - 1s 1ms/sample - loss: 0.0721 - categorical_accuracy: 0.9754\n",
            "Epoch 97/100\n",
            "800/800 [==============================] - 1s 1ms/sample - loss: 0.0631 - categorical_accuracy: 0.9802\n",
            "Epoch 98/100\n",
            "800/800 [==============================] - 1s 1ms/sample - loss: 0.0655 - categorical_accuracy: 0.9794\n",
            "Epoch 99/100\n",
            "800/800 [==============================] - 1s 1ms/sample - loss: 0.0679 - categorical_accuracy: 0.9787\n",
            "Epoch 100/100\n",
            "800/800 [==============================] - 1s 1ms/sample - loss: 0.0566 - categorical_accuracy: 0.9837\n"
          ],
          "name": "stdout"
        }
      ]
    },
    {
      "cell_type": "code",
      "metadata": {
        "id": "6rJs6HskL9ax",
        "colab_type": "code",
        "colab": {
          "base_uri": "https://localhost:8080/",
          "height": 286
        },
        "outputId": "881ef129-fb35-4705-f649-06ddc2b2de4d"
      },
      "source": [
        "\n",
        "plt.plot(history.history['loss'])"
      ],
      "execution_count": 30,
      "outputs": [
        {
          "output_type": "execute_result",
          "data": {
            "text/plain": [
              "[<matplotlib.lines.Line2D at 0x7f523ede4908>]"
            ]
          },
          "metadata": {
            "tags": []
          },
          "execution_count": 30
        },
        {
          "output_type": "display_data",
          "data": {
            "image/png": "[encoded data removed]",
            "text/plain": [
              "<Figure size 432x288 with 1 Axes>"
            ]
          },
          "metadata": {
            "tags": []
          }
        }
      ]
    },
    {
      "cell_type": "code",
      "metadata": {
        "id": "bVYpU0ZYAjpz",
        "colab_type": "code",
        "colab": {
          "base_uri": "https://localhost:8080/",
          "height": 51
        },
        "outputId": "a98f108c-a2f6-4d72-96eb-cd1241a922b8"
      },
      "source": [
        "model.evaluate(xTest, yTest)"
      ],
      "execution_count": 31,
      "outputs": [
        {
          "output_type": "stream",
          "text": [
            "200/200 [==============================] - 0s 1ms/sample - loss: 0.4866 - categorical_accuracy: 0.9067\n"
          ],
          "name": "stdout"
        },
        {
          "output_type": "execute_result",
          "data": {
            "text/plain": [
              "[0.48662755012512204, 0.9066667]"
            ]
          },
          "metadata": {
            "tags": []
          },
          "execution_count": 31
        }
      ]
    },
    {
      "cell_type": "code",
      "metadata": {
        "id": "ClQ9w2u7Bbc7",
        "colab_type": "code",
        "colab": {}
      },
      "source": [
        ""
      ],
      "execution_count": 0,
      "outputs": []
    }
  ]
}
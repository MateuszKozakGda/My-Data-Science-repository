{
 "cells": [
  {
   "cell_type": "code",
   "execution_count": 20,
   "metadata": {},
   "outputs": [],
   "source": [
    "%matplotlib inline\n",
    "import pandas as pd\n",
    "import numpy as np\n",
    "import matplotlib.pyplot as plt\n",
    "from sklearn.svm import SVC\n",
    "from sklearn.preprocessing import StandardScaler, MinMaxScaler\n",
    "from sklearn.model_selection import train_test_split, cross_val_score, GridSearchCV\n",
    "from sklearn.decomposition import PCA\n",
    "from sklearn.manifold import TSNE\n",
    "from sklearn.base import BaseEstimator, TransformerMixin\n",
    "from sklearn.pipeline import Pipeline, FeatureUnion\n",
    "from factor_analyzer.factor_analyzer import calculate_kmo\n",
    "from factor_analyzer.factor_analyzer import calculate_bartlett_sphericity\n",
    "from sklearn.metrics import confusion_matrix, accuracy_score"
   ]
  },
  {
   "cell_type": "code",
   "execution_count": 2,
   "metadata": {
    "scrolled": true
   },
   "outputs": [
    {
     "name": "stdout",
     "output_type": "stream",
     "text": [
      "['RI', 'Na', 'Mg', 'Al', 'Si', 'K', 'Ca', 'Fe']\n"
     ]
    },
    {
     "data": {
      "text/html": [
       "<div>\n",
       "<style scoped>\n",
       "    .dataframe tbody tr th:only-of-type {\n",
       "        vertical-align: middle;\n",
       "    }\n",
       "\n",
       "    .dataframe tbody tr th {\n",
       "        vertical-align: top;\n",
       "    }\n",
       "\n",
       "    .dataframe thead th {\n",
       "        text-align: right;\n",
       "    }\n",
       "</style>\n",
       "<table border=\"1\" class=\"dataframe\">\n",
       "  <thead>\n",
       "    <tr style=\"text-align: right;\">\n",
       "      <th></th>\n",
       "      <th>RI</th>\n",
       "      <th>Na</th>\n",
       "      <th>Mg</th>\n",
       "      <th>Al</th>\n",
       "      <th>Si</th>\n",
       "      <th>K</th>\n",
       "      <th>Ca</th>\n",
       "      <th>Ba</th>\n",
       "      <th>Fe</th>\n",
       "      <th>Type</th>\n",
       "    </tr>\n",
       "  </thead>\n",
       "  <tbody>\n",
       "    <tr>\n",
       "      <th>0</th>\n",
       "      <td>1.52101</td>\n",
       "      <td>13.64</td>\n",
       "      <td>4.49</td>\n",
       "      <td>1.10</td>\n",
       "      <td>71.78</td>\n",
       "      <td>0.06</td>\n",
       "      <td>8.75</td>\n",
       "      <td>0.0</td>\n",
       "      <td>0.0</td>\n",
       "      <td>1</td>\n",
       "    </tr>\n",
       "    <tr>\n",
       "      <th>1</th>\n",
       "      <td>1.51761</td>\n",
       "      <td>13.89</td>\n",
       "      <td>3.60</td>\n",
       "      <td>1.36</td>\n",
       "      <td>72.73</td>\n",
       "      <td>0.48</td>\n",
       "      <td>7.83</td>\n",
       "      <td>0.0</td>\n",
       "      <td>0.0</td>\n",
       "      <td>1</td>\n",
       "    </tr>\n",
       "    <tr>\n",
       "      <th>2</th>\n",
       "      <td>1.51618</td>\n",
       "      <td>13.53</td>\n",
       "      <td>3.55</td>\n",
       "      <td>1.54</td>\n",
       "      <td>72.99</td>\n",
       "      <td>0.39</td>\n",
       "      <td>7.78</td>\n",
       "      <td>0.0</td>\n",
       "      <td>0.0</td>\n",
       "      <td>1</td>\n",
       "    </tr>\n",
       "    <tr>\n",
       "      <th>3</th>\n",
       "      <td>1.51766</td>\n",
       "      <td>13.21</td>\n",
       "      <td>3.69</td>\n",
       "      <td>1.29</td>\n",
       "      <td>72.61</td>\n",
       "      <td>0.57</td>\n",
       "      <td>8.22</td>\n",
       "      <td>0.0</td>\n",
       "      <td>0.0</td>\n",
       "      <td>1</td>\n",
       "    </tr>\n",
       "    <tr>\n",
       "      <th>4</th>\n",
       "      <td>1.51742</td>\n",
       "      <td>13.27</td>\n",
       "      <td>3.62</td>\n",
       "      <td>1.24</td>\n",
       "      <td>73.08</td>\n",
       "      <td>0.55</td>\n",
       "      <td>8.07</td>\n",
       "      <td>0.0</td>\n",
       "      <td>0.0</td>\n",
       "      <td>1</td>\n",
       "    </tr>\n",
       "  </tbody>\n",
       "</table>\n",
       "</div>"
      ],
      "text/plain": [
       "        RI     Na    Mg    Al     Si     K    Ca   Ba   Fe  Type\n",
       "0  1.52101  13.64  4.49  1.10  71.78  0.06  8.75  0.0  0.0     1\n",
       "1  1.51761  13.89  3.60  1.36  72.73  0.48  7.83  0.0  0.0     1\n",
       "2  1.51618  13.53  3.55  1.54  72.99  0.39  7.78  0.0  0.0     1\n",
       "3  1.51766  13.21  3.69  1.29  72.61  0.57  8.22  0.0  0.0     1\n",
       "4  1.51742  13.27  3.62  1.24  73.08  0.55  8.07  0.0  0.0     1"
      ]
     },
     "execution_count": 2,
     "metadata": {},
     "output_type": "execute_result"
    }
   ],
   "source": [
    "df = pd.read_csv(r\"glass.csv\")\n",
    "df_X = df.drop(columns = [\"Type\", \"Ba\"])\n",
    "df_Y = df[\"Type\"]\n",
    "\n",
    "x_labels = df_X.select_dtypes(include =[np.number]).columns.tolist()\n",
    "print(x_labels)\n",
    "\n",
    "df.head()"
   ]
  },
  {
   "cell_type": "code",
   "execution_count": 3,
   "metadata": {},
   "outputs": [
    {
     "data": {
      "text/html": [
       "<div>\n",
       "<style scoped>\n",
       "    .dataframe tbody tr th:only-of-type {\n",
       "        vertical-align: middle;\n",
       "    }\n",
       "\n",
       "    .dataframe tbody tr th {\n",
       "        vertical-align: top;\n",
       "    }\n",
       "\n",
       "    .dataframe thead th {\n",
       "        text-align: right;\n",
       "    }\n",
       "</style>\n",
       "<table border=\"1\" class=\"dataframe\">\n",
       "  <thead>\n",
       "    <tr style=\"text-align: right;\">\n",
       "      <th></th>\n",
       "      <th>RI</th>\n",
       "      <th>Na</th>\n",
       "      <th>Mg</th>\n",
       "      <th>Al</th>\n",
       "      <th>Si</th>\n",
       "      <th>K</th>\n",
       "      <th>Ca</th>\n",
       "      <th>Fe</th>\n",
       "    </tr>\n",
       "  </thead>\n",
       "  <tbody>\n",
       "    <tr>\n",
       "      <th>0</th>\n",
       "      <td>1.52101</td>\n",
       "      <td>13.64</td>\n",
       "      <td>4.49</td>\n",
       "      <td>1.10</td>\n",
       "      <td>71.78</td>\n",
       "      <td>0.06</td>\n",
       "      <td>8.75</td>\n",
       "      <td>0.0</td>\n",
       "    </tr>\n",
       "    <tr>\n",
       "      <th>1</th>\n",
       "      <td>1.51761</td>\n",
       "      <td>13.89</td>\n",
       "      <td>3.60</td>\n",
       "      <td>1.36</td>\n",
       "      <td>72.73</td>\n",
       "      <td>0.48</td>\n",
       "      <td>7.83</td>\n",
       "      <td>0.0</td>\n",
       "    </tr>\n",
       "    <tr>\n",
       "      <th>2</th>\n",
       "      <td>1.51618</td>\n",
       "      <td>13.53</td>\n",
       "      <td>3.55</td>\n",
       "      <td>1.54</td>\n",
       "      <td>72.99</td>\n",
       "      <td>0.39</td>\n",
       "      <td>7.78</td>\n",
       "      <td>0.0</td>\n",
       "    </tr>\n",
       "    <tr>\n",
       "      <th>3</th>\n",
       "      <td>1.51766</td>\n",
       "      <td>13.21</td>\n",
       "      <td>3.69</td>\n",
       "      <td>1.29</td>\n",
       "      <td>72.61</td>\n",
       "      <td>0.57</td>\n",
       "      <td>8.22</td>\n",
       "      <td>0.0</td>\n",
       "    </tr>\n",
       "    <tr>\n",
       "      <th>4</th>\n",
       "      <td>1.51742</td>\n",
       "      <td>13.27</td>\n",
       "      <td>3.62</td>\n",
       "      <td>1.24</td>\n",
       "      <td>73.08</td>\n",
       "      <td>0.55</td>\n",
       "      <td>8.07</td>\n",
       "      <td>0.0</td>\n",
       "    </tr>\n",
       "  </tbody>\n",
       "</table>\n",
       "</div>"
      ],
      "text/plain": [
       "        RI     Na    Mg    Al     Si     K    Ca   Fe\n",
       "0  1.52101  13.64  4.49  1.10  71.78  0.06  8.75  0.0\n",
       "1  1.51761  13.89  3.60  1.36  72.73  0.48  7.83  0.0\n",
       "2  1.51618  13.53  3.55  1.54  72.99  0.39  7.78  0.0\n",
       "3  1.51766  13.21  3.69  1.29  72.61  0.57  8.22  0.0\n",
       "4  1.51742  13.27  3.62  1.24  73.08  0.55  8.07  0.0"
      ]
     },
     "execution_count": 3,
     "metadata": {},
     "output_type": "execute_result"
    }
   ],
   "source": [
    "df_X.head(5)"
   ]
  },
  {
   "cell_type": "code",
   "execution_count": 4,
   "metadata": {},
   "outputs": [
    {
     "name": "stdout",
     "output_type": "stream",
     "text": [
      "<class 'pandas.core.frame.DataFrame'>\n",
      "RangeIndex: 214 entries, 0 to 213\n",
      "Data columns (total 10 columns):\n",
      "RI      214 non-null float64\n",
      "Na      214 non-null float64\n",
      "Mg      214 non-null float64\n",
      "Al      214 non-null float64\n",
      "Si      214 non-null float64\n",
      "K       214 non-null float64\n",
      "Ca      214 non-null float64\n",
      "Ba      214 non-null float64\n",
      "Fe      214 non-null float64\n",
      "Type    214 non-null int64\n",
      "dtypes: float64(9), int64(1)\n",
      "memory usage: 16.8 KB\n"
     ]
    }
   ],
   "source": [
    "df.info()"
   ]
  },
  {
   "cell_type": "markdown",
   "metadata": {},
   "source": [
    "## PCA possibillity check"
   ]
  },
  {
   "cell_type": "code",
   "execution_count": 5,
   "metadata": {},
   "outputs": [
    {
     "name": "stdout",
     "output_type": "stream",
     "text": [
      "Chi square and p_value :(1164.5754235949316, 9.271258734913497e-228)\n",
      " Kmo_score: 0.19192175698068234\n",
      "PCA possibillity: No\n"
     ]
    }
   ],
   "source": [
    "y =\"YES\"\n",
    "n= \"No\"\n",
    "\n",
    "chi_square_value, p_value =calculate_bartlett_sphericity(df_X)\n",
    "print(f\"Chi square and p_value :{chi_square_value, p_value}\")\n",
    "kmo_all,kmo_model=calculate_kmo(df_X)\n",
    "print(f\" Kmo_score: {kmo_model}\")\n",
    "print(f\"PCA possibillity: {y if kmo_model>0.6 and p_value<0.001 else n}\")"
   ]
  },
  {
   "cell_type": "markdown",
   "metadata": {},
   "source": [
    "### TSN-e visualization"
   ]
  },
  {
   "cell_type": "code",
   "execution_count": 49,
   "metadata": {},
   "outputs": [
    {
     "name": "stderr",
     "output_type": "stream",
     "text": [
      "E:\\Anaconda Python\\lib\\site-packages\\sklearn\\preprocessing\\data.py:334: DataConversionWarning: Data with input dtype int64, float64 were all converted to float64 by MinMaxScaler.\n",
      "  return self.partial_fit(X, y)\n"
     ]
    },
    {
     "data": {
      "text/plain": [
       "<matplotlib.axes._subplots.AxesSubplot at 0x14d1c2b0>"
      ]
     },
     "execution_count": 49,
     "metadata": {},
     "output_type": "execute_result"
    },
    {
     "data": {
      "image/png": "[encoded data removed]",
      "text/plain": [
       "<Figure size 1080x720 with 1 Axes>"
      ]
     },
     "metadata": {
      "needs_background": "light"
     },
     "output_type": "display_data"
    }
   ],
   "source": [
    "scaller = MinMaxScaler()\n",
    "scalled_data = scaller.fit_transform(df)\n",
    "import seaborn as sb\n",
    "\n",
    "tsne = TSNE(n_components=2, perplexity=25, random_state=2).fit_transform(df)\n",
    "plt.figure(figsize=(15,10))\n",
    "sb.scatterplot(x=tsne.T[0], \n",
    "               y=tsne.T[1], \n",
    "               data=df,\n",
    "               hue=df[\"Type\"], \n",
    "               palette=\"gist_rainbow_r\"\n",
    "               )"
   ]
  },
  {
   "cell_type": "markdown",
   "metadata": {},
   "source": [
    "## Buliding piplines"
   ]
  },
  {
   "cell_type": "code",
   "execution_count": 6,
   "metadata": {},
   "outputs": [],
   "source": [
    "class DataframeSelector(BaseEstimator, TransformerMixin):\n",
    "    def __init__(self, atrib_names):\n",
    "        self.atribute_names = atrib_names\n",
    "    def fit(self, X, y=0):\n",
    "        return self\n",
    "    def transform(self, X, y=0):\n",
    "        return X[self.atribute_names].values\n",
    "\n",
    "numeric_pipline_std = Pipeline([\n",
    "    (\"selector\", DataframeSelector(x_labels)),\n",
    "    (\"scaller\", StandardScaler())\n",
    "])\n",
    "numeric_pipline_minmax = Pipeline([\n",
    "    (\"selector\", DataframeSelector(x_labels)),\n",
    "    (\"scaller\", MinMaxScaler())\n",
    "])\n",
    "numeric_pipline = Pipeline([\n",
    "    (\"selector\", DataframeSelector(x_labels))\n",
    "])"
   ]
  },
  {
   "cell_type": "markdown",
   "metadata": {},
   "source": [
    "## Splitting data to train and test sets"
   ]
  },
  {
   "cell_type": "code",
   "execution_count": 7,
   "metadata": {},
   "outputs": [],
   "source": [
    "X_train, X_test, y_train, y_test = train_test_split(df_X, df_Y, test_size=0.2, random_state=2)"
   ]
  },
  {
   "cell_type": "markdown",
   "metadata": {},
   "source": [
    "### Fitting data to Piplines"
   ]
  },
  {
   "cell_type": "code",
   "execution_count": 8,
   "metadata": {},
   "outputs": [
    {
     "name": "stdout",
     "output_type": "stream",
     "text": [
      "(171, 8) (43, 8)\n",
      "Standard Scaller Pipeline check:\n",
      "Train and test set shapes: OK\n",
      "(171, 8) (43, 8)\n",
      "Standard Scaller Pipeline check:\n",
      "Train and test set shapes: OK\n",
      "(171, 8) (43, 8)\n",
      "Standard Scaller Pipeline check:\n",
      "Train and test set shapes: OK\n"
     ]
    }
   ],
   "source": [
    "numeric_pipline_std.fit(X_train)\n",
    "numeric_pipline_minmax.fit(X_train)\n",
    "numeric_pipline.fit(X_train)\n",
    "\n",
    "o = \"OK\"\n",
    "no = \"NOT OK\"\n",
    "\n",
    "X_train_std, X_test_std = numeric_pipline_std.fit_transform(X_train), numeric_pipline_std.fit_transform(X_test)\n",
    "print(np.shape(X_train_std), np.shape(X_test_std))\n",
    "print(\"Standard Scaller Pipeline check:\")\n",
    "print(f\"Train and test set shapes: {o if np.shape(X_train_std)[1]==np.shape(X_test_std)[1] else no}\")\n",
    "\n",
    "X_train_mmx, X_test_mmx = numeric_pipline_minmax.fit_transform(X_train), numeric_pipline_minmax.fit_transform(X_test)\n",
    "print(np.shape(X_train_mmx), np.shape(X_test_mmx))\n",
    "print(\"Standard Scaller Pipeline check:\")\n",
    "print(f\"Train and test set shapes: {o if np.shape(X_train_mmx)[1]==np.shape(X_test_mmx)[1] else no}\")\n",
    "\n",
    "X_train_norm, X_test_norm = numeric_pipline.fit_transform(X_train), numeric_pipline.fit_transform(X_test)\n",
    "print(np.shape(X_train_norm), np.shape(X_test_norm))\n",
    "print(\"Standard Scaller Pipeline check:\")\n",
    "print(f\"Train and test set shapes: {o if np.shape(X_train_norm)[1]==np.shape(X_test_norm)[1] else no}\")"
   ]
  },
  {
   "cell_type": "markdown",
   "metadata": {},
   "source": [
    "## Preparing data to model"
   ]
  },
  {
   "cell_type": "code",
   "execution_count": 9,
   "metadata": {},
   "outputs": [],
   "source": [
    "X_train_data = [X_train_std, X_train_mmx, X_train_norm]\n",
    "X_test_data = [X_test_std, X_test_mmx, X_test_norm]\n",
    "model_names = [\"Standard scaller model\", \"MinMax scaller model\", \"No norm model\"]"
   ]
  },
  {
   "cell_type": "markdown",
   "metadata": {},
   "source": [
    "# Model buliding"
   ]
  },
  {
   "cell_type": "code",
   "execution_count": 10,
   "metadata": {},
   "outputs": [
    {
     "name": "stdout",
     "output_type": "stream",
     "text": [
      "0.6768698317085414\n",
      "0.46538796861377507\n",
      "0.6011043301365881\n",
      "Best model pipline configuration: Standard scaller model\n",
      "Cross val score: 0.6768698317085414\n"
     ]
    }
   ],
   "source": [
    "best_score = 0\n",
    "name = None\n",
    "\n",
    "for model in range(len(model_names)):\n",
    "    model_check = SVC(random_state=2, gamma = \"auto\")\n",
    "    model_check.fit(X_train_data[model], y_train)\n",
    "    score = cross_val_score(model_check, X_train_data[model], y_train, cv=5).mean()\n",
    "    model_name_func = model_names[model]\n",
    "    print(score)\n",
    "    if score>best_score:\n",
    "        best_score=score\n",
    "        name = model_name_func\n",
    "print(f\"Best model pipline configuration: {name}\")\n",
    "print(f\"Cross val score: {best_score}\")\n"
   ]
  },
  {
   "cell_type": "code",
   "execution_count": 15,
   "metadata": {},
   "outputs": [
    {
     "data": {
      "text/plain": [
       "0"
      ]
     },
     "execution_count": 15,
     "metadata": {},
     "output_type": "execute_result"
    }
   ],
   "source": [
    "model_names.index(name)"
   ]
  },
  {
   "cell_type": "markdown",
   "metadata": {},
   "source": [
    "## Model Tuning"
   ]
  },
  {
   "cell_type": "markdown",
   "metadata": {},
   "source": [
    "params = {\"kernel\" : ['linear', 'rbf', 'poly'],\n",
    "         \"gamma\" : [0.1, 1, 10, 100],\n",
    "         \"C\" : [0.1, 1, 10, 100, 1000],\n",
    "         \"degree\" : [0, 1, 2, 3, 4, 5, 6]\n",
    "         }\n",
    "\n",
    "model_tuning = SVC(random_state =2)\n",
    "grid_search_tuning = GridSearchCV(model_tuning, params, cv=5)\n",
    "grid_search_tuning.fit(X_train_data[model_names.index(name)], y_train)\n",
    "best_params = grid_search_tuning.best_params_"
   ]
  },
  {
   "cell_type": "markdown",
   "metadata": {},
   "source": [
    "print(f\"Best params of model: {best_params}\")\n",
    "print(f\"Tuned model score: {grid_search_tuning.best_score_}\")"
   ]
  },
  {
   "cell_type": "markdown",
   "metadata": {},
   "source": [
    "### Best params of model: {'C': 10, 'degree': 0, 'gamma': 0.1, 'kernel': 'rbf'}\n",
    "(żeby już nie puszczać grida bo to trwa z 10 min"
   ]
  },
  {
   "cell_type": "code",
   "execution_count": 28,
   "metadata": {},
   "outputs": [
    {
     "name": "stdout",
     "output_type": "stream",
     "text": [
      "Model accurancy: 0.7209302325581395\n",
      "Model cross val score: 0.6876806425193521\n",
      "Model score: 0.7209302325581395\n",
      "Model error: 27.907%\n",
      "Confusion Matrix\n"
     ]
    },
    {
     "data": {
      "text/plain": [
       "array([[13,  4,  1,  0,  0,  0],\n",
       "       [ 2,  8,  1,  0,  0,  1],\n",
       "       [ 1,  0,  2,  0,  0,  0],\n",
       "       [ 0,  0,  0,  1,  0,  0],\n",
       "       [ 0,  1,  0,  0,  1,  0],\n",
       "       [ 0,  1,  0,  0,  0,  6]], dtype=int64)"
      ]
     },
     "execution_count": 28,
     "metadata": {},
     "output_type": "execute_result"
    }
   ],
   "source": [
    "tuned_model = SVC(random_state=2,\n",
    "                 C =10,\n",
    "                 degree=0,\n",
    "                 gamma=0.1,\n",
    "                 kernel = \"rbf\")\n",
    "tuned_model.fit(X_train_data[model_names.index(name)], y_train)\n",
    "prediction = tuned_model.predict(X_test_data[model_names.index(name)])\n",
    "accurancy = accuracy_score(y_test, prediction)\n",
    "cross_val = cross_val_score(tuned_model, X_train_data[model_names.index(name)], y_train, cv=5)\n",
    "confusion = confusion_matrix(y_test, prediction)\n",
    "print(f\"Model accurancy: {accurancy}\")\n",
    "print(f\"Model cross val score: {cross_val.mean()}\")\n",
    "print(f\"Model score: {tuned_model.score(X_test_data[model_names.index(name)], y_test)}\")\n",
    "print(f\"Model error: {round((1-accurancy)*100,3)}%\")\n",
    "print(\"Confusion Matrix\")\n",
    "confusion"
   ]
  },
  {
   "cell_type": "code",
   "execution_count": null,
   "metadata": {},
   "outputs": [],
   "source": []
  }
 ],
 "metadata": {
  "kernelspec": {
   "display_name": "Python 3",
   "language": "python",
   "name": "python3"
  },
  "language_info": {
   "codemirror_mode": {
    "name": "ipython",
    "version": 3
   },
   "file_extension": ".py",
   "mimetype": "text/x-python",
   "name": "python",
   "nbconvert_exporter": "python",
   "pygments_lexer": "ipython3",
   "version": "3.7.3"
  }
 },
 "nbformat": 4,
 "nbformat_minor": 2
}
